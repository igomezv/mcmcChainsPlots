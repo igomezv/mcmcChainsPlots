{
 "cells": [
  {
   "cell_type": "code",
   "execution_count": 1,
   "metadata": {},
   "outputs": [],
   "source": [
    "import matplotlib.pyplot as plt\n",
    "#from getdist import plots, MCSamples, mcsamples, chains\n",
    "#from getdist import *\n",
    "from getdist import mcsamples\n",
    "\n",
    "import planckStyle\n",
    "import pylab\n",
    "import numpy as np\n",
    "import matplotlib\n",
    "import tkinter\n",
    "\n",
    "matplotlib.use('TkAgg')\n",
    "\n",
    "%matplotlib inline"
   ]
  },
  {
   "cell_type": "code",
   "execution_count": 4,
   "metadata": {},
   "outputs": [],
   "source": [
    "dir_name = '/home/isidro/SuperMC_/chains/'\n",
    "#/home/isidro/SuperMC_/\n",
    "#file1 = 'owaCDM_py_SN+BBAO+HD+Planck_mcmc_[01:29:09]_5000000'\n",
    "#file2 = 'owaCDM_py_SN+HD+BBAO+Planck_mh_50000000'\n",
    "\n",
    "root = 'mcmc_SN+HD+BBAO+Planck'\n",
    "#setfiles = {dir_name+file1+'.txt', dir_name+file2+'.txt'}\n",
    "params = {'Om', 'Obh2','h', 'w', 'wa', 'Ok'}\n",
    "#roots = [file1, file2]"
   ]
  },
  {
   "cell_type": "code",
   "execution_count": 5,
   "metadata": {},
   "outputs": [
    {
     "name": "stdout",
     "output_type": "stream",
     "text": [
      "/home/isidro/SuperMC_/chains/mcmc_SN+HD+BBAO+Planck_1.txt\n",
      "/home/isidro/SuperMC_/chains/mcmc_SN+HD+BBAO+Planck_2.txt\n",
      "Removed 0.3 as burn in\n"
     ]
    }
   ],
   "source": [
    "mix = mcsamples.loadMCSamples(dir_name+root)"
   ]
  },
  {
   "cell_type": "code",
   "execution_count": 4,
   "metadata": {},
   "outputs": [
    {
     "data": {
      "text/plain": [
       "array([-1.64585082e-40, -9.75212915e-42, -5.95992772e-43, -2.76882189e-43,\n",
       "       -1.38179124e-43, -3.53439946e-44, -3.00004862e-44, -8.37997107e-45,\n",
       "        3.70848347e-44,  6.89845329e-44,  1.56187327e-43,  4.36735083e-43,\n",
       "        1.48288702e-42,  1.02977906e-40,  5.85258529e-24])"
      ]
     },
     "execution_count": 4,
     "metadata": {},
     "output_type": "execute_result"
    }
   ],
   "source": [
    "mix.getGelmanRubinEigenvalues()"
   ]
  },
  {
   "cell_type": "code",
   "execution_count": 5,
   "metadata": {},
   "outputs": [
    {
     "data": {
      "text/plain": [
       "'Parameter autocorrelation lengths (effective number of samples N_eff = tot weight/weight length)\\n\\n                    Weight Length   Sample length           N_eff\\nOm                       3.22E-05         2202.80             322\\nObh2                     4.86E-06          331.76            2143\\nh                        3.46E-05         2362.72             301\\nw                        1.31E-04         8921.29              79\\nwa                       7.51E-05         5132.47             138\\nOk                       6.13E-06          418.87            1697\\nBetouleSN_like           6.15E-05         4203.74             169\\nHD_like                  1.87E-05         1277.14             556\\nDR11LOWZ_like            1.54E-05         1049.30             677\\nDR11CMASS_like           8.41E-06          574.34            1238\\nDR14LyaAuto_like         2.96E-06          201.88            3522\\nDR14LyaCross_like        1.21E-05          829.70             857\\nSixdFGS_like             1.79E-05         1221.84             582\\nMGS_like                 2.30E-05         1572.50             452\\nSPlanck_like             1.40E-06           95.61            7438\\n\\n\\nmean convergence stats using remaining chains\\nparam sqrt(var(chain mean)/mean(chain var))\\n\\nOm                    0.0000  \\\\Omega_m\\nObh2                  0.0000  \\\\Omega_{b}h^2\\nh                     0.0000  h\\nw                     0.0000  w_0\\nwa                    0.0000  w_a\\nOk                    0.0000  \\\\Omega_k\\nBetouleSN_like        0.0000  BetouleSN\\nHD_like               0.0000  HD\\nDR11LOWZ_like         0.0000  DR11LOWZ\\nDR11CMASS_like        0.0000  DR11CMASS\\nDR14LyaAuto_like      0.0000  DR14LyaAuto\\nDR14LyaCross_like     0.0000  DR14LyaCross\\nSixdFGS_like          0.0000  SixdFGS\\nMGS_like              0.0000  MGS\\nSPlanck_like          0.0000  SPlanck\\n\\nvar(mean)/mean(var) for eigenvalues of covariance of y of orthonormalized parameters\\n  1     -0.00000\\n  2     -0.00000\\n  3     -0.00000\\n  4     -0.00000\\n  5     -0.00000\\n  6     -0.00000\\n  7     -0.00000\\n  8     -0.00000\\n  9      0.00000\\n 10      0.00000\\n 11      0.00000\\n 12      0.00000\\n 13      0.00000\\n 14      0.00000\\n 15      0.00000\\n\\nSplit tests: rms_n([delta(upper/lower quantile)]/sd) n={2,3,4}, limit=95%:\\ni.e. mean sample splitting change in the quantiles in units of the st. dev.\\n\\nOm                   0.0000   0.1075   0.0221 upper\\nOm                   0.0000   0.0604   0.1401 lower\\nObh2                 0.0000   0.0326   0.0448 upper\\nObh2                 0.0000   0.0108   0.0253 lower\\nh                    0.0000   0.0391   0.0857 upper\\nh                    0.0000   0.0636   0.0645 lower\\nw                    0.0000   0.0755   0.1554 upper\\nw                    0.0000   0.0511   0.2130 lower\\nwa                   0.0000   0.0546   0.1540 upper\\nwa                   0.0000   0.0486   0.1027 lower\\nOk                   0.0000   0.0165   0.0386 upper\\nOk                   0.0000   0.0277   0.0875 lower\\nBetouleSN_like       0.0000   0.0024   0.0017 upper\\nBetouleSN_like       0.0000   0.2135   0.1725 lower\\nHD_like              0.0000   0.0040   0.0197 upper\\nHD_like              0.0000   0.0425   0.2467 lower\\nDR11LOWZ_like        0.0000   0.0000   0.0001 upper\\nDR11LOWZ_like        0.0000   0.2308   0.2886 lower\\nDR11CMASS_like       0.0000   0.0361   0.0338 upper\\nDR11CMASS_like       0.0000   0.0848   0.0848 lower\\nDR14LyaAuto_like     0.0000   0.0189   0.0333 upper\\nDR14LyaAuto_like     0.0000   0.0571   0.1713 lower\\nDR14LyaCross_like    0.0000   0.0162   0.0495 upper\\nDR14LyaCross_like    0.0000   0.0487   0.2125 lower\\nSixdFGS_like         0.0000   0.0001   0.0002 upper\\nSixdFGS_like         0.0000   0.2405   0.0985 lower\\nMGS_like             0.0000   0.0535   0.0372 upper\\nMGS_like             0.0000   0.0650   0.0053 lower\\nSPlanck_like         0.0000   0.0011   0.0001 upper\\nSPlanck_like         0.0000   0.0477   0.0659 lower\\n\\nRaftery&Lewis statistics\\n\\nchain  markov_thin  indep_thin    nburn\\n   0      Failed/not enough samples\\n   1      Failed/not enough samples\\n\\n'"
      ]
     },
     "execution_count": 5,
     "metadata": {},
     "output_type": "execute_result"
    }
   ],
   "source": [
    "mix.getConvergeTests()"
   ]
  },
  {
   "cell_type": "code",
   "execution_count": 6,
   "metadata": {},
   "outputs": [
    {
     "name": "stdout",
     "output_type": "stream",
     "text": [
      "None\n"
     ]
    }
   ],
   "source": [
    "print(mix.correlationMatrix)"
   ]
  },
  {
   "cell_type": "code",
   "execution_count": 7,
   "metadata": {},
   "outputs": [
    {
     "name": "stdout",
     "output_type": "stream",
     "text": [
      "[[ 0.338617   0.0216839  0.65075   ... -0.123513  -0.344488  -2.35937  ]\n",
      " [ 0.338222   0.021706   0.650645  ... -0.121494  -0.352464  -2.31193  ]\n",
      " [ 0.3379     0.0215876  0.650655  ... -0.11593   -0.364116  -3.13242  ]\n",
      " ...\n",
      " [ 0.309171   0.0226642  0.657651  ... -0.0227848 -0.764933  -2.54498  ]\n",
      " [ 0.308906   0.0226834  0.65791   ... -0.0225365 -0.764891  -2.56551  ]\n",
      " [ 0.309701   0.0226229  0.658072  ... -0.0232981 -0.756234  -2.35843  ]]\n"
     ]
    }
   ],
   "source": [
    "type(mix)\n",
    "print(mix.samples)"
   ]
  },
  {
   "cell_type": "code",
   "execution_count": 8,
   "metadata": {
    "scrolled": true
   },
   "outputs": [
    {
     "name": "stdout",
     "output_type": "stream",
     "text": [
      "Number of chains used =  2\n",
      " var(mean)/mean(var), remaining chains, worst e-value: R-1 =       0.00000\n"
     ]
    }
   ],
   "source": [
    "a = mix.getConvergeTests(test_confidence=0.005, what = 'GelmanRubin', feedback=True)"
   ]
  },
  {
   "cell_type": "code",
   "execution_count": 9,
   "metadata": {},
   "outputs": [
    {
     "data": {
      "text/plain": [
       "str"
      ]
     },
     "execution_count": 9,
     "metadata": {},
     "output_type": "execute_result"
    }
   ],
   "source": [
    "type(a)"
   ]
  },
  {
   "cell_type": "code",
   "execution_count": 10,
   "metadata": {},
   "outputs": [
    {
     "data": {
      "text/plain": [
       "5.85258529399148e-24"
      ]
     },
     "execution_count": 10,
     "metadata": {},
     "output_type": "execute_result"
    }
   ],
   "source": [
    "#mix.getBestFit()\n",
    "mix.getGelmanRubin()"
   ]
  },
  {
   "cell_type": "code",
   "execution_count": null,
   "metadata": {},
   "outputs": [],
   "source": [
    "chains.Chains.getGelmanRubin(p)"
   ]
  },
  {
   "cell_type": "code",
   "execution_count": null,
   "metadata": {},
   "outputs": [],
   "source": [
    "p.getGelmanRubinEigenvalues"
   ]
  },
  {
   "cell_type": "code",
   "execution_count": null,
   "metadata": {},
   "outputs": [],
   "source": []
  }
 ],
 "metadata": {
  "kernelspec": {
   "display_name": "Python 3",
   "language": "python",
   "name": "python3"
  },
  "language_info": {
   "codemirror_mode": {
    "name": "ipython",
    "version": 3
   },
   "file_extension": ".py",
   "mimetype": "text/x-python",
   "name": "python",
   "nbconvert_exporter": "python",
   "pygments_lexer": "ipython3",
   "version": "3.6.9"
  }
 },
 "nbformat": 4,
 "nbformat_minor": 2
}
