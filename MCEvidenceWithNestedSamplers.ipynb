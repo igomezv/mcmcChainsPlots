{
 "cells": [
  {
   "cell_type": "markdown",
   "metadata": {},
   "source": [
    "In this notebook we use MCEvidence (Heavens, et. al. (2018)) to calculate the **Bayesian Evidence** of chains that comes from *Metropolis-Hastings* or *nested sampling*. "
   ]
  },
  {
   "cell_type": "code",
   "execution_count": 75,
   "metadata": {},
   "outputs": [],
   "source": [
    "from MCEvidence import MCEvidence \n",
    "from time import sleep\n",
    "import pandas as pd"
   ]
  },
  {
   "cell_type": "code",
   "execution_count": 2,
   "metadata": {},
   "outputs": [],
   "source": [
    "dir = \"/home/isidro/SuperMC_fork_20nov/april/chains/\""
   ]
  },
  {
   "cell_type": "code",
   "execution_count": null,
   "metadata": {},
   "outputs": [],
   "source": [
    "#See all the samples at the same time\n",
    "\n",
    "roots = ['owaCDM_py_SN+HD+BBAO_mh_50000_1', 'owaCDM_SN+HD+BBAO_snest_0.6', 'owaCDM_SN+HD+BBAO_mnest_0.6',\n",
    "        'owaCDM_SN+HD+BBAO_sbambi_0.6', 'owaCDM_SN+HD+BBAO_bambi_0.6']\n",
    "\n",
    "samplernames = ['MH', 'ENS', 'MNEST', 'sBAMBI', 'BAMBI']\n",
    "\n",
    "for i in range(len(roots)):\n",
    "    print(\"%s : \\n\"%(samplernames[i]))\n",
    "    sleep(2)\n",
    "    \n",
    "    MLE = MCEvidence(dir+roots[i]+'.txt').evidence()\n"
   ]
  },
  {
   "cell_type": "code",
   "execution_count": 72,
   "metadata": {},
   "outputs": [],
   "source": [
    "snest = dir+'owaCDM_py_SN+HD+BBAO_snest_0.56.txt'\n",
    "mnest = dir+'owaCDM_py_SN+HD+BBAO_mnest_0.57.txt'\n",
    "sbambi = dir+'owaCDM_py_SN+HD+BBAO_sbambi_0.57.txt'\n",
    "bambi = dir+'owaCDM_py_SN+HD+BBAO_bambi_0.57.txt'\n"
   ]
  },
  {
   "cell_type": "markdown",
   "metadata": {},
   "source": [
    "If the weights of the samples are very small $<10^{-300}$, MCEvidence fails. "
   ]
  },
  {
   "cell_type": "code",
   "execution_count": 79,
   "metadata": {},
   "outputs": [],
   "source": [
    "def cutterSamples(samplesfile,name):\n",
    "    samples = pd.read_csv(snest, sep=' ', header=None)\n",
    "    #Boolean variable:\n",
    "    wcond = samples[0] > 10e-30\n",
    "    chaincut = samples[wcond]\n",
    "    chaincut.to_csv(name+\"_short.txt\", header=None, index=False, sep=' ')"
   ]
  },
  {
   "cell_type": "code",
   "execution_count": 82,
   "metadata": {},
   "outputs": [],
   "source": [
    "cutterSamples(snest,'snest')\n",
    "cutterSamples(mnest, 'mnest')\n",
    "cutterSamples(sbambi, 'sbambi')\n",
    "cutterSamples(bambi, 'bambi')"
   ]
  },
  {
   "cell_type": "code",
   "execution_count": 83,
   "metadata": {},
   "outputs": [
    {
     "name": "stderr",
     "output_type": "stream",
     "text": [
      "INFO:MCEvidence.py.setup():142      Loading chain from snest_short.txt\n",
      "INFO:MCEvidence.py.read_list_to_array():563      loading: snest_short.txt\n",
      "INFO:MCEvidence.py.__init__():781      chain array dimensions: [17363] x 6 =\n",
      "INFO:MCEvidence.py.get_covariance():859      Estimating covariance matrix using all chains\n",
      "INFO:MCEvidence.py.get_covariance():863      covariance matrix estimated using nsample=17363\n",
      "INFO:MCEvidence.py.get_samples():910      getting samples for partition s1: nsamples=17363\n",
      "INFO:MCEvidence.py.evidence():1163        ln(B)[k=1] = -47.88938668047585\n",
      "INFO:MCEvidence.py.evidence():1163        ln(B)[k=2] = -47.85941387249943\n",
      "INFO:MCEvidence.py.evidence():1163        ln(B)[k=3] = -47.84689999903225\n",
      "INFO:MCEvidence.py.evidence():1163        ln(B)[k=4] = -47.83256351798463\n"
     ]
    }
   ],
   "source": [
    "MLE = MCEvidence(\"snest_short.txt\").evidence()"
   ]
  },
  {
   "cell_type": "code",
   "execution_count": 84,
   "metadata": {},
   "outputs": [
    {
     "name": "stderr",
     "output_type": "stream",
     "text": [
      "INFO:MCEvidence.py.setup():142      Loading chain from mnest_short.txt\n",
      "INFO:MCEvidence.py.read_list_to_array():563      loading: mnest_short.txt\n",
      "INFO:MCEvidence.py.__init__():781      chain array dimensions: [17363] x 6 =\n",
      "INFO:MCEvidence.py.get_covariance():859      Estimating covariance matrix using all chains\n",
      "INFO:MCEvidence.py.get_covariance():863      covariance matrix estimated using nsample=17363\n",
      "INFO:MCEvidence.py.get_samples():910      getting samples for partition s1: nsamples=17363\n",
      "INFO:MCEvidence.py.evidence():1163        ln(B)[k=1] = -47.88938668047585\n",
      "INFO:MCEvidence.py.evidence():1163        ln(B)[k=2] = -47.85941387249943\n",
      "INFO:MCEvidence.py.evidence():1163        ln(B)[k=3] = -47.84689999903225\n",
      "INFO:MCEvidence.py.evidence():1163        ln(B)[k=4] = -47.83256351798463\n"
     ]
    }
   ],
   "source": [
    "MLE = MCEvidence(\"mnest_short.txt\").evidence()"
   ]
  },
  {
   "cell_type": "code",
   "execution_count": 85,
   "metadata": {},
   "outputs": [
    {
     "name": "stderr",
     "output_type": "stream",
     "text": [
      "INFO:MCEvidence.py.setup():142      Loading chain from sbambi_short.txt\n",
      "INFO:MCEvidence.py.read_list_to_array():563      loading: sbambi_short.txt\n",
      "INFO:MCEvidence.py.__init__():781      chain array dimensions: [17363] x 6 =\n",
      "INFO:MCEvidence.py.get_covariance():859      Estimating covariance matrix using all chains\n",
      "INFO:MCEvidence.py.get_covariance():863      covariance matrix estimated using nsample=17363\n",
      "INFO:MCEvidence.py.get_samples():910      getting samples for partition s1: nsamples=17363\n",
      "INFO:MCEvidence.py.evidence():1163        ln(B)[k=1] = -47.88938668047585\n",
      "INFO:MCEvidence.py.evidence():1163        ln(B)[k=2] = -47.85941387249943\n",
      "INFO:MCEvidence.py.evidence():1163        ln(B)[k=3] = -47.84689999903225\n",
      "INFO:MCEvidence.py.evidence():1163        ln(B)[k=4] = -47.83256351798463\n"
     ]
    }
   ],
   "source": [
    "MLE = MCEvidence(\"sbambi_short.txt\").evidence()"
   ]
  },
  {
   "cell_type": "code",
   "execution_count": 86,
   "metadata": {},
   "outputs": [
    {
     "name": "stderr",
     "output_type": "stream",
     "text": [
      "INFO:MCEvidence.py.setup():142      Loading chain from bambi_short.txt\n",
      "INFO:MCEvidence.py.read_list_to_array():563      loading: bambi_short.txt\n",
      "INFO:MCEvidence.py.__init__():781      chain array dimensions: [17363] x 6 =\n",
      "INFO:MCEvidence.py.get_covariance():859      Estimating covariance matrix using all chains\n",
      "INFO:MCEvidence.py.get_covariance():863      covariance matrix estimated using nsample=17363\n",
      "INFO:MCEvidence.py.get_samples():910      getting samples for partition s1: nsamples=17363\n",
      "INFO:MCEvidence.py.evidence():1163        ln(B)[k=1] = -47.88938668047585\n",
      "INFO:MCEvidence.py.evidence():1163        ln(B)[k=2] = -47.85941387249943\n",
      "INFO:MCEvidence.py.evidence():1163        ln(B)[k=3] = -47.84689999903225\n",
      "INFO:MCEvidence.py.evidence():1163        ln(B)[k=4] = -47.83256351798463\n"
     ]
    }
   ],
   "source": [
    "MLE = MCEvidence(\"bambi_short.txt\").evidence()"
   ]
  },
  {
   "cell_type": "code",
   "execution_count": null,
   "metadata": {},
   "outputs": [],
   "source": []
  }
 ],
 "metadata": {
  "kernelspec": {
   "display_name": "Python 3",
   "language": "python",
   "name": "python3"
  },
  "language_info": {
   "codemirror_mode": {
    "name": "ipython",
    "version": 3
   },
   "file_extension": ".py",
   "mimetype": "text/x-python",
   "name": "python",
   "nbconvert_exporter": "python",
   "pygments_lexer": "ipython3",
   "version": "3.6.8"
  }
 },
 "nbformat": 4,
 "nbformat_minor": 2
}
