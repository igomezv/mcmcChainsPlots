{
 "cells": [
  {
   "cell_type": "markdown",
   "metadata": {},
   "source": [
    "In this notebook we use MCEvidence (Heavens, et. al. (2018)) to calculate the **Bayesian Evidence** of chains that comes from *Metropolis-Hastings* or *nested sampling*. "
   ]
  },
  {
   "cell_type": "code",
   "execution_count": 1,
   "metadata": {},
   "outputs": [],
   "source": [
    "from MCEvidence import MCEvidence \n",
    "from time import sleep\n",
    "import pandas as pd"
   ]
  },
  {
   "cell_type": "code",
   "execution_count": 2,
   "metadata": {},
   "outputs": [],
   "source": [
    "dir = \"/home/isidro/SuperMC_/chains/\""
   ]
  },
  {
   "cell_type": "code",
   "execution_count": 6,
   "metadata": {},
   "outputs": [],
   "source": [
    "snest = dir+'owaCDM_py_SN+HD+BBAO+Planck_snest_0.5.txt'\n",
    "mnest = dir+'owaCDM_py_SN+HD+BBAO+Planck_mnest_0.5.txt'\n",
    "sbambi = dir+'owaCDM_py_SN+HD+BBAO+Planck_sbambi_0.5.txt'\n",
    "bambi = dir+'owaCDM_py_SN+HD+BBAO+Planck_bambi_0.5.txt'"
   ]
  },
  {
   "cell_type": "markdown",
   "metadata": {},
   "source": [
    "If the weights of the samples are very small $<10^{-300}$, MCEvidence fails. "
   ]
  },
  {
   "cell_type": "code",
   "execution_count": 37,
   "metadata": {},
   "outputs": [],
   "source": [
    "def cutterSamples(samplesfile,name):\n",
    "    samples = pd.read_csv(samplesfile, sep=' ', header=None)\n",
    "    #Boolean variable:\n",
    "    wcond = samples[0] > 10e-300\n",
    "    chaincut = samples[wcond]\n",
    "    chaincut.to_csv(name+\"_short.txt\", header=None, index=False, sep=' ')"
   ]
  },
  {
   "cell_type": "code",
   "execution_count": 38,
   "metadata": {},
   "outputs": [],
   "source": [
    "cutterSamples(snest,'snest')\n",
    "cutterSamples(mnest, 'mnest')\n",
    "cutterSamples(sbambi, 'sbambi')\n",
    "cutterSamples(bambi, 'bambi')"
   ]
  },
  {
   "cell_type": "code",
   "execution_count": 39,
   "metadata": {},
   "outputs": [
    {
     "name": "stderr",
     "output_type": "stream",
     "text": [
      "INFO:MCEvidence.py.setup():142      Loading chain from snest_short.txt\n",
      "INFO:MCEvidence.py.read_list_to_array():563      loading: snest_short.txt\n",
      "INFO:MCEvidence.py.__init__():781      chain array dimensions: [14459] x 6 =\n",
      "INFO:MCEvidence.py.get_covariance():859      Estimating covariance matrix using all chains\n",
      "INFO:MCEvidence.py.get_covariance():863      covariance matrix estimated using nsample=14459\n",
      "INFO:MCEvidence.py.get_samples():910      getting samples for partition s1: nsamples=14459\n",
      "INFO:MCEvidence.py.evidence():1163        ln(B)[k=1] = -57.35461841846809\n",
      "INFO:MCEvidence.py.evidence():1163        ln(B)[k=2] = -57.2774535862577\n",
      "INFO:MCEvidence.py.evidence():1163        ln(B)[k=3] = -57.240168027506165\n",
      "INFO:MCEvidence.py.evidence():1163        ln(B)[k=4] = -57.18486099908172\n"
     ]
    }
   ],
   "source": [
    "MLE = MCEvidence(\"snest_short.txt\").evidence()"
   ]
  },
  {
   "cell_type": "code",
   "execution_count": 10,
   "metadata": {},
   "outputs": [
    {
     "name": "stderr",
     "output_type": "stream",
     "text": [
      "INFO:MCEvidence.py.setup():142      Loading chain from mnest_short.txt\n",
      "INFO:MCEvidence.py.read_list_to_array():563      loading: mnest_short.txt\n",
      "INFO:MCEvidence.py.__init__():781      chain array dimensions: [13938] x 6 =\n",
      "INFO:MCEvidence.py.get_covariance():859      Estimating covariance matrix using all chains\n",
      "INFO:MCEvidence.py.get_covariance():863      covariance matrix estimated using nsample=13938\n",
      "INFO:MCEvidence.py.get_samples():910      getting samples for partition s1: nsamples=13938\n",
      "INFO:MCEvidence.py.evidence():1163        ln(B)[k=1] = -57.38102507825882\n",
      "INFO:MCEvidence.py.evidence():1163        ln(B)[k=2] = -57.29865373412602\n",
      "INFO:MCEvidence.py.evidence():1163        ln(B)[k=3] = -57.23446475894332\n",
      "INFO:MCEvidence.py.evidence():1163        ln(B)[k=4] = -57.171687537230454\n"
     ]
    }
   ],
   "source": [
    "MLE = MCEvidence(\"mnest_short.txt\").evidence()"
   ]
  },
  {
   "cell_type": "code",
   "execution_count": 11,
   "metadata": {},
   "outputs": [
    {
     "name": "stderr",
     "output_type": "stream",
     "text": [
      "INFO:MCEvidence.py.setup():142      Loading chain from sbambi_short.txt\n",
      "INFO:MCEvidence.py.read_list_to_array():563      loading: sbambi_short.txt\n",
      "INFO:MCEvidence.py.__init__():781      chain array dimensions: [14485] x 6 =\n",
      "INFO:MCEvidence.py.get_covariance():859      Estimating covariance matrix using all chains\n",
      "INFO:MCEvidence.py.get_covariance():863      covariance matrix estimated using nsample=14485\n",
      "INFO:MCEvidence.py.get_samples():910      getting samples for partition s1: nsamples=14485\n",
      "INFO:MCEvidence.py.evidence():1163        ln(B)[k=1] = -57.52781332332695\n",
      "INFO:MCEvidence.py.evidence():1163        ln(B)[k=2] = -57.45559308156643\n",
      "INFO:MCEvidence.py.evidence():1163        ln(B)[k=3] = -57.385939355664036\n",
      "INFO:MCEvidence.py.evidence():1163        ln(B)[k=4] = -57.3340399076624\n"
     ]
    }
   ],
   "source": [
    "MLE = MCEvidence(\"sbambi_short.txt\").evidence()"
   ]
  },
  {
   "cell_type": "code",
   "execution_count": 12,
   "metadata": {},
   "outputs": [
    {
     "name": "stderr",
     "output_type": "stream",
     "text": [
      "INFO:MCEvidence.py.setup():142      Loading chain from bambi_short.txt\n",
      "INFO:MCEvidence.py.read_list_to_array():563      loading: bambi_short.txt\n",
      "INFO:MCEvidence.py.__init__():781      chain array dimensions: [13974] x 6 =\n",
      "INFO:MCEvidence.py.get_covariance():859      Estimating covariance matrix using all chains\n",
      "INFO:MCEvidence.py.get_covariance():863      covariance matrix estimated using nsample=13974\n",
      "INFO:MCEvidence.py.get_samples():910      getting samples for partition s1: nsamples=13974\n",
      "INFO:MCEvidence.py.evidence():1163        ln(B)[k=1] = -57.25743538874431\n",
      "INFO:MCEvidence.py.evidence():1163        ln(B)[k=2] = -57.17188142558143\n",
      "INFO:MCEvidence.py.evidence():1163        ln(B)[k=3] = -57.1264505742343\n",
      "INFO:MCEvidence.py.evidence():1163        ln(B)[k=4] = -57.09107628172562\n"
     ]
    }
   ],
   "source": [
    "MLE = MCEvidence(\"bambi_short.txt\").evidence()"
   ]
  },
  {
   "cell_type": "markdown",
   "metadata": {},
   "source": [
    "### Samples of a Metropolis-Hastings"
   ]
  },
  {
   "cell_type": "code",
   "execution_count": 43,
   "metadata": {},
   "outputs": [],
   "source": [
    "def mhCutter(file, name, freeParams):\n",
    "    \"\"\"\n",
    "    Parameters:\n",
    "    \n",
    "        file       : the text file with the metropolis hastings samples\n",
    "        name       : the name of the output+\"_short\"\n",
    "        freeParams : free parameters of the model\n",
    "    \"\"\"\n",
    "    samples = pd.read_csv(file, sep=' ', header=None, usecols=range(freeParams+2))\n",
    "    samples.to_csv(\"samples.tmp\", header=None, index=False, sep=' ')\n",
    "    cutterSamples(\"samples.tmp\", name)   \n",
    "    "
   ]
  },
  {
   "cell_type": "code",
   "execution_count": 45,
   "metadata": {},
   "outputs": [
    {
     "name": "stderr",
     "output_type": "stream",
     "text": [
      "INFO:MCEvidence.py.setup():142      Loading chain from lcdm_mh_short.txt\n",
      "INFO:MCEvidence.py.read_list_to_array():563      loading: lcdm_mh_short.txt\n",
      "INFO:MCEvidence.py.__init__():781      chain array dimensions: [507999] x 3 =\n",
      "INFO:MCEvidence.py.get_covariance():859      Estimating covariance matrix using all chains\n",
      "INFO:MCEvidence.py.get_covariance():863      covariance matrix estimated using nsample=507999\n",
      "INFO:MCEvidence.py.get_samples():910      getting samples for partition s1: nsamples=507999\n",
      "INFO:MCEvidence.py.evidence():1163        ln(B)[k=1] = -50.315939849677974\n",
      "INFO:MCEvidence.py.evidence():1163        ln(B)[k=2] = -50.31470481953871\n",
      "INFO:MCEvidence.py.evidence():1163        ln(B)[k=3] = -50.31387756461045\n",
      "INFO:MCEvidence.py.evidence():1163        ln(B)[k=4] = -50.3130318603331\n"
     ]
    }
   ],
   "source": [
    "lcdm_mh = dir+'owaCDM_py_SN+HD+BBAO+Planck_mh_50000000_1.txt'\n",
    "#samples = pd.read_csv(lcdm_mh, sep=' ', header=None, usecols=range(4))\n",
    "#samples.to_csv(\"lcdm_mh\"+\"_2.txt\", header=None, index=False, sep=' ')\n",
    "mhCutter(lcdm_mh, 'lcdm_mh',3)\n",
    "MLE = MCEvidence('lcdm_mh_short.txt').evidence()"
   ]
  },
  {
   "cell_type": "code",
   "execution_count": 13,
   "metadata": {},
   "outputs": [
    {
     "name": "stderr",
     "output_type": "stream",
     "text": [
      "INFO:MCEvidence.py.setup():142      Loading chain from lcdm_mh_short.txt\n",
      "INFO:MCEvidence.py.read_list_to_array():563      loading: lcdm_mh_short.txt\n",
      "INFO:MCEvidence.py.__init__():781      chain array dimensions: [264000] x 3 =\n",
      "INFO:MCEvidence.py.get_covariance():859      Estimating covariance matrix using all chains\n",
      "INFO:MCEvidence.py.get_covariance():863      covariance matrix estimated using nsample=264000\n",
      "INFO:MCEvidence.py.get_samples():910      getting samples for partition s1: nsamples=264000\n",
      "INFO:MCEvidence.py.evidence():1163        ln(B)[k=1] = -44.77775749769715\n",
      "INFO:MCEvidence.py.evidence():1163        ln(B)[k=2] = -44.77793867925489\n",
      "INFO:MCEvidence.py.evidence():1163        ln(B)[k=3] = -44.77727141273051\n",
      "INFO:MCEvidence.py.evidence():1163        ln(B)[k=4] = -44.775387823731876\n"
     ]
    }
   ],
   "source": [
    "lcdm_mh = dir+'owaCDM_py_SN+BBAO+HD_mh_10000000_1.txt'\n",
    "samples = pd.read_csv(lcdm_mh, sep=' ', header=None, usecols=range(5))\n",
    "samples.to_csv(\"lcdm_mh\"+\"_2.txt\", header=None, index=False, sep=' ')\n",
    "cutterSamples(\"/home/isidro/Documents/gitHub/misRepos/mcmcChainsTools/lcdm_mh_2.txt\", 'lcdm_mh')\n",
    "MLE = MCEvidence('lcdm_mh_short.txt').evidence()"
   ]
  },
  {
   "cell_type": "code",
   "execution_count": null,
   "metadata": {},
   "outputs": [],
   "source": []
  }
 ],
 "metadata": {
  "kernelspec": {
   "display_name": "Python 3",
   "language": "python",
   "name": "python3"
  },
  "language_info": {
   "codemirror_mode": {
    "name": "ipython",
    "version": 3
   },
   "file_extension": ".py",
   "mimetype": "text/x-python",
   "name": "python",
   "nbconvert_exporter": "python",
   "pygments_lexer": "ipython3",
   "version": "3.6.9"
  }
 },
 "nbformat": 4,
 "nbformat_minor": 2
}
