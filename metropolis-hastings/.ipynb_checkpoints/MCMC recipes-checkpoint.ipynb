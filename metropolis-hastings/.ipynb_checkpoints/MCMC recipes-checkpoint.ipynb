{
 "cells": [
  {
   "cell_type": "markdown",
   "metadata": {},
   "source": [
    "## In this notebook I tried to do the exercises of the paper Data Analysis Recipes: Using MCMC by David W. Hogg and Daniel Foreman-Mackey."
   ]
  },
  {
   "cell_type": "markdown",
   "metadata": {},
   "source": [
    "Problem 1. Look up (or choose) definitions for the mean,\n",
    "variance, skewness, and kurtosis of a distribution. Also look up\n",
    "or compute the analytic values of these four statistics for a top-hat (uniform) distribution. Write a computer program that uses some standard package (such as numpy) to generate K random\n",
    "numbers x from a uniform distribution in the interval 0<x<1.\n",
    "Now use those K numbers to compute a sampling estimate of the\n",
    "mean, variance, skewness, and kurtosis (four estimates; look up\n",
    "definitions as needed). Make four plots of these four estimates as\n",
    "a function of 1/K or perhaps log 2 K , for K=4 n for n=1 up to\n",
    "n=10 (that is, K=4, K=16, and so on up to K=1,04"
   ]
  },
  {
   "cell_type": "code",
   "execution_count": 14,
   "metadata": {},
   "outputs": [],
   "source": [
    "import numpy as np\n",
    "from scipy import stats\n",
    "\n",
    "k = 10\n",
    "x = np.random.uniform(size=10)\n",
    "ks = np.arange(1, k+1)\n",
    "kinv = 1/ks\n",
    "avg = np.mean(k)"
   ]
  },
  {
   "cell_type": "code",
   "execution_count": null,
   "metadata": {},
   "outputs": [],
   "source": []
  }
 ],
 "metadata": {
  "kernelspec": {
   "display_name": "Python 3",
   "language": "python",
   "name": "python3"
  },
  "language_info": {
   "codemirror_mode": {
    "name": "ipython",
    "version": 3
   },
   "file_extension": ".py",
   "mimetype": "text/x-python",
   "name": "python",
   "nbconvert_exporter": "python",
   "pygments_lexer": "ipython3",
   "version": "3.6.9"
  }
 },
 "nbformat": 4,
 "nbformat_minor": 2
}
