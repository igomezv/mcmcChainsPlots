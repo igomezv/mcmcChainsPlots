{
 "cells": [
  {
   "cell_type": "markdown",
   "metadata": {},
   "source": [
    "In this notebook we use MCEvidence (Heavens, et. al. (2018)) to calculate the **Bayesian Evidence** of chains that comes from *Metropolis-Hastings* or *nested sampling*. "
   ]
  },
  {
   "cell_type": "code",
   "execution_count": 1,
   "metadata": {},
   "outputs": [
    {
     "name": "stderr",
     "output_type": "stream",
     "text": [
      "/usr/local/lib/python3.6/dist-packages/getdist/plots.py:10: MatplotlibDeprecationWarning: The 'warn' parameter of use() is deprecated since Matplotlib 3.1 and will be removed in 3.3.  If any parameter follows 'warn', they should be pass as keyword, not positionally.\n",
      "  matplotlib.use('Agg', warn=False)\n"
     ]
    }
   ],
   "source": [
    "from MCEvidence import MCEvidence \n",
    "from time import sleep\n",
    "import pandas as pd"
   ]
  },
  {
   "cell_type": "code",
   "execution_count": 2,
   "metadata": {},
   "outputs": [],
   "source": [
    "dir = \"/home/isidro/Downloads/\""
   ]
  },
  {
   "cell_type": "code",
   "execution_count": 3,
   "metadata": {},
   "outputs": [],
   "source": [
    "file = dir+'rho_tanh_phy_HD+SN+CBAO+Planck_nested_dynesty_multi_1.txt'\n"
   ]
  },
  {
   "cell_type": "markdown",
   "metadata": {},
   "source": [
    "If the weights of the samples are very small $<10^{-300}$, MCEvidence fails. "
   ]
  },
  {
   "cell_type": "code",
   "execution_count": 4,
   "metadata": {},
   "outputs": [],
   "source": [
    "def cutterSamples(samplesfile,name):\n",
    "    samples = pd.read_csv(samplesfile, sep=' ', header=None)\n",
    "    #Boolean variable:\n",
    "    wcond = samples[0] > 10e-300\n",
    "    chaincut = samples[wcond]\n",
    "    chaincut.to_csv(name+\"_short.txt\", header=None, index=False, sep=' ')"
   ]
  },
  {
   "cell_type": "code",
   "execution_count": 5,
   "metadata": {},
   "outputs": [],
   "source": [
    "cutterSamples(file,'escamilla')"
   ]
  },
  {
   "cell_type": "code",
   "execution_count": 6,
   "metadata": {},
   "outputs": [
    {
     "name": "stderr",
     "output_type": "stream",
     "text": [
      "INFO:MCEvidence.py.setup():142      Loading chain from escamilla_short.txt\n",
      "INFO:MCEvidence.py.read_list_to_array():563      loading: escamilla_short.txt\n",
      "INFO:MCEvidence.py.__init__():781      chain array dimensions: [14968] x 13 =\n",
      "INFO:MCEvidence.py.get_covariance():859      Estimating covariance matrix using all chains\n",
      "INFO:MCEvidence.py.get_covariance():863      covariance matrix estimated using nsample=14968\n",
      "INFO:MCEvidence.py.get_samples():910      getting samples for partition s1: nsamples=14968\n",
      "INFO:MCEvidence.py.evidence():1163        ln(B)[k=1] = 1388.4794635211213\n",
      "INFO:MCEvidence.py.evidence():1163        ln(B)[k=2] = 1389.5712005840433\n",
      "INFO:MCEvidence.py.evidence():1163        ln(B)[k=3] = 1390.7928538193723\n",
      "INFO:MCEvidence.py.evidence():1163        ln(B)[k=4] = 1390.5785140559833\n"
     ]
    }
   ],
   "source": [
    "MLE = MCEvidence(\"escamilla_short.txt\").evidence()"
   ]
  },
  {
   "cell_type": "code",
   "execution_count": null,
   "metadata": {},
   "outputs": [],
   "source": []
  }
 ],
 "metadata": {
  "kernelspec": {
   "display_name": "Python 3",
   "language": "python",
   "name": "python3"
  },
  "language_info": {
   "codemirror_mode": {
    "name": "ipython",
    "version": 3
   },
   "file_extension": ".py",
   "mimetype": "text/x-python",
   "name": "python",
   "nbconvert_exporter": "python",
   "pygments_lexer": "ipython3",
   "version": "3.6.9"
  }
 },
 "nbformat": 4,
 "nbformat_minor": 2
}
