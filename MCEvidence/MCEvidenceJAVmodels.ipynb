{
 "cells": [
  {
   "cell_type": "markdown",
   "metadata": {},
   "source": [
    "In this notebook we use MCEvidence (Heavens, et. al. (2018)) to calculate the **Bayesian Evidence** of chains that comes from *Metropolis-Hastings* or *nested sampling*. \n",
    "\n",
    "pip install git+https://github.com/yabebalFantaye/MCEvidence"
   ]
  },
  {
   "cell_type": "code",
   "execution_count": 1,
   "metadata": {},
   "outputs": [],
   "source": [
    "from MCEvidence import MCEvidence \n",
    "from time import sleep\n",
    "import pandas as pd"
   ]
  },
  {
   "cell_type": "code",
   "execution_count": 3,
   "metadata": {},
   "outputs": [],
   "source": [
    "dir = \"/home/isidro/Downloads/Final_results/lcdm_pp/\""
   ]
  },
  {
   "cell_type": "code",
   "execution_count": 12,
   "metadata": {},
   "outputs": [],
   "source": [
    "file1 = dir+'2022-08-26_100000__1.txt'\n",
    "file2 = dir+'2022-08-26_100000__2.txt'\n",
    "file3 = dir+'2022-08-26_100000__3.txt'\n"
   ]
  },
  {
   "cell_type": "markdown",
   "metadata": {},
   "source": [
    "If the weights of the samples are very small $<10^{-300}$, MCEvidence fails. "
   ]
  },
  {
   "cell_type": "code",
   "execution_count": 14,
   "metadata": {},
   "outputs": [
    {
     "name": "stderr",
     "output_type": "stream",
     "text": [
      "INFO:MCEvidence.py.setup():142      Loading chain from /home/isidro/Downloads/Final_results/lcdm_pp/2022-08-26_100000__1.txt\n",
      "INFO:MCEvidence.py.read_list_to_array():563      loading: /home/isidro/Downloads/Final_results/lcdm_pp/2022-08-26_100000__1.txt\n",
      "INFO:MCEvidence.py.__init__():781      chain array dimensions: [40148] x 51 =\n",
      "INFO:MCEvidence.py.get_covariance():859      Estimating covariance matrix using all chains\n",
      "INFO:MCEvidence.py.get_covariance():863      covariance matrix estimated using nsample=40148\n",
      "INFO:MCEvidence.py.get_samples():910      getting samples for partition s1: nsamples=40148\n",
      "INFO:MCEvidence.py.evidence():1163        ln(B)[k=1] = -2170.4751579420704\n",
      "INFO:MCEvidence.py.evidence():1163        ln(B)[k=2] = -2161.0243926367025\n",
      "INFO:MCEvidence.py.evidence():1163        ln(B)[k=3] = -2160.653439630941\n",
      "INFO:MCEvidence.py.evidence():1163        ln(B)[k=4] = -2160.6765644015522\n"
     ]
    }
   ],
   "source": [
    "MLE = MCEvidence(file1).evidence()"
   ]
  },
  {
   "cell_type": "code",
   "execution_count": 15,
   "metadata": {},
   "outputs": [
    {
     "name": "stderr",
     "output_type": "stream",
     "text": [
      "INFO:MCEvidence.py.setup():142      Loading chain from /home/isidro/Downloads/Final_results/lcdm_pp/2022-08-26_100000__1.txt\n",
      "INFO:MCEvidence.py.read_list_to_array():563      loading: /home/isidro/Downloads/Final_results/lcdm_pp/2022-08-26_100000__1.txt\n",
      "INFO:MCEvidence.py.__init__():781      chain array dimensions: [40148] x 51 =\n",
      "INFO:MCEvidence.py.get_covariance():859      Estimating covariance matrix using all chains\n",
      "INFO:MCEvidence.py.get_covariance():863      covariance matrix estimated using nsample=40148\n",
      "INFO:MCEvidence.py.get_samples():910      getting samples for partition s1: nsamples=40148\n",
      "INFO:MCEvidence.py.evidence():1163        ln(B)[k=1] = -2170.4751579420704\n",
      "INFO:MCEvidence.py.evidence():1163        ln(B)[k=2] = -2161.0243926367025\n",
      "INFO:MCEvidence.py.evidence():1163        ln(B)[k=3] = -2160.653439630941\n",
      "INFO:MCEvidence.py.evidence():1163        ln(B)[k=4] = -2160.6765644015522\n"
     ]
    }
   ],
   "source": [
    "MLE = MCEvidence(file2).evidence()"
   ]
  },
  {
   "cell_type": "code",
   "execution_count": 16,
   "metadata": {},
   "outputs": [
    {
     "name": "stderr",
     "output_type": "stream",
     "text": [
      "INFO:MCEvidence.py.setup():142      Loading chain from /home/isidro/Downloads/Final_results/lcdm_pp/2022-08-26_100000__1.txt\n",
      "INFO:MCEvidence.py.read_list_to_array():563      loading: /home/isidro/Downloads/Final_results/lcdm_pp/2022-08-26_100000__1.txt\n",
      "INFO:MCEvidence.py.__init__():781      chain array dimensions: [40148] x 51 =\n",
      "INFO:MCEvidence.py.get_covariance():859      Estimating covariance matrix using all chains\n",
      "INFO:MCEvidence.py.get_covariance():863      covariance matrix estimated using nsample=40148\n",
      "INFO:MCEvidence.py.get_samples():910      getting samples for partition s1: nsamples=40148\n",
      "INFO:MCEvidence.py.evidence():1163        ln(B)[k=1] = -2170.4751579420704\n",
      "INFO:MCEvidence.py.evidence():1163        ln(B)[k=2] = -2161.0243926367025\n",
      "INFO:MCEvidence.py.evidence():1163        ln(B)[k=3] = -2160.653439630941\n",
      "INFO:MCEvidence.py.evidence():1163        ln(B)[k=4] = -2160.6765644015522\n"
     ]
    }
   ],
   "source": [
    "MLE = MCEvidence(file3).evidence()"
   ]
  },
  {
   "cell_type": "code",
   "execution_count": 17,
   "metadata": {},
   "outputs": [],
   "source": [
    "dir = \"/home/isidro/Downloads/Final_results/lcdm_ppwm/\""
   ]
  },
  {
   "cell_type": "code",
   "execution_count": 18,
   "metadata": {},
   "outputs": [],
   "source": [
    "file1 = dir+'2022-08-27_100000__1.txt'\n",
    "file2 = dir+'2022-08-27_100000__2.txt'\n",
    "file3 = dir+'2022-08-27_100000__3.txt'\n",
    "file4 = dir+'2022-08-27_100000__4.txt'"
   ]
  },
  {
   "cell_type": "code",
   "execution_count": 19,
   "metadata": {},
   "outputs": [
    {
     "name": "stderr",
     "output_type": "stream",
     "text": [
      "INFO:MCEvidence.py.setup():142      Loading chain from /home/isidro/Downloads/Final_results/lcdm_ppwm/2022-08-27_100000__1.txt\n",
      "INFO:MCEvidence.py.read_list_to_array():563      loading: /home/isidro/Downloads/Final_results/lcdm_ppwm/2022-08-27_100000__1.txt\n",
      "INFO:MCEvidence.py.__init__():781      chain array dimensions: [34130] x 51 =\n",
      "INFO:MCEvidence.py.get_covariance():859      Estimating covariance matrix using all chains\n",
      "INFO:MCEvidence.py.get_covariance():863      covariance matrix estimated using nsample=34130\n",
      "INFO:MCEvidence.py.get_samples():910      getting samples for partition s1: nsamples=34130\n",
      "INFO:MCEvidence.py.evidence():1163        ln(B)[k=1] = -2151.5103815145003\n",
      "INFO:MCEvidence.py.evidence():1163        ln(B)[k=2] = -2147.7321629156254\n",
      "INFO:MCEvidence.py.evidence():1163        ln(B)[k=3] = -2130.2256243893403\n",
      "INFO:MCEvidence.py.evidence():1163        ln(B)[k=4] = -2129.059845477277\n"
     ]
    }
   ],
   "source": [
    "MLE = MCEvidence(file1).evidence()"
   ]
  },
  {
   "cell_type": "code",
   "execution_count": 20,
   "metadata": {},
   "outputs": [
    {
     "name": "stderr",
     "output_type": "stream",
     "text": [
      "INFO:MCEvidence.py.setup():142      Loading chain from /home/isidro/Downloads/Final_results/lcdm_ppwm/2022-08-27_100000__2.txt\n",
      "INFO:MCEvidence.py.read_list_to_array():563      loading: /home/isidro/Downloads/Final_results/lcdm_ppwm/2022-08-27_100000__2.txt\n",
      "INFO:MCEvidence.py.__init__():781      chain array dimensions: [34335] x 51 =\n",
      "INFO:MCEvidence.py.get_covariance():859      Estimating covariance matrix using all chains\n",
      "INFO:MCEvidence.py.get_covariance():863      covariance matrix estimated using nsample=34335\n",
      "INFO:MCEvidence.py.get_samples():910      getting samples for partition s1: nsamples=34335\n",
      "INFO:MCEvidence.py.evidence():1163        ln(B)[k=1] = -2160.828973991348\n",
      "INFO:MCEvidence.py.evidence():1163        ln(B)[k=2] = -2148.939747702365\n",
      "INFO:MCEvidence.py.evidence():1163        ln(B)[k=3] = -2132.8500615185944\n",
      "INFO:MCEvidence.py.evidence():1163        ln(B)[k=4] = -2133.1346922373727\n"
     ]
    }
   ],
   "source": [
    "MLE = MCEvidence(file2).evidence()"
   ]
  },
  {
   "cell_type": "code",
   "execution_count": 21,
   "metadata": {},
   "outputs": [
    {
     "name": "stderr",
     "output_type": "stream",
     "text": [
      "INFO:MCEvidence.py.setup():142      Loading chain from /home/isidro/Downloads/Final_results/lcdm_ppwm/2022-08-27_100000__3.txt\n",
      "INFO:MCEvidence.py.read_list_to_array():563      loading: /home/isidro/Downloads/Final_results/lcdm_ppwm/2022-08-27_100000__3.txt\n",
      "INFO:MCEvidence.py.__init__():781      chain array dimensions: [34305] x 51 =\n",
      "INFO:MCEvidence.py.get_covariance():859      Estimating covariance matrix using all chains\n",
      "INFO:MCEvidence.py.get_covariance():863      covariance matrix estimated using nsample=34305\n",
      "INFO:MCEvidence.py.get_samples():910      getting samples for partition s1: nsamples=34305\n",
      "INFO:MCEvidence.py.evidence():1163        ln(B)[k=1] = -2159.4328651001624\n",
      "INFO:MCEvidence.py.evidence():1163        ln(B)[k=2] = -2157.655253303879\n",
      "INFO:MCEvidence.py.evidence():1163        ln(B)[k=3] = -2154.8835566633243\n",
      "INFO:MCEvidence.py.evidence():1163        ln(B)[k=4] = -2147.72207407731\n"
     ]
    }
   ],
   "source": [
    "MLE = MCEvidence(file3).evidence()"
   ]
  },
  {
   "cell_type": "code",
   "execution_count": 22,
   "metadata": {},
   "outputs": [
    {
     "name": "stderr",
     "output_type": "stream",
     "text": [
      "INFO:MCEvidence.py.setup():142      Loading chain from /home/isidro/Downloads/Final_results/lcdm_ppwm/2022-08-27_100000__4.txt\n",
      "INFO:MCEvidence.py.read_list_to_array():563      loading: /home/isidro/Downloads/Final_results/lcdm_ppwm/2022-08-27_100000__4.txt\n",
      "INFO:MCEvidence.py.__init__():781      chain array dimensions: [34285] x 51 =\n",
      "INFO:MCEvidence.py.get_covariance():859      Estimating covariance matrix using all chains\n",
      "INFO:MCEvidence.py.get_covariance():863      covariance matrix estimated using nsample=34285\n",
      "INFO:MCEvidence.py.get_samples():910      getting samples for partition s1: nsamples=34285\n",
      "INFO:MCEvidence.py.evidence():1163        ln(B)[k=1] = -2156.410995981421\n",
      "INFO:MCEvidence.py.evidence():1163        ln(B)[k=2] = -2152.031571875034\n",
      "INFO:MCEvidence.py.evidence():1163        ln(B)[k=3] = -2148.810156989962\n",
      "INFO:MCEvidence.py.evidence():1163        ln(B)[k=4] = -2148.7825497270687\n"
     ]
    }
   ],
   "source": [
    "MLE = MCEvidence(file4).evidence()"
   ]
  },
  {
   "cell_type": "code",
   "execution_count": null,
   "metadata": {},
   "outputs": [],
   "source": []
  }
 ],
 "metadata": {
  "kernelspec": {
   "display_name": "Python 3 (ipykernel)",
   "language": "python",
   "name": "python3"
  },
  "language_info": {
   "codemirror_mode": {
    "name": "ipython",
    "version": 3
   },
   "file_extension": ".py",
   "mimetype": "text/x-python",
   "name": "python",
   "nbconvert_exporter": "python",
   "pygments_lexer": "ipython3",
   "version": "3.10.6"
  }
 },
 "nbformat": 4,
 "nbformat_minor": 2
}
