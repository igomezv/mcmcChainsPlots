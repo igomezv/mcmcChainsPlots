{
 "cells": [
  {
   "cell_type": "markdown",
   "metadata": {},
   "source": [
    "In this notebook we use MCEvidence (Heavens, et. al. (2018)) to calculate the **Bayesian Evidence** of chains that comes from *Metropolis-Hastings* or *nested sampling*. \n",
    "\n",
    "pip install git+https://github.com/yabebalFantaye/MCEvidence"
   ]
  },
  {
   "cell_type": "code",
   "execution_count": 1,
   "metadata": {},
   "outputs": [],
   "source": [
    "from MCEvidence import MCEvidence "
   ]
  },
  {
   "cell_type": "code",
   "execution_count": 2,
   "metadata": {},
   "outputs": [],
   "source": [
    "dir1 = \"/home/isidro/Downloads/Final_results/lcdm_pp/\""
   ]
  },
  {
   "cell_type": "code",
   "execution_count": 4,
   "metadata": {},
   "outputs": [],
   "source": [
    "file1 = dir1+'2022-08-26_100000_'"
   ]
  },
  {
   "cell_type": "markdown",
   "metadata": {},
   "source": [
    "If the weights of the samples are very small $<10^{-300}$, MCEvidence fails. "
   ]
  },
  {
   "cell_type": "code",
   "execution_count": 5,
   "metadata": {},
   "outputs": [
    {
     "name": "stderr",
     "output_type": "stream",
     "text": [
      "INFO:MCEvidence.py.setup():142      Loading chain from /home/isidro/Downloads/Final_results/lcdm_pp/2022-08-26_100000_\n",
      "INFO:MCEvidence.py.load_from_file():595       loading files: /home/isidro/Downloads/Final_results/lcdm_pp/2022-08-26_100000__?.txt\n",
      "INFO:MCEvidence.py.read_list_to_array():563      loading: /home/isidro/Downloads/Final_results/lcdm_pp/2022-08-26_100000__1.txt\n",
      "INFO:MCEvidence.py.read_list_to_array():563      loading: /home/isidro/Downloads/Final_results/lcdm_pp/2022-08-26_100000__3.txt\n",
      "INFO:MCEvidence.py.read_list_to_array():563      loading: /home/isidro/Downloads/Final_results/lcdm_pp/2022-08-26_100000__2.txt\n",
      "INFO:MCEvidence.py.read_list_to_array():563      loading: /home/isidro/Downloads/Final_results/lcdm_pp/2022-08-26_100000__4.txt\n",
      "INFO:MCEvidence.py.__init__():781      chain array dimensions: [161367] x 51 =\n",
      "INFO:MCEvidence.py.get_covariance():859      Estimating covariance matrix using all chains\n",
      "INFO:MCEvidence.py.get_covariance():863      covariance matrix estimated using nsample=161367\n",
      "INFO:MCEvidence.py.get_samples():910      getting samples for partition s1: nsamples=161367\n",
      "INFO:MCEvidence.py.evidence():1163        ln(B)[k=1] = -2169.793499736389\n",
      "INFO:MCEvidence.py.evidence():1163        ln(B)[k=2] = -2165.286651391547\n",
      "INFO:MCEvidence.py.evidence():1163        ln(B)[k=3] = -2164.300327670989\n",
      "INFO:MCEvidence.py.evidence():1163        ln(B)[k=4] = -2164.3306444730124\n"
     ]
    }
   ],
   "source": [
    "MLE1 = MCEvidence(file1).evidence()"
   ]
  },
  {
   "cell_type": "code",
   "execution_count": 6,
   "metadata": {},
   "outputs": [],
   "source": [
    "dir2 = \"/home/isidro/Downloads/Final_results/lcdm_ppwm/\""
   ]
  },
  {
   "cell_type": "code",
   "execution_count": 7,
   "metadata": {},
   "outputs": [],
   "source": [
    "file2 = dir2+'2022-08-27_100000_'"
   ]
  },
  {
   "cell_type": "code",
   "execution_count": 8,
   "metadata": {},
   "outputs": [
    {
     "name": "stderr",
     "output_type": "stream",
     "text": [
      "INFO:MCEvidence.py.setup():142      Loading chain from /home/isidro/Downloads/Final_results/lcdm_ppwm/2022-08-27_100000_\n",
      "INFO:MCEvidence.py.load_from_file():595       loading files: /home/isidro/Downloads/Final_results/lcdm_ppwm/2022-08-27_100000__?.txt\n",
      "INFO:MCEvidence.py.read_list_to_array():563      loading: /home/isidro/Downloads/Final_results/lcdm_ppwm/2022-08-27_100000__3.txt\n",
      "INFO:MCEvidence.py.read_list_to_array():563      loading: /home/isidro/Downloads/Final_results/lcdm_ppwm/2022-08-27_100000__4.txt\n",
      "INFO:MCEvidence.py.read_list_to_array():563      loading: /home/isidro/Downloads/Final_results/lcdm_ppwm/2022-08-27_100000__2.txt\n",
      "INFO:MCEvidence.py.read_list_to_array():563      loading: /home/isidro/Downloads/Final_results/lcdm_ppwm/2022-08-27_100000__1.txt\n",
      "INFO:MCEvidence.py.__init__():781      chain array dimensions: [137055] x 51 =\n",
      "INFO:MCEvidence.py.get_covariance():859      Estimating covariance matrix using all chains\n",
      "INFO:MCEvidence.py.get_covariance():863      covariance matrix estimated using nsample=137055\n",
      "INFO:MCEvidence.py.get_samples():910      getting samples for partition s1: nsamples=137055\n",
      "INFO:MCEvidence.py.evidence():1163        ln(B)[k=1] = -2152.78151318769\n",
      "INFO:MCEvidence.py.evidence():1163        ln(B)[k=2] = -2147.244465444066\n",
      "INFO:MCEvidence.py.evidence():1163        ln(B)[k=3] = -2135.4437283131488\n",
      "INFO:MCEvidence.py.evidence():1163        ln(B)[k=4] = -2135.4935310148594\n"
     ]
    }
   ],
   "source": [
    "MLE2 = MCEvidence(file2).evidence()"
   ]
  },
  {
   "cell_type": "code",
   "execution_count": 9,
   "metadata": {},
   "outputs": [],
   "source": [
    "dir3 = \"/home/isidro/Downloads/Final_results/lscdm_ppwm/\""
   ]
  },
  {
   "cell_type": "code",
   "execution_count": 10,
   "metadata": {},
   "outputs": [],
   "source": [
    "file3 = dir3+'2022-08-25_100000_'"
   ]
  },
  {
   "cell_type": "code",
   "execution_count": 11,
   "metadata": {},
   "outputs": [
    {
     "name": "stderr",
     "output_type": "stream",
     "text": [
      "INFO:MCEvidence.py.setup():142      Loading chain from /home/isidro/Downloads/Final_results/lscdm_ppwm/2022-08-25_100000_\n",
      "INFO:MCEvidence.py.load_from_file():595       loading files: /home/isidro/Downloads/Final_results/lscdm_ppwm/2022-08-25_100000__?.txt\n",
      "INFO:MCEvidence.py.read_list_to_array():563      loading: /home/isidro/Downloads/Final_results/lscdm_ppwm/2022-08-25_100000__3.txt\n",
      "INFO:MCEvidence.py.read_list_to_array():563      loading: /home/isidro/Downloads/Final_results/lscdm_ppwm/2022-08-25_100000__2.txt\n",
      "INFO:MCEvidence.py.read_list_to_array():563      loading: /home/isidro/Downloads/Final_results/lscdm_ppwm/2022-08-25_100000__4.txt\n",
      "INFO:MCEvidence.py.read_list_to_array():563      loading: /home/isidro/Downloads/Final_results/lscdm_ppwm/2022-08-25_100000__1.txt\n",
      "INFO:MCEvidence.py.__init__():781      chain array dimensions: [156527] x 52 =\n",
      "INFO:MCEvidence.py.get_covariance():859      Estimating covariance matrix using all chains\n",
      "INFO:MCEvidence.py.get_covariance():863      covariance matrix estimated using nsample=156527\n",
      "INFO:MCEvidence.py.get_samples():910      getting samples for partition s1: nsamples=156527\n",
      "INFO:MCEvidence.py.evidence():1163        ln(B)[k=1] = -2124.108677825656\n",
      "INFO:MCEvidence.py.evidence():1163        ln(B)[k=2] = -2122.2847645952947\n",
      "INFO:MCEvidence.py.evidence():1163        ln(B)[k=3] = -2121.2258907547166\n",
      "INFO:MCEvidence.py.evidence():1163        ln(B)[k=4] = -2121.173108052739\n"
     ]
    }
   ],
   "source": [
    "MLE3 = MCEvidence(file3).evidence()"
   ]
  },
  {
   "cell_type": "code",
   "execution_count": 12,
   "metadata": {},
   "outputs": [],
   "source": [
    "dir4 = '/home/isidro/Downloads/Final_results/lscdm_pp/'\n",
    "file4 = dir4+'2022-08-24_100000_'"
   ]
  },
  {
   "cell_type": "code",
   "execution_count": 13,
   "metadata": {},
   "outputs": [
    {
     "name": "stderr",
     "output_type": "stream",
     "text": [
      "INFO:MCEvidence.py.setup():142      Loading chain from /home/isidro/Downloads/Final_results/lscdm_pp/2022-08-24_100000_\n",
      "INFO:MCEvidence.py.load_from_file():595       loading files: /home/isidro/Downloads/Final_results/lscdm_pp/2022-08-24_100000__?.txt\n",
      "INFO:MCEvidence.py.read_list_to_array():563      loading: /home/isidro/Downloads/Final_results/lscdm_pp/2022-08-24_100000__1.txt\n",
      "INFO:MCEvidence.py.read_list_to_array():563      loading: /home/isidro/Downloads/Final_results/lscdm_pp/2022-08-24_100000__4.txt\n",
      "INFO:MCEvidence.py.read_list_to_array():563      loading: /home/isidro/Downloads/Final_results/lscdm_pp/2022-08-24_100000__2.txt\n",
      "INFO:MCEvidence.py.read_list_to_array():563      loading: /home/isidro/Downloads/Final_results/lscdm_pp/2022-08-24_100000__3.txt\n",
      "INFO:MCEvidence.py.__init__():781      chain array dimensions: [160375] x 52 =\n",
      "INFO:MCEvidence.py.get_covariance():859      Estimating covariance matrix using all chains\n",
      "INFO:MCEvidence.py.get_covariance():863      covariance matrix estimated using nsample=160375\n",
      "INFO:MCEvidence.py.get_samples():910      getting samples for partition s1: nsamples=160375\n",
      "INFO:MCEvidence.py.evidence():1163        ln(B)[k=1] = -2045.3114492710313\n",
      "INFO:MCEvidence.py.evidence():1163        ln(B)[k=2] = -2045.9216376671568\n",
      "INFO:MCEvidence.py.evidence():1163        ln(B)[k=3] = -2046.3121058713364\n",
      "INFO:MCEvidence.py.evidence():1163        ln(B)[k=4] = -2046.5947947386487\n"
     ]
    }
   ],
   "source": [
    "MLE4 = MCEvidence(file4).evidence()"
   ]
  },
  {
   "cell_type": "code",
   "execution_count": null,
   "metadata": {},
   "outputs": [],
   "source": []
  }
 ],
 "metadata": {
  "kernelspec": {
   "display_name": "Python 3 (ipykernel)",
   "language": "python",
   "name": "python3"
  },
  "language_info": {
   "codemirror_mode": {
    "name": "ipython",
    "version": 3
   },
   "file_extension": ".py",
   "mimetype": "text/x-python",
   "name": "python",
   "nbconvert_exporter": "python",
   "pygments_lexer": "ipython3",
   "version": "3.10.6"
  }
 },
 "nbformat": 4,
 "nbformat_minor": 2
}
