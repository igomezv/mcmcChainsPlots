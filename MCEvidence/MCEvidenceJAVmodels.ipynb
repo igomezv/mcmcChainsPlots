{
 "cells": [
  {
   "cell_type": "markdown",
   "metadata": {},
   "source": [
    "In this notebook we use MCEvidence (Heavens, et. al. (2018)) to calculate the **Bayesian Evidence** of chains that comes from *Metropolis-Hastings* or *nested sampling*. \n",
    "\n",
    "pip install git+https://github.com/yabebalFantaye/MCEvidence"
   ]
  },
  {
   "cell_type": "code",
   "execution_count": 1,
   "metadata": {},
   "outputs": [],
   "source": [
    "from MCEvidence import MCEvidence "
   ]
  },
  {
   "cell_type": "code",
   "execution_count": 2,
   "metadata": {},
   "outputs": [],
   "source": [
    "main_dir = \"/home/isidro/Downloads/Final_results/\"\n",
    "dir1 = 'lcdm_pp'\n",
    "dir2 = 'lcdm_ppb'\n",
    "dir3 = 'lcdm_ppbwm'\n",
    "dir4 = 'lcdm_ppl'\n",
    "dir5 = 'lcdm_pplwm'\n",
    "dir6 ='lcdm_ppwm'\n",
    "dir7 ='lscdm_pp'\n",
    "dir8 ='lscdm_ppb'\n",
    "dir9 ='lscdm_ppbwm'\n",
    "dir10 ='lscdm_ppl'\n",
    "dir11 ='lscdm_pplwm'\n",
    "dir12 ='lscdm_ppwm'\n",
    "dir_list = [dir1, dir2, dir3, dir4, dir5, dir6, dir7, dir8, dir9, dir10, dir11, dir12]\n",
    "root1 = '2022-08-26_100000_'\n",
    "root2 = '2022-08-26_100000_'\n",
    "root3 = '2022-08-25_100000_'\n",
    "root4 = '2022-08-22_100000_'\n",
    "root5 = '2022-08-24_200000_'\n",
    "root6 = '2022-08-27_100000_'\n",
    "root7 = '2022-08-24_100000_'\n",
    "root8 = '2022-08-22_100000_'\n",
    "root9 = '2022-08-23_100000_'\n",
    "root10 = '2022-08-22_100000_'\n",
    "root11 = '2022-08-31_100000_'\n",
    "root12 = '2022-08-25_100000_'\n",
    "root_list = [root1, root2, root3, root4, root5, root6, root7, root8, root9, root10, root11, root12]"
   ]
  },
  {
   "cell_type": "code",
   "execution_count": null,
   "metadata": {},
   "outputs": [
    {
     "name": "stderr",
     "output_type": "stream",
     "text": [
      "INFO:MCEvidence.py.setup():142      Loading chain from /home/isidro/Downloads/Final_results/lcdm_pp/2022-08-26_100000_\n",
      "INFO:MCEvidence.py.load_from_file():595       loading files: /home/isidro/Downloads/Final_results/lcdm_pp/2022-08-26_100000__?.txt\n",
      "INFO:MCEvidence.py.read_list_to_array():563      loading: /home/isidro/Downloads/Final_results/lcdm_pp/2022-08-26_100000__1.txt\n",
      "INFO:MCEvidence.py.read_list_to_array():563      loading: /home/isidro/Downloads/Final_results/lcdm_pp/2022-08-26_100000__3.txt\n",
      "INFO:MCEvidence.py.read_list_to_array():563      loading: /home/isidro/Downloads/Final_results/lcdm_pp/2022-08-26_100000__2.txt\n",
      "INFO:MCEvidence.py.read_list_to_array():563      loading: /home/isidro/Downloads/Final_results/lcdm_pp/2022-08-26_100000__4.txt\n",
      "INFO:MCEvidence.py.__init__():781      chain array dimensions: [161367] x 51 =\n",
      "INFO:MCEvidence.py.get_covariance():859      Estimating covariance matrix using all chains\n",
      "INFO:MCEvidence.py.get_covariance():863      covariance matrix estimated using nsample=161367\n",
      "INFO:MCEvidence.py.get_samples():910      getting samples for partition s1: nsamples=161367\n",
      "INFO:MCEvidence.py.evidence():1163        ln(B)[k=1] = -2169.793499736389\n",
      "INFO:MCEvidence.py.evidence():1163        ln(B)[k=2] = -2165.286651391547\n",
      "INFO:MCEvidence.py.evidence():1163        ln(B)[k=3] = -2164.300327670989\n",
      "INFO:MCEvidence.py.evidence():1163        ln(B)[k=4] = -2164.3306444730124\n",
      "INFO:MCEvidence.py.setup():142      Loading chain from /home/isidro/Downloads/Final_results/lcdm_ppb/2022-08-26_100000_\n",
      "INFO:MCEvidence.py.load_from_file():595       loading files: /home/isidro/Downloads/Final_results/lcdm_ppb/2022-08-26_100000__?.txt\n",
      "INFO:MCEvidence.py.read_list_to_array():563      loading: /home/isidro/Downloads/Final_results/lcdm_ppb/2022-08-26_100000__1.txt\n"
     ]
    },
    {
     "name": "stdout",
     "output_type": "stream",
     "text": [
      "\n",
      "lcdm_pp 2022-08-26_100000_\n",
      "\n",
      "Evidence: -2164.3306\n",
      "----------\n"
     ]
    },
    {
     "name": "stderr",
     "output_type": "stream",
     "text": [
      "INFO:MCEvidence.py.read_list_to_array():563      loading: /home/isidro/Downloads/Final_results/lcdm_ppb/2022-08-26_100000__3.txt\n",
      "INFO:MCEvidence.py.read_list_to_array():563      loading: /home/isidro/Downloads/Final_results/lcdm_ppb/2022-08-26_100000__2.txt\n",
      "INFO:MCEvidence.py.read_list_to_array():563      loading: /home/isidro/Downloads/Final_results/lcdm_ppb/2022-08-26_100000__4.txt\n",
      "INFO:MCEvidence.py.__init__():781      chain array dimensions: [161094] x 51 =\n",
      "INFO:MCEvidence.py.get_covariance():859      Estimating covariance matrix using all chains\n",
      "INFO:MCEvidence.py.get_covariance():863      covariance matrix estimated using nsample=161094\n",
      "INFO:MCEvidence.py.get_samples():910      getting samples for partition s1: nsamples=161094\n",
      "INFO:MCEvidence.py.evidence():1163        ln(B)[k=1] = -2176.784661459064\n",
      "INFO:MCEvidence.py.evidence():1163        ln(B)[k=2] = -2175.3950521126267\n",
      "INFO:MCEvidence.py.evidence():1163        ln(B)[k=3] = -2175.0787944630033\n",
      "INFO:MCEvidence.py.evidence():1163        ln(B)[k=4] = -2174.9910992321034\n",
      "INFO:MCEvidence.py.setup():142      Loading chain from /home/isidro/Downloads/Final_results/lcdm_ppbwm/2022-08-25_100000_\n",
      "INFO:MCEvidence.py.load_from_file():595       loading files: /home/isidro/Downloads/Final_results/lcdm_ppbwm/2022-08-25_100000__?.txt\n",
      "INFO:MCEvidence.py.read_list_to_array():563      loading: /home/isidro/Downloads/Final_results/lcdm_ppbwm/2022-08-25_100000__3.txt\n"
     ]
    },
    {
     "name": "stdout",
     "output_type": "stream",
     "text": [
      "\n",
      "lcdm_ppb 2022-08-26_100000_\n",
      "\n",
      "Evidence: -2174.9911\n",
      "----------\n"
     ]
    },
    {
     "name": "stderr",
     "output_type": "stream",
     "text": [
      "INFO:MCEvidence.py.read_list_to_array():563      loading: /home/isidro/Downloads/Final_results/lcdm_ppbwm/2022-08-25_100000__2.txt\n",
      "INFO:MCEvidence.py.read_list_to_array():563      loading: /home/isidro/Downloads/Final_results/lcdm_ppbwm/2022-08-25_100000__1.txt\n",
      "INFO:MCEvidence.py.__init__():781      chain array dimensions: [120396] x 51 =\n",
      "INFO:MCEvidence.py.get_covariance():859      Estimating covariance matrix using all chains\n",
      "INFO:MCEvidence.py.get_covariance():863      covariance matrix estimated using nsample=120396\n",
      "INFO:MCEvidence.py.get_samples():910      getting samples for partition s1: nsamples=120396\n",
      "INFO:MCEvidence.py.evidence():1163        ln(B)[k=1] = -2164.017447490916\n",
      "INFO:MCEvidence.py.evidence():1163        ln(B)[k=2] = -2161.661721272946\n",
      "INFO:MCEvidence.py.evidence():1163        ln(B)[k=3] = -2158.2668727335636\n",
      "INFO:MCEvidence.py.evidence():1163        ln(B)[k=4] = -2158.5084804435724\n",
      "INFO:MCEvidence.py.setup():142      Loading chain from /home/isidro/Downloads/Final_results/lcdm_ppl/2022-08-22_100000_\n",
      "INFO:MCEvidence.py.load_from_file():595       loading files: /home/isidro/Downloads/Final_results/lcdm_ppl/2022-08-22_100000__?.txt\n",
      "INFO:MCEvidence.py.read_list_to_array():563      loading: /home/isidro/Downloads/Final_results/lcdm_ppl/2022-08-22_100000__2.txt\n",
      "INFO:MCEvidence.py.read_list_to_array():563      loading: /home/isidro/Downloads/Final_results/lcdm_ppl/2022-08-22_100000__4.txt\n"
     ]
    },
    {
     "name": "stdout",
     "output_type": "stream",
     "text": [
      "\n",
      "lcdm_ppbwm 2022-08-25_100000_\n",
      "\n",
      "Evidence: -2158.5085\n",
      "----------\n"
     ]
    },
    {
     "name": "stderr",
     "output_type": "stream",
     "text": [
      "INFO:MCEvidence.py.read_list_to_array():563      loading: /home/isidro/Downloads/Final_results/lcdm_ppl/2022-08-22_100000__1.txt\n",
      "INFO:MCEvidence.py.read_list_to_array():563      loading: /home/isidro/Downloads/Final_results/lcdm_ppl/2022-08-22_100000__3.txt\n",
      "INFO:MCEvidence.py.__init__():781      chain array dimensions: [120330] x 51 =\n",
      "INFO:MCEvidence.py.get_covariance():859      Estimating covariance matrix using all chains\n",
      "INFO:MCEvidence.py.get_covariance():863      covariance matrix estimated using nsample=120330\n",
      "INFO:MCEvidence.py.get_samples():910      getting samples for partition s1: nsamples=120330\n",
      "INFO:MCEvidence.py.evidence():1163        ln(B)[k=1] = -2173.6168423778736\n",
      "INFO:MCEvidence.py.evidence():1163        ln(B)[k=2] = -2167.4579262686907\n",
      "INFO:MCEvidence.py.evidence():1163        ln(B)[k=3] = -2163.0274937876397\n",
      "INFO:MCEvidence.py.evidence():1163        ln(B)[k=4] = -2162.9113940378184\n",
      "INFO:MCEvidence.py.setup():142      Loading chain from /home/isidro/Downloads/Final_results/lcdm_pplwm/2022-08-24_200000_\n",
      "INFO:MCEvidence.py.load_from_file():595       loading files: /home/isidro/Downloads/Final_results/lcdm_pplwm/2022-08-24_200000__?.txt\n",
      "INFO:MCEvidence.py.read_list_to_array():563      loading: /home/isidro/Downloads/Final_results/lcdm_pplwm/2022-08-24_200000__2.txt\n"
     ]
    },
    {
     "name": "stdout",
     "output_type": "stream",
     "text": [
      "\n",
      "lcdm_ppl 2022-08-22_100000_\n",
      "\n",
      "Evidence: -2162.9114\n",
      "----------\n"
     ]
    },
    {
     "name": "stderr",
     "output_type": "stream",
     "text": [
      "INFO:MCEvidence.py.read_list_to_array():563      loading: /home/isidro/Downloads/Final_results/lcdm_pplwm/2022-08-24_200000__3.txt\n",
      "INFO:MCEvidence.py.read_list_to_array():563      loading: /home/isidro/Downloads/Final_results/lcdm_pplwm/2022-08-24_200000__4.txt\n",
      "INFO:MCEvidence.py.read_list_to_array():563      loading: /home/isidro/Downloads/Final_results/lcdm_pplwm/2022-08-24_200000__1.txt\n",
      "INFO:MCEvidence.py.__init__():781      chain array dimensions: [182450] x 51 =\n",
      "INFO:MCEvidence.py.get_covariance():859      Estimating covariance matrix using all chains\n",
      "INFO:MCEvidence.py.get_covariance():863      covariance matrix estimated using nsample=182450\n",
      "INFO:MCEvidence.py.get_samples():910      getting samples for partition s1: nsamples=182450\n",
      "INFO:MCEvidence.py.evidence():1163        ln(B)[k=1] = -2155.102717516357\n",
      "INFO:MCEvidence.py.evidence():1163        ln(B)[k=2] = -2152.4264641505397\n",
      "INFO:MCEvidence.py.evidence():1163        ln(B)[k=3] = -2150.535757814448\n",
      "INFO:MCEvidence.py.evidence():1163        ln(B)[k=4] = -2150.7144958651716\n",
      "INFO:MCEvidence.py.setup():142      Loading chain from /home/isidro/Downloads/Final_results/lcdm_ppwm/2022-08-27_100000_\n",
      "INFO:MCEvidence.py.load_from_file():595       loading files: /home/isidro/Downloads/Final_results/lcdm_ppwm/2022-08-27_100000__?.txt\n",
      "INFO:MCEvidence.py.read_list_to_array():563      loading: /home/isidro/Downloads/Final_results/lcdm_ppwm/2022-08-27_100000__3.txt\n",
      "INFO:MCEvidence.py.read_list_to_array():563      loading: /home/isidro/Downloads/Final_results/lcdm_ppwm/2022-08-27_100000__4.txt\n"
     ]
    },
    {
     "name": "stdout",
     "output_type": "stream",
     "text": [
      "\n",
      "lcdm_pplwm 2022-08-24_200000_\n",
      "\n",
      "Evidence: -2150.7145\n",
      "----------\n"
     ]
    },
    {
     "name": "stderr",
     "output_type": "stream",
     "text": [
      "INFO:MCEvidence.py.read_list_to_array():563      loading: /home/isidro/Downloads/Final_results/lcdm_ppwm/2022-08-27_100000__2.txt\n",
      "INFO:MCEvidence.py.read_list_to_array():563      loading: /home/isidro/Downloads/Final_results/lcdm_ppwm/2022-08-27_100000__1.txt\n",
      "INFO:MCEvidence.py.__init__():781      chain array dimensions: [137055] x 51 =\n",
      "INFO:MCEvidence.py.get_covariance():859      Estimating covariance matrix using all chains\n",
      "INFO:MCEvidence.py.get_covariance():863      covariance matrix estimated using nsample=137055\n",
      "INFO:MCEvidence.py.get_samples():910      getting samples for partition s1: nsamples=137055\n"
     ]
    }
   ],
   "source": [
    "f = open('evidences.txt', 'w+')\n",
    "for i in range(len(dir_list)):\n",
    "    MLE = MCEvidence(main_dir+dir_list[i]+'/'+root_list[i]).evidence()\n",
    "    print(\"\\n{} {}\\n\".format(dir_list[i], root_list[i]))\n",
    "    print(\"Evidence: {:.4f}\".format(MLE[-1]))\n",
    "    f.write(\"\\n{} {}\\n\".format(dir_list[i], root_list[i]))\n",
    "    f.write(\"Evidence: {:.4f}\\n\".format(MLE[-1]))\n",
    "    f.write('-'*10)\n",
    "    print('-'*10)\n",
    "f.close()"
   ]
  },
  {
   "cell_type": "code",
   "execution_count": null,
   "metadata": {},
   "outputs": [],
   "source": []
  }
 ],
 "metadata": {
  "kernelspec": {
   "display_name": "Python 3 (ipykernel)",
   "language": "python",
   "name": "python3"
  },
  "language_info": {
   "codemirror_mode": {
    "name": "ipython",
    "version": 3
   },
   "file_extension": ".py",
   "mimetype": "text/x-python",
   "name": "python",
   "nbconvert_exporter": "python",
   "pygments_lexer": "ipython3",
   "version": "3.10.6"
  }
 },
 "nbformat": 4,
 "nbformat_minor": 2
}
