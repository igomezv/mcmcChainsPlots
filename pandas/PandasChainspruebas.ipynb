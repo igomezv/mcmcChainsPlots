{
 "cells": [
  {
   "cell_type": "code",
   "execution_count": 1,
   "metadata": {},
   "outputs": [],
   "source": [
    "import pymc3 as pm\n",
    "import pandas as pd"
   ]
  },
  {
   "cell_type": "code",
   "execution_count": 4,
   "metadata": {},
   "outputs": [],
   "source": [
    "file1 = '/home/isidro/SuperMC/chains/LCDM_py_SN+BBAO+RiessH0_mh_4000_1.txt'\n",
    "file2 = '/home/isidro/SuperMC/chains/LCDM_py_SN_mh_4000_2.txt'"
   ]
  },
  {
   "cell_type": "code",
   "execution_count": 5,
   "metadata": {},
   "outputs": [],
   "source": [
    "df1 = pd.read_csv(file1, sep=' ')\n",
    "#df2 = pd.read_csv(file2, sep=' ')"
   ]
  },
  {
   "cell_type": "code",
   "execution_count": 6,
   "metadata": {},
   "outputs": [
    {
     "data": {
      "text/html": [
       "<div>\n",
       "<style scoped>\n",
       "    .dataframe tbody tr th:only-of-type {\n",
       "        vertical-align: middle;\n",
       "    }\n",
       "\n",
       "    .dataframe tbody tr th {\n",
       "        vertical-align: top;\n",
       "    }\n",
       "\n",
       "    .dataframe thead th {\n",
       "        text-align: right;\n",
       "    }\n",
       "</style>\n",
       "<table border=\"1\" class=\"dataframe\">\n",
       "  <thead>\n",
       "    <tr style=\"text-align: right;\">\n",
       "      <th></th>\n",
       "      <th>2.66388e-06</th>\n",
       "      <th>28.444</th>\n",
       "      <th>0.332821</th>\n",
       "      <th>0.0224671</th>\n",
       "      <th>0.686183</th>\n",
       "      <th>-17.1466</th>\n",
       "      <th>-0.656728</th>\n",
       "      <th>-1.02452</th>\n",
       "      <th>-3.71505</th>\n",
       "      <th>-2.62569</th>\n",
       "      <th>-0.0701363</th>\n",
       "      <th>-0.402198</th>\n",
       "      <th>-2.33075</th>\n",
       "      <th>-0.47236</th>\n",
       "      <th>Unnamed: 14</th>\n",
       "    </tr>\n",
       "  </thead>\n",
       "  <tbody>\n",
       "    <tr>\n",
       "      <td>0</td>\n",
       "      <td>0.000002</td>\n",
       "      <td>26.4582</td>\n",
       "      <td>0.306213</td>\n",
       "      <td>0.022435</td>\n",
       "      <td>0.687813</td>\n",
       "      <td>-16.6453</td>\n",
       "      <td>-0.081859</td>\n",
       "      <td>-1.35847</td>\n",
       "      <td>-2.61274</td>\n",
       "      <td>-2.17265</td>\n",
       "      <td>-0.000673</td>\n",
       "      <td>-0.993221</td>\n",
       "      <td>-2.18643</td>\n",
       "      <td>-0.406798</td>\n",
       "      <td>NaN</td>\n",
       "    </tr>\n",
       "    <tr>\n",
       "      <td>1</td>\n",
       "      <td>0.000002</td>\n",
       "      <td>26.5613</td>\n",
       "      <td>0.294788</td>\n",
       "      <td>0.022470</td>\n",
       "      <td>0.687827</td>\n",
       "      <td>-16.6090</td>\n",
       "      <td>-0.005216</td>\n",
       "      <td>-1.84744</td>\n",
       "      <td>-2.10561</td>\n",
       "      <td>-2.03100</td>\n",
       "      <td>-0.005301</td>\n",
       "      <td>-1.293790</td>\n",
       "      <td>-2.18521</td>\n",
       "      <td>-0.478775</td>\n",
       "      <td>NaN</td>\n",
       "    </tr>\n",
       "    <tr>\n",
       "      <td>2</td>\n",
       "      <td>0.000001</td>\n",
       "      <td>27.3285</td>\n",
       "      <td>0.306051</td>\n",
       "      <td>0.022514</td>\n",
       "      <td>0.699371</td>\n",
       "      <td>-16.6440</td>\n",
       "      <td>-0.000035</td>\n",
       "      <td>-2.14894</td>\n",
       "      <td>-3.17713</td>\n",
       "      <td>-2.18519</td>\n",
       "      <td>-0.004559</td>\n",
       "      <td>-1.295560</td>\n",
       "      <td>-1.29533</td>\n",
       "      <td>-0.577751</td>\n",
       "      <td>NaN</td>\n",
       "    </tr>\n",
       "    <tr>\n",
       "      <td>3</td>\n",
       "      <td>0.000002</td>\n",
       "      <td>26.7922</td>\n",
       "      <td>0.313955</td>\n",
       "      <td>0.022483</td>\n",
       "      <td>0.691915</td>\n",
       "      <td>-16.7327</td>\n",
       "      <td>-0.111678</td>\n",
       "      <td>-1.25035</td>\n",
       "      <td>-3.15332</td>\n",
       "      <td>-2.29020</td>\n",
       "      <td>-0.003680</td>\n",
       "      <td>-0.900560</td>\n",
       "      <td>-1.84357</td>\n",
       "      <td>-0.506178</td>\n",
       "      <td>NaN</td>\n",
       "    </tr>\n",
       "    <tr>\n",
       "      <td>4</td>\n",
       "      <td>0.000004</td>\n",
       "      <td>27.1175</td>\n",
       "      <td>0.312402</td>\n",
       "      <td>0.022470</td>\n",
       "      <td>0.698079</td>\n",
       "      <td>-16.7112</td>\n",
       "      <td>-0.021482</td>\n",
       "      <td>-1.69247</td>\n",
       "      <td>-3.42887</td>\n",
       "      <td>-2.29999</td>\n",
       "      <td>-0.000030</td>\n",
       "      <td>-1.102250</td>\n",
       "      <td>-1.38339</td>\n",
       "      <td>-0.477821</td>\n",
       "      <td>NaN</td>\n",
       "    </tr>\n",
       "  </tbody>\n",
       "</table>\n",
       "</div>"
      ],
      "text/plain": [
       "   2.66388e-06   28.444  0.332821  0.0224671  0.686183  -17.1466  -0.656728  \\\n",
       "0     0.000002  26.4582  0.306213   0.022435  0.687813  -16.6453  -0.081859   \n",
       "1     0.000002  26.5613  0.294788   0.022470  0.687827  -16.6090  -0.005216   \n",
       "2     0.000001  27.3285  0.306051   0.022514  0.699371  -16.6440  -0.000035   \n",
       "3     0.000002  26.7922  0.313955   0.022483  0.691915  -16.7327  -0.111678   \n",
       "4     0.000004  27.1175  0.312402   0.022470  0.698079  -16.7112  -0.021482   \n",
       "\n",
       "   -1.02452  -3.71505  -2.62569  -0.0701363  -0.402198  -2.33075  -0.47236  \\\n",
       "0  -1.35847  -2.61274  -2.17265   -0.000673  -0.993221  -2.18643 -0.406798   \n",
       "1  -1.84744  -2.10561  -2.03100   -0.005301  -1.293790  -2.18521 -0.478775   \n",
       "2  -2.14894  -3.17713  -2.18519   -0.004559  -1.295560  -1.29533 -0.577751   \n",
       "3  -1.25035  -3.15332  -2.29020   -0.003680  -0.900560  -1.84357 -0.506178   \n",
       "4  -1.69247  -3.42887  -2.29999   -0.000030  -1.102250  -1.38339 -0.477821   \n",
       "\n",
       "   Unnamed: 14  \n",
       "0          NaN  \n",
       "1          NaN  \n",
       "2          NaN  \n",
       "3          NaN  \n",
       "4          NaN  "
      ]
     },
     "execution_count": 6,
     "metadata": {},
     "output_type": "execute_result"
    }
   ],
   "source": [
    "df1.head()"
   ]
  },
  {
   "cell_type": "code",
   "execution_count": 6,
   "metadata": {},
   "outputs": [],
   "source": [
    "chain1 = df1.iloc[:,2:5]\n",
    "chain2 = df2.iloc[:,2:5]"
   ]
  },
  {
   "cell_type": "code",
   "execution_count": 23,
   "metadata": {},
   "outputs": [
    {
     "data": {
      "text/plain": [
       "3950"
      ]
     },
     "execution_count": 23,
     "metadata": {},
     "output_type": "execute_result"
    }
   ],
   "source": [
    "len(chain1)"
   ]
  },
  {
   "cell_type": "code",
   "execution_count": 7,
   "metadata": {},
   "outputs": [],
   "source": [
    "DF = [[chain1],[chain2]]"
   ]
  },
  {
   "cell_type": "code",
   "execution_count": 10,
   "metadata": {},
   "outputs": [
    {
     "ename": "ValueError",
     "evalue": "cannot copy sequence with size 426 to array axis with dimension 3",
     "output_type": "error",
     "traceback": [
      "\u001b[0;31m---------------------------------------------------------------------------\u001b[0m",
      "\u001b[0;31mValueError\u001b[0m                                Traceback (most recent call last)",
      "\u001b[0;32m<ipython-input-10-69d26b4d0aaf>\u001b[0m in \u001b[0;36m<module>\u001b[0;34m()\u001b[0m\n\u001b[0;32m----> 1\u001b[0;31m \u001b[0mpm\u001b[0m\u001b[0;34m.\u001b[0m\u001b[0mgelman_rubin\u001b[0m\u001b[0;34m(\u001b[0m\u001b[0mDF\u001b[0m\u001b[0;34m)\u001b[0m\u001b[0;34m\u001b[0m\u001b[0;34m\u001b[0m\u001b[0m\n\u001b[0m",
      "\u001b[0;32m/usr/local/lib/python2.7/dist-packages/pymc3/diagnostics.pyc\u001b[0m in \u001b[0;36mgelman_rubin\u001b[0;34m(mtrace, varnames, include_transformed)\u001b[0m\n\u001b[1;32m    157\u001b[0m     \u001b[0;32mif\u001b[0m \u001b[0;32mnot\u001b[0m \u001b[0misinstance\u001b[0m\u001b[0;34m(\u001b[0m\u001b[0mmtrace\u001b[0m\u001b[0;34m,\u001b[0m \u001b[0mMultiTrace\u001b[0m\u001b[0;34m)\u001b[0m\u001b[0;34m:\u001b[0m\u001b[0;34m\u001b[0m\u001b[0;34m\u001b[0m\u001b[0m\n\u001b[1;32m    158\u001b[0m         \u001b[0;31m# Return rscore for passed arrays\u001b[0m\u001b[0;34m\u001b[0m\u001b[0;34m\u001b[0m\u001b[0;34m\u001b[0m\u001b[0m\n\u001b[0;32m--> 159\u001b[0;31m         \u001b[0;32mreturn\u001b[0m \u001b[0mrscore\u001b[0m\u001b[0;34m(\u001b[0m\u001b[0mnp\u001b[0m\u001b[0;34m.\u001b[0m\u001b[0marray\u001b[0m\u001b[0;34m(\u001b[0m\u001b[0mmtrace\u001b[0m\u001b[0;34m)\u001b[0m\u001b[0;34m,\u001b[0m \u001b[0mmtrace\u001b[0m\u001b[0;34m.\u001b[0m\u001b[0mshape\u001b[0m\u001b[0;34m[\u001b[0m\u001b[0;36m1\u001b[0m\u001b[0;34m]\u001b[0m\u001b[0;34m)\u001b[0m\u001b[0;34m\u001b[0m\u001b[0;34m\u001b[0m\u001b[0m\n\u001b[0m\u001b[1;32m    160\u001b[0m \u001b[0;34m\u001b[0m\u001b[0m\n\u001b[1;32m    161\u001b[0m     \u001b[0;32mif\u001b[0m \u001b[0mmtrace\u001b[0m\u001b[0;34m.\u001b[0m\u001b[0mnchains\u001b[0m \u001b[0;34m<\u001b[0m \u001b[0;36m2\u001b[0m\u001b[0;34m:\u001b[0m\u001b[0;34m\u001b[0m\u001b[0;34m\u001b[0m\u001b[0m\n",
      "\u001b[0;31mValueError\u001b[0m: cannot copy sequence with size 426 to array axis with dimension 3"
     ]
    }
   ],
   "source": [
    "pm.gelman_rubin(DF)"
   ]
  },
  {
   "cell_type": "code",
   "execution_count": 2,
   "metadata": {},
   "outputs": [],
   "source": [
    "a = [1,2,3]\n",
    "b = [4,5,6]\n",
    "df = pd.DataFrame()"
   ]
  },
  {
   "cell_type": "code",
   "execution_count": 3,
   "metadata": {},
   "outputs": [
    {
     "data": {
      "text/html": [
       "<div>\n",
       "<style scoped>\n",
       "    .dataframe tbody tr th:only-of-type {\n",
       "        vertical-align: middle;\n",
       "    }\n",
       "\n",
       "    .dataframe tbody tr th {\n",
       "        vertical-align: top;\n",
       "    }\n",
       "\n",
       "    .dataframe thead th {\n",
       "        text-align: right;\n",
       "    }\n",
       "</style>\n",
       "<table border=\"1\" class=\"dataframe\">\n",
       "  <thead>\n",
       "    <tr style=\"text-align: right;\">\n",
       "      <th></th>\n",
       "    </tr>\n",
       "  </thead>\n",
       "  <tbody>\n",
       "  </tbody>\n",
       "</table>\n",
       "</div>"
      ],
      "text/plain": [
       "Empty DataFrame\n",
       "Columns: []\n",
       "Index: []"
      ]
     },
     "execution_count": 3,
     "metadata": {},
     "output_type": "execute_result"
    }
   ],
   "source": [
    "df.head()"
   ]
  },
  {
   "cell_type": "code",
   "execution_count": 5,
   "metadata": {},
   "outputs": [],
   "source": [
    "C = [a,b]"
   ]
  },
  {
   "cell_type": "code",
   "execution_count": 15,
   "metadata": {},
   "outputs": [
    {
     "data": {
      "text/plain": [
       "[[1, 2, 3], [4, 5, 6]]"
      ]
     },
     "execution_count": 15,
     "metadata": {},
     "output_type": "execute_result"
    }
   ],
   "source": [
    "C[:][:]"
   ]
  },
  {
   "cell_type": "code",
   "execution_count": 16,
   "metadata": {},
   "outputs": [],
   "source": [
    "import numpy as np"
   ]
  },
  {
   "cell_type": "code",
   "execution_count": 17,
   "metadata": {},
   "outputs": [],
   "source": [
    "Cnp = np.array(C)"
   ]
  },
  {
   "cell_type": "code",
   "execution_count": 18,
   "metadata": {},
   "outputs": [
    {
     "data": {
      "text/plain": [
       "array([[1, 2, 3],\n",
       "       [4, 5, 6]])"
      ]
     },
     "execution_count": 18,
     "metadata": {},
     "output_type": "execute_result"
    }
   ],
   "source": [
    "Cnp"
   ]
  },
  {
   "cell_type": "code",
   "execution_count": 22,
   "metadata": {},
   "outputs": [
    {
     "data": {
      "text/plain": [
       "array([2.5, 3.5, 4.5])"
      ]
     },
     "execution_count": 22,
     "metadata": {},
     "output_type": "execute_result"
    }
   ],
   "source": [
    "np.mean(Cnp, axis=0)"
   ]
  },
  {
   "cell_type": "code",
   "execution_count": 23,
   "metadata": {},
   "outputs": [],
   "source": [
    "a = [b]*3"
   ]
  },
  {
   "cell_type": "code",
   "execution_count": 24,
   "metadata": {},
   "outputs": [
    {
     "data": {
      "text/plain": [
       "[[4, 5, 6], [4, 5, 6], [4, 5, 6]]"
      ]
     },
     "execution_count": 24,
     "metadata": {},
     "output_type": "execute_result"
    }
   ],
   "source": [
    "a"
   ]
  },
  {
   "cell_type": "code",
   "execution_count": 25,
   "metadata": {},
   "outputs": [],
   "source": [
    "t = [3]*4"
   ]
  },
  {
   "cell_type": "code",
   "execution_count": 26,
   "metadata": {},
   "outputs": [
    {
     "data": {
      "text/plain": [
       "[3, 3, 3, 3]"
      ]
     },
     "execution_count": 26,
     "metadata": {},
     "output_type": "execute_result"
    }
   ],
   "source": [
    "t"
   ]
  },
  {
   "cell_type": "code",
   "execution_count": 28,
   "metadata": {},
   "outputs": [
    {
     "data": {
      "text/plain": [
       "True"
      ]
     },
     "execution_count": 28,
     "metadata": {},
     "output_type": "execute_result"
    }
   ],
   "source": [
    "t > [0]*4"
   ]
  },
  {
   "cell_type": "code",
   "execution_count": null,
   "metadata": {},
   "outputs": [],
   "source": []
  }
 ],
 "metadata": {
  "kernelspec": {
   "display_name": "Python 3",
   "language": "python",
   "name": "python3"
  },
  "language_info": {
   "codemirror_mode": {
    "name": "ipython",
    "version": 3
   },
   "file_extension": ".py",
   "mimetype": "text/x-python",
   "name": "python",
   "nbconvert_exporter": "python",
   "pygments_lexer": "ipython3",
   "version": "3.6.8"
  }
 },
 "nbformat": 4,
 "nbformat_minor": 2
}
