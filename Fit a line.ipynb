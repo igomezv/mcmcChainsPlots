{
 "cells": [
  {
   "cell_type": "markdown",
   "metadata": {},
   "source": [
    "## Se define el modelo:   "
   ]
  },
  {
   "cell_type": "code",
   "execution_count": 1,
   "metadata": {},
   "outputs": [],
   "source": [
    "def line(x, a, b):\n",
    "    return a*(x)+b"
   ]
  },
  {
   "cell_type": "markdown",
   "metadata": {},
   "source": [
    "## Se cargan librerías: "
   ]
  },
  {
   "cell_type": "code",
   "execution_count": 2,
   "metadata": {},
   "outputs": [
    {
     "name": "stdout",
     "output_type": "stream",
     "text": [
      "Using matplotlib backend: Qt5Agg\n"
     ]
    }
   ],
   "source": [
    "import numpy as np\n",
    "import matplotlib.pyplot as plt\n",
    "import os\n",
    "import sys\n",
    "from scipy.special import ndtri\n",
    "import numpy as np\n",
    "\n",
    "# import Nestle\n",
    "import nestle\n",
    "%matplotlib"
   ]
  },
  {
   "cell_type": "markdown",
   "metadata": {},
   "source": [
    "Se generan puntos dentro del intervalo $[0,10)$"
   ]
  },
  {
   "cell_type": "code",
   "execution_count": 3,
   "metadata": {},
   "outputs": [
    {
     "data": {
      "text/plain": [
       "array([0. , 0.1, 0.2, 0.3, 0.4, 0.5, 0.6, 0.7, 0.8, 0.9, 1. , 1.1, 1.2,\n",
       "       1.3, 1.4, 1.5, 1.6, 1.7, 1.8, 1.9, 2. , 2.1, 2.2, 2.3, 2.4, 2.5,\n",
       "       2.6, 2.7, 2.8, 2.9, 3. , 3.1, 3.2, 3.3, 3.4, 3.5, 3.6, 3.7, 3.8,\n",
       "       3.9, 4. , 4.1, 4.2, 4.3, 4.4, 4.5, 4.6, 4.7, 4.8, 4.9, 5. , 5.1,\n",
       "       5.2, 5.3, 5.4, 5.5, 5.6, 5.7, 5.8, 5.9, 6. , 6.1, 6.2, 6.3, 6.4,\n",
       "       6.5, 6.6, 6.7, 6.8, 6.9, 7. , 7.1, 7.2, 7.3, 7.4, 7.5, 7.6, 7.7,\n",
       "       7.8, 7.9, 8. , 8.1, 8.2, 8.3, 8.4, 8.5, 8.6, 8.7, 8.8, 8.9, 9. ,\n",
       "       9.1, 9.2, 9.3, 9.4, 9.5, 9.6, 9.7, 9.8, 9.9])"
      ]
     },
     "execution_count": 3,
     "metadata": {},
     "output_type": "execute_result"
    }
   ],
   "source": [
    "#x = np.linspace(0, 10 , 100)  \n",
    "x = np.arange(0,10,0.1)\n",
    "x"
   ]
  },
  {
   "cell_type": "markdown",
   "metadata": {},
   "source": [
    "Se genera ruido gaussiano:"
   ]
  },
  {
   "cell_type": "code",
   "execution_count": 4,
   "metadata": {},
   "outputs": [
    {
     "data": {
      "text/plain": [
       "array([0.1375473 , 0.08680775, 0.42183342, 0.38246514, 0.26161133,\n",
       "       0.18921018, 0.3191741 , 0.28071713, 0.12130638, 0.02180138,\n",
       "       0.44245714, 0.26043677, 0.04513221, 0.49781322, 0.28090981,\n",
       "       0.01244283, 0.22392953, 0.15670755, 0.48049096, 0.21261843,\n",
       "       0.41980904, 0.04092039, 0.13866498, 0.30849899, 0.00058726,\n",
       "       0.0487406 , 0.03602539, 0.44840611, 0.0471816 , 0.26930625,\n",
       "       0.32533014, 0.19253563, 0.31752379, 0.24329027, 0.23106089,\n",
       "       0.43732947, 0.4202075 , 0.26601185, 0.27270221, 0.33423456,\n",
       "       0.30995948, 0.25148626, 0.31344115, 0.0356755 , 0.29330487,\n",
       "       0.25261828, 0.07934298, 0.33716647, 0.00985839, 0.47648183,\n",
       "       0.12416248, 0.14097605, 0.04591485, 0.03324804, 0.02281218,\n",
       "       0.13284777, 0.06859773, 0.01984714, 0.161788  , 0.06812369,\n",
       "       0.02920655, 0.33750065, 0.09857634, 0.08740955, 0.12007584,\n",
       "       0.10892691, 0.3760331 , 0.0581786 , 0.11743536, 0.11494869,\n",
       "       0.1658238 , 0.33966708, 0.04588313, 0.44689352, 0.26612886,\n",
       "       0.32754911, 0.37521254, 0.43351952, 0.20561531, 0.01859623,\n",
       "       0.46320021, 0.31254473, 0.41853597, 0.15589092, 0.08816573,\n",
       "       0.36656665, 0.26812302, 0.33563288, 0.30228546, 0.44408025,\n",
       "       0.21647546, 0.48125206, 0.16925291, 0.07246302, 0.21752339,\n",
       "       0.1040158 , 0.24130677, 0.17351784, 0.26080443, 0.33675486])"
      ]
     },
     "execution_count": 4,
     "metadata": {},
     "output_type": "execute_result"
    }
   ],
   "source": [
    "#noise = np.random.normal(0.01, .01, size=40)\n",
    "sigma = 0.5\n",
    "noise = sigma*np.random.rand(len(x))\n",
    "noise"
   ]
  },
  {
   "cell_type": "markdown",
   "metadata": {},
   "source": [
    "A la variable $y$ se le asigna la función line más el ruido gaussiano. "
   ]
  },
  {
   "cell_type": "code",
   "execution_count": 5,
   "metadata": {},
   "outputs": [
    {
     "data": {
      "text/plain": [
       "array([ 4.1375473 ,  4.28680775,  4.82183342,  4.98246514,  5.06161133,\n",
       "        5.18921018,  5.5191741 ,  5.68071713,  5.72130638,  5.82180138,\n",
       "        6.44245714,  6.46043677,  6.44513221,  7.09781322,  7.08090981,\n",
       "        7.01244283,  7.42392953,  7.55670755,  8.08049096,  8.01261843,\n",
       "        8.41980904,  8.24092039,  8.53866498,  8.90849899,  8.80058726,\n",
       "        9.0487406 ,  9.23602539,  9.84840611,  9.6471816 , 10.06930625,\n",
       "       10.32533014, 10.39253563, 10.71752379, 10.84329027, 11.03106089,\n",
       "       11.43732947, 11.6202075 , 11.66601185, 11.87270221, 12.13423456,\n",
       "       12.30995948, 12.45148626, 12.71344115, 12.6356755 , 13.09330487,\n",
       "       13.25261828, 13.27934298, 13.73716647, 13.60985839, 14.27648183,\n",
       "       14.12416248, 14.34097605, 14.44591485, 14.63324804, 14.82281218,\n",
       "       15.13284777, 15.26859773, 15.41984714, 15.761788  , 15.86812369,\n",
       "       16.02920655, 16.53750065, 16.49857634, 16.68740955, 16.92007584,\n",
       "       17.10892691, 17.5760331 , 17.4581786 , 17.71743536, 17.91494869,\n",
       "       18.1658238 , 18.53966708, 18.44588313, 19.04689352, 19.06612886,\n",
       "       19.32754911, 19.57521254, 19.83351952, 19.80561531, 19.81859623,\n",
       "       20.46320021, 20.51254473, 20.81853597, 20.75589092, 20.88816573,\n",
       "       21.36656665, 21.46812302, 21.73563288, 21.90228546, 22.24408025,\n",
       "       22.21647546, 22.68125206, 22.56925291, 22.67246302, 23.01752339,\n",
       "       23.1040158 , 23.44130677, 23.57351784, 23.86080443, 24.13675486])"
      ]
     },
     "execution_count": 5,
     "metadata": {},
     "output_type": "execute_result"
    }
   ],
   "source": [
    "a = 2\n",
    "b = 4\n",
    "y = line(x, a, b)+noise\n",
    "y"
   ]
  },
  {
   "cell_type": "code",
   "execution_count": 20,
   "metadata": {},
   "outputs": [
    {
     "data": {
      "image/png": "[encoded data removed]",
      "text/plain": [
       "<Figure size 432x288 with 1 Axes>"
      ]
     },
     "metadata": {
      "needs_background": "light"
     },
     "output_type": "display_data"
    }
   ],
   "source": [
    "plt.scatter(x,y, color='black', marker='.') \n",
    "plt.plot(x, [line(i,2.001040,4.329550) for i in x], color = 'red')\n",
    "plt.xlim(0,3)\n",
    "plt.ylim(3,10)\n",
    "plt.savefig(\"line2.png\")"
   ]
  },
  {
   "cell_type": "code",
   "execution_count": 7,
   "metadata": {},
   "outputs": [
    {
     "data": {
      "text/plain": [
       "100"
      ]
     },
     "execution_count": 7,
     "metadata": {},
     "output_type": "execute_result"
    }
   ],
   "source": [
    "len(x)"
   ]
  },
  {
   "cell_type": "markdown",
   "metadata": {},
   "source": [
    "Se juntan en un solo numpy array los valores de x,y."
   ]
  },
  {
   "cell_type": "code",
   "execution_count": 8,
   "metadata": {},
   "outputs": [
    {
     "data": {
      "text/plain": [
       "array([[ 0.        ,  4.29105727],\n",
       "       [ 0.1       ,  4.4813718 ],\n",
       "       [ 0.2       ,  4.46264202],\n",
       "       [ 0.3       ,  4.90417902],\n",
       "       [ 0.4       ,  4.86610538],\n",
       "       [ 0.5       ,  5.00076227],\n",
       "       [ 0.6       ,  5.53708774],\n",
       "       [ 0.7       ,  5.54750292],\n",
       "       [ 0.8       ,  5.87817225],\n",
       "       [ 0.9       ,  5.81868845],\n",
       "       [ 1.        ,  6.35759191],\n",
       "       [ 1.1       ,  6.68849852],\n",
       "       [ 1.2       ,  6.81275463],\n",
       "       [ 1.3       ,  7.02072669],\n",
       "       [ 1.4       ,  7.21444464],\n",
       "       [ 1.5       ,  7.39364441],\n",
       "       [ 1.6       ,  7.23982856],\n",
       "       [ 1.7       ,  7.81209567],\n",
       "       [ 1.8       ,  7.80526867],\n",
       "       [ 1.9       ,  8.29551658],\n",
       "       [ 2.        ,  8.1038401 ],\n",
       "       [ 2.1       ,  8.580278  ],\n",
       "       [ 2.2       ,  8.77746251],\n",
       "       [ 2.3       ,  8.88722241],\n",
       "       [ 2.4       ,  8.90010046],\n",
       "       [ 2.5       ,  9.46129924],\n",
       "       [ 2.6       ,  9.36578573],\n",
       "       [ 2.7       ,  9.57126648],\n",
       "       [ 2.8       ,  9.71766659],\n",
       "       [ 2.9       , 10.21265958],\n",
       "       [ 3.        , 10.4694071 ],\n",
       "       [ 3.1       , 10.32003399],\n",
       "       [ 3.2       , 10.5173403 ],\n",
       "       [ 3.3       , 11.03189143],\n",
       "       [ 3.4       , 11.14778127],\n",
       "       [ 3.5       , 11.21306223],\n",
       "       [ 3.6       , 11.42398305],\n",
       "       [ 3.7       , 11.42515819],\n",
       "       [ 3.8       , 11.66032725],\n",
       "       [ 3.9       , 12.07070521],\n",
       "       [ 4.        , 12.11994773],\n",
       "       [ 4.1       , 12.25470204],\n",
       "       [ 4.2       , 12.66859797],\n",
       "       [ 4.3       , 12.66873911],\n",
       "       [ 4.4       , 13.27116262],\n",
       "       [ 4.5       , 13.12125178],\n",
       "       [ 4.6       , 13.59959317],\n",
       "       [ 4.7       , 13.59436544],\n",
       "       [ 4.8       , 13.87040843],\n",
       "       [ 4.9       , 14.29187609],\n",
       "       [ 5.        , 14.27820778],\n",
       "       [ 5.1       , 14.57270667],\n",
       "       [ 5.2       , 14.46430026],\n",
       "       [ 5.3       , 14.90583308],\n",
       "       [ 5.4       , 15.01927804],\n",
       "       [ 5.5       , 15.48552602],\n",
       "       [ 5.6       , 15.27724409],\n",
       "       [ 5.7       , 15.57813594],\n",
       "       [ 5.8       , 16.0101132 ],\n",
       "       [ 5.9       , 15.83679706],\n",
       "       [ 6.        , 16.48061966],\n",
       "       [ 6.1       , 16.34035773],\n",
       "       [ 6.2       , 16.49985208],\n",
       "       [ 6.3       , 16.79191527],\n",
       "       [ 6.4       , 16.94826115],\n",
       "       [ 6.5       , 17.44041978],\n",
       "       [ 6.6       , 17.68107504],\n",
       "       [ 6.7       , 17.64369707],\n",
       "       [ 6.8       , 18.04121193],\n",
       "       [ 6.9       , 18.08488974],\n",
       "       [ 7.        , 18.23246352],\n",
       "       [ 7.1       , 18.64162627],\n",
       "       [ 7.2       , 18.79457416],\n",
       "       [ 7.3       , 18.95338009],\n",
       "       [ 7.4       , 18.88477739],\n",
       "       [ 7.5       , 19.27367732],\n",
       "       [ 7.6       , 19.41704775],\n",
       "       [ 7.7       , 19.42770735],\n",
       "       [ 7.8       , 19.71979151],\n",
       "       [ 7.9       , 20.10885067],\n",
       "       [ 8.        , 20.02804152],\n",
       "       [ 8.1       , 20.37447775],\n",
       "       [ 8.2       , 20.52690271],\n",
       "       [ 8.3       , 20.91476883],\n",
       "       [ 8.4       , 20.94416844],\n",
       "       [ 8.5       , 21.39867727],\n",
       "       [ 8.6       , 21.64973971],\n",
       "       [ 8.7       , 21.43323012],\n",
       "       [ 8.8       , 21.91667375],\n",
       "       [ 8.9       , 22.01448167],\n",
       "       [ 9.        , 22.32813983],\n",
       "       [ 9.1       , 22.61044886],\n",
       "       [ 9.2       , 22.56700666],\n",
       "       [ 9.3       , 22.75281819],\n",
       "       [ 9.4       , 23.25002652],\n",
       "       [ 9.5       , 23.20385579],\n",
       "       [ 9.6       , 23.58460844],\n",
       "       [ 9.7       , 23.69451294],\n",
       "       [ 9.8       , 23.89147223],\n",
       "       [ 9.9       , 24.26975937]])"
      ]
     },
     "execution_count": 8,
     "metadata": {},
     "output_type": "execute_result"
    }
   ],
   "source": [
    "text = np.empty(len(x)*2)\n",
    "text = np.reshape(text,(len(x),2))\n",
    "for i in range(len(x)):\n",
    "    text[i,:]= x[i],y[i]\n",
    "np.shape(text)\n",
    "text"
   ]
  },
  {
   "cell_type": "markdown",
   "metadata": {},
   "source": [
    "Se guardan archivos de texto tanto para los datos generados (x,y), como los errores:"
   ]
  },
  {
   "cell_type": "code",
   "execution_count": 9,
   "metadata": {},
   "outputs": [],
   "source": [
    "np.savetxt('linedata.txt',text)\n",
    "np.savetxt('noiselinedata.txt',noise)"
   ]
  },
  {
   "cell_type": "markdown",
   "metadata": {},
   "source": [
    "Creando un txt con la matriz de covarianza creada a partir del ruido en txt."
   ]
  },
  {
   "cell_type": "code",
   "execution_count": 10,
   "metadata": {},
   "outputs": [],
   "source": [
    "errors = np.loadtxt('noiselinedata.txt')\n",
    "errorsdiag = np.diag(errors**2)\n",
    "cov = errorsdiag\n",
    "np.savetxt(\"cov_line.txt\",errorsdiag)"
   ]
  },
  {
   "cell_type": "markdown",
   "metadata": {},
   "source": [
    "Se cargan los datos (x,y) y la matriz de covarianza:"
   ]
  },
  {
   "cell_type": "code",
   "execution_count": 11,
   "metadata": {},
   "outputs": [],
   "source": [
    "data=np.loadtxt('linedata.txt')\n",
    "x=data[:,0]\n",
    "y=data[:,1]\n",
    "cov=np.loadtxt('cov_line.txt',skiprows=0)"
   ]
  },
  {
   "cell_type": "markdown",
   "metadata": {},
   "source": [
    "Ajustando recta"
   ]
  },
  {
   "cell_type": "code",
   "execution_count": 12,
   "metadata": {},
   "outputs": [],
   "source": [
    "LN2PI = np.log(2.*np.pi)\n",
    "#LNSIGMA = np.log(sigma)\n",
    "M=len(x)\n"
   ]
  },
  {
   "cell_type": "markdown",
   "metadata": {},
   "source": [
    "Escribiendo Priors planos:"
   ]
  },
  {
   "cell_type": "code",
   "execution_count": 13,
   "metadata": {},
   "outputs": [],
   "source": [
    "def prior_transform(theta):\n",
    "    \n",
    "    mprime, cprime = theta # unpack the parameters (in their unit hypercube form)\n",
    "\n",
    "    cmin = -10.  # lower bound on uniform prior on c\n",
    "    cmax = 10.   # upper bound on uniform prior on c\n",
    "\n",
    "    mmin = -10.  # lower bound on uniform prior on c\n",
    "    mmax = 10.   # upper bound on uniform prior on c\n",
    "\n",
    "    m = mprime*(mmax-mmin) + mmin \n",
    "    c = cprime*(cmax-cmin) + cmin  # convert back to c\n",
    "\n",
    "    return (m, c)\n",
    "\n"
   ]
  },
  {
   "cell_type": "markdown",
   "metadata": {},
   "source": [
    "Definiendo un likelihood similar a SuperMC:"
   ]
  },
  {
   "cell_type": "code",
   "execution_count": 14,
   "metadata": {},
   "outputs": [],
   "source": [
    "import scipy.linalg as la\n",
    "from scipy import dot\n",
    "icov = la.inv(cov)\n",
    "#icov = errorsdiag\n",
    "def loglikelihood_nestle(theta):\n",
    "\n",
    "    m, c = theta # unpack the parameters\n",
    "\n",
    "    # normalisation\n",
    "    #norm = -0.5*M*LN2PI - M*LNSIGMA\n",
    "    #norm = -np.log(la.det(errorsdiag))*0.5-0.5*len(x)*np.log(np.pi)\n",
    "\n",
    "    norm = -np.log(la.det(cov))*0.5-0.5*len(x)*np.log(np.pi)\n",
    "    #chisq = np.sum(((y-line(x, m, c))/sigma)**2)\n",
    "    delta = y - line(x,m,c)\n",
    "    chisq = dot(delta,dot(icov,delta))\n",
    "\n",
    "    #return norm - 0.5*chisq\n",
    "    return  norm -0.5*chisq\n",
    "\n"
   ]
  },
  {
   "cell_type": "markdown",
   "metadata": {},
   "source": [
    "Corriendo multinest:"
   ]
  },
  {
   "cell_type": "code",
   "execution_count": 15,
   "metadata": {},
   "outputs": [
    {
     "name": "stdout",
     "output_type": "stream",
     "text": [
      "\u001b[Kit=  4228 logz=-1010.39465185069"
     ]
    },
    {
     "ename": "KeyboardInterrupt",
     "evalue": "",
     "output_type": "error",
     "traceback": [
      "\u001b[0;31m---------------------------------------------------------------------------\u001b[0m",
      "\u001b[0;31mKeyboardInterrupt\u001b[0m                         Traceback (most recent call last)",
      "\u001b[0;32m<ipython-input-15-c25dbab64997>\u001b[0m in \u001b[0;36m<module>\u001b[0;34m\u001b[0m\n\u001b[1;32m      6\u001b[0m \u001b[0;34m\u001b[0m\u001b[0m\n\u001b[1;32m      7\u001b[0m res = nestle.sample(loglikelihood_nestle, prior_transform, ndims, \n\u001b[0;32m----> 8\u001b[0;31m                     method=method, npoints=nlive, dlogz=tol,  callback=nestle.print_progress)\n\u001b[0m\u001b[1;32m      9\u001b[0m \u001b[0;34m\u001b[0m\u001b[0m\n\u001b[1;32m     10\u001b[0m \u001b[0mres\u001b[0m\u001b[0;34m.\u001b[0m\u001b[0msummary\u001b[0m\u001b[0;34m(\u001b[0m\u001b[0;34m)\u001b[0m\u001b[0;34m\u001b[0m\u001b[0;34m\u001b[0m\u001b[0m\n",
      "\u001b[0;32m/usr/local/lib/python3.6/dist-packages/nestle.py\u001b[0m in \u001b[0;36msample\u001b[0;34m(loglikelihood, prior_transform, ndim, npoints, method, update_interval, npdim, maxiter, maxcall, dlogz, decline_factor, rstate, callback, **options)\u001b[0m\n\u001b[1;32m    927\u001b[0m         \u001b[0;31m# Choose a new point from within the likelihood constraint\u001b[0m\u001b[0;34m\u001b[0m\u001b[0;34m\u001b[0m\u001b[0;34m\u001b[0m\u001b[0m\n\u001b[1;32m    928\u001b[0m         \u001b[0;31m# (having logl > loglstar).\u001b[0m\u001b[0;34m\u001b[0m\u001b[0;34m\u001b[0m\u001b[0;34m\u001b[0m\u001b[0m\n\u001b[0;32m--> 929\u001b[0;31m         \u001b[0mu\u001b[0m\u001b[0;34m,\u001b[0m \u001b[0mv\u001b[0m\u001b[0;34m,\u001b[0m \u001b[0mlogl\u001b[0m\u001b[0;34m,\u001b[0m \u001b[0mnc\u001b[0m \u001b[0;34m=\u001b[0m \u001b[0msampler\u001b[0m\u001b[0;34m.\u001b[0m\u001b[0mnew_point\u001b[0m\u001b[0;34m(\u001b[0m\u001b[0mloglstar\u001b[0m\u001b[0;34m)\u001b[0m\u001b[0;34m\u001b[0m\u001b[0;34m\u001b[0m\u001b[0m\n\u001b[0m\u001b[1;32m    930\u001b[0m \u001b[0;34m\u001b[0m\u001b[0m\n\u001b[1;32m    931\u001b[0m         \u001b[0;31m# replace worst point with new point\u001b[0m\u001b[0;34m\u001b[0m\u001b[0;34m\u001b[0m\u001b[0;34m\u001b[0m\u001b[0m\n",
      "\u001b[0;32m/usr/local/lib/python3.6/dist-packages/nestle.py\u001b[0m in \u001b[0;36mnew_point\u001b[0;34m(self, loglstar)\u001b[0m\n\u001b[1;32m    668\u001b[0m                     \u001b[0;32mbreak\u001b[0m\u001b[0;34m\u001b[0m\u001b[0;34m\u001b[0m\u001b[0m\n\u001b[1;32m    669\u001b[0m             \u001b[0mv\u001b[0m \u001b[0;34m=\u001b[0m \u001b[0mself\u001b[0m\u001b[0;34m.\u001b[0m\u001b[0mprior_transform\u001b[0m\u001b[0;34m(\u001b[0m\u001b[0mu\u001b[0m\u001b[0;34m)\u001b[0m\u001b[0;34m\u001b[0m\u001b[0;34m\u001b[0m\u001b[0m\n\u001b[0;32m--> 670\u001b[0;31m             \u001b[0mlogl\u001b[0m \u001b[0;34m=\u001b[0m \u001b[0mself\u001b[0m\u001b[0;34m.\u001b[0m\u001b[0mloglikelihood\u001b[0m\u001b[0;34m(\u001b[0m\u001b[0mv\u001b[0m\u001b[0;34m)\u001b[0m\u001b[0;34m\u001b[0m\u001b[0;34m\u001b[0m\u001b[0m\n\u001b[0m\u001b[1;32m    671\u001b[0m             \u001b[0mncall\u001b[0m \u001b[0;34m+=\u001b[0m \u001b[0;36m1\u001b[0m\u001b[0;34m\u001b[0m\u001b[0;34m\u001b[0m\u001b[0m\n\u001b[1;32m    672\u001b[0m             \u001b[0;32mif\u001b[0m \u001b[0mlogl\u001b[0m \u001b[0;34m>=\u001b[0m \u001b[0mloglstar\u001b[0m\u001b[0;34m:\u001b[0m\u001b[0;34m\u001b[0m\u001b[0;34m\u001b[0m\u001b[0m\n",
      "\u001b[0;32m<ipython-input-14-33d0eaf63d5f>\u001b[0m in \u001b[0;36mloglikelihood_nestle\u001b[0;34m(theta)\u001b[0m\n\u001b[1;32m     11\u001b[0m     \u001b[0;31m#norm = -np.log(la.det(errorsdiag))*0.5-0.5*len(x)*np.log(np.pi)\u001b[0m\u001b[0;34m\u001b[0m\u001b[0;34m\u001b[0m\u001b[0;34m\u001b[0m\u001b[0m\n\u001b[1;32m     12\u001b[0m \u001b[0;34m\u001b[0m\u001b[0m\n\u001b[0;32m---> 13\u001b[0;31m     \u001b[0mnorm\u001b[0m \u001b[0;34m=\u001b[0m \u001b[0;34m-\u001b[0m\u001b[0mnp\u001b[0m\u001b[0;34m.\u001b[0m\u001b[0mlog\u001b[0m\u001b[0;34m(\u001b[0m\u001b[0mla\u001b[0m\u001b[0;34m.\u001b[0m\u001b[0mdet\u001b[0m\u001b[0;34m(\u001b[0m\u001b[0mcov\u001b[0m\u001b[0;34m)\u001b[0m\u001b[0;34m)\u001b[0m\u001b[0;34m*\u001b[0m\u001b[0;36m0.5\u001b[0m\u001b[0;34m-\u001b[0m\u001b[0;36m0.5\u001b[0m\u001b[0;34m*\u001b[0m\u001b[0mlen\u001b[0m\u001b[0;34m(\u001b[0m\u001b[0mx\u001b[0m\u001b[0;34m)\u001b[0m\u001b[0;34m*\u001b[0m\u001b[0mnp\u001b[0m\u001b[0;34m.\u001b[0m\u001b[0mlog\u001b[0m\u001b[0;34m(\u001b[0m\u001b[0mnp\u001b[0m\u001b[0;34m.\u001b[0m\u001b[0mpi\u001b[0m\u001b[0;34m)\u001b[0m\u001b[0;34m\u001b[0m\u001b[0;34m\u001b[0m\u001b[0m\n\u001b[0m\u001b[1;32m     14\u001b[0m     \u001b[0;31m#chisq = np.sum(((y-line(x, m, c))/sigma)**2)\u001b[0m\u001b[0;34m\u001b[0m\u001b[0;34m\u001b[0m\u001b[0;34m\u001b[0m\u001b[0m\n\u001b[1;32m     15\u001b[0m     \u001b[0mdelta\u001b[0m \u001b[0;34m=\u001b[0m \u001b[0my\u001b[0m \u001b[0;34m-\u001b[0m \u001b[0mline\u001b[0m\u001b[0;34m(\u001b[0m\u001b[0mx\u001b[0m\u001b[0;34m,\u001b[0m\u001b[0mm\u001b[0m\u001b[0;34m,\u001b[0m\u001b[0mc\u001b[0m\u001b[0;34m)\u001b[0m\u001b[0;34m\u001b[0m\u001b[0;34m\u001b[0m\u001b[0m\n",
      "\u001b[0;32m~/.local/lib/python3.6/site-packages/scipy/linalg/basic.py\u001b[0m in \u001b[0;36mdet\u001b[0;34m(a, overwrite_a, check_finite)\u001b[0m\n\u001b[1;32m   1032\u001b[0m     \u001b[0moverwrite_a\u001b[0m \u001b[0;34m=\u001b[0m \u001b[0moverwrite_a\u001b[0m \u001b[0;32mor\u001b[0m \u001b[0m_datacopied\u001b[0m\u001b[0;34m(\u001b[0m\u001b[0ma1\u001b[0m\u001b[0;34m,\u001b[0m \u001b[0ma\u001b[0m\u001b[0;34m)\u001b[0m\u001b[0;34m\u001b[0m\u001b[0;34m\u001b[0m\u001b[0m\n\u001b[1;32m   1033\u001b[0m     \u001b[0mfdet\u001b[0m\u001b[0;34m,\u001b[0m \u001b[0;34m=\u001b[0m \u001b[0mget_flinalg_funcs\u001b[0m\u001b[0;34m(\u001b[0m\u001b[0;34m(\u001b[0m\u001b[0;34m'det'\u001b[0m\u001b[0;34m,\u001b[0m\u001b[0;34m)\u001b[0m\u001b[0;34m,\u001b[0m \u001b[0;34m(\u001b[0m\u001b[0ma1\u001b[0m\u001b[0;34m,\u001b[0m\u001b[0;34m)\u001b[0m\u001b[0;34m)\u001b[0m\u001b[0;34m\u001b[0m\u001b[0;34m\u001b[0m\u001b[0m\n\u001b[0;32m-> 1034\u001b[0;31m     \u001b[0ma_det\u001b[0m\u001b[0;34m,\u001b[0m \u001b[0minfo\u001b[0m \u001b[0;34m=\u001b[0m \u001b[0mfdet\u001b[0m\u001b[0;34m(\u001b[0m\u001b[0ma1\u001b[0m\u001b[0;34m,\u001b[0m \u001b[0moverwrite_a\u001b[0m\u001b[0;34m=\u001b[0m\u001b[0moverwrite_a\u001b[0m\u001b[0;34m)\u001b[0m\u001b[0;34m\u001b[0m\u001b[0;34m\u001b[0m\u001b[0m\n\u001b[0m\u001b[1;32m   1035\u001b[0m     \u001b[0;32mif\u001b[0m \u001b[0minfo\u001b[0m \u001b[0;34m<\u001b[0m \u001b[0;36m0\u001b[0m\u001b[0;34m:\u001b[0m\u001b[0;34m\u001b[0m\u001b[0;34m\u001b[0m\u001b[0m\n\u001b[1;32m   1036\u001b[0m         raise ValueError('illegal value in %d-th argument of internal '\n",
      "\u001b[0;31mKeyboardInterrupt\u001b[0m: "
     ]
    }
   ],
   "source": [
    "#nlive = 1024     # number of live points\n",
    "nlive = 400\n",
    "method = 'multi' # use MutliNest algorithm\n",
    "ndims = 2        # two parameters\n",
    "tol= 0.5         # the stopping criterion (this is the nestle default, so doesn't need to be set)\n",
    "\n",
    "res = nestle.sample(loglikelihood_nestle, prior_transform, ndims, \n",
    "                    method=method, npoints=nlive, dlogz=tol,  callback=nestle.print_progress)\n",
    "\n",
    "res.summary()"
   ]
  },
  {
   "cell_type": "code",
   "execution_count": 24,
   "metadata": {},
   "outputs": [
    {
     "name": "stdout",
     "output_type": "stream",
     "text": [
      "Marginalised evidence is -182.75718066435934 ± 0.1900612277313572\n"
     ]
    }
   ],
   "source": [
    "logZnestle = res.logz                         # value of logZ\n",
    "infogainnestle = res.h                        # value of the information gain in nats\n",
    "logZerrnestle = np.sqrt(infogainnestle/nlive) # estimate of the statistcal uncertainty on logZ\n",
    "\n",
    "# output marginal likelihood\n",
    "print('Marginalised evidence is {} ± {}'.format(logZnestle, logZerrnestle))\n",
    "\n"
   ]
  },
  {
   "cell_type": "code",
   "execution_count": 27,
   "metadata": {},
   "outputs": [
    {
     "name": "stdout",
     "output_type": "stream",
     "text": [
      "Number of posterior samples is 932\n"
     ]
    },
    {
     "data": {
      "image/png": "[encoded data removed]",
      "text/plain": [
       "<Figure size 396x396 with 4 Axes>"
      ]
     },
     "execution_count": 27,
     "metadata": {},
     "output_type": "execute_result"
    },
    {
     "data": {
      "image/png": "[encoded data removed]",
      "text/plain": [
       "<Figure size 396x396 with 4 Axes>"
      ]
     },
     "metadata": {
      "needs_background": "light"
     },
     "output_type": "display_data"
    }
   ],
   "source": [
    "# re-scale weights to have a maximum of one\n",
    "nweights = res.weights/np.max(res.weights)\n",
    "\n",
    "# get the probability of keeping a sample from the weights\n",
    "keepidx = np.where(np.random.rand(len(nweights)) < nweights)[0]\n",
    "\n",
    "# get the posterior samples\n",
    "postsamples = res.samples[keepidx,:]\n",
    "#postsamples = res.samples\n",
    "\n",
    "print('Number of posterior samples is {}'.format(postsamples.shape[0]))\n",
    "\n",
    "# plot posterior samples (if corner.py is installed)\n",
    "try:\n",
    "    import matplotlib as mpl\n",
    "    mpl.use(\"Agg\") # force Matplotlib backend to Agg\n",
    "    import corner # import corner.py\n",
    "except ImportError:\n",
    "    sys.exit(1)\n",
    "\n",
    "corner.corner(postsamples, labels=[r\"$m$\", r\"$c$\"], truths=[2, 4], show_titles=True)\n",
    "#fig.savefig('Nestle.png')"
   ]
  },
  {
   "cell_type": "code",
   "execution_count": 20,
   "metadata": {},
   "outputs": [
    {
     "data": {
      "text/plain": [
       "120.55233231948097"
      ]
     },
     "execution_count": 20,
     "metadata": {},
     "output_type": "execute_result"
    }
   ],
   "source": []
  }
 ],
 "metadata": {
  "kernelspec": {
   "display_name": "Python 3",
   "language": "python",
   "name": "python3"
  },
  "language_info": {
   "codemirror_mode": {
    "name": "ipython",
    "version": 3
   },
   "file_extension": ".py",
   "mimetype": "text/x-python",
   "name": "python",
   "nbconvert_exporter": "python",
   "pygments_lexer": "ipython3",
   "version": "3.6.8"
  }
 },
 "nbformat": 4,
 "nbformat_minor": 2
}
