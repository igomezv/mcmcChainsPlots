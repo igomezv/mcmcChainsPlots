{
 "cells": [
  {
   "cell_type": "markdown",
   "metadata": {},
   "source": [
    "## Se define el modelo:   "
   ]
  },
  {
   "cell_type": "code",
   "execution_count": 1,
   "metadata": {},
   "outputs": [],
   "source": [
    "def line(x, a, b):\n",
    "    return a*(x)+b"
   ]
  },
  {
   "cell_type": "markdown",
   "metadata": {},
   "source": [
    "## Se cargan librerías: "
   ]
  },
  {
   "cell_type": "code",
   "execution_count": 36,
   "metadata": {},
   "outputs": [
    {
     "name": "stdout",
     "output_type": "stream",
     "text": [
      "Using matplotlib backend: Qt5Agg\n"
     ]
    }
   ],
   "source": [
    "import numpy as np\n",
    "import matplotlib.pyplot as plt\n",
    "import os\n",
    "import sys\n",
    "from scipy.special import ndtri\n",
    "import numpy as np\n",
    "\n",
    "# import Nestle\n",
    "\n",
    "#import nestle\n",
    "import dynesty\n",
    "%matplotlib"
   ]
  },
  {
   "cell_type": "markdown",
   "metadata": {},
   "source": [
    "Se generan puntos dentro del intervalo $[0,10)$"
   ]
  },
  {
   "cell_type": "code",
   "execution_count": 3,
   "metadata": {},
   "outputs": [
    {
     "data": {
      "text/plain": [
       "array([0. , 0.1, 0.2, 0.3, 0.4, 0.5, 0.6, 0.7, 0.8, 0.9, 1. , 1.1, 1.2,\n",
       "       1.3, 1.4, 1.5, 1.6, 1.7, 1.8, 1.9, 2. , 2.1, 2.2, 2.3, 2.4, 2.5,\n",
       "       2.6, 2.7, 2.8, 2.9, 3. , 3.1, 3.2, 3.3, 3.4, 3.5, 3.6, 3.7, 3.8,\n",
       "       3.9, 4. , 4.1, 4.2, 4.3, 4.4, 4.5, 4.6, 4.7, 4.8, 4.9, 5. , 5.1,\n",
       "       5.2, 5.3, 5.4, 5.5, 5.6, 5.7, 5.8, 5.9, 6. , 6.1, 6.2, 6.3, 6.4,\n",
       "       6.5, 6.6, 6.7, 6.8, 6.9, 7. , 7.1, 7.2, 7.3, 7.4, 7.5, 7.6, 7.7,\n",
       "       7.8, 7.9, 8. , 8.1, 8.2, 8.3, 8.4, 8.5, 8.6, 8.7, 8.8, 8.9, 9. ,\n",
       "       9.1, 9.2, 9.3, 9.4, 9.5, 9.6, 9.7, 9.8, 9.9])"
      ]
     },
     "execution_count": 3,
     "metadata": {},
     "output_type": "execute_result"
    }
   ],
   "source": [
    "#x = np.linspace(0, 10 , 100)  \n",
    "x = np.arange(0,10,0.1)\n",
    "x"
   ]
  },
  {
   "cell_type": "markdown",
   "metadata": {},
   "source": [
    "Se genera ruido gaussiano:"
   ]
  },
  {
   "cell_type": "code",
   "execution_count": 4,
   "metadata": {},
   "outputs": [],
   "source": [
    "#noise = np.random.normal(0.01, .01, size=40)\n",
    "sigma = 0.5\n",
    "noise1 = sigma*np.random.rand(len(x))\n",
    "noise2 = sigma*np.random.rand(len(x))\n",
    "x1 = x + noise1\n",
    "x2 = x + noise2\n",
    "noise = np.concatenate((noise1, noise2))"
   ]
  },
  {
   "cell_type": "code",
   "execution_count": 5,
   "metadata": {},
   "outputs": [
    {
     "data": {
      "text/plain": [
       "array([ 0.01243141,  0.16881338,  0.3481015 ,  0.43278687,  0.79623126,\n",
       "        0.89840999,  1.00745891,  0.96546127,  1.14196145,  0.92719714,\n",
       "        1.22711434,  1.40097013,  1.52054743,  1.3138176 ,  1.79001266,\n",
       "        1.9113614 ,  2.07371686,  2.1630887 ,  2.20630763,  2.01506943,\n",
       "        2.34170888,  2.18376053,  2.53954175,  2.35279451,  2.87071234,\n",
       "        2.74354111,  2.96702622,  2.75251378,  2.86114354,  2.90929894,\n",
       "        3.42566591,  3.2847254 ,  3.60641598,  3.6366039 ,  3.80087187,\n",
       "        3.80546323,  4.07719723,  4.08963883,  4.14356909,  4.34454345,\n",
       "        4.28166338,  4.28262407,  4.30363748,  4.52166046,  4.58540342,\n",
       "        4.9385285 ,  5.04912634,  5.12928592,  5.25573823,  4.98799838,\n",
       "        5.12213132,  5.13951886,  5.66872658,  5.35134254,  5.51740387,\n",
       "        5.91066222,  5.94190749,  5.94997454,  6.19745467,  6.2737685 ,\n",
       "        6.27970853,  6.49320886,  6.66369472,  6.49945341,  6.43615591,\n",
       "        6.65940016,  6.80329831,  6.92371102,  6.97267116,  7.11543557,\n",
       "        7.43346728,  7.50812628,  7.20442117,  7.73591349,  7.64517508,\n",
       "        7.54851674,  8.05433176,  7.86255229,  8.06572141,  8.32394058,\n",
       "        8.47022677,  8.30859381,  8.22906763,  8.35669059,  8.65770952,\n",
       "        8.51674684,  8.89743111,  8.8574145 ,  9.08267835,  9.06115811,\n",
       "        9.46198817,  9.56185334,  9.28824564,  9.65692272,  9.86313851,\n",
       "        9.84483708,  9.74030574,  9.84922562, 10.22799994, 10.29003711])"
      ]
     },
     "execution_count": 5,
     "metadata": {},
     "output_type": "execute_result"
    }
   ],
   "source": [
    "x1"
   ]
  },
  {
   "cell_type": "code",
   "execution_count": 6,
   "metadata": {},
   "outputs": [
    {
     "data": {
      "text/plain": [
       "array([ 0.20990628,  0.22070382,  0.2487499 ,  0.33678087,  0.58376709,\n",
       "        0.57862583,  0.97371594,  0.78349509,  0.97882326,  1.17666351,\n",
       "        1.44334299,  1.28419165,  1.52593718,  1.40748257,  1.79542876,\n",
       "        1.90749229,  1.77699952,  1.79946729,  1.80338459,  2.1324543 ,\n",
       "        2.20767558,  2.19705462,  2.36286328,  2.78359159,  2.59606215,\n",
       "        2.58976592,  3.06068639,  2.99341318,  3.10701786,  3.25942122,\n",
       "        3.33789935,  3.57489736,  3.48813465,  3.7945074 ,  3.67932614,\n",
       "        3.70349444,  3.92290249,  3.84966235,  3.88650226,  4.15150139,\n",
       "        4.3816811 ,  4.45724335,  4.36202198,  4.43401356,  4.43226836,\n",
       "        4.86260805,  5.00514649,  5.10692923,  4.93489116,  5.26396305,\n",
       "        5.45262968,  5.49297841,  5.67071427,  5.35709916,  5.82558061,\n",
       "        5.90131653,  6.08413703,  5.99747957,  6.11995374,  6.39819577,\n",
       "        6.32717987,  6.33602056,  6.59126706,  6.58540457,  6.85836636,\n",
       "        6.89782518,  7.09677624,  6.75713777,  7.26896899,  6.90786254,\n",
       "        7.43716817,  7.28136686,  7.21507982,  7.39352919,  7.69573499,\n",
       "        7.60007867,  8.03395688,  7.93420216,  8.02500794,  8.29802536,\n",
       "        8.44161428,  8.56949512,  8.47530673,  8.69764572,  8.75690894,\n",
       "        8.95349329,  8.78686085,  9.11828686,  8.98081793,  9.26338736,\n",
       "        9.25923972,  9.28910521,  9.54348306,  9.39221038,  9.6435758 ,\n",
       "        9.56287658,  9.74626127,  9.9780991 ,  9.8451423 , 10.10258579])"
      ]
     },
     "execution_count": 6,
     "metadata": {},
     "output_type": "execute_result"
    }
   ],
   "source": [
    "x2"
   ]
  },
  {
   "cell_type": "markdown",
   "metadata": {},
   "source": [
    "A la variable $y$ se le asigna la función line más el ruido gaussiano. "
   ]
  },
  {
   "cell_type": "code",
   "execution_count": 7,
   "metadata": {},
   "outputs": [],
   "source": [
    "a = 3\n",
    "b = 5\n",
    "y1 = line(x1, 4, 4)+noise1\n",
    "y2 = line(x2, 3, 5)+noise2"
   ]
  },
  {
   "cell_type": "code",
   "execution_count": 8,
   "metadata": {},
   "outputs": [
    {
     "data": {
      "image/png": "[encoded data removed]",
      "text/plain": [
       "<Figure size 432x288 with 1 Axes>"
      ]
     },
     "metadata": {
      "needs_background": "light"
     },
     "output_type": "display_data"
    }
   ],
   "source": [
    "plt.scatter(x1,y1, color='green', marker='.') \n",
    "plt.scatter(x2,y2, color='blue', marker='.') \n",
    "\n",
    "plt.plot(x, [line(i,3.5,4.5) for i in x], color = 'red')\n",
    "plt.xlim(0,5)\n",
    "plt.ylim(3,20)\n",
    "plt.savefig(\"lines.png\")\n"
   ]
  },
  {
   "cell_type": "code",
   "execution_count": 10,
   "metadata": {},
   "outputs": [],
   "source": [
    "x =  np.concatenate((x1,x2))\n",
    "y = np.concatenate((y1,y2))"
   ]
  },
  {
   "cell_type": "markdown",
   "metadata": {},
   "source": [
    "Se juntan en un solo numpy array los valores de x,y."
   ]
  },
  {
   "cell_type": "code",
   "execution_count": 11,
   "metadata": {},
   "outputs": [
    {
     "data": {
      "text/plain": [
       "array([[1.24314084e-02, 4.06215704e+00],\n",
       "       [1.68813380e-01, 4.74406690e+00],\n",
       "       [3.48101500e-01, 5.54050750e+00],\n",
       "       [4.32786871e-01, 5.86393436e+00],\n",
       "       [7.96231255e-01, 7.58115628e+00],\n",
       "       [8.98409988e-01, 7.99204994e+00],\n",
       "       [1.00745891e+00, 8.43729455e+00],\n",
       "       [9.65461269e-01, 8.12730635e+00],\n",
       "       [1.14196145e+00, 8.90980724e+00],\n",
       "       [9.27197142e-01, 7.73598571e+00],\n",
       "       [1.22711434e+00, 9.13557172e+00],\n",
       "       [1.40097013e+00, 9.90485064e+00],\n",
       "       [1.52054743e+00, 1.04027372e+01],\n",
       "       [1.31381760e+00, 9.26908802e+00],\n",
       "       [1.79001266e+00, 1.15500633e+01],\n",
       "       [1.91136140e+00, 1.20568070e+01],\n",
       "       [2.07371686e+00, 1.27685843e+01],\n",
       "       [2.16308870e+00, 1.31154435e+01],\n",
       "       [2.20630763e+00, 1.32315381e+01],\n",
       "       [2.01506943e+00, 1.21753472e+01],\n",
       "       [2.34170888e+00, 1.37085444e+01],\n",
       "       [2.18376053e+00, 1.28188027e+01],\n",
       "       [2.53954175e+00, 1.44977088e+01],\n",
       "       [2.35279451e+00, 1.34639725e+01],\n",
       "       [2.87071234e+00, 1.59535617e+01],\n",
       "       [2.74354111e+00, 1.52177056e+01],\n",
       "       [2.96702622e+00, 1.62351311e+01],\n",
       "       [2.75251378e+00, 1.50625689e+01],\n",
       "       [2.86114354e+00, 1.55057177e+01],\n",
       "       [2.90929894e+00, 1.56464947e+01],\n",
       "       [3.42566591e+00, 1.81283296e+01],\n",
       "       [3.28472540e+00, 1.73236270e+01],\n",
       "       [3.60641598e+00, 1.88320799e+01],\n",
       "       [3.63660390e+00, 1.88830195e+01],\n",
       "       [3.80087187e+00, 1.96043594e+01],\n",
       "       [3.80546323e+00, 1.95273161e+01],\n",
       "       [4.07719723e+00, 2.07859861e+01],\n",
       "       [4.08963883e+00, 2.07481942e+01],\n",
       "       [4.14356909e+00, 2.09178455e+01],\n",
       "       [4.34454345e+00, 2.18227172e+01],\n",
       "       [4.28166338e+00, 2.14083169e+01],\n",
       "       [4.28262407e+00, 2.13131204e+01],\n",
       "       [4.30363748e+00, 2.13181874e+01],\n",
       "       [4.52166046e+00, 2.23083023e+01],\n",
       "       [4.58540342e+00, 2.25270171e+01],\n",
       "       [4.93852850e+00, 2.41926425e+01],\n",
       "       [5.04912634e+00, 2.46456317e+01],\n",
       "       [5.12928592e+00, 2.49464296e+01],\n",
       "       [5.25573823e+00, 2.54786911e+01],\n",
       "       [4.98799838e+00, 2.40399919e+01],\n",
       "       [5.12213132e+00, 2.46106566e+01],\n",
       "       [5.13951886e+00, 2.45975943e+01],\n",
       "       [5.66872658e+00, 2.71436329e+01],\n",
       "       [5.35134254e+00, 2.54567127e+01],\n",
       "       [5.51740387e+00, 2.61870194e+01],\n",
       "       [5.91066222e+00, 2.80533111e+01],\n",
       "       [5.94190749e+00, 2.81095374e+01],\n",
       "       [5.94997454e+00, 2.80498727e+01],\n",
       "       [6.19745467e+00, 2.91872733e+01],\n",
       "       [6.27376850e+00, 2.94688425e+01],\n",
       "       [6.27970853e+00, 2.93985427e+01],\n",
       "       [6.49320886e+00, 3.03660443e+01],\n",
       "       [6.66369472e+00, 3.11184736e+01],\n",
       "       [6.49945341e+00, 3.01972671e+01],\n",
       "       [6.43615591e+00, 2.97807796e+01],\n",
       "       [6.65940016e+00, 3.07970008e+01],\n",
       "       [6.80329831e+00, 3.14164916e+01],\n",
       "       [6.92371102e+00, 3.19185551e+01],\n",
       "       [6.97267116e+00, 3.20633558e+01],\n",
       "       [7.11543557e+00, 3.26771779e+01],\n",
       "       [7.43346728e+00, 3.41673364e+01],\n",
       "       [7.50812628e+00, 3.44406314e+01],\n",
       "       [7.20442117e+00, 3.28221058e+01],\n",
       "       [7.73591349e+00, 3.53795674e+01],\n",
       "       [7.64517508e+00, 3.48258754e+01],\n",
       "       [7.54851674e+00, 3.42425837e+01],\n",
       "       [8.05433176e+00, 3.66716588e+01],\n",
       "       [7.86255229e+00, 3.56127614e+01],\n",
       "       [8.06572141e+00, 3.65286071e+01],\n",
       "       [8.32394058e+00, 3.77197029e+01],\n",
       "       [8.47022677e+00, 3.83511338e+01],\n",
       "       [8.30859381e+00, 3.74429691e+01],\n",
       "       [8.22906763e+00, 3.69453381e+01],\n",
       "       [8.35669059e+00, 3.74834529e+01],\n",
       "       [8.65770952e+00, 3.88885476e+01],\n",
       "       [8.51674684e+00, 3.80837342e+01],\n",
       "       [8.89743111e+00, 3.98871555e+01],\n",
       "       [8.85741450e+00, 3.95870725e+01],\n",
       "       [9.08267835e+00, 4.06133918e+01],\n",
       "       [9.06115811e+00, 4.04057906e+01],\n",
       "       [9.46198817e+00, 4.23099408e+01],\n",
       "       [9.56185334e+00, 4.27092667e+01],\n",
       "       [9.28824564e+00, 4.12412282e+01],\n",
       "       [9.65692272e+00, 4.29846136e+01],\n",
       "       [9.86313851e+00, 4.39156925e+01],\n",
       "       [9.84483708e+00, 4.37241854e+01],\n",
       "       [9.74030574e+00, 4.31015287e+01],\n",
       "       [9.84922562e+00, 4.35461281e+01],\n",
       "       [1.02279999e+01, 4.53399997e+01],\n",
       "       [1.02900371e+01, 4.55501856e+01],\n",
       "       [2.09906278e-01, 5.83962511e+00],\n",
       "       [2.20703822e-01, 5.78281529e+00],\n",
       "       [2.48749902e-01, 5.79499961e+00],\n",
       "       [3.36780869e-01, 6.04712348e+00],\n",
       "       [5.83767091e-01, 6.93506837e+00],\n",
       "       [5.78625828e-01, 6.81450331e+00],\n",
       "       [9.73715941e-01, 8.29486376e+00],\n",
       "       [7.83495088e-01, 7.43398035e+00],\n",
       "       [9.78823258e-01, 8.11529303e+00],\n",
       "       [1.17666351e+00, 8.80665404e+00],\n",
       "       [1.44334299e+00, 9.77337197e+00],\n",
       "       [1.28419165e+00, 9.03676661e+00],\n",
       "       [1.52593718e+00, 9.90374870e+00],\n",
       "       [1.40748257e+00, 9.32993026e+00],\n",
       "       [1.79542876e+00, 1.07817151e+01],\n",
       "       [1.90749229e+00, 1.11299691e+01],\n",
       "       [1.77699952e+00, 1.05079981e+01],\n",
       "       [1.79946729e+00, 1.04978692e+01],\n",
       "       [1.80338459e+00, 1.04135384e+01],\n",
       "       [2.13245430e+00, 1.16298172e+01],\n",
       "       [2.20767558e+00, 1.18307023e+01],\n",
       "       [2.19705462e+00, 1.16882185e+01],\n",
       "       [2.36286328e+00, 1.22514531e+01],\n",
       "       [2.78359159e+00, 1.38343664e+01],\n",
       "       [2.59606215e+00, 1.29842486e+01],\n",
       "       [2.58976592e+00, 1.28590637e+01],\n",
       "       [3.06068639e+00, 1.46427456e+01],\n",
       "       [2.99341318e+00, 1.42736527e+01],\n",
       "       [3.10701786e+00, 1.46280714e+01],\n",
       "       [3.25942122e+00, 1.51376849e+01],\n",
       "       [3.33789935e+00, 1.53515974e+01],\n",
       "       [3.57489736e+00, 1.61995895e+01],\n",
       "       [3.48813465e+00, 1.57525386e+01],\n",
       "       [3.79450740e+00, 1.68780296e+01],\n",
       "       [3.67932614e+00, 1.63173046e+01],\n",
       "       [3.70349444e+00, 1.63139778e+01],\n",
       "       [3.92290249e+00, 1.70916099e+01],\n",
       "       [3.84966235e+00, 1.66986494e+01],\n",
       "       [3.88650226e+00, 1.67460090e+01],\n",
       "       [4.15150139e+00, 1.77060056e+01],\n",
       "       [4.38168110e+00, 1.85267244e+01],\n",
       "       [4.45724335e+00, 1.87289734e+01],\n",
       "       [4.36202198e+00, 1.82480879e+01],\n",
       "       [4.43401356e+00, 1.84360542e+01],\n",
       "       [4.43226836e+00, 1.83290735e+01],\n",
       "       [4.86260805e+00, 1.99504322e+01],\n",
       "       [5.00514649e+00, 2.04205860e+01],\n",
       "       [5.10692923e+00, 2.07277169e+01],\n",
       "       [4.93489116e+00, 1.99395646e+01],\n",
       "       [5.26396305e+00, 2.11558522e+01],\n",
       "       [5.45262968e+00, 2.18105187e+01],\n",
       "       [5.49297841e+00, 2.18719136e+01],\n",
       "       [5.67071427e+00, 2.24828571e+01],\n",
       "       [5.35709916e+00, 2.11283966e+01],\n",
       "       [5.82558061e+00, 2.29023224e+01],\n",
       "       [5.90131653e+00, 2.31052661e+01],\n",
       "       [6.08413703e+00, 2.37365481e+01],\n",
       "       [5.99747957e+00, 2.32899183e+01],\n",
       "       [6.11995374e+00, 2.36798150e+01],\n",
       "       [6.39819577e+00, 2.46927831e+01],\n",
       "       [6.32717987e+00, 2.43087195e+01],\n",
       "       [6.33602056e+00, 2.42440822e+01],\n",
       "       [6.59126706e+00, 2.51650682e+01],\n",
       "       [6.58540457e+00, 2.50416183e+01],\n",
       "       [6.85836636e+00, 2.60334654e+01],\n",
       "       [6.89782518e+00, 2.60913007e+01],\n",
       "       [7.09677624e+00, 2.67871049e+01],\n",
       "       [6.75713777e+00, 2.53285511e+01],\n",
       "       [7.26896899e+00, 2.72758760e+01],\n",
       "       [6.90786254e+00, 2.57314502e+01],\n",
       "       [7.43716817e+00, 2.77486727e+01],\n",
       "       [7.28136686e+00, 2.70254674e+01],\n",
       "       [7.21507982e+00, 2.66603193e+01],\n",
       "       [7.39352919e+00, 2.72741168e+01],\n",
       "       [7.69573499e+00, 2.83829400e+01],\n",
       "       [7.60007867e+00, 2.79003147e+01],\n",
       "       [8.03395688e+00, 2.95358275e+01],\n",
       "       [7.93420216e+00, 2.90368086e+01],\n",
       "       [8.02500794e+00, 2.93000318e+01],\n",
       "       [8.29802536e+00, 3.02921014e+01],\n",
       "       [8.44161428e+00, 3.07664571e+01],\n",
       "       [8.56949512e+00, 3.11779805e+01],\n",
       "       [8.47530673e+00, 3.07012269e+01],\n",
       "       [8.69764572e+00, 3.14905829e+01],\n",
       "       [8.75690894e+00, 3.16276358e+01],\n",
       "       [8.95349329e+00, 3.23139731e+01],\n",
       "       [8.78686085e+00, 3.15474434e+01],\n",
       "       [9.11828686e+00, 3.27731475e+01],\n",
       "       [8.98081793e+00, 3.21232717e+01],\n",
       "       [9.26338736e+00, 3.31535494e+01],\n",
       "       [9.25923972e+00, 3.30369589e+01],\n",
       "       [9.28910521e+00, 3.30564208e+01],\n",
       "       [9.54348306e+00, 3.39739323e+01],\n",
       "       [9.39221038e+00, 3.32688415e+01],\n",
       "       [9.64357580e+00, 3.41743032e+01],\n",
       "       [9.56287658e+00, 3.37515063e+01],\n",
       "       [9.74626127e+00, 3.43850451e+01],\n",
       "       [9.97809910e+00, 3.52123964e+01],\n",
       "       [9.84514230e+00, 3.45805692e+01],\n",
       "       [1.01025858e+01, 3.55103431e+01]])"
      ]
     },
     "execution_count": 11,
     "metadata": {},
     "output_type": "execute_result"
    }
   ],
   "source": [
    "text = np.empty(len(x)*2)\n",
    "text = np.reshape(text,(len(x),2))\n",
    "for i in range(len(x)):\n",
    "    text[i,:]= x[i],y[i]\n",
    "np.shape(text)\n",
    "text"
   ]
  },
  {
   "cell_type": "markdown",
   "metadata": {},
   "source": [
    "Se guardan archivos de texto tanto para los datos generados (x,y), como los errores:"
   ]
  },
  {
   "cell_type": "code",
   "execution_count": 12,
   "metadata": {},
   "outputs": [],
   "source": [
    "np.savetxt('linemixdata.txt',text)\n",
    "np.savetxt('noiselinemixdata.txt',noise)"
   ]
  },
  {
   "cell_type": "markdown",
   "metadata": {},
   "source": [
    "Creando un txt con la matriz de covarianza creada a partir del ruido en txt."
   ]
  },
  {
   "cell_type": "code",
   "execution_count": 13,
   "metadata": {},
   "outputs": [
    {
     "data": {
      "text/plain": [
       "(200,)"
      ]
     },
     "execution_count": 13,
     "metadata": {},
     "output_type": "execute_result"
    }
   ],
   "source": [
    "errors = np.loadtxt('noiselinemixdata.txt')\n",
    "errorsdiag = np.diag(errors**2)\n",
    "cov = errorsdiag\n",
    "np.savetxt(\"cov_linemix.txt\",errorsdiag)\n",
    "np.shape(errors)"
   ]
  },
  {
   "cell_type": "markdown",
   "metadata": {},
   "source": [
    "Se cargan los datos (x,y) y la matriz de covarianza:"
   ]
  },
  {
   "cell_type": "code",
   "execution_count": 14,
   "metadata": {},
   "outputs": [],
   "source": [
    "data=np.loadtxt('linemixdata.txt')\n",
    "x=data[:,0]\n",
    "y=data[:,1]\n",
    "cov=np.loadtxt('cov_linemix.txt',skiprows=0)"
   ]
  },
  {
   "cell_type": "markdown",
   "metadata": {},
   "source": [
    "Ajustando recta"
   ]
  },
  {
   "cell_type": "code",
   "execution_count": 15,
   "metadata": {},
   "outputs": [],
   "source": [
    "LN2PI = np.log(2.*np.pi)\n",
    "#LNSIGMA = np.log(sigma)\n",
    "M=len(x)\n"
   ]
  },
  {
   "cell_type": "markdown",
   "metadata": {},
   "source": [
    "Escribiendo Priors planos:"
   ]
  },
  {
   "cell_type": "code",
   "execution_count": 16,
   "metadata": {},
   "outputs": [],
   "source": [
    "def prior_transform(theta):\n",
    "    \n",
    "    mprime, cprime = theta # unpack the parameters (in their unit hypercube form)\n",
    "\n",
    "    cmin = -10.  # lower bound on uniform prior on c\n",
    "    cmax = 10.   # upper bound on uniform prior on c\n",
    "\n",
    "    mmin = -10.  # lower bound on uniform prior on c\n",
    "    mmax = 10.   # upper bound on uniform prior on c\n",
    "\n",
    "    m = mprime*(mmax-mmin) + mmin \n",
    "    c = cprime*(cmax-cmin) + cmin  # convert back to c\n",
    "\n",
    "    return (m, c)\n",
    "\n"
   ]
  },
  {
   "cell_type": "markdown",
   "metadata": {},
   "source": [
    "Definiendo un likelihood similar a SuperMC:"
   ]
  },
  {
   "cell_type": "code",
   "execution_count": 17,
   "metadata": {},
   "outputs": [],
   "source": [
    "import scipy.linalg as la\n",
    "from scipy import dot\n",
    "icov = la.inv(cov)\n",
    "#icov = errorsdiag\n",
    "def loglikelihood_nestle(theta):\n",
    "\n",
    "    m, c = theta # unpack the parameters\n",
    "\n",
    "    # normalisation\n",
    "    #norm = -0.5*M*LN2PI - M*LNSIGMA\n",
    "    #norm = -np.log(la.det(errorsdiag))*0.5-0.5*len(x)*np.log(np.pi)\n",
    "\n",
    "    norm = -np.log(la.det(cov))*0.5-0.5*len(x)*np.log(np.pi)\n",
    "    #chisq = np.sum(((y-line(x, m, c))/sigma)**2)\n",
    "    delta = y - line(x,m,c)\n",
    "    chisq = dot(delta,dot(icov,delta))\n",
    "\n",
    "    #return norm - 0.5*chisq\n",
    "    return  norm -0.5*chisq\n",
    "\n"
   ]
  },
  {
   "cell_type": "markdown",
   "metadata": {},
   "source": [
    "Corriendo multinest:"
   ]
  },
  {
   "cell_type": "code",
   "execution_count": 50,
   "metadata": {},
   "outputs": [
    {
     "name": "stderr",
     "output_type": "stream",
     "text": [
      "/home/isidro/.local/lib/python3.6/site-packages/ipykernel_launcher.py:16: DeprecationWarning: scipy.dot is deprecated and will be removed in SciPy 2.0.0, use numpy.dot instead\n",
      "  app.launch_new_instance()\n"
     ]
    }
   ],
   "source": [
    "#nlive = 1024     # number of live points\n",
    "nlive = 1024\n",
    "method = 'multi' # use MutliNest algorithm\n",
    "ndims = 2        # two parameters\n",
    "tol= 0.01         # the stopping criterion (this is the nestle default, so doesn't need to be set)\n",
    "\n",
    "res = dynesty.NestedSampler(loglikelihood_nestle, prior_transform, ndims, \n",
    "                    bounds=method, npoints=nlive, dlogz=tol)\n",
    "\n"
   ]
  },
  {
   "cell_type": "code",
   "execution_count": 25,
   "metadata": {},
   "outputs": [
    {
     "name": "stderr",
     "output_type": "stream",
     "text": [
      "/home/isidro/.local/lib/python3.6/site-packages/ipykernel_launcher.py:16: DeprecationWarning: scipy.dot is deprecated and will be removed in SciPy 2.0.0, use numpy.dot instead\n",
      "  app.launch_new_instance()\n",
      "140it [01:27,  2.12s/it, bound: 0 | nc: 75 | ncall: 1446 | eff(%):  9.682 | loglstar:   -inf <   -inf <    inf | logz:   -inf +/-  0.622 | dlogz: 782468.475 >  0.010]/home/isidro/.local/lib/python3.6/site-packages/ipykernel_launcher.py:16: DeprecationWarning: scipy.dot is deprecated and will be removed in SciPy 2.0.0, use numpy.dot instead\n",
      "  app.launch_new_instance()\n",
      "164it [01:30,  4.41it/s, bound: 1 | nc: 5 | ncall: 1509 | eff(%): 10.868 | loglstar:   -inf < -751459.792 <    inf | logz: -751468.224 +/-  0.645 | dlogz: 426745.232 >  0.010]/home/isidro/.local/lib/python3.6/site-packages/ipykernel_launcher.py:16: DeprecationWarning: scipy.dot is deprecated and will be removed in SciPy 2.0.0, use numpy.dot instead\n",
      "  app.launch_new_instance()\n",
      "192it [01:35,  3.05it/s, bound: 2 | nc: 4 | ncall: 1571 | eff(%): 12.222 | loglstar:   -inf < -587182.237 <    inf | logz: -587191.360 +/-  0.671 | dlogz: 262662.493 >  0.010]/home/isidro/.local/lib/python3.6/site-packages/ipykernel_launcher.py:16: DeprecationWarning: scipy.dot is deprecated and will be removed in SciPy 2.0.0, use numpy.dot instead\n",
      "  app.launch_new_instance()\n",
      "218it [01:40,  4.65it/s, bound: 3 | nc: 2 | ncall: 1632 | eff(%): 13.358 | loglstar:   -inf < -452991.462 <    inf | logz: -453001.227 +/-  0.694 | dlogz: 129399.874 >  0.010]/home/isidro/.local/lib/python3.6/site-packages/ipykernel_launcher.py:16: DeprecationWarning: scipy.dot is deprecated and will be removed in SciPy 2.0.0, use numpy.dot instead\n",
      "  app.launch_new_instance()\n",
      "241it [01:44,  5.85it/s, bound: 4 | nc: 6 | ncall: 1691 | eff(%): 14.252 | loglstar:   -inf < -381737.617 <    inf | logz: -381747.950 +/-  0.714 | dlogz: 62512.042 >  0.010] /home/isidro/.local/lib/python3.6/site-packages/ipykernel_launcher.py:16: DeprecationWarning: scipy.dot is deprecated and will be removed in SciPy 2.0.0, use numpy.dot instead\n",
      "  app.launch_new_instance()\n",
      "268it [01:48,  3.21it/s, bound: 5 | nc: 3 | ncall: 1752 | eff(%): 15.297 | loglstar:   -inf < -356020.685 <    inf | logz: -356031.685 +/-  0.737 | dlogz: 35275.617 >  0.010]/home/isidro/.local/lib/python3.6/site-packages/ipykernel_launcher.py:16: DeprecationWarning: scipy.dot is deprecated and will be removed in SciPy 2.0.0, use numpy.dot instead\n",
      "  app.launch_new_instance()\n",
      "292it [01:53,  3.65it/s, bound: 6 | nc: 4 | ncall: 1815 | eff(%): 16.088 | loglstar:   -inf < -339882.968 <    inf | logz: -339894.560 +/-  0.757 | dlogz: 18692.014 >  0.010] /home/isidro/.local/lib/python3.6/site-packages/ipykernel_launcher.py:16: DeprecationWarning: scipy.dot is deprecated and will be removed in SciPy 2.0.0, use numpy.dot instead\n",
      "  app.launch_new_instance()\n",
      "320it [01:58,  4.01it/s, bound: 7 | nc: 9 | ncall: 1877 | eff(%): 17.048 | loglstar:   -inf < -331056.787 <    inf | logz: -331069.070 +/-  0.779 | dlogz: 9314.989 >  0.010] /home/isidro/.local/lib/python3.6/site-packages/ipykernel_launcher.py:16: DeprecationWarning: scipy.dot is deprecated and will be removed in SciPy 2.0.0, use numpy.dot instead\n",
      "  app.launch_new_instance()\n",
      "340it [02:03,  1.45it/s, bound: 8 | nc: 14 | ncall: 1943 | eff(%): 17.499 | loglstar:   -inf < -327116.005 <    inf | logz: -327128.782 +/-  0.794 | dlogz: 5338.802 >  0.010]/home/isidro/.local/lib/python3.6/site-packages/ipykernel_launcher.py:16: DeprecationWarning: scipy.dot is deprecated and will be removed in SciPy 2.0.0, use numpy.dot instead\n",
      "  app.launch_new_instance()\n",
      "361it [02:08,  4.40it/s, bound: 9 | nc: 10 | ncall: 2008 | eff(%): 17.978 | loglstar:   -inf < -324203.486 <    inf | logz: -324216.782 +/-  0.810 | dlogz: 2430.792 >  0.010]/home/isidro/.local/lib/python3.6/site-packages/ipykernel_launcher.py:16: DeprecationWarning: scipy.dot is deprecated and will be removed in SciPy 2.0.0, use numpy.dot instead\n",
      "  app.launch_new_instance()\n",
      "381it [02:14,  2.19it/s, bound: 10 | nc: 11 | ncall: 2076 | eff(%): 18.353 | loglstar:   -inf < -323490.328 <    inf | logz: -323504.117 +/-  0.825 | dlogz: 1600.485 >  0.010]/home/isidro/.local/lib/python3.6/site-packages/ipykernel_launcher.py:16: DeprecationWarning: scipy.dot is deprecated and will be removed in SciPy 2.0.0, use numpy.dot instead\n",
      "  app.launch_new_instance()\n",
      "404it [02:18,  5.26it/s, bound: 11 | nc: 4 | ncall: 2139 | eff(%): 18.887 | loglstar:   -inf < -322905.284 <    inf | logz: -322919.642 +/-  0.842 | dlogz: 988.901 >  0.010]  /home/isidro/.local/lib/python3.6/site-packages/ipykernel_launcher.py:16: DeprecationWarning: scipy.dot is deprecated and will be removed in SciPy 2.0.0, use numpy.dot instead\n",
      "  app.launch_new_instance()\n",
      "427it [02:20,  7.56it/s, bound: 12 | nc: 12 | ncall: 2199 | eff(%): 19.418 | loglstar:   -inf < -322362.368 <    inf | logz: -322376.790 +/-  0.828 | dlogz: 499.253 >  0.010]/home/isidro/.local/lib/python3.6/site-packages/ipykernel_launcher.py:16: DeprecationWarning: scipy.dot is deprecated and will be removed in SciPy 2.0.0, use numpy.dot instead\n",
      "  app.launch_new_instance()\n",
      "455it [02:25,  4.23it/s, bound: 13 | nc: 5 | ncall: 2263 | eff(%): 20.106 | loglstar:   -inf < -322119.382 <    inf | logz: -322134.999 +/-  0.878 | dlogz: 267.244 >  0.010] /home/isidro/.local/lib/python3.6/site-packages/ipykernel_launcher.py:16: DeprecationWarning: scipy.dot is deprecated and will be removed in SciPy 2.0.0, use numpy.dot instead\n",
      "  app.launch_new_instance()\n",
      "477it [02:29,  3.06it/s, bound: 14 | nc: 7 | ncall: 2323 | eff(%): 20.534 | loglstar:   -inf < -321978.416 <    inf | logz: -321993.942 +/-  0.856 | dlogz: 114.816 >  0.010]/home/isidro/.local/lib/python3.6/site-packages/ipykernel_launcher.py:16: DeprecationWarning: scipy.dot is deprecated and will be removed in SciPy 2.0.0, use numpy.dot instead\n",
      "  app.launch_new_instance()\n",
      "495it [02:33,  4.89it/s, bound: 15 | nc: 3 | ncall: 2378 | eff(%): 20.816 | loglstar:   -inf < -321940.697 <    inf | logz: -321956.902 +/-  0.880 | dlogz: 77.919 >  0.010] /home/isidro/.local/lib/python3.6/site-packages/ipykernel_launcher.py:16: DeprecationWarning: scipy.dot is deprecated and will be removed in SciPy 2.0.0, use numpy.dot instead\n",
      "  app.launch_new_instance()\n",
      "508it [02:39,  2.38it/s, bound: 16 | nc: 10 | ncall: 2449 | eff(%): 20.743 | loglstar:   -inf < -321918.204 <    inf | logz: -321935.068 +/-  0.906 | dlogz: 57.433 >  0.010]/home/isidro/.local/lib/python3.6/site-packages/ipykernel_launcher.py:16: DeprecationWarning: scipy.dot is deprecated and will be removed in SciPy 2.0.0, use numpy.dot instead\n",
      "  app.launch_new_instance()\n",
      "520it [02:43,  2.23it/s, bound: 17 | nc: 8 | ncall: 2515 | eff(%): 20.676 | loglstar:   -inf < -321901.934 <    inf | logz: -321918.457 +/-  0.886 | dlogz: 38.316 >  0.010] /home/isidro/.local/lib/python3.6/site-packages/ipykernel_launcher.py:16: DeprecationWarning: scipy.dot is deprecated and will be removed in SciPy 2.0.0, use numpy.dot instead\n",
      "  app.launch_new_instance()\n",
      "534it [02:48,  1.79it/s, bound: 18 | nc: 22 | ncall: 2591 | eff(%): 20.610 | loglstar:   -inf < -321893.130 <    inf | logz: -321908.842 +/-  0.859 | dlogz: 27.475 >  0.010]/home/isidro/.local/lib/python3.6/site-packages/ipykernel_launcher.py:16: DeprecationWarning: scipy.dot is deprecated and will be removed in SciPy 2.0.0, use numpy.dot instead\n",
      "  app.launch_new_instance()\n",
      "552it [02:52,  3.09it/s, bound: 19 | nc: 7 | ncall: 2656 | eff(%): 20.783 | loglstar:   -inf < -321882.607 <    inf | logz: -321899.345 +/-  0.874 | dlogz: 17.676 >  0.010] /home/isidro/.local/lib/python3.6/site-packages/ipykernel_launcher.py:16: DeprecationWarning: scipy.dot is deprecated and will be removed in SciPy 2.0.0, use numpy.dot instead\n",
      "  app.launch_new_instance()\n",
      "566it [02:55,  3.65it/s, bound: 20 | nc: 17 | ncall: 2723 | eff(%): 20.786 | loglstar:   -inf < -321878.976 <    inf | logz: -321895.158 +/-  0.870 | dlogz: 12.897 >  0.010]/home/isidro/.local/lib/python3.6/site-packages/ipykernel_launcher.py:16: DeprecationWarning: scipy.dot is deprecated and will be removed in SciPy 2.0.0, use numpy.dot instead\n",
      "  app.launch_new_instance()\n"
     ]
    },
    {
     "name": "stderr",
     "output_type": "stream",
     "text": [
      "579it [02:58,  3.64it/s, bound: 21 | nc: 12 | ncall: 2794 | eff(%): 20.723 | loglstar:   -inf < -321875.357 <    inf | logz: -321892.271 +/-  0.879 | dlogz:  9.819 >  0.010]/home/isidro/.local/lib/python3.6/site-packages/ipykernel_launcher.py:16: DeprecationWarning: scipy.dot is deprecated and will be removed in SciPy 2.0.0, use numpy.dot instead\n",
      "  app.launch_new_instance()\n",
      "591it [03:03,  2.25it/s, bound: 22 | nc: 11 | ncall: 2859 | eff(%): 20.672 | loglstar:   -inf < -321873.728 <    inf | logz: -321889.808 +/-  0.873 | dlogz:  6.798 >  0.010]/home/isidro/.local/lib/python3.6/site-packages/ipykernel_launcher.py:16: DeprecationWarning: scipy.dot is deprecated and will be removed in SciPy 2.0.0, use numpy.dot instead\n",
      "  app.launch_new_instance()\n",
      "611it [03:08,  2.94it/s, bound: 23 | nc: 13 | ncall: 2926 | eff(%): 20.882 | loglstar:   -inf < -321871.788 <    inf | logz: -321888.213 +/-  0.865 | dlogz:  5.147 >  0.010]/home/isidro/.local/lib/python3.6/site-packages/ipykernel_launcher.py:16: DeprecationWarning: scipy.dot is deprecated and will be removed in SciPy 2.0.0, use numpy.dot instead\n",
      "  app.launch_new_instance()\n",
      "631it [03:14,  3.86it/s, bound: 24 | nc: 5 | ncall: 2988 | eff(%): 21.118 | loglstar:   -inf < -321870.247 <    inf | logz: -321886.703 +/-  0.871 | dlogz:  3.186 >  0.010] /home/isidro/.local/lib/python3.6/site-packages/ipykernel_launcher.py:16: DeprecationWarning: scipy.dot is deprecated and will be removed in SciPy 2.0.0, use numpy.dot instead\n",
      "  app.launch_new_instance()\n",
      "645it [03:20,  1.84it/s, bound: 25 | nc: 10 | ncall: 3049 | eff(%): 21.154 | loglstar:   -inf < -321869.419 <    inf | logz: -321885.931 +/-  0.874 | dlogz:  2.136 >  0.010]/home/isidro/.local/lib/python3.6/site-packages/ipykernel_launcher.py:16: DeprecationWarning: scipy.dot is deprecated and will be removed in SciPy 2.0.0, use numpy.dot instead\n",
      "  app.launch_new_instance()\n",
      "658it [03:25,  1.66it/s, bound: 26 | nc: 8 | ncall: 3115 | eff(%): 21.124 | loglstar:   -inf < -321868.989 <    inf | logz: -321885.450 +/-  0.874 | dlogz:  1.460 >  0.010] /home/isidro/.local/lib/python3.6/site-packages/ipykernel_launcher.py:16: DeprecationWarning: scipy.dot is deprecated and will be removed in SciPy 2.0.0, use numpy.dot instead\n",
      "  app.launch_new_instance()\n",
      "671it [03:30,  1.81it/s, bound: 27 | nc: 7 | ncall: 3179 | eff(%): 21.107 | loglstar:   -inf < -321868.646 <    inf | logz: -321885.103 +/-  0.874 | dlogz:  1.028 >  0.010] /home/isidro/.local/lib/python3.6/site-packages/ipykernel_launcher.py:16: DeprecationWarning: scipy.dot is deprecated and will be removed in SciPy 2.0.0, use numpy.dot instead\n",
      "  app.launch_new_instance()\n",
      "682it [03:37,  1.74it/s, bound: 28 | nc: 3 | ncall: 3241 | eff(%): 21.043 | loglstar:   -inf < -321868.589 <    inf | logz: -321884.905 +/-  0.874 | dlogz:  0.748 >  0.010] /home/isidro/.local/lib/python3.6/site-packages/ipykernel_launcher.py:16: DeprecationWarning: scipy.dot is deprecated and will be removed in SciPy 2.0.0, use numpy.dot instead\n",
      "  app.launch_new_instance()\n",
      "701it [03:43,  3.39it/s, bound: 29 | nc: 1 | ncall: 3301 | eff(%): 21.236 | loglstar:   -inf < -321868.452 <    inf | logz: -321884.693 +/-  0.873 | dlogz:  0.445 >  0.010]/home/isidro/.local/lib/python3.6/site-packages/ipykernel_launcher.py:16: DeprecationWarning: scipy.dot is deprecated and will be removed in SciPy 2.0.0, use numpy.dot instead\n",
      "  app.launch_new_instance()\n",
      "712it [03:48,  2.79it/s, bound: 30 | nc: 3 | ncall: 3362 | eff(%): 21.178 | loglstar:   -inf < -321868.316 <    inf | logz: -321884.608 +/-  0.872 | dlogz:  0.330 >  0.010] /home/isidro/.local/lib/python3.6/site-packages/ipykernel_launcher.py:16: DeprecationWarning: scipy.dot is deprecated and will be removed in SciPy 2.0.0, use numpy.dot instead\n",
      "  app.launch_new_instance()\n",
      "731it [03:54,  1.40it/s, bound: 31 | nc: 12 | ncall: 3431 | eff(%): 21.306 | loglstar:   -inf < -321868.205 <    inf | logz: -321884.505 +/-  0.872 | dlogz:  0.203 >  0.010]/home/isidro/.local/lib/python3.6/site-packages/ipykernel_launcher.py:16: DeprecationWarning: scipy.dot is deprecated and will be removed in SciPy 2.0.0, use numpy.dot instead\n",
      "  app.launch_new_instance()\n",
      "747it [03:59,  2.06it/s, bound: 32 | nc: 11 | ncall: 3498 | eff(%): 21.355 | loglstar:   -inf < -321868.134 <    inf | logz: -321884.448 +/-  0.872 | dlogz:  0.134 >  0.010]/home/isidro/.local/lib/python3.6/site-packages/ipykernel_launcher.py:16: DeprecationWarning: scipy.dot is deprecated and will be removed in SciPy 2.0.0, use numpy.dot instead\n",
      "  app.launch_new_instance()\n",
      "770it [04:08,  1.03it/s, bound: 33 | nc: 16 | ncall: 3572 | eff(%): 21.557 | loglstar:   -inf < -321868.056 <    inf | logz: -321884.396 +/-  0.872 | dlogz:  0.074 >  0.010]/home/isidro/.local/lib/python3.6/site-packages/ipykernel_launcher.py:16: DeprecationWarning: scipy.dot is deprecated and will be removed in SciPy 2.0.0, use numpy.dot instead\n",
      "  app.launch_new_instance()\n",
      "789it [04:15,  1.73it/s, bound: 34 | nc: 5 | ncall: 3632 | eff(%): 21.724 | loglstar:   -inf < -321868.020 <    inf | logz: -321884.370 +/-  0.872 | dlogz:  0.046 >  0.010] /home/isidro/.local/lib/python3.6/site-packages/ipykernel_launcher.py:16: DeprecationWarning: scipy.dot is deprecated and will be removed in SciPy 2.0.0, use numpy.dot instead\n",
      "  app.launch_new_instance()\n",
      "803it [04:22,  1.04s/it, bound: 35 | nc: 21 | ncall: 3697 | eff(%): 21.720 | loglstar:   -inf < -321868.003 <    inf | logz: -321884.357 +/-  0.872 | dlogz:  0.032 >  0.010]/home/isidro/.local/lib/python3.6/site-packages/ipykernel_launcher.py:16: DeprecationWarning: scipy.dot is deprecated and will be removed in SciPy 2.0.0, use numpy.dot instead\n",
      "  app.launch_new_instance()\n",
      "823it [04:30,  1.58it/s, bound: 36 | nc: 8 | ncall: 3760 | eff(%): 21.888 | loglstar:   -inf < -321867.991 <    inf | logz: -321884.345 +/-  0.872 | dlogz:  0.020 >  0.010] /home/isidro/.local/lib/python3.6/site-packages/ipykernel_launcher.py:16: DeprecationWarning: scipy.dot is deprecated and will be removed in SciPy 2.0.0, use numpy.dot instead\n",
      "  app.launch_new_instance()\n",
      "839it [04:37,  2.33it/s, bound: 37 | nc: 5 | ncall: 3820 | eff(%): 21.963 | loglstar:   -inf < -321867.982 <    inf | logz: -321884.339 +/-  0.872 | dlogz:  0.013 >  0.010] /home/isidro/.local/lib/python3.6/site-packages/ipykernel_launcher.py:16: DeprecationWarning: scipy.dot is deprecated and will be removed in SciPy 2.0.0, use numpy.dot instead\n",
      "  app.launch_new_instance()\n",
      "850it [04:42,  3.01it/s, +40 | bound: 38 | nc: 1 | ncall: 3869 | eff(%): 23.003 | loglstar:   -inf < -321867.968 <    inf | logz: -321884.327 +/-  0.872 | dlogz:  0.000 >  0.010]\n"
     ]
    }
   ],
   "source": [
    "nlive = 40\n",
    "method = 'multi' # use MutliNest algorithm\n",
    "ndims = 2        # two parameters\n",
    "tol= 0.01         # the stopping criterion (this is the nestle default, so doesn't need to be set)\n",
    "\n",
    "#res = nestle.sample(loglikelihood_nestle, prior_transform, ndims, \n",
    "#                    method=method, npoints=nlive, dlogz=tol,  callback=nestle.print_progress)\n",
    "\n",
    "res = dynesty.NestedSampler(loglikelihood_nestle, prior_transform, ndims,\n",
    "                        method=method, sample = 'unif', nlive = nlive)\n",
    "\n",
    "res.run_nested(dlogz=tol)\n",
    "# res.summary()"
   ]
  },
  {
   "cell_type": "code",
   "execution_count": 43,
   "metadata": {},
   "outputs": [
    {
     "name": "stdout",
     "output_type": "stream",
     "text": [
      "Marginalised evidence (using static sampler) is -321884.3266448435 ± 0.8717437194848128\n"
     ]
    },
    {
     "data": {
      "text/plain": [
       "array([-9.90985098, -8.66322963, -6.40855872, -6.0385818 , -5.15444133,\n",
       "       -6.55095085, -3.49556453, -6.02731435, -2.77756012, -2.95972776,\n",
       "       -1.48121196,  9.70980366, -1.59278766, -2.81251746,  9.70670851,\n",
       "       -2.94518577, -0.95560391, -1.57134674,  0.38464627,  9.3026724 ,\n",
       "        9.78104576, -0.14049676,  9.2182287 ,  9.85154675,  9.52064258,\n",
       "        1.95193183,  9.68014958,  7.29489131,  7.82812998, -0.34330118,\n",
       "       -0.73063151,  7.22254627, -0.64798479, -0.53591916,  8.28295968,\n",
       "        1.28601817,  1.42058638,  7.74204342,  0.89727581,  1.78245227,\n",
       "        0.2384736 ,  5.89859847,  7.61162479,  8.46025248,  2.05983847,\n",
       "        3.0307018 ,  6.97172632,  0.60566542,  6.61950909,  0.9677006 ,\n",
       "        0.66987296,  3.63611713,  5.88446784,  3.6569382 ,  2.45609931,\n",
       "        7.60075106,  1.27990595,  7.03002505,  2.30397227,  6.10792707,\n",
       "        4.86730304,  3.60531961,  5.39850713,  5.2089472 ,  6.14635388,\n",
       "        6.22291471,  1.84215443,  4.67475085,  6.73473522,  5.87598303,\n",
       "        5.9178681 ,  1.54672143,  2.18996979,  6.19666588,  4.79927699,\n",
       "        5.78733757,  5.85114541,  6.20688407,  4.25219362,  4.91044499,\n",
       "        5.57148737,  2.79379211,  6.1712708 ,  5.84255507,  2.72722002,\n",
       "        5.662007  ,  1.94446726,  2.01546823,  2.10068503,  5.36979606,\n",
       "        4.14337395,  4.24850037,  1.89710178,  5.26916087,  3.99075181,\n",
       "        5.14032334,  5.27726422,  4.6557602 ,  4.42943477,  2.50385382,\n",
       "        5.42569542,  3.3623927 ,  4.966329  ,  4.64580795,  2.08074051,\n",
       "        5.42514474,  2.17158531,  5.21116013,  3.76745565,  5.33079579,\n",
       "        3.79695493,  5.49068781,  5.46850397,  5.46194888,  4.9642427 ,\n",
       "        5.03600371,  4.61069175,  2.32724006,  3.63569291,  2.43615291,\n",
       "        3.73661014,  2.49793551,  2.47577191,  4.82195712,  4.03392909,\n",
       "        3.8762569 ,  3.01230196,  2.55133274,  4.71496971,  4.73633836,\n",
       "        4.97559328,  3.97226869,  4.94232142,  3.91049614,  3.29407632,\n",
       "        2.80593345,  4.44803318,  3.01824024,  4.46442614,  3.0732686 ,\n",
       "        4.01977422,  3.60716625,  2.91893901,  4.76137273,  4.68603059,\n",
       "        4.55506035,  4.3578648 ,  4.14865192,  3.16879557,  3.73523993,\n",
       "        4.40622634,  4.38987655,  4.25845929,  4.5151773 ,  4.53331223,\n",
       "        3.05451725,  3.75447075,  3.03127471,  4.05966215,  4.45898616,\n",
       "        4.1963604 ,  4.57479015,  3.18549021,  3.99031653,  3.12743479,\n",
       "        3.99112587,  4.49628751,  4.53065137,  3.20588368,  3.30461397,\n",
       "        3.35162824,  3.6135098 ,  4.42128503,  4.16955313,  4.06193778,\n",
       "        3.50079622,  3.38199735,  3.28325966,  3.22376656,  3.48329822,\n",
       "        3.485774  ,  3.18756639,  3.91093793,  4.08792722,  3.68208991,\n",
       "        4.10988168,  3.97260141,  3.4233964 ,  4.09470437,  3.26202545,\n",
       "        3.30351653,  4.21386873,  4.13691786,  4.15468296,  3.2906083 ,\n",
       "        4.27098276,  3.30633226,  3.94550601,  4.38164568,  3.55790915,\n",
       "        3.72293099,  3.74251016,  4.18298085,  4.00377281,  4.31833191,\n",
       "        4.31558054,  3.67448801,  4.01984022,  3.52266649,  3.34837059,\n",
       "        3.61125155,  4.14307155,  4.16601094,  3.47781406,  3.43672862,\n",
       "        3.57433994,  3.59573387,  4.02114946,  4.21939477,  4.0349687 ,\n",
       "        3.44107041,  3.75678706,  3.78281986,  3.90844558,  3.59640125,\n",
       "        3.63942681,  4.08719603,  3.89318859,  3.62961774,  3.7385286 ,\n",
       "        4.05709078,  3.87064367,  3.91570118,  3.95177019,  3.55835094,\n",
       "        3.52960304,  4.0764829 ,  4.05758024,  3.99951521,  3.68617008,\n",
       "        3.84694323,  3.90328045,  3.54850815,  3.61851185,  3.70040004,\n",
       "        3.59291376,  4.02668334,  3.62752535,  3.57473059,  3.5855678 ,\n",
       "        3.84616819,  4.03390807,  3.63707952,  3.75604314,  4.05827908,\n",
       "        3.90403057,  4.04739987,  3.70524245,  3.59785314,  3.71580109,\n",
       "        3.87174899,  3.91990831,  3.6111715 ,  4.0309006 ,  3.75416291,\n",
       "        3.92641438,  3.6996074 ,  3.6018377 ,  3.60302931,  3.60624319,\n",
       "        3.82043126,  4.00832649,  3.92220639,  3.67194688,  4.01312041,\n",
       "        4.01537092,  3.68965971,  3.75595966,  3.96869867,  3.7043903 ,\n",
       "        3.91068115,  3.89734926,  3.62892849,  3.67512084,  3.79079488,\n",
       "        3.83026412,  3.65895667,  3.65139737,  3.65331853,  3.65258565,\n",
       "        3.94282736,  3.94827858,  3.91349249,  3.96430377,  3.66233573,\n",
       "        3.84514051,  3.66995118,  3.66860337,  3.86725132,  3.89677953,\n",
       "        3.92008614,  3.93081099,  3.75721427,  3.95206653,  3.9549804 ,\n",
       "        3.71031253,  3.90637933,  3.71583718,  3.84071075,  3.8702785 ,\n",
       "        3.69622619,  3.78523657,  3.93964365,  3.93794097,  3.72279545,\n",
       "        3.93241471,  3.91182661,  3.72734265,  3.70728157,  3.72060417,\n",
       "        3.76316839,  3.82466083,  3.75869886,  3.71479556,  3.90871589,\n",
       "        3.76363704,  3.89282497,  3.73659856,  3.73022173,  3.79674338,\n",
       "        3.75300055,  3.72456592,  3.72416918,  3.7378034 ,  3.76874988,\n",
       "        3.83500178,  3.892658  ,  3.75288873,  3.75632295,  3.86283162,\n",
       "        3.82586669,  3.73572815,  3.87312575,  3.81262832,  3.8550132 ,\n",
       "        3.79222559,  3.87361944,  3.88242036,  3.82787124,  3.87728476,\n",
       "        3.80154604,  3.77328228,  3.87616934,  3.85937647,  3.83035313,\n",
       "        3.83437048,  3.7588502 ,  3.87021686,  3.86960268,  3.84149415,\n",
       "        3.76782386,  3.75877474,  3.75954488,  3.76792551,  3.76854648,\n",
       "        3.77877981,  3.83560868,  3.7633771 ,  3.77838056,  3.85118215,\n",
       "        3.79090807,  3.76516971,  3.81799741,  3.8643141 ,  3.77448546,\n",
       "        3.82430829,  3.78862821,  3.86163859,  3.85775632,  3.85830694,\n",
       "        3.85209069,  3.79792463,  3.81408856,  3.79682198,  3.82442854,\n",
       "        3.78788317,  3.7788109 ,  3.81402802,  3.80588075,  3.84576958,\n",
       "        3.80236225,  3.77092676,  3.83036189,  3.82605037,  3.84122851,\n",
       "        3.7795223 ,  3.81756106,  3.77665834,  3.84016304,  3.85165884,\n",
       "        3.85039851,  3.79600276,  3.8336441 ,  3.84650348,  3.78771556,\n",
       "        3.79944646,  3.78072886,  3.82082218,  3.84147034,  3.80206074,\n",
       "        3.81852901,  3.78174115,  3.79959617,  3.78446924,  3.79191321,\n",
       "        3.80239341,  3.84472583,  3.7878341 ,  3.84267448,  3.79055952,\n",
       "        3.81751686,  3.80994602,  3.83890373,  3.83685575,  3.82678902,\n",
       "        3.80791699,  3.82916757,  3.80299389,  3.83968276,  3.81377686,\n",
       "        3.83866861,  3.7893655 ,  3.83229291,  3.81838583,  3.80842346,\n",
       "        3.80957748,  3.79186561,  3.79184005,  3.79908532,  3.82222012,\n",
       "        3.79570941,  3.79566463,  3.83176946,  3.82278454,  3.82832742,\n",
       "        3.81237318,  3.83477241,  3.81166816,  3.80445553,  3.82511088,\n",
       "        3.83286012,  3.79525923,  3.79560901,  3.79906811,  3.83180752,\n",
       "        3.80324659,  3.80886057,  3.79837096,  3.82994677,  3.82948414,\n",
       "        3.82697869,  3.82973227,  3.81703034,  3.82224402,  3.8213463 ,\n",
       "        3.82706663,  3.80055764,  3.8056338 ,  3.80140442,  3.80120873,\n",
       "        3.81502625,  3.81173877,  3.81604358,  3.80970827,  3.80635495,\n",
       "        3.81236725,  3.80273923,  3.80255215,  3.81491343,  3.82173135,\n",
       "        3.82573957,  3.8227788 ,  3.80649295,  3.80530464,  3.80389419,\n",
       "        3.8075709 ,  3.81380676,  3.82340539,  3.81173548,  3.80784001,\n",
       "        3.82460863,  3.81397838,  3.82395135,  3.80469196,  3.8086681 ,\n",
       "        3.82263007,  3.81853411,  3.81207852,  3.82170245,  3.81533166,\n",
       "        3.81270862,  3.82311832,  3.80686473,  3.81878897,  3.81717538,\n",
       "        3.8211682 ,  3.82283689,  3.82254975,  3.81226879,  3.81896516,\n",
       "        3.80803513,  3.80840176,  3.81735449,  3.807797  ,  3.82175107,\n",
       "        3.81680703,  3.8111654 ,  3.82144124,  3.81854242,  3.8155705 ,\n",
       "        3.82088257,  3.81073846,  3.81733254,  3.81021495,  3.81407474,\n",
       "        3.80867158,  3.82045065,  3.81974107,  3.81739403,  3.81970858,\n",
       "        3.80860101,  3.8086089 ,  3.80919241,  3.80868534,  3.80879404,\n",
       "        3.81175733,  3.8200012 ,  3.81786231,  3.81106391,  3.81797642,\n",
       "        3.80918715,  3.81491418,  3.81056159,  3.81882171,  3.81306251,\n",
       "        3.81693513,  3.81034045,  3.81340134,  3.81273604,  3.81677384,\n",
       "        3.81894204,  3.81372318,  3.81681551,  3.81871445,  3.81850503,\n",
       "        3.81512695,  3.81061005,  3.81058088,  3.81633296,  3.81619854,\n",
       "        3.81536219,  3.81102551,  3.81830871,  3.81280765,  3.81206108,\n",
       "        3.81062454,  3.81570073,  3.81440093,  3.81160183,  3.81267193,\n",
       "        3.81708242,  3.81707953,  3.81087794,  3.81110658,  3.81789356,\n",
       "        3.81139198,  3.81452243,  3.81351579,  3.81159136,  3.81281998,\n",
       "        3.8148764 ,  3.81493394,  3.81178851,  3.81171696,  3.81303768,\n",
       "        3.81265223,  3.81718216,  3.81629983,  3.81691012,  3.81165713,\n",
       "        3.81240434,  3.81523188,  3.81689817,  3.81407004,  3.8118934 ,\n",
       "        3.81206519,  3.81501894,  3.81225478,  3.81439046,  3.81256482,\n",
       "        3.81703021,  3.81352279,  3.81514461,  3.81682878,  3.81559273,\n",
       "        3.81248997,  3.81361709,  3.81208127,  3.81539389,  3.81676246,\n",
       "        3.81662165,  3.81330098,  3.81280357,  3.81619049,  3.81295456,\n",
       "        3.81539489,  3.81570404,  3.81240323,  3.81243313,  3.81279458,\n",
       "        3.81306191,  3.81358582,  3.81518124,  3.81462214,  3.81636898,\n",
       "        3.81617524,  3.81476934,  3.81401689,  3.81611383,  3.81480744,\n",
       "        3.81537389,  3.8160853 ,  3.81562689,  3.81535278,  3.8128974 ,\n",
       "        3.81431547,  3.81507993,  3.81432742,  3.81516552,  3.8133413 ,\n",
       "        3.81382119,  3.81524045,  3.81514511,  3.81441707,  3.81346413,\n",
       "        3.81568121,  3.81525733,  3.81455915,  3.81519711,  3.81437316,\n",
       "        3.8152799 ,  3.8135667 ,  3.81483204,  3.81324381,  3.81533214,\n",
       "        3.81563009,  3.81366443,  3.81348454,  3.81485066,  3.81556916,\n",
       "        3.81345617,  3.81379184,  3.81337865,  3.8134086 ,  3.81544249,\n",
       "        3.8154252 ,  3.81358032,  3.81476277,  3.81403928,  3.8153079 ,\n",
       "        3.81488882,  3.81367125,  3.81374199,  3.81364537,  3.81374894,\n",
       "        3.81376297,  3.81382761,  3.81534438,  3.81395392,  3.815332  ,\n",
       "        3.81510315,  3.81371342,  3.81360216,  3.81402079,  3.8136958 ,\n",
       "        3.81480856,  3.81476437,  3.81474269,  3.81446097,  3.81358207,\n",
       "        3.81368642,  3.81532051,  3.81372887,  3.81400548,  3.81526225,\n",
       "        3.81523375,  3.81390912,  3.81524129,  3.81517363,  3.81390971,\n",
       "        3.81521408,  3.81367041,  3.81481873,  3.81461545,  3.81400726,\n",
       "        3.81380273,  3.81514547,  3.81500518,  3.8151002 ,  3.81385953,\n",
       "        3.8151022 ,  3.81498937,  3.81469624,  3.81511879,  3.8147728 ,\n",
       "        3.81510033,  3.81455335,  3.81438747,  3.81478676,  3.81491084,\n",
       "        3.81383717,  3.81413322,  3.81446701,  3.81441273,  3.8150611 ,\n",
       "        3.81484923,  3.81386807,  3.81448911,  3.81497009,  3.81502225,\n",
       "        3.81427904,  3.81389208,  3.81468595,  3.8138932 ,  3.81452451,\n",
       "        3.81483235,  3.81458924,  3.81467646,  3.81405192,  3.81491461,\n",
       "        3.81393636,  3.81493766,  3.81440741,  3.81492172,  3.81468883,\n",
       "        3.81488674,  3.81408374,  3.81442166,  3.81415404,  3.81463952,\n",
       "        3.81489629,  3.81410303,  3.81405354,  3.81488038,  3.81479945,\n",
       "        3.81474448,  3.81481381,  3.81435299,  3.81484852,  3.81449149,\n",
       "        3.81429221,  3.8148342 ,  3.81411254,  3.81474974,  3.8147951 ,\n",
       "        3.81442199,  3.81480091,  3.81412256,  3.81456978,  3.81478257,\n",
       "        3.81455098,  3.81419892,  3.81416967,  3.81477626,  3.81478088,\n",
       "        3.81432026,  3.81466012,  3.81455878,  3.81415532,  3.81476317,\n",
       "        3.81419653,  3.81448132,  3.81418151,  3.81423862,  3.81423169,\n",
       "        3.81416557,  3.8142595 ,  3.81472564,  3.8143976 ,  3.81456584,\n",
       "        3.81436469,  3.814707  ,  3.81421916,  3.814311  ,  3.8146598 ,\n",
       "        3.81463441,  3.81467485,  3.81422459,  3.81465988,  3.81467729,\n",
       "        3.81459639,  3.81442686,  3.81424758,  3.81428111,  3.81432661,\n",
       "        3.81463157,  3.81448679,  3.81433306,  3.81446174,  3.81465219,\n",
       "        3.81460796,  3.81425635,  3.81454312,  3.8146428 ,  3.81464065,\n",
       "        3.81457138,  3.81463505,  3.81461525,  3.81426954,  3.81462128,\n",
       "        3.81428376,  3.81428172,  3.81450882,  3.81439556,  3.81456413,\n",
       "        3.81448073,  3.81431742,  3.81436749,  3.81460571,  3.81451321,\n",
       "        3.81429907,  3.81432784,  3.81450205,  3.81453363,  3.81456266,\n",
       "        3.81430913,  3.8145847 ,  3.8144282 ,  3.81432137,  3.81431276,\n",
       "        3.81458839,  3.81449658,  3.81434142,  3.81439007,  3.81456305,\n",
       "        3.81446922,  3.81443876,  3.81445519,  3.81447013,  3.81434826,\n",
       "        3.81442881,  3.81433111,  3.81436833,  3.81437058,  3.8143319 ,\n",
       "        3.81455766,  3.81434717,  3.81454079,  3.81439117,  3.81456148,\n",
       "        3.81447659,  3.81450394,  3.81448781,  3.81437412,  3.81437741,\n",
       "        3.81439518,  3.81440001,  3.81438579,  3.81443949,  3.81440253,\n",
       "        3.81450119,  3.81443729,  3.8144544 ,  3.814376  ,  3.81452161,\n",
       "        3.81437796,  3.81448038,  3.81452807,  3.81447537,  3.81447227,\n",
       "        3.81442687,  3.81447758,  3.81440802,  3.81445295,  3.81448987,\n",
       "        3.81441607,  3.8144293 ,  3.81446997,  3.81443541,  3.81445527])"
      ]
     },
     "execution_count": 43,
     "metadata": {},
     "output_type": "execute_result"
    }
   ],
   "source": [
    "result = res.results\n",
    "logZdynesty = result.logz[-1]        # value of logZ\n",
    "logZerrdynesty = result.logzerr[-1]  # estimate of the statistcal uncertainty on logZ\n",
    "\n",
    "# output marginal likelihood\n",
    "print('Marginalised evidence (using static sampler) is {} ± {}'.format(logZdynesty, logZerrdynesty))\n",
    "\n",
    "# get the posterior samples\n",
    "weights = np.exp(result['logwt'] - result['logz'][-1])\n",
    "#postsamples2 = dynesty.utils.resample_equal(res2.samples, weights)\n",
    "postsamples = result.samples\n",
    "\n",
    "\n",
    "np.shape(postsamples)\n",
    "postsamples[:,0]"
   ]
  },
  {
   "cell_type": "code",
   "execution_count": 49,
   "metadata": {},
   "outputs": [],
   "source": [
    "plt.scatter(postsamples[:,0], postsamples[:,1])\n",
    "plt.xlim(3,6)\n",
    "plt.ylim(3,6)\n",
    "plt.show()"
   ]
  },
  {
   "cell_type": "code",
   "execution_count": 29,
   "metadata": {},
   "outputs": [
    {
     "name": "stderr",
     "output_type": "stream",
     "text": [
      "WARNING:root:Too few points to create valid contours\n"
     ]
    },
    {
     "data": {
      "image/png": "[encoded data removed]",
      "text/plain": [
       "<Figure size 550x550 with 4 Axes>"
      ]
     },
     "execution_count": 29,
     "metadata": {},
     "output_type": "execute_result"
    }
   ],
   "source": [
    "\n",
    "# plot posterior samples (if corner.py is installed)\n",
    "try:\n",
    "    import matplotlib as mpl\n",
    "    mpl.use(\"Agg\") # force Matplotlib backend to Agg\n",
    "    import corner # import corner.py\n",
    "except ImportError:\n",
    "    sys.exit(1)\n",
    "\n",
    "corner.corner(postsamples, labels=[r\"$m$\", r\"$c$\"], truths=[2, 4], show_titles=True)\n",
    "#fig.savefig('Nestle.png')"
   ]
  },
  {
   "cell_type": "markdown",
   "metadata": {},
   "source": [
    "## Probando EMCEE"
   ]
  },
  {
   "cell_type": "code",
   "execution_count": 21,
   "metadata": {},
   "outputs": [],
   "source": [
    "import emcee"
   ]
  },
  {
   "cell_type": "code",
   "execution_count": 37,
   "metadata": {},
   "outputs": [],
   "source": [
    "def logposterior(theta, data, sigma, x):\n",
    "    \"\"\"\n",
    "    The natural logarithm of the joint posterior.\n",
    "    \n",
    "    Args:\n",
    "        theta (tuple): a sample containing individual parameter values\n",
    "        data (list): the set of data/observations\n",
    "        sigma (float): the standard deviation of the data points\n",
    "        x (list): the abscissa values at which the data/model is defined\n",
    "    \"\"\"\n",
    "    \n",
    "    lp = logprior(theta) # get the prior\n",
    "    \n",
    "    # if the prior is not finite return a probability of zero (log probability of -inf)\n",
    "    if not np.isfinite(lp):\n",
    "        return -np.inf\n",
    "    \n",
    "    # return the likeihood times the prior (log likelihood plus the log prior)\n",
    "    #return lp + loglikelihood(theta, data, sigma, x)\n",
    "    return lp + loglikelihood"
   ]
  },
  {
   "cell_type": "code",
   "execution_count": 44,
   "metadata": {},
   "outputs": [],
   "source": [
    "def loglikelihood(theta, data, sigma, x):\n",
    "    \"\"\"\n",
    "    The natural logarithm of the joint likelihood.\n",
    "    \n",
    "    Args:\n",
    "        theta (tuple): a sample containing individual parameter values\n",
    "        data (list): the set of data/observations\n",
    "        sigma (float): the standard deviation of the data points\n",
    "        x (list): the abscissa values at which the data/model is defined\n",
    "    \n",
    "    Note:\n",
    "        We do not include the normalisation constants (as discussed above).\n",
    "    \"\"\"\n",
    "    \n",
    "    # unpack the model parameters from the tuple\n",
    "    m, c = theta\n",
    "    \n",
    "    # evaluate the model (assumes that the straight_line model is defined as above)\n",
    "    md = line(x, m, c)\n",
    "    \n",
    "    # return the log likelihood\n",
    "    #return -0.5*np.sum(((md - data)/sigma)**2)\n",
    "    return -0.5*np.sum(((md - y)/sigma)**2)"
   ]
  },
  {
   "cell_type": "code",
   "execution_count": 45,
   "metadata": {},
   "outputs": [],
   "source": [
    "def logprior(theta):\n",
    "    \"\"\"\n",
    "    The natural logarithm of the prior probability.\n",
    "    \n",
    "    Args:\n",
    "        theta (tuple): a sample containing individual parameter values\n",
    "    \n",
    "    Note:\n",
    "        We can ignore the normalisations of the prior here.\n",
    "    \"\"\"\n",
    "    \n",
    "    lp = 0.\n",
    "    \n",
    "    # unpack the model parameters from the tuple\n",
    "    m, c = theta\n",
    "    \n",
    "    # uniform prior on c\n",
    "    cmin = -10. # lower range of prior\n",
    "    cmax = 10.  # upper range of prior\n",
    "    \n",
    "    # set prior to 1 (log prior to 0) if in the range and zero (-inf) outside the range \n",
    "    lp = 0. if cmin < c < cmax else -np.inf\n",
    "    \n",
    "    # Gaussian prior on m\n",
    "    mmu = 0.     # mean of the Gaussian prior\n",
    "    msigma = 10. # standard deviation of the Gaussian prior\n",
    "    lp -= 0.5*((m - mmu)/msigma)**2\n",
    "    \n",
    "    return lp"
   ]
  },
  {
   "cell_type": "code",
   "execution_count": 48,
   "metadata": {},
   "outputs": [
    {
     "name": "stdout",
     "output_type": "stream",
     "text": [
      "emcee: Exception while calling your likelihood function:\n",
      "  params: [-2.477107    4.79880382]\n",
      "  args: (array([[ 0.        ,  4.04138186],\n",
      "       [ 0.1       ,  4.3385335 ],\n",
      "       [ 0.2       ,  4.72267524],\n",
      "       [ 0.3       ,  4.92039846],\n",
      "       [ 0.4       ,  4.92471793],\n",
      "       [ 0.5       ,  5.22499116],\n",
      "       [ 0.6       ,  5.45925973],\n",
      "       [ 0.7       ,  5.87371288],\n",
      "       [ 0.8       ,  5.92713367],\n",
      "       [ 0.9       ,  6.20766903],\n",
      "       [ 1.        ,  6.31623752],\n",
      "       [ 1.1       ,  6.63189406],\n",
      "       [ 1.2       ,  6.88187894],\n",
      "       [ 1.3       ,  6.66500737],\n",
      "       [ 1.4       ,  7.2943981 ],\n",
      "       [ 1.5       ,  7.19966283],\n",
      "       [ 1.6       ,  7.34065015],\n",
      "       [ 1.7       ,  7.69895617],\n",
      "       [ 1.8       ,  7.75336568],\n",
      "       [ 1.9       ,  7.89611533],\n",
      "       [ 2.        ,  8.14924207],\n",
      "       [ 2.1       ,  8.5452953 ],\n",
      "       [ 2.2       ,  8.84084   ],\n",
      "       [ 2.3       ,  9.03417722],\n",
      "       [ 2.4       ,  9.11605922],\n",
      "       [ 2.5       ,  9.22420768],\n",
      "       [ 2.6       ,  9.20326948],\n",
      "       [ 2.7       ,  9.8216495 ],\n",
      "       [ 2.8       ,  9.81832353],\n",
      "       [ 2.9       ,  9.93080472],\n",
      "       [ 3.        , 10.34699224],\n",
      "       [ 3.1       , 10.25707596],\n",
      "       [ 3.2       , 10.50940409],\n",
      "       [ 3.3       , 10.86555385],\n",
      "       [ 3.4       , 11.24303038],\n",
      "       [ 3.5       , 11.40763309],\n",
      "       [ 3.6       , 11.2148798 ],\n",
      "       [ 3.7       , 11.42499558],\n",
      "       [ 3.8       , 11.97334183],\n",
      "       [ 3.9       , 12.17679048],\n",
      "       [ 4.        , 12.39752658],\n",
      "       [ 4.1       , 12.5757848 ],\n",
      "       [ 4.2       , 12.65354937],\n",
      "       [ 4.3       , 12.83616357],\n",
      "       [ 4.4       , 13.06275008],\n",
      "       [ 4.5       , 13.40877493],\n",
      "       [ 4.6       , 13.37519284],\n",
      "       [ 4.7       , 13.53665819],\n",
      "       [ 4.8       , 13.61723844],\n",
      "       [ 4.9       , 13.9079241 ],\n",
      "       [ 5.        , 14.28169931],\n",
      "       [ 5.1       , 14.33601365],\n",
      "       [ 5.2       , 14.81673282],\n",
      "       [ 5.3       , 14.94449432],\n",
      "       [ 5.4       , 15.250879  ],\n",
      "       [ 5.5       , 15.28709999],\n",
      "       [ 5.6       , 15.35355288],\n",
      "       [ 5.7       , 15.57461089],\n",
      "       [ 5.8       , 15.86393108],\n",
      "       [ 5.9       , 15.93547465],\n",
      "       [ 6.        , 16.07480142],\n",
      "       [ 6.1       , 16.56071454],\n",
      "       [ 6.2       , 16.83869876],\n",
      "       [ 6.3       , 16.82370581],\n",
      "       [ 6.4       , 17.18815069],\n",
      "       [ 6.5       , 17.42667476],\n",
      "       [ 6.6       , 17.45444574],\n",
      "       [ 6.7       , 17.85105927],\n",
      "       [ 6.8       , 17.77207475],\n",
      "       [ 6.9       , 18.19500977],\n",
      "       [ 7.        , 18.39151383],\n",
      "       [ 7.1       , 18.63940659],\n",
      "       [ 7.2       , 18.48203483],\n",
      "       [ 7.3       , 18.77232996],\n",
      "       [ 7.4       , 19.23776257],\n",
      "       [ 7.5       , 19.42765616],\n",
      "       [ 7.6       , 19.53039625],\n",
      "       [ 7.7       , 19.85464428],\n",
      "       [ 7.8       , 19.80628883],\n",
      "       [ 7.9       , 20.02839001],\n",
      "       [ 8.        , 20.12251559],\n",
      "       [ 8.1       , 20.55372049],\n",
      "       [ 8.2       , 20.64906319],\n",
      "       [ 8.3       , 20.9816939 ],\n",
      "       [ 8.4       , 21.15866162],\n",
      "       [ 8.5       , 21.14510368],\n",
      "       [ 8.6       , 21.39355446],\n",
      "       [ 8.7       , 21.8256924 ],\n",
      "       [ 8.8       , 21.74651419],\n",
      "       [ 8.9       , 21.90950838],\n",
      "       [ 9.        , 22.20663195],\n",
      "       [ 9.1       , 22.60019799],\n",
      "       [ 9.2       , 22.46457516],\n",
      "       [ 9.3       , 22.97418239],\n",
      "       [ 9.4       , 22.84287251],\n",
      "       [ 9.5       , 23.29808533],\n",
      "       [ 9.6       , 23.50909928],\n",
      "       [ 9.7       , 23.55455008],\n",
      "       [ 9.8       , 23.94537609],\n",
      "       [ 9.9       , 24.12137761]]), 0.5, array([0. , 0.1, 0.2, 0.3, 0.4, 0.5, 0.6, 0.7, 0.8, 0.9, 1. , 1.1, 1.2,\n",
      "       1.3, 1.4, 1.5, 1.6, 1.7, 1.8, 1.9, 2. , 2.1, 2.2, 2.3, 2.4, 2.5,\n",
      "       2.6, 2.7, 2.8, 2.9, 3. , 3.1, 3.2, 3.3, 3.4, 3.5, 3.6, 3.7, 3.8,\n",
      "       3.9, 4. , 4.1, 4.2, 4.3, 4.4, 4.5, 4.6, 4.7, 4.8, 4.9, 5. , 5.1,\n",
      "       5.2, 5.3, 5.4, 5.5, 5.6, 5.7, 5.8, 5.9, 6. , 6.1, 6.2, 6.3, 6.4,\n",
      "       6.5, 6.6, 6.7, 6.8, 6.9, 7. , 7.1, 7.2, 7.3, 7.4, 7.5, 7.6, 7.7,\n",
      "       7.8, 7.9, 8. , 8.1, 8.2, 8.3, 8.4, 8.5, 8.6, 8.7, 8.8, 8.9, 9. ,\n",
      "       9.1, 9.2, 9.3, 9.4, 9.5, 9.6, 9.7, 9.8, 9.9]))\n",
      "  kwargs: {}\n",
      "  exception:\n"
     ]
    },
    {
     "name": "stderr",
     "output_type": "stream",
     "text": [
      "Traceback (most recent call last):\n",
      "  File \"/usr/local/lib/python3.6/dist-packages/emcee/ensemble.py\", line 519, in __call__\n",
      "    return self.f(x, *self.args, **self.kwargs)\n",
      "  File \"<ipython-input-37-217388530f17>\", line 20, in logposterior\n",
      "    return lp + loglikelihood\n",
      "TypeError: unsupported operand type(s) for +: 'float' and 'function'\n"
     ]
    },
    {
     "ename": "TypeError",
     "evalue": "unsupported operand type(s) for +: 'float' and 'function'",
     "output_type": "error",
     "traceback": [
      "\u001b[0;31m---------------------------------------------------------------------------\u001b[0m",
      "\u001b[0;31mTypeError\u001b[0m                                 Traceback (most recent call last)",
      "\u001b[0;32m<ipython-input-48-f32f19585d47>\u001b[0m in \u001b[0;36m<module>\u001b[0;34m\u001b[0m\n\u001b[1;32m     25\u001b[0m \u001b[0;34m\u001b[0m\u001b[0m\n\u001b[1;32m     26\u001b[0m \u001b[0;31m# pass the initial samples and total number of samples required\u001b[0m\u001b[0;34m\u001b[0m\u001b[0;34m\u001b[0m\u001b[0;34m\u001b[0m\u001b[0m\n\u001b[0;32m---> 27\u001b[0;31m \u001b[0msampler\u001b[0m\u001b[0;34m.\u001b[0m\u001b[0mrun_mcmc\u001b[0m\u001b[0;34m(\u001b[0m\u001b[0minisamples\u001b[0m\u001b[0;34m,\u001b[0m \u001b[0mNsamples\u001b[0m\u001b[0;34m+\u001b[0m\u001b[0mNburnin\u001b[0m\u001b[0;34m)\u001b[0m\u001b[0;34m;\u001b[0m\u001b[0;34m\u001b[0m\u001b[0;34m\u001b[0m\u001b[0m\n\u001b[0m",
      "\u001b[0;32m/usr/local/lib/python3.6/dist-packages/emcee/sampler.py\u001b[0m in \u001b[0;36mrun_mcmc\u001b[0;34m(self, pos0, N, rstate0, lnprob0, **kwargs)\u001b[0m\n\u001b[1;32m    170\u001b[0m \u001b[0;34m\u001b[0m\u001b[0m\n\u001b[1;32m    171\u001b[0m         for results in self.sample(pos0, lnprob0, rstate0, iterations=N,\n\u001b[0;32m--> 172\u001b[0;31m                                    **kwargs):\n\u001b[0m\u001b[1;32m    173\u001b[0m             \u001b[0;32mpass\u001b[0m\u001b[0;34m\u001b[0m\u001b[0;34m\u001b[0m\u001b[0m\n\u001b[1;32m    174\u001b[0m \u001b[0;34m\u001b[0m\u001b[0m\n",
      "\u001b[0;32m/usr/local/lib/python3.6/dist-packages/emcee/ensemble.py\u001b[0m in \u001b[0;36msample\u001b[0;34m(self, p0, lnprob0, rstate0, blobs0, iterations, thin, storechain, mh_proposal)\u001b[0m\n\u001b[1;32m    196\u001b[0m         \u001b[0mblobs\u001b[0m \u001b[0;34m=\u001b[0m \u001b[0mblobs0\u001b[0m\u001b[0;34m\u001b[0m\u001b[0;34m\u001b[0m\u001b[0m\n\u001b[1;32m    197\u001b[0m         \u001b[0;32mif\u001b[0m \u001b[0mlnprob\u001b[0m \u001b[0;32mis\u001b[0m \u001b[0;32mNone\u001b[0m\u001b[0;34m:\u001b[0m\u001b[0;34m\u001b[0m\u001b[0;34m\u001b[0m\u001b[0m\n\u001b[0;32m--> 198\u001b[0;31m             \u001b[0mlnprob\u001b[0m\u001b[0;34m,\u001b[0m \u001b[0mblobs\u001b[0m \u001b[0;34m=\u001b[0m \u001b[0mself\u001b[0m\u001b[0;34m.\u001b[0m\u001b[0m_get_lnprob\u001b[0m\u001b[0;34m(\u001b[0m\u001b[0mp\u001b[0m\u001b[0;34m)\u001b[0m\u001b[0;34m\u001b[0m\u001b[0;34m\u001b[0m\u001b[0m\n\u001b[0m\u001b[1;32m    199\u001b[0m \u001b[0;34m\u001b[0m\u001b[0m\n\u001b[1;32m    200\u001b[0m         \u001b[0;31m# Check to make sure that the probability function didn't return\u001b[0m\u001b[0;34m\u001b[0m\u001b[0;34m\u001b[0m\u001b[0;34m\u001b[0m\u001b[0m\n",
      "\u001b[0;32m/usr/local/lib/python3.6/dist-packages/emcee/ensemble.py\u001b[0m in \u001b[0;36m_get_lnprob\u001b[0;34m(self, pos)\u001b[0m\n\u001b[1;32m    380\u001b[0m \u001b[0;34m\u001b[0m\u001b[0m\n\u001b[1;32m    381\u001b[0m         \u001b[0;31m# Run the log-probability calculations (optionally in parallel).\u001b[0m\u001b[0;34m\u001b[0m\u001b[0;34m\u001b[0m\u001b[0;34m\u001b[0m\u001b[0m\n\u001b[0;32m--> 382\u001b[0;31m         \u001b[0mresults\u001b[0m \u001b[0;34m=\u001b[0m \u001b[0mlist\u001b[0m\u001b[0;34m(\u001b[0m\u001b[0mM\u001b[0m\u001b[0;34m(\u001b[0m\u001b[0mself\u001b[0m\u001b[0;34m.\u001b[0m\u001b[0mlnprobfn\u001b[0m\u001b[0;34m,\u001b[0m \u001b[0;34m[\u001b[0m\u001b[0mp\u001b[0m\u001b[0;34m[\u001b[0m\u001b[0mi\u001b[0m\u001b[0;34m]\u001b[0m \u001b[0;32mfor\u001b[0m \u001b[0mi\u001b[0m \u001b[0;32min\u001b[0m \u001b[0mrange\u001b[0m\u001b[0;34m(\u001b[0m\u001b[0mlen\u001b[0m\u001b[0;34m(\u001b[0m\u001b[0mp\u001b[0m\u001b[0;34m)\u001b[0m\u001b[0;34m)\u001b[0m\u001b[0;34m]\u001b[0m\u001b[0;34m)\u001b[0m\u001b[0;34m)\u001b[0m\u001b[0;34m\u001b[0m\u001b[0;34m\u001b[0m\u001b[0m\n\u001b[0m\u001b[1;32m    383\u001b[0m \u001b[0;34m\u001b[0m\u001b[0m\n\u001b[1;32m    384\u001b[0m         \u001b[0;32mtry\u001b[0m\u001b[0;34m:\u001b[0m\u001b[0;34m\u001b[0m\u001b[0;34m\u001b[0m\u001b[0m\n",
      "\u001b[0;32m/usr/local/lib/python3.6/dist-packages/emcee/ensemble.py\u001b[0m in \u001b[0;36m__call__\u001b[0;34m(self, x)\u001b[0m\n\u001b[1;32m    517\u001b[0m     \u001b[0;32mdef\u001b[0m \u001b[0m__call__\u001b[0m\u001b[0;34m(\u001b[0m\u001b[0mself\u001b[0m\u001b[0;34m,\u001b[0m \u001b[0mx\u001b[0m\u001b[0;34m)\u001b[0m\u001b[0;34m:\u001b[0m\u001b[0;34m\u001b[0m\u001b[0;34m\u001b[0m\u001b[0m\n\u001b[1;32m    518\u001b[0m         \u001b[0;32mtry\u001b[0m\u001b[0;34m:\u001b[0m\u001b[0;34m\u001b[0m\u001b[0;34m\u001b[0m\u001b[0m\n\u001b[0;32m--> 519\u001b[0;31m             \u001b[0;32mreturn\u001b[0m \u001b[0mself\u001b[0m\u001b[0;34m.\u001b[0m\u001b[0mf\u001b[0m\u001b[0;34m(\u001b[0m\u001b[0mx\u001b[0m\u001b[0;34m,\u001b[0m \u001b[0;34m*\u001b[0m\u001b[0mself\u001b[0m\u001b[0;34m.\u001b[0m\u001b[0margs\u001b[0m\u001b[0;34m,\u001b[0m \u001b[0;34m**\u001b[0m\u001b[0mself\u001b[0m\u001b[0;34m.\u001b[0m\u001b[0mkwargs\u001b[0m\u001b[0;34m)\u001b[0m\u001b[0;34m\u001b[0m\u001b[0;34m\u001b[0m\u001b[0m\n\u001b[0m\u001b[1;32m    520\u001b[0m         \u001b[0;32mexcept\u001b[0m\u001b[0;34m:\u001b[0m\u001b[0;34m\u001b[0m\u001b[0;34m\u001b[0m\u001b[0m\n\u001b[1;32m    521\u001b[0m             \u001b[0;32mimport\u001b[0m \u001b[0mtraceback\u001b[0m\u001b[0;34m\u001b[0m\u001b[0;34m\u001b[0m\u001b[0m\n",
      "\u001b[0;32m<ipython-input-37-217388530f17>\u001b[0m in \u001b[0;36mlogposterior\u001b[0;34m(theta, data, sigma, x)\u001b[0m\n\u001b[1;32m     18\u001b[0m     \u001b[0;31m# return the likeihood times the prior (log likelihood plus the log prior)\u001b[0m\u001b[0;34m\u001b[0m\u001b[0;34m\u001b[0m\u001b[0;34m\u001b[0m\u001b[0m\n\u001b[1;32m     19\u001b[0m     \u001b[0;31m#return lp + loglikelihood(theta, data, sigma, x)\u001b[0m\u001b[0;34m\u001b[0m\u001b[0;34m\u001b[0m\u001b[0;34m\u001b[0m\u001b[0m\n\u001b[0;32m---> 20\u001b[0;31m     \u001b[0;32mreturn\u001b[0m \u001b[0mlp\u001b[0m \u001b[0;34m+\u001b[0m \u001b[0mloglikelihood\u001b[0m\u001b[0;34m\u001b[0m\u001b[0;34m\u001b[0m\u001b[0m\n\u001b[0m",
      "\u001b[0;31mTypeError\u001b[0m: unsupported operand type(s) for +: 'float' and 'function'"
     ]
    }
   ],
   "source": [
    "Nens = 100   # Nens number of ensemble points\n",
    "\n",
    "mmu = 0.     # mean of the Gaussian prior\n",
    "msigma = 10. # standard deviation of the Gaussian prior\n",
    "\n",
    "mini = np.random.normal(mmu, msigma, Nens) # initial m points\n",
    "\n",
    "cmin = -10.  # lower range of prior\n",
    "cmax = 10.   # upper range of prior\n",
    "\n",
    "cini = np.random.uniform(cmin, cmax, Nens) # initial c points\n",
    "\n",
    "inisamples = np.array([mini, cini]).T # initial samples\n",
    "\n",
    "ndims = inisamples.shape[1] # number of parameters/dimensions\n",
    "\n",
    "Nburnin = 500   # number of burn-in samples\n",
    "Nsamples = 500  # number of final posterior samples\n",
    "\n",
    "# set additional args for the posterior (the data, the noise std. dev., and the abscissa)\n",
    "argslist = (data, sigma, x)\n",
    "\n",
    "# set up the sampler\n",
    "sampler = emcee.EnsembleSampler(Nens, ndims, logposterior, args=argslist)\n",
    "\n",
    "# pass the initial samples and total number of samples required\n",
    "sampler.run_mcmc(inisamples, Nsamples+Nburnin);"
   ]
  },
  {
   "cell_type": "code",
   "execution_count": null,
   "metadata": {},
   "outputs": [],
   "source": []
  },
  {
   "cell_type": "code",
   "execution_count": null,
   "metadata": {},
   "outputs": [],
   "source": []
  }
 ],
 "metadata": {
  "kernelspec": {
   "display_name": "Python 3",
   "language": "python",
   "name": "python3"
  },
  "language_info": {
   "codemirror_mode": {
    "name": "ipython",
    "version": 3
   },
   "file_extension": ".py",
   "mimetype": "text/x-python",
   "name": "python",
   "nbconvert_exporter": "python",
   "pygments_lexer": "ipython3",
   "version": "3.6.9"
  }
 },
 "nbformat": 4,
 "nbformat_minor": 2
}
