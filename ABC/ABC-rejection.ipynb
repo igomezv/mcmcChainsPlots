{
 "cells": [
  {
   "cell_type": "code",
   "execution_count": 47,
   "metadata": {},
   "outputs": [],
   "source": [
    "import matplotlib.pyplot as plt\n",
    "import numpy as np\n",
    "import corner\n",
    "from matplotlib import pyplot as plt\n",
    "import seaborn as sns\n",
    "from scipy import stats"
   ]
  },
  {
   "cell_type": "markdown",
   "metadata": {},
   "source": [
    "ABC_Method_Uniform_Prior de: https://towardsdatascience.com/the-abcs-of-approximate-bayesian-computation-bfe11b8ca341"
   ]
  },
  {
   "cell_type": "code",
   "execution_count": 2,
   "metadata": {},
   "outputs": [],
   "source": [
    "#Distance function - Absolute difference \n",
    "def distance_function(X,Y):\n",
    "    distance = (1/len(X))*abs(sum(X)-sum(Y))\n",
    "    return distance\n",
    "\n",
    "#The ABC method with uniform prior, returns samples from the posterior\n",
    "def ABC_Method_Uniform_Prior(Observed_data,Number_of_Samples,threshold):\n",
    "    #The observed data \n",
    "    #initialise Posterior array\n",
    "    Posterior_distribution = []\n",
    "    #trials\n",
    "    n = len(Observed_data) \n",
    "    #loop through to get the samples. \n",
    "    for i in range(0, Number_of_Samples):\n",
    "        distance = threshold+1\n",
    "        #While the distance is greater than the threshold continue to sample theta from the beta distribution\n",
    "        while distance > threshold:\n",
    "            #sample theta from the prior\n",
    "            theta = np.random.beta(1, 1, size=1)[0]\n",
    "            # generate the sim data \n",
    "            X = np.random.binomial(1, theta, n)\n",
    "            # calcalute the distance from Y \n",
    "            distance = distance_function(X,Observed_data)\n",
    "        Posterior_distribution.append(theta)\n",
    "    return Posterior_distribution"
   ]
  },
  {
   "cell_type": "code",
   "execution_count": 37,
   "metadata": {},
   "outputs": [],
   "source": [
    "data = np.random.normal(loc=-0.1, scale=2, size=1000) + np.random.rand()\n"
   ]
  },
  {
   "cell_type": "code",
   "execution_count": 38,
   "metadata": {
    "scrolled": true
   },
   "outputs": [
    {
     "data": {
      "text/plain": [
       "(array([  4.,  11.,  46., 127., 229., 284., 183.,  86.,  28.,   2.]),\n",
       " array([-6.37649978, -5.01093626, -3.64537273, -2.27980921, -0.91424569,\n",
       "         0.45131784,  1.81688136,  3.18244488,  4.54800841,  5.91357193,\n",
       "         7.27913545]),\n",
       " <a list of 10 Patch objects>)"
      ]
     },
     "execution_count": 38,
     "metadata": {},
     "output_type": "execute_result"
    },
    {
     "data": {
      "image/png": "[encoded data removed]",
      "text/plain": [
       "<Figure size 432x288 with 1 Axes>"
      ]
     },
     "metadata": {
      "needs_background": "light"
     },
     "output_type": "display_data"
    }
   ],
   "source": [
    "plt.hist(data)"
   ]
  },
  {
   "cell_type": "code",
   "execution_count": 28,
   "metadata": {},
   "outputs": [
    {
     "data": {
      "text/plain": [
       "(100, 2)"
      ]
     },
     "execution_count": 28,
     "metadata": {},
     "output_type": "execute_result"
    }
   ],
   "source": [
    "data = np.concatenate((x,y), axis=1)\n",
    "np.shape(data)"
   ]
  },
  {
   "cell_type": "code",
   "execution_count": 34,
   "metadata": {},
   "outputs": [],
   "source": [
    "sampling = ABC_Method_Uniform_Prior(data, 100, 0.1)"
   ]
  },
  {
   "cell_type": "code",
   "execution_count": 35,
   "metadata": {},
   "outputs": [
    {
     "data": {
      "text/plain": [
       "(array([ 1.,  7.,  2.,  6., 12., 18., 13., 17., 12., 12.]),\n",
       " array([0.79731136, 0.81737439, 0.83743743, 0.85750046, 0.8775635 ,\n",
       "        0.89762654, 0.91768957, 0.93775261, 0.95781564, 0.97787868,\n",
       "        0.99794171]),\n",
       " <a list of 10 Patch objects>)"
      ]
     },
     "execution_count": 35,
     "metadata": {},
     "output_type": "execute_result"
    },
    {
     "data": {
      "image/png": "[encoded data removed]",
      "text/plain": [
       "<Figure size 432x288 with 1 Axes>"
      ]
     },
     "metadata": {
      "needs_background": "light"
     },
     "output_type": "display_data"
    }
   ],
   "source": [
    "plt.hist(sampling)"
   ]
  }
 ],
 "metadata": {
  "kernelspec": {
   "display_name": "Python 3",
   "language": "python",
   "name": "python3"
  },
  "language_info": {
   "codemirror_mode": {
    "name": "ipython",
    "version": 3
   },
   "file_extension": ".py",
   "mimetype": "text/x-python",
   "name": "python",
   "nbconvert_exporter": "python",
   "pygments_lexer": "ipython3",
   "version": "3.7.3"
  }
 },
 "nbformat": 4,
 "nbformat_minor": 4
}
