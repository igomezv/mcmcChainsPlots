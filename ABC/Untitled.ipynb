{
 "cells": [
  {
   "cell_type": "code",
   "execution_count": null,
   "id": "510890df",
   "metadata": {},
   "outputs": [],
   "source": []
  },
  {
   "cell_type": "markdown",
   "id": "2d4d4a8d",
   "metadata": {},
   "source": [
    "ABC_Method_Uniform_Prior obtenido de https://towardsdatascience.com/the-abcs-of-approximate-bayesian-computation-bfe11b8ca341"
   ]
  },
  {
   "cell_type": "code",
   "execution_count": 1,
   "id": "26fa3807",
   "metadata": {},
   "outputs": [],
   "source": [
    "#Distance function - Absolute difference \n",
    "def distance_function(X,Y):\n",
    "    distance = (1/len(X))*abs(sum(X)-sum(Y))\n",
    "    return distance\n",
    "\n",
    "#The ABC method with uniform prior, returns samples from the posterior\n",
    "def ABC_Method_Uniform_Prior(Observed_data, Number_of_Samples, threshold):\n",
    "    #The observed data \n",
    "    #initialise Posterior array\n",
    "    Posterior_distribution = []\n",
    "    #trials\n",
    "    n = len(Observed_data) \n",
    "    #loop through to get the samples. \n",
    "    for i in range(0,Number_of_Samples):\n",
    "        distance = threshold+1\n",
    "        #While the distance is greater than the threshold continue to sample theta from the beta distribution\n",
    "        while distance > threshold:\n",
    "            #sample theta from the prior\n",
    "            theta = np.random.beta(1, 1, size=1)[0]\n",
    "            # generate the sim data \n",
    "            X = np.random.binomial(1, theta, n)\n",
    "            # calcalute the distance from Y \n",
    "            distance = distance_function(X,Observed_data)"
   ]
  },
  {
   "cell_type": "code",
   "execution_count": null,
   "id": "5b563a99",
   "metadata": {},
   "outputs": [],
   "source": []
  }
 ],
 "metadata": {
  "kernelspec": {
   "display_name": "Python 3",
   "language": "python",
   "name": "python3"
  },
  "language_info": {
   "codemirror_mode": {
    "name": "ipython",
    "version": 3
   },
   "file_extension": ".py",
   "mimetype": "text/x-python",
   "name": "python",
   "nbconvert_exporter": "python",
   "pygments_lexer": "ipython3",
   "version": "3.8.8"
  }
 },
 "nbformat": 4,
 "nbformat_minor": 5
}
