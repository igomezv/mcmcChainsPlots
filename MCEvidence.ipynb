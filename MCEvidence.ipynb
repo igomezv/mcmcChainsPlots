{
 "cells": [
  {
   "cell_type": "code",
   "execution_count": 1,
   "metadata": {},
   "outputs": [],
   "source": [
    "from MCEvidence import MCEvidence \n",
    "from time import sleep"
   ]
  },
  {
   "cell_type": "code",
   "execution_count": 2,
   "metadata": {},
   "outputs": [
    {
     "name": "stderr",
     "output_type": "stream",
     "text": [
      "INFO:MCEvidence.py.setup():142      Loading chain from /home/isidro/SuperMC/chains/owaChains2/owaCDM_SN+HD+BBAO_snest_0.6.txt\n",
      "INFO:MCEvidence.py.read_list_to_array():563      loading: /home/isidro/SuperMC/chains/owaChains2/owaCDM_SN+HD+BBAO_snest_0.6.txt\n",
      "INFO:MCEvidence.py.__init__():781      chain array dimensions: [2068] x 6 =\n",
      "INFO:MCEvidence.py.get_covariance():859      Estimating covariance matrix using all chains\n",
      "INFO:MCEvidence.py.get_covariance():863      covariance matrix estimated using nsample=2068\n",
      "INFO:MCEvidence.py.get_samples():910      getting samples for partition s1: nsamples=2068\n",
      "INFO:MCEvidence.py.evidence():1163        ln(B)[k=1] = -49.56718235446141\n",
      "INFO:MCEvidence.py.evidence():1163        ln(B)[k=2] = -49.548257023479394\n",
      "INFO:MCEvidence.py.evidence():1163        ln(B)[k=3] = -49.51894440731603\n",
      "INFO:MCEvidence.py.evidence():1163        ln(B)[k=4] = -49.50324328632588\n"
     ]
    }
   ],
   "source": [
    "dir = \"/home/isidro/SuperMC/chains/owaChains2/\"\n",
    "roots = ['owaCDM_py_SN+HD+BBAO_mh_50000_1', 'owaCDM_SN+HD+BBAO_snest_0.6', 'owaCDM_SN+HD+BBAO_mnest_0.6',\n",
    "        'owaCDM_SN+HD+BBAO_sbambi_0.6', 'owaCDM_SN+HD+BBAO_bambi_0.6']\n",
    "\n",
    "samplernames = ['MH', 'ENS', 'MNEST', 'sBAMBI', 'BAMBI']\n",
    "\n",
    "MLE = MCEvidence(dir+roots[1]+'.txt').evidence()"
   ]
  },
  {
   "cell_type": "code",
   "execution_count": 35,
   "metadata": {},
   "outputs": [
    {
     "name": "stdout",
     "output_type": "stream",
     "text": [
      "MH : \n",
      "\n"
     ]
    },
    {
     "name": "stderr",
     "output_type": "stream",
     "text": [
      "INFO:MCEvidence.py.setup():142      Loading chain from /home/isidro/SuperMC/chains/owaChains2/owaCDM_py_SN+HD+BBAO_mh_50000_1.txt\n",
      "INFO:MCEvidence.py.read_list_to_array():563      loading: /home/isidro/SuperMC/chains/owaChains2/owaCDM_py_SN+HD+BBAO_mh_50000_1.txt\n",
      "INFO:MCEvidence.py.__init__():781      chain array dimensions: [49951] x 15 =\n",
      "INFO:MCEvidence.py.get_covariance():859      Estimating covariance matrix using all chains\n",
      "INFO:MCEvidence.py.get_covariance():863      covariance matrix estimated using nsample=49951\n",
      "INFO:MCEvidence.py.get_samples():910      getting samples for partition s1: nsamples=49951\n",
      "INFO:MCEvidence.py.evidence():1163        ln(B)[k=1] = -49.47793531463608\n",
      "INFO:MCEvidence.py.evidence():1163        ln(B)[k=2] = -48.79959533584888\n",
      "INFO:MCEvidence.py.evidence():1163        ln(B)[k=3] = -47.64188100701233\n",
      "INFO:MCEvidence.py.evidence():1163        ln(B)[k=4] = -47.55398417566276\n"
     ]
    },
    {
     "name": "stdout",
     "output_type": "stream",
     "text": [
      "ENS : \n",
      "\n"
     ]
    },
    {
     "name": "stderr",
     "output_type": "stream",
     "text": [
      "INFO:MCEvidence.py.setup():142      Loading chain from /home/isidro/SuperMC/chains/owaChains2/owaCDM_SN+HD+BBAO_snest_0.6.txt\n",
      "INFO:MCEvidence.py.read_list_to_array():563      loading: /home/isidro/SuperMC/chains/owaChains2/owaCDM_SN+HD+BBAO_snest_0.6.txt\n",
      "INFO:MCEvidence.py.__init__():781      chain array dimensions: [2068] x 6 =\n",
      "INFO:MCEvidence.py.get_covariance():859      Estimating covariance matrix using all chains\n",
      "INFO:MCEvidence.py.get_covariance():863      covariance matrix estimated using nsample=2068\n",
      "INFO:MCEvidence.py.get_samples():910      getting samples for partition s1: nsamples=2068\n",
      "INFO:MCEvidence.py.evidence():1163        ln(B)[k=1] = -49.56718235446141\n",
      "INFO:MCEvidence.py.evidence():1163        ln(B)[k=2] = -49.548257023479394\n",
      "INFO:MCEvidence.py.evidence():1163        ln(B)[k=3] = -49.51894440731603\n",
      "INFO:MCEvidence.py.evidence():1163        ln(B)[k=4] = -49.50324328632588\n"
     ]
    },
    {
     "name": "stdout",
     "output_type": "stream",
     "text": [
      "MNEST : \n",
      "\n"
     ]
    },
    {
     "name": "stderr",
     "output_type": "stream",
     "text": [
      "INFO:MCEvidence.py.setup():142      Loading chain from /home/isidro/SuperMC/chains/owaChains2/owaCDM_SN+HD+BBAO_mnest_0.6.txt\n",
      "INFO:MCEvidence.py.read_list_to_array():563      loading: /home/isidro/SuperMC/chains/owaChains2/owaCDM_SN+HD+BBAO_mnest_0.6.txt\n",
      "INFO:MCEvidence.py.__init__():781      chain array dimensions: [2000] x 6 =\n",
      "INFO:MCEvidence.py.get_covariance():859      Estimating covariance matrix using all chains\n",
      "INFO:MCEvidence.py.get_covariance():863      covariance matrix estimated using nsample=2000\n",
      "INFO:MCEvidence.py.get_samples():910      getting samples for partition s1: nsamples=2000\n",
      "INFO:MCEvidence.py.evidence():1163        ln(B)[k=1] = -49.498611860732396\n",
      "INFO:MCEvidence.py.evidence():1163        ln(B)[k=2] = -49.51823976949056\n",
      "INFO:MCEvidence.py.evidence():1163        ln(B)[k=3] = -49.506135956774735\n",
      "INFO:MCEvidence.py.evidence():1163        ln(B)[k=4] = -49.476537727095746\n"
     ]
    },
    {
     "name": "stdout",
     "output_type": "stream",
     "text": [
      "sBAMBI : \n",
      "\n"
     ]
    },
    {
     "name": "stderr",
     "output_type": "stream",
     "text": [
      "INFO:MCEvidence.py.setup():142      Loading chain from /home/isidro/SuperMC/chains/owaChains2/owaCDM_SN+HD+BBAO_sbambi_0.6.txt\n",
      "INFO:MCEvidence.py.read_list_to_array():563      loading: /home/isidro/SuperMC/chains/owaChains2/owaCDM_SN+HD+BBAO_sbambi_0.6.txt\n",
      "INFO:MCEvidence.py.__init__():781      chain array dimensions: [2150] x 6 =\n",
      "INFO:MCEvidence.py.get_covariance():859      Estimating covariance matrix using all chains\n",
      "INFO:MCEvidence.py.get_covariance():863      covariance matrix estimated using nsample=2150\n",
      "INFO:MCEvidence.py.get_samples():910      getting samples for partition s1: nsamples=2150\n",
      "INFO:MCEvidence.py.evidence():1163        ln(B)[k=1] = -49.651810964226684\n",
      "INFO:MCEvidence.py.evidence():1163        ln(B)[k=2] = -49.636948415269146\n",
      "INFO:MCEvidence.py.evidence():1163        ln(B)[k=3] = -49.632208680405085\n",
      "INFO:MCEvidence.py.evidence():1163        ln(B)[k=4] = -49.59898474783036\n"
     ]
    },
    {
     "name": "stdout",
     "output_type": "stream",
     "text": [
      "BAMBI : \n",
      "\n"
     ]
    },
    {
     "name": "stderr",
     "output_type": "stream",
     "text": [
      "INFO:MCEvidence.py.setup():142      Loading chain from /home/isidro/SuperMC/chains/owaChains2/owaCDM_SN+HD+BBAO_bambi_0.6.txt\n",
      "INFO:MCEvidence.py.read_list_to_array():563      loading: /home/isidro/SuperMC/chains/owaChains2/owaCDM_SN+HD+BBAO_bambi_0.6.txt\n",
      "INFO:MCEvidence.py.__init__():781      chain array dimensions: [2032] x 6 =\n",
      "INFO:MCEvidence.py.get_covariance():859      Estimating covariance matrix using all chains\n",
      "INFO:MCEvidence.py.get_covariance():863      covariance matrix estimated using nsample=2032\n",
      "INFO:MCEvidence.py.get_samples():910      getting samples for partition s1: nsamples=2032\n",
      "INFO:MCEvidence.py.evidence():1163        ln(B)[k=1] = -49.493482342571575\n",
      "INFO:MCEvidence.py.evidence():1163        ln(B)[k=2] = -49.47649666746019\n",
      "INFO:MCEvidence.py.evidence():1163        ln(B)[k=3] = -49.44664690773358\n",
      "INFO:MCEvidence.py.evidence():1163        ln(B)[k=4] = -49.41873922347989\n"
     ]
    }
   ],
   "source": [
    "for i in range(len(roots)):\n",
    "    print(\"%s : \\n\"%(samplernames[i]))\n",
    "    sleep(2)\n",
    "    \n",
    "    MLE = MCEvidence(dir+roots[i]+'.txt').evidence()"
   ]
  },
  {
   "cell_type": "code",
   "execution_count": 5,
   "metadata": {},
   "outputs": [
    {
     "name": "stderr",
     "output_type": "stream",
     "text": [
      "INFO:MCEvidence.py.setup():142      Loading chain from /home/isidro/SuperMC/toysModelsPlots/egg_mnest_4000_0.6.txt\n",
      "INFO:MCEvidence.py.read_list_to_array():563      loading: /home/isidro/SuperMC/toysModelsPlots/egg_mnest_4000_0.6.txt\n",
      "INFO:MCEvidence.py.__init__():781      chain array dimensions: [35065] x 2 =\n",
      "INFO:MCEvidence.py.get_covariance():859      Estimating covariance matrix using all chains\n",
      "INFO:MCEvidence.py.get_covariance():863      covariance matrix estimated using nsample=35065\n",
      "INFO:MCEvidence.py.get_samples():910      getting samples for partition s1: nsamples=35065\n",
      "INFO:MCEvidence.py.evidence():1163        ln(B)[k=1] = 235.9155173360952\n",
      "INFO:MCEvidence.py.evidence():1163        ln(B)[k=2] = 235.91913210766242\n",
      "INFO:MCEvidence.py.evidence():1163        ln(B)[k=3] = 235.91817986079815\n",
      "INFO:MCEvidence.py.evidence():1163        ln(B)[k=4] = 235.91669957192445\n"
     ]
    }
   ],
   "source": [
    "MLE = MCEvidence(\"/home/isidro/SuperMC/toysModelsPlots/egg_mnest_4000_0.6.txt\").evidence()"
   ]
  },
  {
   "cell_type": "code",
   "execution_count": 13,
   "metadata": {},
   "outputs": [],
   "source": [
    "dir = \"/home/isidro/SuperMC/chains/\"\n",
    "root1 = dir+'owaCDM_pySN+HD+BBAO_bambi_0.6.txt'"
   ]
  },
  {
   "cell_type": "code",
   "execution_count": 14,
   "metadata": {},
   "outputs": [
    {
     "name": "stderr",
     "output_type": "stream",
     "text": [
      "INFO:MCEvidence.py.setup():142      Loading chain from /home/isidro/SuperMC/chains/owaCDM_pySN+HD+BBAO_bambi_0.6.txt\n",
      "INFO:MCEvidence.py.read_list_to_array():563      loading: /home/isidro/SuperMC/chains/owaCDM_pySN+HD+BBAO_bambi_0.6.txt\n",
      "INFO:MCEvidence.py.__init__():781      chain array dimensions: [1380] x 6 =\n",
      "INFO:MCEvidence.py.get_covariance():859      Estimating covariance matrix using all chains\n",
      "INFO:MCEvidence.py.get_covariance():863      covariance matrix estimated using nsample=1380\n",
      "INFO:MCEvidence.py.get_samples():910      getting samples for partition s1: nsamples=1380\n",
      "/usr/local/lib/python3.6/dist-packages/MCEvidence.py:1117: RuntimeWarning: divide by zero encountered in true_divide\n",
      "  dotp = np.dot(volume[:,k]/weight[:],np.exp(fs))\n",
      "/usr/local/lib/python3.6/dist-packages/MCEvidence.py:1117: RuntimeWarning: overflow encountered in true_divide\n",
      "  dotp = np.dot(volume[:,k]/weight[:],np.exp(fs))\n",
      "INFO:MCEvidence.py.evidence():1163        ln(B)[k=1] = nan\n",
      "INFO:MCEvidence.py.evidence():1163        ln(B)[k=2] = nan\n",
      "INFO:MCEvidence.py.evidence():1163        ln(B)[k=3] = nan\n",
      "INFO:MCEvidence.py.evidence():1163        ln(B)[k=4] = nan\n"
     ]
    }
   ],
   "source": [
    "MLE = MCEvidence(root1).evidence()"
   ]
  },
  {
   "cell_type": "code",
   "execution_count": null,
   "metadata": {},
   "outputs": [],
   "source": []
  }
 ],
 "metadata": {
  "kernelspec": {
   "display_name": "Python 3",
   "language": "python",
   "name": "python3"
  },
  "language_info": {
   "codemirror_mode": {
    "name": "ipython",
    "version": 3
   },
   "file_extension": ".py",
   "mimetype": "text/x-python",
   "name": "python",
   "nbconvert_exporter": "python",
   "pygments_lexer": "ipython3",
   "version": "3.6.8"
  }
 },
 "nbformat": 4,
 "nbformat_minor": 2
}
