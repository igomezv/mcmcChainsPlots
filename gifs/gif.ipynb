{
 "cells": [
  {
   "cell_type": "code",
   "execution_count": 5,
   "metadata": {},
   "outputs": [],
   "source": [
    "from PIL import Image\n",
    "import numpy as np\n",
    "import matplotlib.pyplot as plt\n",
    "from time import sleep\n",
    "import glob"
   ]
  },
  {
   "cell_type": "code",
   "execution_count": 8,
   "metadata": {},
   "outputs": [
    {
     "data": {
      "text/plain": [
       "(1946, 6)"
      ]
     },
     "execution_count": 8,
     "metadata": {},
     "output_type": "execute_result"
    }
   ],
   "source": [
    "chain = np.loadtxt('waCDM_phy_SN+HD+fs8+Planck_nested_dynesty_multi_1.txt', usecols=range(2,2+6))\n",
    "np.shape(chain)"
   ]
  },
  {
   "cell_type": "code",
   "execution_count": 43,
   "metadata": {},
   "outputs": [
    {
     "name": "stdout",
     "output_type": "stream",
     "text": [
      "0.0\n",
      "0.01\n",
      "0.02\n",
      "0.03\n",
      "0.04\n",
      "0.05\n",
      "0.06\n",
      "0.07\n",
      "0.08\n",
      "0.09\n",
      "0.1\n",
      "0.11\n",
      "0.12\n",
      "0.13\n",
      "0.14\n",
      "0.15\n",
      "0.16\n",
      "0.17\n",
      "0.18\n",
      "0.19\n",
      "0.2\n",
      "0.21\n",
      "0.22\n",
      "0.23\n",
      "0.24\n",
      "0.25\n",
      "0.26\n",
      "0.27\n",
      "0.28\n",
      "0.29\n",
      "0.3\n",
      "0.31\n",
      "0.32\n",
      "0.33\n",
      "0.34\n",
      "0.35\n",
      "0.36\n",
      "0.37\n",
      "0.38\n",
      "0.39\n",
      "0.4\n",
      "0.41\n",
      "0.42\n",
      "0.43\n",
      "0.44\n",
      "0.45\n",
      "0.46\n",
      "0.47\n",
      "0.48\n",
      "0.49\n",
      "0.5\n",
      "0.51\n",
      "0.52\n",
      "0.53\n",
      "0.54\n",
      "0.55\n",
      "0.56\n",
      "0.57\n",
      "0.58\n",
      "0.59\n",
      "0.6\n",
      "0.61\n",
      "0.62\n",
      "0.63\n",
      "0.64\n",
      "0.65\n",
      "0.66\n",
      "0.67\n",
      "0.68\n",
      "0.69\n",
      "0.7\n",
      "0.71\n",
      "0.72\n",
      "0.73\n",
      "0.74\n",
      "0.75\n",
      "0.76\n",
      "0.77\n",
      "0.78\n",
      "0.79\n",
      "0.8\n",
      "0.81\n",
      "0.82\n",
      "0.83\n",
      "0.84\n",
      "0.85\n",
      "0.86\n",
      "0.87\n",
      "0.88\n",
      "0.89\n",
      "0.9\n",
      "0.91\n",
      "0.92\n",
      "0.93\n",
      "0.94\n",
      "0.95\n",
      "0.96\n",
      "0.97\n",
      "0.98\n",
      "0.99\n"
     ]
    },
    {
     "data": {
      "image/png": "[encoded data removed]",
      "text/plain": [
       "<Figure size 432x288 with 1 Axes>"
      ]
     },
     "metadata": {
      "needs_background": "light"
     },
     "output_type": "display_data"
    }
   ],
   "source": [
    "fig = plt.figure()\n",
    "\n",
    "for i in range(100):\n",
    "    plt.scatter(chain[:i, 0], chain[:i, 1])\n",
    "    plt.savefig('image_{}.png'.format(i/100))\n",
    "    print(i/100)"
   ]
  },
  {
   "cell_type": "code",
   "execution_count": 44,
   "metadata": {},
   "outputs": [],
   "source": [
    "imgs = glob.glob(\"*.png\") "
   ]
  },
  {
   "cell_type": "code",
   "execution_count": 45,
   "metadata": {},
   "outputs": [
    {
     "data": {
      "text/plain": [
       "['image_0.0.png',\n",
       " 'image_0.01.png',\n",
       " 'image_0.02.png',\n",
       " 'image_0.03.png',\n",
       " 'image_0.04.png',\n",
       " 'image_0.05.png',\n",
       " 'image_0.06.png',\n",
       " 'image_0.07.png',\n",
       " 'image_0.08.png',\n",
       " 'image_0.09.png',\n",
       " 'image_0.1.png',\n",
       " 'image_0.11.png',\n",
       " 'image_0.12.png',\n",
       " 'image_0.13.png',\n",
       " 'image_0.14.png',\n",
       " 'image_0.15.png',\n",
       " 'image_0.16.png',\n",
       " 'image_0.17.png',\n",
       " 'image_0.18.png',\n",
       " 'image_0.19.png',\n",
       " 'image_0.2.png',\n",
       " 'image_0.21.png',\n",
       " 'image_0.22.png',\n",
       " 'image_0.23.png',\n",
       " 'image_0.24.png',\n",
       " 'image_0.25.png',\n",
       " 'image_0.26.png',\n",
       " 'image_0.27.png',\n",
       " 'image_0.28.png',\n",
       " 'image_0.29.png',\n",
       " 'image_0.3.png',\n",
       " 'image_0.31.png',\n",
       " 'image_0.32.png',\n",
       " 'image_0.33.png',\n",
       " 'image_0.34.png',\n",
       " 'image_0.35.png',\n",
       " 'image_0.36.png',\n",
       " 'image_0.37.png',\n",
       " 'image_0.38.png',\n",
       " 'image_0.39.png',\n",
       " 'image_0.4.png',\n",
       " 'image_0.41.png',\n",
       " 'image_0.42.png',\n",
       " 'image_0.43.png',\n",
       " 'image_0.44.png',\n",
       " 'image_0.45.png',\n",
       " 'image_0.46.png',\n",
       " 'image_0.47.png',\n",
       " 'image_0.48.png',\n",
       " 'image_0.49.png',\n",
       " 'image_0.5.png',\n",
       " 'image_0.51.png',\n",
       " 'image_0.52.png',\n",
       " 'image_0.53.png',\n",
       " 'image_0.54.png',\n",
       " 'image_0.55.png',\n",
       " 'image_0.56.png',\n",
       " 'image_0.57.png',\n",
       " 'image_0.58.png',\n",
       " 'image_0.59.png',\n",
       " 'image_0.6.png',\n",
       " 'image_0.61.png',\n",
       " 'image_0.62.png',\n",
       " 'image_0.63.png',\n",
       " 'image_0.64.png',\n",
       " 'image_0.65.png',\n",
       " 'image_0.66.png',\n",
       " 'image_0.67.png',\n",
       " 'image_0.68.png',\n",
       " 'image_0.69.png',\n",
       " 'image_0.7.png',\n",
       " 'image_0.71.png',\n",
       " 'image_0.72.png',\n",
       " 'image_0.73.png',\n",
       " 'image_0.74.png',\n",
       " 'image_0.75.png',\n",
       " 'image_0.76.png',\n",
       " 'image_0.77.png',\n",
       " 'image_0.78.png',\n",
       " 'image_0.79.png',\n",
       " 'image_0.8.png',\n",
       " 'image_0.81.png',\n",
       " 'image_0.82.png',\n",
       " 'image_0.83.png',\n",
       " 'image_0.84.png',\n",
       " 'image_0.85.png',\n",
       " 'image_0.86.png',\n",
       " 'image_0.87.png',\n",
       " 'image_0.88.png',\n",
       " 'image_0.89.png',\n",
       " 'image_0.9.png',\n",
       " 'image_0.91.png',\n",
       " 'image_0.92.png',\n",
       " 'image_0.93.png',\n",
       " 'image_0.94.png',\n",
       " 'image_0.95.png',\n",
       " 'image_0.96.png',\n",
       " 'image_0.97.png',\n",
       " 'image_0.98.png',\n",
       " 'image_0.99.png']"
      ]
     },
     "execution_count": 45,
     "metadata": {},
     "output_type": "execute_result"
    }
   ],
   "source": [
    "imgs.sort()\n",
    "imgs"
   ]
  },
  {
   "cell_type": "code",
   "execution_count": 46,
   "metadata": {},
   "outputs": [],
   "source": [
    "frames = []\n",
    "for i in imgs:\n",
    "    new_frame = Image.open(i)\n",
    "    frames.append(new_frame)"
   ]
  },
  {
   "cell_type": "code",
   "execution_count": 48,
   "metadata": {},
   "outputs": [],
   "source": [
    "frames[0].save('chain.gif', format='GIF',\n",
    "    append_images=frames[1:],\n",
    "    save_all=True,\n",
    "    duration=10, loop=0)"
   ]
  },
  {
   "cell_type": "code",
   "execution_count": null,
   "metadata": {},
   "outputs": [],
   "source": []
  },
  {
   "cell_type": "code",
   "execution_count": null,
   "metadata": {},
   "outputs": [],
   "source": []
  }
 ],
 "metadata": {
  "kernelspec": {
   "display_name": "Python 3",
   "language": "python",
   "name": "python3"
  },
  "language_info": {
   "codemirror_mode": {
    "name": "ipython",
    "version": 3
   },
   "file_extension": ".py",
   "mimetype": "text/x-python",
   "name": "python",
   "nbconvert_exporter": "python",
   "pygments_lexer": "ipython3",
   "version": "3.7.3"
  }
 },
 "nbformat": 4,
 "nbformat_minor": 2
}
