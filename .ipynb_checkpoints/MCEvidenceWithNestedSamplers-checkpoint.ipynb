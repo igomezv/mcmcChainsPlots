{
 "cells": [
  {
   "cell_type": "markdown",
   "metadata": {},
   "source": [
    "In this notebook we use MCEvidence (Heavens, et. al. (2018)) to calculate the **Bayesian Evidence** of chains that comes from *Metropolis-Hastings* or *nested sampling*. "
   ]
  },
  {
   "cell_type": "code",
   "execution_count": 1,
   "metadata": {},
   "outputs": [],
   "source": [
    "from MCEvidence import MCEvidence \n",
    "from time import sleep\n",
    "import pandas as pd"
   ]
  },
  {
   "cell_type": "code",
   "execution_count": 2,
   "metadata": {},
   "outputs": [],
   "source": [
    "dir = \"/home/isidro/SuperMC_fork_20nov/april/chains/\""
   ]
  },
  {
   "cell_type": "code",
   "execution_count": null,
   "metadata": {},
   "outputs": [],
   "source": [
    "#See all the samples at the same time\n",
    "\n",
    "roots = ['owaCDM_py_SN+HD+BBAO_mh_50000_1', 'owaCDM_SN+HD+BBAO_snest_0.6', 'owaCDM_SN+HD+BBAO_mnest_0.6',\n",
    "        'owaCDM_SN+HD+BBAO_sbambi_0.6', 'owaCDM_SN+HD+BBAO_bambi_0.6']\n",
    "\n",
    "samplernames = ['MH', 'ENS', 'MNEST', 'sBAMBI', 'BAMBI']\n",
    "\n",
    "for i in range(len(roots)):\n",
    "    print(\"%s : \\n\"%(samplernames[i]))\n",
    "    sleep(2)\n",
    "    \n",
    "    MLE = MCEvidence(dir+roots[i]+'.txt').evidence()\n"
   ]
  },
  {
   "cell_type": "code",
   "execution_count": 72,
   "metadata": {},
   "outputs": [],
   "source": [
    "snest = dir+'owaCDM_py_SN+HD+BBAO_snest_0.56.txt'\n",
    "mnest = dir+'owaCDM_py_SN+HD+BBAO_mnest_0.57.txt'\n",
    "sbambi = dir+'owaCDM_py_SN+HD+BBAO_sbambi_0.57.txt'\n",
    "bambi = dir+'owaCDM_py_SN+HD+BBAO_bambi_0.57.txt'\n"
   ]
  },
  {
   "cell_type": "markdown",
   "metadata": {},
   "source": [
    "If the weights of the samples are very small $<10^{-300}$, MCEvidence fails. "
   ]
  },
  {
   "cell_type": "code",
   "execution_count": 5,
   "metadata": {},
   "outputs": [],
   "source": [
    "def cutterSamples(samplesfile,name):\n",
    "    samples = pd.read_csv(snest, sep=' ', header=None)\n",
    "    #Boolean variable:\n",
    "    wcond = samples[0] > 10e-30\n",
    "    chaincut = samples[wcond]\n",
    "    chaincut.to_csv(name+\"_short.txt\", header=None, index=False, sep=' ')"
   ]
  },
  {
   "cell_type": "code",
   "execution_count": 82,
   "metadata": {},
   "outputs": [],
   "source": [
    "cutterSamples(snest,'snest')\n",
    "cutterSamples(mnest, 'mnest')\n",
    "cutterSamples(sbambi, 'sbambi')\n",
    "cutterSamples(bambi, 'bambi')"
   ]
  },
  {
   "cell_type": "code",
   "execution_count": 83,
   "metadata": {},
   "outputs": [
    {
     "name": "stderr",
     "output_type": "stream",
     "text": [
      "INFO:MCEvidence.py.setup():142      Loading chain from snest_short.txt\n",
      "INFO:MCEvidence.py.read_list_to_array():563      loading: snest_short.txt\n",
      "INFO:MCEvidence.py.__init__():781      chain array dimensions: [17363] x 6 =\n",
      "INFO:MCEvidence.py.get_covariance():859      Estimating covariance matrix using all chains\n",
      "INFO:MCEvidence.py.get_covariance():863      covariance matrix estimated using nsample=17363\n",
      "INFO:MCEvidence.py.get_samples():910      getting samples for partition s1: nsamples=17363\n",
      "INFO:MCEvidence.py.evidence():1163        ln(B)[k=1] = -47.88938668047585\n",
      "INFO:MCEvidence.py.evidence():1163        ln(B)[k=2] = -47.85941387249943\n",
      "INFO:MCEvidence.py.evidence():1163        ln(B)[k=3] = -47.84689999903225\n",
      "INFO:MCEvidence.py.evidence():1163        ln(B)[k=4] = -47.83256351798463\n"
     ]
    }
   ],
   "source": [
    "MLE = MCEvidence(\"snest_short.txt\").evidence()"
   ]
  },
  {
   "cell_type": "code",
   "execution_count": 84,
   "metadata": {},
   "outputs": [
    {
     "name": "stderr",
     "output_type": "stream",
     "text": [
      "INFO:MCEvidence.py.setup():142      Loading chain from mnest_short.txt\n",
      "INFO:MCEvidence.py.read_list_to_array():563      loading: mnest_short.txt\n",
      "INFO:MCEvidence.py.__init__():781      chain array dimensions: [17363] x 6 =\n",
      "INFO:MCEvidence.py.get_covariance():859      Estimating covariance matrix using all chains\n",
      "INFO:MCEvidence.py.get_covariance():863      covariance matrix estimated using nsample=17363\n",
      "INFO:MCEvidence.py.get_samples():910      getting samples for partition s1: nsamples=17363\n",
      "INFO:MCEvidence.py.evidence():1163        ln(B)[k=1] = -47.88938668047585\n",
      "INFO:MCEvidence.py.evidence():1163        ln(B)[k=2] = -47.85941387249943\n",
      "INFO:MCEvidence.py.evidence():1163        ln(B)[k=3] = -47.84689999903225\n",
      "INFO:MCEvidence.py.evidence():1163        ln(B)[k=4] = -47.83256351798463\n"
     ]
    }
   ],
   "source": [
    "MLE = MCEvidence(\"mnest_short.txt\").evidence()"
   ]
  },
  {
   "cell_type": "code",
   "execution_count": 85,
   "metadata": {},
   "outputs": [
    {
     "name": "stderr",
     "output_type": "stream",
     "text": [
      "INFO:MCEvidence.py.setup():142      Loading chain from sbambi_short.txt\n",
      "INFO:MCEvidence.py.read_list_to_array():563      loading: sbambi_short.txt\n",
      "INFO:MCEvidence.py.__init__():781      chain array dimensions: [17363] x 6 =\n",
      "INFO:MCEvidence.py.get_covariance():859      Estimating covariance matrix using all chains\n",
      "INFO:MCEvidence.py.get_covariance():863      covariance matrix estimated using nsample=17363\n",
      "INFO:MCEvidence.py.get_samples():910      getting samples for partition s1: nsamples=17363\n",
      "INFO:MCEvidence.py.evidence():1163        ln(B)[k=1] = -47.88938668047585\n",
      "INFO:MCEvidence.py.evidence():1163        ln(B)[k=2] = -47.85941387249943\n",
      "INFO:MCEvidence.py.evidence():1163        ln(B)[k=3] = -47.84689999903225\n",
      "INFO:MCEvidence.py.evidence():1163        ln(B)[k=4] = -47.83256351798463\n"
     ]
    }
   ],
   "source": [
    "MLE = MCEvidence(\"sbambi_short.txt\").evidence()"
   ]
  },
  {
   "cell_type": "code",
   "execution_count": 86,
   "metadata": {},
   "outputs": [
    {
     "name": "stderr",
     "output_type": "stream",
     "text": [
      "INFO:MCEvidence.py.setup():142      Loading chain from bambi_short.txt\n",
      "INFO:MCEvidence.py.read_list_to_array():563      loading: bambi_short.txt\n",
      "INFO:MCEvidence.py.__init__():781      chain array dimensions: [17363] x 6 =\n",
      "INFO:MCEvidence.py.get_covariance():859      Estimating covariance matrix using all chains\n",
      "INFO:MCEvidence.py.get_covariance():863      covariance matrix estimated using nsample=17363\n",
      "INFO:MCEvidence.py.get_samples():910      getting samples for partition s1: nsamples=17363\n",
      "INFO:MCEvidence.py.evidence():1163        ln(B)[k=1] = -47.88938668047585\n",
      "INFO:MCEvidence.py.evidence():1163        ln(B)[k=2] = -47.85941387249943\n",
      "INFO:MCEvidence.py.evidence():1163        ln(B)[k=3] = -47.84689999903225\n",
      "INFO:MCEvidence.py.evidence():1163        ln(B)[k=4] = -47.83256351798463\n"
     ]
    }
   ],
   "source": [
    "MLE = MCEvidence(\"bambi_short.txt\").evidence()"
   ]
  },
  {
   "cell_type": "markdown",
   "metadata": {},
   "source": [
    "### Samples of a Metropolis-Hastings"
   ]
  },
  {
   "cell_type": "code",
   "execution_count": 4,
   "metadata": {},
   "outputs": [
    {
     "name": "stderr",
     "output_type": "stream",
     "text": [
      "INFO:MCEvidence.py.setup():142      Loading chain from /home/isidro/SuperMC_fork_20nov/april/chains/LCDM_py_SN+HD+BBAO_mh_400000_1.txt\n",
      "INFO:MCEvidence.py.read_list_to_array():563      loading: /home/isidro/SuperMC_fork_20nov/april/chains/LCDM_py_SN+HD+BBAO_mh_400000_1.txt\n",
      "INFO:MCEvidence.py.__init__():781      chain array dimensions: [25000] x 12 =\n",
      "INFO:MCEvidence.py.get_covariance():859      Estimating covariance matrix using all chains\n",
      "INFO:MCEvidence.py.get_covariance():863      covariance matrix estimated using nsample=25000\n",
      "INFO:MCEvidence.py.get_samples():910      getting samples for partition s1: nsamples=25000\n",
      "/usr/local/lib/python3.6/dist-packages/MCEvidence.py:847: RuntimeWarning: invalid value encountered in true_divide\n",
      "  s[:,i]= s[:,i]/math.sqrt(eigenVal[i])\n"
     ]
    },
    {
     "ename": "ValueError",
     "evalue": "Input contains NaN, infinity or a value too large for dtype('float64').",
     "output_type": "error",
     "traceback": [
      "\u001b[0;31m---------------------------------------------------------------------------\u001b[0m",
      "\u001b[0;31mValueError\u001b[0m                                Traceback (most recent call last)",
      "\u001b[0;32m<ipython-input-4-a0a57abd487a>\u001b[0m in \u001b[0;36m<module>\u001b[0;34m\u001b[0m\n\u001b[1;32m      1\u001b[0m \u001b[0mlcdmmhsamples\u001b[0m \u001b[0;34m=\u001b[0m \u001b[0mdir\u001b[0m\u001b[0;34m+\u001b[0m\u001b[0;34m'LCDM_py_SN+HD+BBAO_mh_400000_1.txt'\u001b[0m\u001b[0;34m\u001b[0m\u001b[0;34m\u001b[0m\u001b[0m\n\u001b[0;32m----> 2\u001b[0;31m \u001b[0mMLE\u001b[0m \u001b[0;34m=\u001b[0m \u001b[0mMCEvidence\u001b[0m\u001b[0;34m(\u001b[0m\u001b[0mlcdmmhsamples\u001b[0m\u001b[0;34m)\u001b[0m\u001b[0;34m.\u001b[0m\u001b[0mevidence\u001b[0m\u001b[0;34m(\u001b[0m\u001b[0;34m)\u001b[0m\u001b[0;34m\u001b[0m\u001b[0;34m\u001b[0m\u001b[0m\n\u001b[0m",
      "\u001b[0;32m/usr/local/lib/python3.6/dist-packages/MCEvidence.py\u001b[0m in \u001b[0;36mevidence\u001b[0;34m(self, verbose, rand, info, covtype, profile, pvolume, pos_lnp, nproc, prewhiten)\u001b[0m\n\u001b[1;32m   1099\u001b[0m                 \u001b[0mk0\u001b[0m\u001b[0;34m=\u001b[0m\u001b[0;36m1\u001b[0m \u001b[0;31m#avoid nn which is the point itself\u001b[0m\u001b[0;34m\u001b[0m\u001b[0;34m\u001b[0m\u001b[0m\n\u001b[1;32m   1100\u001b[0m                 nbrs = NearestNeighbors(n_neighbors=kmax+1,metric='euclidean',leaf_size=20,\n\u001b[0;32m-> 1101\u001b[0;31m                                     algorithm='auto',n_jobs=nproc).fit(samples)\n\u001b[0m\u001b[1;32m   1102\u001b[0m \u001b[0;34m\u001b[0m\u001b[0m\n\u001b[1;32m   1103\u001b[0m             \u001b[0;31m#compute knn distance. If indexed in same samples, DkNN(k=1)=0\u001b[0m\u001b[0;34m\u001b[0m\u001b[0;34m\u001b[0m\u001b[0;34m\u001b[0m\u001b[0m\n",
      "\u001b[0;32m/usr/local/lib/python3.6/dist-packages/sklearn/neighbors/base.py\u001b[0m in \u001b[0;36mfit\u001b[0;34m(self, X, y)\u001b[0m\n\u001b[1;32m    928\u001b[0m             \u001b[0;32mor\u001b[0m \u001b[0;34m[\u001b[0m\u001b[0mn_samples\u001b[0m\u001b[0;34m,\u001b[0m \u001b[0mn_samples\u001b[0m\u001b[0;34m]\u001b[0m \u001b[0;32mif\u001b[0m \u001b[0mmetric\u001b[0m\u001b[0;34m=\u001b[0m\u001b[0;34m'precomputed'\u001b[0m\u001b[0;34m.\u001b[0m\u001b[0;34m\u001b[0m\u001b[0;34m\u001b[0m\u001b[0m\n\u001b[1;32m    929\u001b[0m         \"\"\"\n\u001b[0;32m--> 930\u001b[0;31m         \u001b[0;32mreturn\u001b[0m \u001b[0mself\u001b[0m\u001b[0;34m.\u001b[0m\u001b[0m_fit\u001b[0m\u001b[0;34m(\u001b[0m\u001b[0mX\u001b[0m\u001b[0;34m)\u001b[0m\u001b[0;34m\u001b[0m\u001b[0;34m\u001b[0m\u001b[0m\n\u001b[0m",
      "\u001b[0;32m/usr/local/lib/python3.6/dist-packages/sklearn/neighbors/base.py\u001b[0m in \u001b[0;36m_fit\u001b[0;34m(self, X)\u001b[0m\n\u001b[1;32m    206\u001b[0m             \u001b[0;32mreturn\u001b[0m \u001b[0mself\u001b[0m\u001b[0;34m\u001b[0m\u001b[0;34m\u001b[0m\u001b[0m\n\u001b[1;32m    207\u001b[0m \u001b[0;34m\u001b[0m\u001b[0m\n\u001b[0;32m--> 208\u001b[0;31m         \u001b[0mX\u001b[0m \u001b[0;34m=\u001b[0m \u001b[0mcheck_array\u001b[0m\u001b[0;34m(\u001b[0m\u001b[0mX\u001b[0m\u001b[0;34m,\u001b[0m \u001b[0maccept_sparse\u001b[0m\u001b[0;34m=\u001b[0m\u001b[0;34m'csr'\u001b[0m\u001b[0;34m)\u001b[0m\u001b[0;34m\u001b[0m\u001b[0;34m\u001b[0m\u001b[0m\n\u001b[0m\u001b[1;32m    209\u001b[0m \u001b[0;34m\u001b[0m\u001b[0m\n\u001b[1;32m    210\u001b[0m         \u001b[0mn_samples\u001b[0m \u001b[0;34m=\u001b[0m \u001b[0mX\u001b[0m\u001b[0;34m.\u001b[0m\u001b[0mshape\u001b[0m\u001b[0;34m[\u001b[0m\u001b[0;36m0\u001b[0m\u001b[0;34m]\u001b[0m\u001b[0;34m\u001b[0m\u001b[0;34m\u001b[0m\u001b[0m\n",
      "\u001b[0;32m/usr/local/lib/python3.6/dist-packages/sklearn/utils/validation.py\u001b[0m in \u001b[0;36mcheck_array\u001b[0;34m(array, accept_sparse, accept_large_sparse, dtype, order, copy, force_all_finite, ensure_2d, allow_nd, ensure_min_samples, ensure_min_features, warn_on_dtype, estimator)\u001b[0m\n\u001b[1;32m    540\u001b[0m         \u001b[0;32mif\u001b[0m \u001b[0mforce_all_finite\u001b[0m\u001b[0;34m:\u001b[0m\u001b[0;34m\u001b[0m\u001b[0;34m\u001b[0m\u001b[0m\n\u001b[1;32m    541\u001b[0m             _assert_all_finite(array,\n\u001b[0;32m--> 542\u001b[0;31m                                allow_nan=force_all_finite == 'allow-nan')\n\u001b[0m\u001b[1;32m    543\u001b[0m \u001b[0;34m\u001b[0m\u001b[0m\n\u001b[1;32m    544\u001b[0m     \u001b[0;32mif\u001b[0m \u001b[0mensure_min_samples\u001b[0m \u001b[0;34m>\u001b[0m \u001b[0;36m0\u001b[0m\u001b[0;34m:\u001b[0m\u001b[0;34m\u001b[0m\u001b[0;34m\u001b[0m\u001b[0m\n",
      "\u001b[0;32m/usr/local/lib/python3.6/dist-packages/sklearn/utils/validation.py\u001b[0m in \u001b[0;36m_assert_all_finite\u001b[0;34m(X, allow_nan)\u001b[0m\n\u001b[1;32m     54\u001b[0m                 not allow_nan and not np.isfinite(X).all()):\n\u001b[1;32m     55\u001b[0m             \u001b[0mtype_err\u001b[0m \u001b[0;34m=\u001b[0m \u001b[0;34m'infinity'\u001b[0m \u001b[0;32mif\u001b[0m \u001b[0mallow_nan\u001b[0m \u001b[0;32melse\u001b[0m \u001b[0;34m'NaN, infinity'\u001b[0m\u001b[0;34m\u001b[0m\u001b[0;34m\u001b[0m\u001b[0m\n\u001b[0;32m---> 56\u001b[0;31m             \u001b[0;32mraise\u001b[0m \u001b[0mValueError\u001b[0m\u001b[0;34m(\u001b[0m\u001b[0mmsg_err\u001b[0m\u001b[0;34m.\u001b[0m\u001b[0mformat\u001b[0m\u001b[0;34m(\u001b[0m\u001b[0mtype_err\u001b[0m\u001b[0;34m,\u001b[0m \u001b[0mX\u001b[0m\u001b[0;34m.\u001b[0m\u001b[0mdtype\u001b[0m\u001b[0;34m)\u001b[0m\u001b[0;34m)\u001b[0m\u001b[0;34m\u001b[0m\u001b[0;34m\u001b[0m\u001b[0m\n\u001b[0m\u001b[1;32m     57\u001b[0m     \u001b[0;31m# for object dtype data, we only check for NaNs (GH-13254)\u001b[0m\u001b[0;34m\u001b[0m\u001b[0;34m\u001b[0m\u001b[0;34m\u001b[0m\u001b[0m\n\u001b[1;32m     58\u001b[0m     \u001b[0;32melif\u001b[0m \u001b[0mX\u001b[0m\u001b[0;34m.\u001b[0m\u001b[0mdtype\u001b[0m \u001b[0;34m==\u001b[0m \u001b[0mnp\u001b[0m\u001b[0;34m.\u001b[0m\u001b[0mdtype\u001b[0m\u001b[0;34m(\u001b[0m\u001b[0;34m'object'\u001b[0m\u001b[0;34m)\u001b[0m \u001b[0;32mand\u001b[0m \u001b[0;32mnot\u001b[0m \u001b[0mallow_nan\u001b[0m\u001b[0;34m:\u001b[0m\u001b[0;34m\u001b[0m\u001b[0;34m\u001b[0m\u001b[0m\n",
      "\u001b[0;31mValueError\u001b[0m: Input contains NaN, infinity or a value too large for dtype('float64')."
     ]
    }
   ],
   "source": [
    "lcdmmhsamples = dir+'LCDM_py_SN+HD+BBAO_mh_400000_1.txt'\n",
    "cutterSamples(lcdmmhsamples, 'lcdm_mh')\n",
    "MLE = MCEvidence('lcdm_mh_short.txt').evidence()"
   ]
  },
  {
   "cell_type": "code",
   "execution_count": null,
   "metadata": {},
   "outputs": [],
   "source": []
  }
 ],
 "metadata": {
  "kernelspec": {
   "display_name": "Python 3",
   "language": "python",
   "name": "python3"
  },
  "language_info": {
   "codemirror_mode": {
    "name": "ipython",
    "version": 3
   },
   "file_extension": ".py",
   "mimetype": "text/x-python",
   "name": "python",
   "nbconvert_exporter": "python",
   "pygments_lexer": "ipython3",
   "version": "3.6.8"
  }
 },
 "nbformat": 4,
 "nbformat_minor": 2
}
