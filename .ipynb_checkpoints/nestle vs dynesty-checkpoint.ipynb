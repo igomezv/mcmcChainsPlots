{
 "cells": [
  {
   "cell_type": "markdown",
   "metadata": {},
   "source": [
    "# Comparison between nestle and dynesty"
   ]
  },
  {
   "cell_type": "code",
   "execution_count": 19,
   "metadata": {},
   "outputs": [],
   "source": [
    "import os\n",
    "import sys\n",
    "from scipy.special import ndtri\n",
    "import numpy as np\n",
    "from matplotlib import pyplot as plt\n",
    "import corner\n",
    "# import Nestle\n",
    "import nestle\n",
    "#dynesty\n",
    "import dynesty\n",
    "\n",
    "%matplotlib inline"
   ]
  },
  {
   "cell_type": "code",
   "execution_count": 2,
   "metadata": {},
   "outputs": [],
   "source": [
    "#Create data"
   ]
  },
  {
   "cell_type": "code",
   "execution_count": 3,
   "metadata": {},
   "outputs": [],
   "source": [
    "\"\"\"\n",
    "Setup a model and data\n",
    "\"\"\"\n",
    "\n",
    "\n",
    "# set the true values of the model parameters for creating the data\n",
    "m = 3.5 # gradient of the line\n",
    "c = 1.2 # y-intercept of the line\n",
    "\n",
    "# set the \"predictor variable\"/abscissa\n",
    "M = 100\n",
    "xmin = 0.\n",
    "xmax = 10.\n",
    "stepsize = (xmax-xmin)/M\n",
    "x = np.arange(xmin, xmax, stepsize)\n",
    "\n",
    "# define the model function\n",
    "def straight_line(x, m, c):\n",
    "    \"\"\"\n",
    "    A straight line model: y = m*x + c\n",
    "    \n",
    "    Args:\n",
    "        x (list): a set of abscissa points at which the model is defined\n",
    "        m (float): the gradient of the line\n",
    "        c (float): the y-intercept of the line\n",
    "    \"\"\"\n",
    "    \n",
    "    return m*x + c\n",
    "\n",
    "# create the data - the model plus Gaussian noise\n",
    "sigma = 0.5 # standard deviation of the noise\n",
    "data = straight_line(x, m, c) + sigma*np.random.randn(M)\n",
    "\n",
    "\n",
    "LN2PI = np.log(2.*np.pi)\n",
    "LNSIGMA = np.log(sigma)"
   ]
  },
  {
   "cell_type": "markdown",
   "metadata": {},
   "source": [
    "# loglike y prior_transform son las mismas funciones para nestle y dynesty"
   ]
  },
  {
   "cell_type": "code",
   "execution_count": 4,
   "metadata": {},
   "outputs": [],
   "source": [
    "def prior_transform(theta):\n",
    "    \"\"\"\n",
    "    A function defining the tranform between the parameterisation in the unit hypercube\n",
    "    to the true parameters.\n",
    "\n",
    "    Args:\n",
    "        theta (tuple): a tuple containing the parameters.\n",
    "        \n",
    "    Returns:\n",
    "        tuple: a new tuple or array with the transformed parameters.\n",
    "    \"\"\"\n",
    "\n",
    "    mprime, cprime = theta # unpack the parameters (in their unit hypercube form)\n",
    "\n",
    "    cmin = -10.  # lower bound on uniform prior on c\n",
    "    cmax = 10.   # upper bound on uniform prior on c\n",
    "\n",
    "    mmu = 0.     # mean of Gaussian prior on m\n",
    "    msigma = 10. # standard deviation of Gaussian prior on m\n",
    "\n",
    "    m = mmu + msigma*ndtri(mprime) # convert back to m\n",
    "    c = cprime*(cmax-cmin) + cmin  # convert back to c\n",
    "\n",
    "    return (m, c)"
   ]
  },
  {
   "cell_type": "code",
   "execution_count": 5,
   "metadata": {},
   "outputs": [],
   "source": [
    "def loglikelihood_nestle(theta):\n",
    "    \"\"\"\n",
    "    The log-likelihood function.\n",
    "    \"\"\"\n",
    "\n",
    "    m, c = theta # unpack the parameters\n",
    "\n",
    "    # normalisation\n",
    "    norm = -0.5*M*LN2PI - M*LNSIGMA\n",
    "\n",
    "    # chi-squared (data, sigma and x are global variables defined early on in this notebook)\n",
    "    chisq = np.sum(((data-straight_line(x, m, c))/sigma)**2)\n",
    "\n",
    "    return norm - 0.5*chisq"
   ]
  },
  {
   "cell_type": "markdown",
   "metadata": {},
   "source": [
    "# Nestle:\n"
   ]
  },
  {
   "cell_type": "code",
   "execution_count": 6,
   "metadata": {},
   "outputs": [
    {
     "name": "stdout",
     "output_type": "stream",
     "text": [
      "Marginalised evidence is -75.99711664328588 ± 0.10187417045642086\n",
      "Number of posterior samples is 2408\n"
     ]
    },
    {
     "data": {
      "image/png": "[encoded data removed]",
      "text/plain": [
       "<Figure size 396x396 with 4 Axes>"
      ]
     },
     "metadata": {
      "needs_background": "light"
     },
     "output_type": "display_data"
    }
   ],
   "source": [
    "nlive = 1024     # number of live points\n",
    "method = 'multi' # use MutliNest algorithm\n",
    "ndims = 2        # two parameters\n",
    "tol= 0.5         # the stopping criterion (this is the nestle default, so doesn't need to be set)\n",
    "\n",
    "res = nestle.sample(loglikelihood_nestle, prior_transform, ndims, method=method, npoints=nlive, dlogz=tol)\n",
    "\n",
    "logZnestle = res.logz                         # value of logZ\n",
    "infogainnestle = res.h                        # value of the information gain in nats\n",
    "logZerrnestle = np.sqrt(infogainnestle/nlive) # estimate of the statistcal uncertainty on logZ\n",
    "\n",
    "# output marginal likelihood\n",
    "print('Marginalised evidence is {} ± {}'.format(logZnestle, logZerrnestle))\n",
    "\n",
    "# re-scale weights to have a maximum of one\n",
    "nweights = res.weights/np.max(res.weights)\n",
    "\n",
    "# get the probability of keeping a sample from the weights\n",
    "keepidx = np.where(np.random.rand(len(nweights)) < nweights)[0]\n",
    "\n",
    "# get the posterior samples\n",
    "postsamples = res.samples[keepidx,:]\n",
    "\n",
    "print('Number of posterior samples is {}'.format(postsamples.shape[0]))\n",
    "\n",
    "# plot posterior samples (if corner.py is installed)\n",
    "#try:\n",
    "#    import matplotlib as mpl\n",
    "#    mpl.use(\"Agg\") # force Matplotlib backend to Agg\n",
    " # import corner.py\n",
    "#except ImportError:\n",
    "#    sys.exit(1)\n",
    "\n",
    "fig = corner.corner(postsamples, labels=[r\"$m$\", r\"$c$\"], truths=[m, c])\n",
    "#fig.savefig('dynesty.png')\n"
   ]
  },
  {
   "cell_type": "markdown",
   "metadata": {},
   "source": [
    "# dynesty:\n"
   ]
  },
  {
   "cell_type": "code",
   "execution_count": 17,
   "metadata": {},
   "outputs": [
    {
     "name": "stderr",
     "output_type": "stream",
     "text": [
      "14115it [00:21, 656.91it/s, +1024 | bound: 69 | nc: 1 | ncall: 300171 | eff(%):  5.043 | loglstar:   -inf < -64.360 <    inf | logz: -75.790 +/-  0.143 | dlogz:  0.000 >  0.100]\n"
     ]
    },
    {
     "name": "stdout",
     "output_type": "stream",
     "text": [
      "Marginalised evidence (using static sampler) is -75.78982071173694 ± 0.14268985558364747\n",
      "Number of posterior samples (using static sampler) is 15139\n"
     ]
    }
   ],
   "source": [
    "nlive = 1024      # number of (initial) live points\n",
    "bound = 'multi'   # use MutliNest algorithm\n",
    "sample = 'rwalk'  # use the random walk to draw new samples\n",
    "ndims = 2         # two parameters\n",
    "\n",
    "###dsampler = dynesty.DynamicNestedSampler(loglikelihood_nestle, prior_transform, ndims,\n",
    "###                                bound=bound, sample=sample)\n",
    "###dsampler.run_nested(nlive_init=nlive)\n",
    "###dres = dsampler.results\n",
    "\n",
    "###dlogZdynesty = dres.logz[-1]        # value of logZ\n",
    "###dlogZerrdynesty = dres.logzerr[-1]  # estimate of the statistcal uncertainty on logZ\n",
    "\n",
    "# ###output marginal likelihood\n",
    "###print('Marginalised evidence (using dynamic sampler) is {} ± {}'.format(dlogZdynesty, dlogZerrdynesty))\n",
    "\n",
    "# get the posterior samples\n",
    "###dweights = np.exp(dres['logwt'] - dres['logz'][-1])\n",
    "###dpostsamples = resample_equal(dres.samples, dweights)\n",
    "\n",
    "###print('Number of posterior samples (using dynamic sampler) is {}'.format(dpostsamples.shape[0]))\n",
    "\n",
    "# Now run with the static sampler\n",
    "sampler = dynesty.NestedSampler(loglikelihood_nestle, prior_transform, ndims,\n",
    "                        bound=bound, sample=sample, nlive=nlive)\n",
    "sampler.run_nested(dlogz=0.1)\n",
    "\n",
    "res = sampler.results\n",
    "\n",
    "logZdynesty = res.logz[-1]        # value of logZ\n",
    "logZerrdynesty = res.logzerr[-1]  # estimate of the statistcal uncertainty on logZ\n",
    "\n",
    "# output marginal likelihood\n",
    "print('Marginalised evidence (using static sampler) is {} ± {}'.format(logZdynesty, logZerrdynesty))\n",
    "\n",
    "# get the posterior samples\n",
    "weights = np.exp(res['logwt'] - res['logz'][-1])\n",
    "postsamples = dynesty.utils.resample_equal(res.samples, weights)\n",
    "\n",
    "print('Number of posterior samples (using static sampler) is {}'.format(postsamples.shape[0]))\n",
    "\n",
    "# plot posterior samples (if corner.py is installed)\n",
    "\n",
    "\n",
    "###fig = corner.corner(dpostsamples, labels=[r\"$m$\", r\"$c$\"], truths=[m, c], hist_kwargs={'density': True})\n",
    "#fig = corner.corner(postsamples, fig=fig, color='r', hist_kwargs={'density': True})\n",
    "#plt.show()\n",
    "fig = corner.corner(postsamples, labels=[r\"$m$\", r\"$c$\"], color = 'r', truths=[m, c])\n",
    "\n",
    "fig.savefig('dynesty.png')"
   ]
  },
  {
   "cell_type": "code",
   "execution_count": 18,
   "metadata": {},
   "outputs": [],
   "source": [
    "plt.show()"
   ]
  },
  {
   "cell_type": "code",
   "execution_count": null,
   "metadata": {},
   "outputs": [],
   "source": []
  }
 ],
 "metadata": {
  "kernelspec": {
   "display_name": "Python 3",
   "language": "python",
   "name": "python3"
  },
  "language_info": {
   "codemirror_mode": {
    "name": "ipython",
    "version": 3
   },
   "file_extension": ".py",
   "mimetype": "text/x-python",
   "name": "python",
   "nbconvert_exporter": "python",
   "pygments_lexer": "ipython3",
   "version": "3.6.9"
  }
 },
 "nbformat": 4,
 "nbformat_minor": 2
}
