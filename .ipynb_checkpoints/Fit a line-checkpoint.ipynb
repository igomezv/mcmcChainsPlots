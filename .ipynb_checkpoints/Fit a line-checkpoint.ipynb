{
 "cells": [
  {
   "cell_type": "markdown",
   "metadata": {},
   "source": [
    "## Se define el modelo:   "
   ]
  },
  {
   "cell_type": "code",
   "execution_count": 1,
   "metadata": {},
   "outputs": [],
   "source": [
    "def line(x, a, b):\n",
    "    return a*(x)+b"
   ]
  },
  {
   "cell_type": "markdown",
   "metadata": {},
   "source": [
    "## Se cargan librerías: "
   ]
  },
  {
   "cell_type": "code",
   "execution_count": 21,
   "metadata": {},
   "outputs": [
    {
     "name": "stdout",
     "output_type": "stream",
     "text": [
      "Using matplotlib backend: Qt5Agg\n"
     ]
    }
   ],
   "source": [
    "import numpy as np\n",
    "import matplotlib.pyplot as plt\n",
    "import os\n",
    "import sys\n",
    "from scipy.special import ndtri\n",
    "import numpy as np\n",
    "\n",
    "# import Nestle\n",
    "\n",
    "#import nestle\n",
    "import dynesty\n",
    "%matplotlib"
   ]
  },
  {
   "cell_type": "markdown",
   "metadata": {},
   "source": [
    "Se generan puntos dentro del intervalo $[0,10)$"
   ]
  },
  {
   "cell_type": "code",
   "execution_count": 3,
   "metadata": {},
   "outputs": [
    {
     "data": {
      "text/plain": [
       "array([0. , 0.1, 0.2, 0.3, 0.4, 0.5, 0.6, 0.7, 0.8, 0.9, 1. , 1.1, 1.2,\n",
       "       1.3, 1.4, 1.5, 1.6, 1.7, 1.8, 1.9, 2. , 2.1, 2.2, 2.3, 2.4, 2.5,\n",
       "       2.6, 2.7, 2.8, 2.9, 3. , 3.1, 3.2, 3.3, 3.4, 3.5, 3.6, 3.7, 3.8,\n",
       "       3.9, 4. , 4.1, 4.2, 4.3, 4.4, 4.5, 4.6, 4.7, 4.8, 4.9, 5. , 5.1,\n",
       "       5.2, 5.3, 5.4, 5.5, 5.6, 5.7, 5.8, 5.9, 6. , 6.1, 6.2, 6.3, 6.4,\n",
       "       6.5, 6.6, 6.7, 6.8, 6.9, 7. , 7.1, 7.2, 7.3, 7.4, 7.5, 7.6, 7.7,\n",
       "       7.8, 7.9, 8. , 8.1, 8.2, 8.3, 8.4, 8.5, 8.6, 8.7, 8.8, 8.9, 9. ,\n",
       "       9.1, 9.2, 9.3, 9.4, 9.5, 9.6, 9.7, 9.8, 9.9])"
      ]
     },
     "execution_count": 3,
     "metadata": {},
     "output_type": "execute_result"
    }
   ],
   "source": [
    "#x = np.linspace(0, 10 , 100)  \n",
    "x = np.arange(0,10,0.1)\n",
    "x"
   ]
  },
  {
   "cell_type": "markdown",
   "metadata": {},
   "source": [
    "Se genera ruido gaussiano:"
   ]
  },
  {
   "cell_type": "code",
   "execution_count": 4,
   "metadata": {},
   "outputs": [],
   "source": [
    "#noise = np.random.normal(0.01, .01, size=40)\n",
    "sigma = 0.5\n",
    "noise1 = sigma*np.random.rand(len(x))\n",
    "noise2 = sigma*np.random.rand(len(x))\n",
    "x1 = x + noise1\n",
    "x2 = x + noise2\n",
    "noise = np.concatenate((noise1, noise2))"
   ]
  },
  {
   "cell_type": "code",
   "execution_count": 5,
   "metadata": {},
   "outputs": [
    {
     "data": {
      "text/plain": [
       "array([ 0.01243141,  0.16881338,  0.3481015 ,  0.43278687,  0.79623126,\n",
       "        0.89840999,  1.00745891,  0.96546127,  1.14196145,  0.92719714,\n",
       "        1.22711434,  1.40097013,  1.52054743,  1.3138176 ,  1.79001266,\n",
       "        1.9113614 ,  2.07371686,  2.1630887 ,  2.20630763,  2.01506943,\n",
       "        2.34170888,  2.18376053,  2.53954175,  2.35279451,  2.87071234,\n",
       "        2.74354111,  2.96702622,  2.75251378,  2.86114354,  2.90929894,\n",
       "        3.42566591,  3.2847254 ,  3.60641598,  3.6366039 ,  3.80087187,\n",
       "        3.80546323,  4.07719723,  4.08963883,  4.14356909,  4.34454345,\n",
       "        4.28166338,  4.28262407,  4.30363748,  4.52166046,  4.58540342,\n",
       "        4.9385285 ,  5.04912634,  5.12928592,  5.25573823,  4.98799838,\n",
       "        5.12213132,  5.13951886,  5.66872658,  5.35134254,  5.51740387,\n",
       "        5.91066222,  5.94190749,  5.94997454,  6.19745467,  6.2737685 ,\n",
       "        6.27970853,  6.49320886,  6.66369472,  6.49945341,  6.43615591,\n",
       "        6.65940016,  6.80329831,  6.92371102,  6.97267116,  7.11543557,\n",
       "        7.43346728,  7.50812628,  7.20442117,  7.73591349,  7.64517508,\n",
       "        7.54851674,  8.05433176,  7.86255229,  8.06572141,  8.32394058,\n",
       "        8.47022677,  8.30859381,  8.22906763,  8.35669059,  8.65770952,\n",
       "        8.51674684,  8.89743111,  8.8574145 ,  9.08267835,  9.06115811,\n",
       "        9.46198817,  9.56185334,  9.28824564,  9.65692272,  9.86313851,\n",
       "        9.84483708,  9.74030574,  9.84922562, 10.22799994, 10.29003711])"
      ]
     },
     "execution_count": 5,
     "metadata": {},
     "output_type": "execute_result"
    }
   ],
   "source": [
    "x1"
   ]
  },
  {
   "cell_type": "code",
   "execution_count": 6,
   "metadata": {},
   "outputs": [
    {
     "data": {
      "text/plain": [
       "array([ 0.20990628,  0.22070382,  0.2487499 ,  0.33678087,  0.58376709,\n",
       "        0.57862583,  0.97371594,  0.78349509,  0.97882326,  1.17666351,\n",
       "        1.44334299,  1.28419165,  1.52593718,  1.40748257,  1.79542876,\n",
       "        1.90749229,  1.77699952,  1.79946729,  1.80338459,  2.1324543 ,\n",
       "        2.20767558,  2.19705462,  2.36286328,  2.78359159,  2.59606215,\n",
       "        2.58976592,  3.06068639,  2.99341318,  3.10701786,  3.25942122,\n",
       "        3.33789935,  3.57489736,  3.48813465,  3.7945074 ,  3.67932614,\n",
       "        3.70349444,  3.92290249,  3.84966235,  3.88650226,  4.15150139,\n",
       "        4.3816811 ,  4.45724335,  4.36202198,  4.43401356,  4.43226836,\n",
       "        4.86260805,  5.00514649,  5.10692923,  4.93489116,  5.26396305,\n",
       "        5.45262968,  5.49297841,  5.67071427,  5.35709916,  5.82558061,\n",
       "        5.90131653,  6.08413703,  5.99747957,  6.11995374,  6.39819577,\n",
       "        6.32717987,  6.33602056,  6.59126706,  6.58540457,  6.85836636,\n",
       "        6.89782518,  7.09677624,  6.75713777,  7.26896899,  6.90786254,\n",
       "        7.43716817,  7.28136686,  7.21507982,  7.39352919,  7.69573499,\n",
       "        7.60007867,  8.03395688,  7.93420216,  8.02500794,  8.29802536,\n",
       "        8.44161428,  8.56949512,  8.47530673,  8.69764572,  8.75690894,\n",
       "        8.95349329,  8.78686085,  9.11828686,  8.98081793,  9.26338736,\n",
       "        9.25923972,  9.28910521,  9.54348306,  9.39221038,  9.6435758 ,\n",
       "        9.56287658,  9.74626127,  9.9780991 ,  9.8451423 , 10.10258579])"
      ]
     },
     "execution_count": 6,
     "metadata": {},
     "output_type": "execute_result"
    }
   ],
   "source": [
    "x2"
   ]
  },
  {
   "cell_type": "markdown",
   "metadata": {},
   "source": [
    "A la variable $y$ se le asigna la función line más el ruido gaussiano. "
   ]
  },
  {
   "cell_type": "code",
   "execution_count": 7,
   "metadata": {},
   "outputs": [],
   "source": [
    "a = 3\n",
    "b = 5\n",
    "y1 = line(x1, 4, 4)+noise1\n",
    "y2 = line(x2, 3, 5)+noise2"
   ]
  },
  {
   "cell_type": "code",
   "execution_count": 8,
   "metadata": {},
   "outputs": [
    {
     "data": {
      "image/png": "[encoded data removed]",
      "text/plain": [
       "<Figure size 432x288 with 1 Axes>"
      ]
     },
     "metadata": {
      "needs_background": "light"
     },
     "output_type": "display_data"
    }
   ],
   "source": [
    "plt.scatter(x1,y1, color='green', marker='.') \n",
    "plt.scatter(x2,y2, color='blue', marker='.') \n",
    "\n",
    "plt.plot(x, [line(i,3.5,4.5) for i in x], color = 'red')\n",
    "plt.xlim(0,5)\n",
    "plt.ylim(3,20)\n",
    "plt.savefig(\"lines.png\")\n"
   ]
  },
  {
   "cell_type": "code",
   "execution_count": 10,
   "metadata": {},
   "outputs": [],
   "source": [
    "x =  np.concatenate((x1,x2))\n",
    "y = np.concatenate((y1,y2))"
   ]
  },
  {
   "cell_type": "markdown",
   "metadata": {},
   "source": [
    "Se juntan en un solo numpy array los valores de x,y."
   ]
  },
  {
   "cell_type": "code",
   "execution_count": 11,
   "metadata": {},
   "outputs": [
    {
     "data": {
      "text/plain": [
       "array([[1.24314084e-02, 4.06215704e+00],\n",
       "       [1.68813380e-01, 4.74406690e+00],\n",
       "       [3.48101500e-01, 5.54050750e+00],\n",
       "       [4.32786871e-01, 5.86393436e+00],\n",
       "       [7.96231255e-01, 7.58115628e+00],\n",
       "       [8.98409988e-01, 7.99204994e+00],\n",
       "       [1.00745891e+00, 8.43729455e+00],\n",
       "       [9.65461269e-01, 8.12730635e+00],\n",
       "       [1.14196145e+00, 8.90980724e+00],\n",
       "       [9.27197142e-01, 7.73598571e+00],\n",
       "       [1.22711434e+00, 9.13557172e+00],\n",
       "       [1.40097013e+00, 9.90485064e+00],\n",
       "       [1.52054743e+00, 1.04027372e+01],\n",
       "       [1.31381760e+00, 9.26908802e+00],\n",
       "       [1.79001266e+00, 1.15500633e+01],\n",
       "       [1.91136140e+00, 1.20568070e+01],\n",
       "       [2.07371686e+00, 1.27685843e+01],\n",
       "       [2.16308870e+00, 1.31154435e+01],\n",
       "       [2.20630763e+00, 1.32315381e+01],\n",
       "       [2.01506943e+00, 1.21753472e+01],\n",
       "       [2.34170888e+00, 1.37085444e+01],\n",
       "       [2.18376053e+00, 1.28188027e+01],\n",
       "       [2.53954175e+00, 1.44977088e+01],\n",
       "       [2.35279451e+00, 1.34639725e+01],\n",
       "       [2.87071234e+00, 1.59535617e+01],\n",
       "       [2.74354111e+00, 1.52177056e+01],\n",
       "       [2.96702622e+00, 1.62351311e+01],\n",
       "       [2.75251378e+00, 1.50625689e+01],\n",
       "       [2.86114354e+00, 1.55057177e+01],\n",
       "       [2.90929894e+00, 1.56464947e+01],\n",
       "       [3.42566591e+00, 1.81283296e+01],\n",
       "       [3.28472540e+00, 1.73236270e+01],\n",
       "       [3.60641598e+00, 1.88320799e+01],\n",
       "       [3.63660390e+00, 1.88830195e+01],\n",
       "       [3.80087187e+00, 1.96043594e+01],\n",
       "       [3.80546323e+00, 1.95273161e+01],\n",
       "       [4.07719723e+00, 2.07859861e+01],\n",
       "       [4.08963883e+00, 2.07481942e+01],\n",
       "       [4.14356909e+00, 2.09178455e+01],\n",
       "       [4.34454345e+00, 2.18227172e+01],\n",
       "       [4.28166338e+00, 2.14083169e+01],\n",
       "       [4.28262407e+00, 2.13131204e+01],\n",
       "       [4.30363748e+00, 2.13181874e+01],\n",
       "       [4.52166046e+00, 2.23083023e+01],\n",
       "       [4.58540342e+00, 2.25270171e+01],\n",
       "       [4.93852850e+00, 2.41926425e+01],\n",
       "       [5.04912634e+00, 2.46456317e+01],\n",
       "       [5.12928592e+00, 2.49464296e+01],\n",
       "       [5.25573823e+00, 2.54786911e+01],\n",
       "       [4.98799838e+00, 2.40399919e+01],\n",
       "       [5.12213132e+00, 2.46106566e+01],\n",
       "       [5.13951886e+00, 2.45975943e+01],\n",
       "       [5.66872658e+00, 2.71436329e+01],\n",
       "       [5.35134254e+00, 2.54567127e+01],\n",
       "       [5.51740387e+00, 2.61870194e+01],\n",
       "       [5.91066222e+00, 2.80533111e+01],\n",
       "       [5.94190749e+00, 2.81095374e+01],\n",
       "       [5.94997454e+00, 2.80498727e+01],\n",
       "       [6.19745467e+00, 2.91872733e+01],\n",
       "       [6.27376850e+00, 2.94688425e+01],\n",
       "       [6.27970853e+00, 2.93985427e+01],\n",
       "       [6.49320886e+00, 3.03660443e+01],\n",
       "       [6.66369472e+00, 3.11184736e+01],\n",
       "       [6.49945341e+00, 3.01972671e+01],\n",
       "       [6.43615591e+00, 2.97807796e+01],\n",
       "       [6.65940016e+00, 3.07970008e+01],\n",
       "       [6.80329831e+00, 3.14164916e+01],\n",
       "       [6.92371102e+00, 3.19185551e+01],\n",
       "       [6.97267116e+00, 3.20633558e+01],\n",
       "       [7.11543557e+00, 3.26771779e+01],\n",
       "       [7.43346728e+00, 3.41673364e+01],\n",
       "       [7.50812628e+00, 3.44406314e+01],\n",
       "       [7.20442117e+00, 3.28221058e+01],\n",
       "       [7.73591349e+00, 3.53795674e+01],\n",
       "       [7.64517508e+00, 3.48258754e+01],\n",
       "       [7.54851674e+00, 3.42425837e+01],\n",
       "       [8.05433176e+00, 3.66716588e+01],\n",
       "       [7.86255229e+00, 3.56127614e+01],\n",
       "       [8.06572141e+00, 3.65286071e+01],\n",
       "       [8.32394058e+00, 3.77197029e+01],\n",
       "       [8.47022677e+00, 3.83511338e+01],\n",
       "       [8.30859381e+00, 3.74429691e+01],\n",
       "       [8.22906763e+00, 3.69453381e+01],\n",
       "       [8.35669059e+00, 3.74834529e+01],\n",
       "       [8.65770952e+00, 3.88885476e+01],\n",
       "       [8.51674684e+00, 3.80837342e+01],\n",
       "       [8.89743111e+00, 3.98871555e+01],\n",
       "       [8.85741450e+00, 3.95870725e+01],\n",
       "       [9.08267835e+00, 4.06133918e+01],\n",
       "       [9.06115811e+00, 4.04057906e+01],\n",
       "       [9.46198817e+00, 4.23099408e+01],\n",
       "       [9.56185334e+00, 4.27092667e+01],\n",
       "       [9.28824564e+00, 4.12412282e+01],\n",
       "       [9.65692272e+00, 4.29846136e+01],\n",
       "       [9.86313851e+00, 4.39156925e+01],\n",
       "       [9.84483708e+00, 4.37241854e+01],\n",
       "       [9.74030574e+00, 4.31015287e+01],\n",
       "       [9.84922562e+00, 4.35461281e+01],\n",
       "       [1.02279999e+01, 4.53399997e+01],\n",
       "       [1.02900371e+01, 4.55501856e+01],\n",
       "       [2.09906278e-01, 5.83962511e+00],\n",
       "       [2.20703822e-01, 5.78281529e+00],\n",
       "       [2.48749902e-01, 5.79499961e+00],\n",
       "       [3.36780869e-01, 6.04712348e+00],\n",
       "       [5.83767091e-01, 6.93506837e+00],\n",
       "       [5.78625828e-01, 6.81450331e+00],\n",
       "       [9.73715941e-01, 8.29486376e+00],\n",
       "       [7.83495088e-01, 7.43398035e+00],\n",
       "       [9.78823258e-01, 8.11529303e+00],\n",
       "       [1.17666351e+00, 8.80665404e+00],\n",
       "       [1.44334299e+00, 9.77337197e+00],\n",
       "       [1.28419165e+00, 9.03676661e+00],\n",
       "       [1.52593718e+00, 9.90374870e+00],\n",
       "       [1.40748257e+00, 9.32993026e+00],\n",
       "       [1.79542876e+00, 1.07817151e+01],\n",
       "       [1.90749229e+00, 1.11299691e+01],\n",
       "       [1.77699952e+00, 1.05079981e+01],\n",
       "       [1.79946729e+00, 1.04978692e+01],\n",
       "       [1.80338459e+00, 1.04135384e+01],\n",
       "       [2.13245430e+00, 1.16298172e+01],\n",
       "       [2.20767558e+00, 1.18307023e+01],\n",
       "       [2.19705462e+00, 1.16882185e+01],\n",
       "       [2.36286328e+00, 1.22514531e+01],\n",
       "       [2.78359159e+00, 1.38343664e+01],\n",
       "       [2.59606215e+00, 1.29842486e+01],\n",
       "       [2.58976592e+00, 1.28590637e+01],\n",
       "       [3.06068639e+00, 1.46427456e+01],\n",
       "       [2.99341318e+00, 1.42736527e+01],\n",
       "       [3.10701786e+00, 1.46280714e+01],\n",
       "       [3.25942122e+00, 1.51376849e+01],\n",
       "       [3.33789935e+00, 1.53515974e+01],\n",
       "       [3.57489736e+00, 1.61995895e+01],\n",
       "       [3.48813465e+00, 1.57525386e+01],\n",
       "       [3.79450740e+00, 1.68780296e+01],\n",
       "       [3.67932614e+00, 1.63173046e+01],\n",
       "       [3.70349444e+00, 1.63139778e+01],\n",
       "       [3.92290249e+00, 1.70916099e+01],\n",
       "       [3.84966235e+00, 1.66986494e+01],\n",
       "       [3.88650226e+00, 1.67460090e+01],\n",
       "       [4.15150139e+00, 1.77060056e+01],\n",
       "       [4.38168110e+00, 1.85267244e+01],\n",
       "       [4.45724335e+00, 1.87289734e+01],\n",
       "       [4.36202198e+00, 1.82480879e+01],\n",
       "       [4.43401356e+00, 1.84360542e+01],\n",
       "       [4.43226836e+00, 1.83290735e+01],\n",
       "       [4.86260805e+00, 1.99504322e+01],\n",
       "       [5.00514649e+00, 2.04205860e+01],\n",
       "       [5.10692923e+00, 2.07277169e+01],\n",
       "       [4.93489116e+00, 1.99395646e+01],\n",
       "       [5.26396305e+00, 2.11558522e+01],\n",
       "       [5.45262968e+00, 2.18105187e+01],\n",
       "       [5.49297841e+00, 2.18719136e+01],\n",
       "       [5.67071427e+00, 2.24828571e+01],\n",
       "       [5.35709916e+00, 2.11283966e+01],\n",
       "       [5.82558061e+00, 2.29023224e+01],\n",
       "       [5.90131653e+00, 2.31052661e+01],\n",
       "       [6.08413703e+00, 2.37365481e+01],\n",
       "       [5.99747957e+00, 2.32899183e+01],\n",
       "       [6.11995374e+00, 2.36798150e+01],\n",
       "       [6.39819577e+00, 2.46927831e+01],\n",
       "       [6.32717987e+00, 2.43087195e+01],\n",
       "       [6.33602056e+00, 2.42440822e+01],\n",
       "       [6.59126706e+00, 2.51650682e+01],\n",
       "       [6.58540457e+00, 2.50416183e+01],\n",
       "       [6.85836636e+00, 2.60334654e+01],\n",
       "       [6.89782518e+00, 2.60913007e+01],\n",
       "       [7.09677624e+00, 2.67871049e+01],\n",
       "       [6.75713777e+00, 2.53285511e+01],\n",
       "       [7.26896899e+00, 2.72758760e+01],\n",
       "       [6.90786254e+00, 2.57314502e+01],\n",
       "       [7.43716817e+00, 2.77486727e+01],\n",
       "       [7.28136686e+00, 2.70254674e+01],\n",
       "       [7.21507982e+00, 2.66603193e+01],\n",
       "       [7.39352919e+00, 2.72741168e+01],\n",
       "       [7.69573499e+00, 2.83829400e+01],\n",
       "       [7.60007867e+00, 2.79003147e+01],\n",
       "       [8.03395688e+00, 2.95358275e+01],\n",
       "       [7.93420216e+00, 2.90368086e+01],\n",
       "       [8.02500794e+00, 2.93000318e+01],\n",
       "       [8.29802536e+00, 3.02921014e+01],\n",
       "       [8.44161428e+00, 3.07664571e+01],\n",
       "       [8.56949512e+00, 3.11779805e+01],\n",
       "       [8.47530673e+00, 3.07012269e+01],\n",
       "       [8.69764572e+00, 3.14905829e+01],\n",
       "       [8.75690894e+00, 3.16276358e+01],\n",
       "       [8.95349329e+00, 3.23139731e+01],\n",
       "       [8.78686085e+00, 3.15474434e+01],\n",
       "       [9.11828686e+00, 3.27731475e+01],\n",
       "       [8.98081793e+00, 3.21232717e+01],\n",
       "       [9.26338736e+00, 3.31535494e+01],\n",
       "       [9.25923972e+00, 3.30369589e+01],\n",
       "       [9.28910521e+00, 3.30564208e+01],\n",
       "       [9.54348306e+00, 3.39739323e+01],\n",
       "       [9.39221038e+00, 3.32688415e+01],\n",
       "       [9.64357580e+00, 3.41743032e+01],\n",
       "       [9.56287658e+00, 3.37515063e+01],\n",
       "       [9.74626127e+00, 3.43850451e+01],\n",
       "       [9.97809910e+00, 3.52123964e+01],\n",
       "       [9.84514230e+00, 3.45805692e+01],\n",
       "       [1.01025858e+01, 3.55103431e+01]])"
      ]
     },
     "execution_count": 11,
     "metadata": {},
     "output_type": "execute_result"
    }
   ],
   "source": [
    "text = np.empty(len(x)*2)\n",
    "text = np.reshape(text,(len(x),2))\n",
    "for i in range(len(x)):\n",
    "    text[i,:]= x[i],y[i]\n",
    "np.shape(text)\n",
    "text"
   ]
  },
  {
   "cell_type": "markdown",
   "metadata": {},
   "source": [
    "Se guardan archivos de texto tanto para los datos generados (x,y), como los errores:"
   ]
  },
  {
   "cell_type": "code",
   "execution_count": 12,
   "metadata": {},
   "outputs": [],
   "source": [
    "np.savetxt('linemixdata.txt',text)\n",
    "np.savetxt('noiselinemixdata.txt',noise)"
   ]
  },
  {
   "cell_type": "markdown",
   "metadata": {},
   "source": [
    "Creando un txt con la matriz de covarianza creada a partir del ruido en txt."
   ]
  },
  {
   "cell_type": "code",
   "execution_count": 13,
   "metadata": {},
   "outputs": [
    {
     "data": {
      "text/plain": [
       "(200,)"
      ]
     },
     "execution_count": 13,
     "metadata": {},
     "output_type": "execute_result"
    }
   ],
   "source": [
    "errors = np.loadtxt('noiselinemixdata.txt')\n",
    "errorsdiag = np.diag(errors**2)\n",
    "cov = errorsdiag\n",
    "np.savetxt(\"cov_linemix.txt\",errorsdiag)\n",
    "np.shape(errors)"
   ]
  },
  {
   "cell_type": "markdown",
   "metadata": {},
   "source": [
    "Se cargan los datos (x,y) y la matriz de covarianza:"
   ]
  },
  {
   "cell_type": "code",
   "execution_count": 14,
   "metadata": {},
   "outputs": [],
   "source": [
    "data=np.loadtxt('linemixdata.txt')\n",
    "x=data[:,0]\n",
    "y=data[:,1]\n",
    "cov=np.loadtxt('cov_linemix.txt',skiprows=0)"
   ]
  },
  {
   "cell_type": "markdown",
   "metadata": {},
   "source": [
    "Ajustando recta"
   ]
  },
  {
   "cell_type": "code",
   "execution_count": 15,
   "metadata": {},
   "outputs": [],
   "source": [
    "LN2PI = np.log(2.*np.pi)\n",
    "#LNSIGMA = np.log(sigma)\n",
    "M=len(x)\n"
   ]
  },
  {
   "cell_type": "markdown",
   "metadata": {},
   "source": [
    "Escribiendo Priors planos:"
   ]
  },
  {
   "cell_type": "code",
   "execution_count": 16,
   "metadata": {},
   "outputs": [],
   "source": [
    "def prior_transform(theta):\n",
    "    \n",
    "    mprime, cprime = theta # unpack the parameters (in their unit hypercube form)\n",
    "\n",
    "    cmin = -10.  # lower bound on uniform prior on c\n",
    "    cmax = 10.   # upper bound on uniform prior on c\n",
    "\n",
    "    mmin = -10.  # lower bound on uniform prior on c\n",
    "    mmax = 10.   # upper bound on uniform prior on c\n",
    "\n",
    "    m = mprime*(mmax-mmin) + mmin \n",
    "    c = cprime*(cmax-cmin) + cmin  # convert back to c\n",
    "\n",
    "    return (m, c)\n",
    "\n"
   ]
  },
  {
   "cell_type": "markdown",
   "metadata": {},
   "source": [
    "Definiendo un likelihood similar a SuperMC:"
   ]
  },
  {
   "cell_type": "code",
   "execution_count": 17,
   "metadata": {},
   "outputs": [],
   "source": [
    "import scipy.linalg as la\n",
    "from scipy import dot\n",
    "icov = la.inv(cov)\n",
    "#icov = errorsdiag\n",
    "def loglikelihood_nestle(theta):\n",
    "\n",
    "    m, c = theta # unpack the parameters\n",
    "\n",
    "    # normalisation\n",
    "    #norm = -0.5*M*LN2PI - M*LNSIGMA\n",
    "    #norm = -np.log(la.det(errorsdiag))*0.5-0.5*len(x)*np.log(np.pi)\n",
    "\n",
    "    norm = -np.log(la.det(cov))*0.5-0.5*len(x)*np.log(np.pi)\n",
    "    #chisq = np.sum(((y-line(x, m, c))/sigma)**2)\n",
    "    delta = y - line(x,m,c)\n",
    "    chisq = dot(delta,dot(icov,delta))\n",
    "\n",
    "    #return norm - 0.5*chisq\n",
    "    return  norm -0.5*chisq\n",
    "\n"
   ]
  },
  {
   "cell_type": "markdown",
   "metadata": {},
   "source": [
    "Corriendo multinest:"
   ]
  },
  {
   "cell_type": "code",
   "execution_count": 19,
   "metadata": {},
   "outputs": [
    {
     "name": "stderr",
     "output_type": "stream",
     "text": [
      "/home/isidro/.local/lib/python3.6/site-packages/ipykernel_launcher.py:16: DeprecationWarning: scipy.dot is deprecated and will be removed in SciPy 2.0.0, use numpy.dot instead\n",
      "  app.launch_new_instance()\n"
     ]
    },
    {
     "name": "stdout",
     "output_type": "stream",
     "text": [
      "\u001b[Kit=   870 logz=-321885.094730266"
     ]
    },
    {
     "data": {
      "text/plain": [
       "'niter: 871\\nncall: 1540\\nnsamples: 911\\nlogz: -321885.085 +/-  0.636\\nh: 16.187'"
      ]
     },
     "execution_count": 19,
     "metadata": {},
     "output_type": "execute_result"
    }
   ],
   "source": [
    "#nlive = 1024     # number of live points\n",
    "nlive = 40\n",
    "method = 'multi' # use MutliNest algorithm\n",
    "ndims = 2        # two parameters\n",
    "tol= 0.01         # the stopping criterion (this is the nestle default, so doesn't need to be set)\n",
    "\n",
    "res = dynesty.NestedSampler(loglikelihood_nestle, prior_transform, ndims, \n",
    "                    bounds=method, npoints=nlive, dlogz=tol,  callback=nestle.print_progress)\n",
    "\n",
    "res.summary()"
   ]
  },
  {
   "cell_type": "code",
   "execution_count": 20,
   "metadata": {},
   "outputs": [
    {
     "name": "stderr",
     "output_type": "stream",
     "text": [
      "/home/isidro/.local/lib/python3.6/site-packages/ipykernel_launcher.py:16: DeprecationWarning: scipy.dot is deprecated and will be removed in SciPy 2.0.0, use numpy.dot instead\n",
      "  app.launch_new_instance()\n"
     ]
    },
    {
     "name": "stdout",
     "output_type": "stream",
     "text": [
      "\u001b[Kit=   138 logz=-1216594.40133079"
     ]
    },
    {
     "ename": "KeyboardInterrupt",
     "evalue": "",
     "output_type": "error",
     "traceback": [
      "\u001b[0;31m---------------------------------------------------------------------------\u001b[0m",
      "\u001b[0;31mKeyboardInterrupt\u001b[0m                         Traceback (most recent call last)",
      "\u001b[0;32m<ipython-input-20-14c7bb0de81a>\u001b[0m in \u001b[0;36m<module>\u001b[0;34m\u001b[0m\n\u001b[1;32m      5\u001b[0m \u001b[0;34m\u001b[0m\u001b[0m\n\u001b[1;32m      6\u001b[0m res = nestle.sample(loglikelihood_nestle, prior_transform, ndims, \n\u001b[0;32m----> 7\u001b[0;31m                     method=method, npoints=nlive, dlogz=tol,  callback=nestle.print_progress)\n\u001b[0m\u001b[1;32m      8\u001b[0m \u001b[0;34m\u001b[0m\u001b[0m\n\u001b[1;32m      9\u001b[0m \u001b[0mres\u001b[0m\u001b[0;34m.\u001b[0m\u001b[0msummary\u001b[0m\u001b[0;34m(\u001b[0m\u001b[0;34m)\u001b[0m\u001b[0;34m\u001b[0m\u001b[0;34m\u001b[0m\u001b[0m\n",
      "\u001b[0;32m/usr/local/lib/python3.6/dist-packages/nestle.py\u001b[0m in \u001b[0;36msample\u001b[0;34m(loglikelihood, prior_transform, ndim, npoints, method, update_interval, npdim, maxiter, maxcall, dlogz, decline_factor, rstate, callback, **options)\u001b[0m\n\u001b[1;32m    927\u001b[0m         \u001b[0;31m# Choose a new point from within the likelihood constraint\u001b[0m\u001b[0;34m\u001b[0m\u001b[0;34m\u001b[0m\u001b[0;34m\u001b[0m\u001b[0m\n\u001b[1;32m    928\u001b[0m         \u001b[0;31m# (having logl > loglstar).\u001b[0m\u001b[0;34m\u001b[0m\u001b[0;34m\u001b[0m\u001b[0;34m\u001b[0m\u001b[0m\n\u001b[0;32m--> 929\u001b[0;31m         \u001b[0mu\u001b[0m\u001b[0;34m,\u001b[0m \u001b[0mv\u001b[0m\u001b[0;34m,\u001b[0m \u001b[0mlogl\u001b[0m\u001b[0;34m,\u001b[0m \u001b[0mnc\u001b[0m \u001b[0;34m=\u001b[0m \u001b[0msampler\u001b[0m\u001b[0;34m.\u001b[0m\u001b[0mnew_point\u001b[0m\u001b[0;34m(\u001b[0m\u001b[0mloglstar\u001b[0m\u001b[0;34m)\u001b[0m\u001b[0;34m\u001b[0m\u001b[0;34m\u001b[0m\u001b[0m\n\u001b[0m\u001b[1;32m    930\u001b[0m \u001b[0;34m\u001b[0m\u001b[0m\n\u001b[1;32m    931\u001b[0m         \u001b[0;31m# replace worst point with new point\u001b[0m\u001b[0;34m\u001b[0m\u001b[0;34m\u001b[0m\u001b[0;34m\u001b[0m\u001b[0m\n",
      "\u001b[0;32m/usr/local/lib/python3.6/dist-packages/nestle.py\u001b[0m in \u001b[0;36mnew_point\u001b[0;34m(self, loglstar)\u001b[0m\n\u001b[1;32m    668\u001b[0m                     \u001b[0;32mbreak\u001b[0m\u001b[0;34m\u001b[0m\u001b[0;34m\u001b[0m\u001b[0m\n\u001b[1;32m    669\u001b[0m             \u001b[0mv\u001b[0m \u001b[0;34m=\u001b[0m \u001b[0mself\u001b[0m\u001b[0;34m.\u001b[0m\u001b[0mprior_transform\u001b[0m\u001b[0;34m(\u001b[0m\u001b[0mu\u001b[0m\u001b[0;34m)\u001b[0m\u001b[0;34m\u001b[0m\u001b[0;34m\u001b[0m\u001b[0m\n\u001b[0;32m--> 670\u001b[0;31m             \u001b[0mlogl\u001b[0m \u001b[0;34m=\u001b[0m \u001b[0mself\u001b[0m\u001b[0;34m.\u001b[0m\u001b[0mloglikelihood\u001b[0m\u001b[0;34m(\u001b[0m\u001b[0mv\u001b[0m\u001b[0;34m)\u001b[0m\u001b[0;34m\u001b[0m\u001b[0;34m\u001b[0m\u001b[0m\n\u001b[0m\u001b[1;32m    671\u001b[0m             \u001b[0mncall\u001b[0m \u001b[0;34m+=\u001b[0m \u001b[0;36m1\u001b[0m\u001b[0;34m\u001b[0m\u001b[0;34m\u001b[0m\u001b[0m\n\u001b[1;32m    672\u001b[0m             \u001b[0;32mif\u001b[0m \u001b[0mlogl\u001b[0m \u001b[0;34m>=\u001b[0m \u001b[0mloglstar\u001b[0m\u001b[0;34m:\u001b[0m\u001b[0;34m\u001b[0m\u001b[0;34m\u001b[0m\u001b[0m\n",
      "\u001b[0;32m<ipython-input-17-33d0eaf63d5f>\u001b[0m in \u001b[0;36mloglikelihood_nestle\u001b[0;34m(theta)\u001b[0m\n\u001b[1;32m     11\u001b[0m     \u001b[0;31m#norm = -np.log(la.det(errorsdiag))*0.5-0.5*len(x)*np.log(np.pi)\u001b[0m\u001b[0;34m\u001b[0m\u001b[0;34m\u001b[0m\u001b[0;34m\u001b[0m\u001b[0m\n\u001b[1;32m     12\u001b[0m \u001b[0;34m\u001b[0m\u001b[0m\n\u001b[0;32m---> 13\u001b[0;31m     \u001b[0mnorm\u001b[0m \u001b[0;34m=\u001b[0m \u001b[0;34m-\u001b[0m\u001b[0mnp\u001b[0m\u001b[0;34m.\u001b[0m\u001b[0mlog\u001b[0m\u001b[0;34m(\u001b[0m\u001b[0mla\u001b[0m\u001b[0;34m.\u001b[0m\u001b[0mdet\u001b[0m\u001b[0;34m(\u001b[0m\u001b[0mcov\u001b[0m\u001b[0;34m)\u001b[0m\u001b[0;34m)\u001b[0m\u001b[0;34m*\u001b[0m\u001b[0;36m0.5\u001b[0m\u001b[0;34m-\u001b[0m\u001b[0;36m0.5\u001b[0m\u001b[0;34m*\u001b[0m\u001b[0mlen\u001b[0m\u001b[0;34m(\u001b[0m\u001b[0mx\u001b[0m\u001b[0;34m)\u001b[0m\u001b[0;34m*\u001b[0m\u001b[0mnp\u001b[0m\u001b[0;34m.\u001b[0m\u001b[0mlog\u001b[0m\u001b[0;34m(\u001b[0m\u001b[0mnp\u001b[0m\u001b[0;34m.\u001b[0m\u001b[0mpi\u001b[0m\u001b[0;34m)\u001b[0m\u001b[0;34m\u001b[0m\u001b[0;34m\u001b[0m\u001b[0m\n\u001b[0m\u001b[1;32m     14\u001b[0m     \u001b[0;31m#chisq = np.sum(((y-line(x, m, c))/sigma)**2)\u001b[0m\u001b[0;34m\u001b[0m\u001b[0;34m\u001b[0m\u001b[0;34m\u001b[0m\u001b[0m\n\u001b[1;32m     15\u001b[0m     \u001b[0mdelta\u001b[0m \u001b[0;34m=\u001b[0m \u001b[0my\u001b[0m \u001b[0;34m-\u001b[0m \u001b[0mline\u001b[0m\u001b[0;34m(\u001b[0m\u001b[0mx\u001b[0m\u001b[0;34m,\u001b[0m\u001b[0mm\u001b[0m\u001b[0;34m,\u001b[0m\u001b[0mc\u001b[0m\u001b[0;34m)\u001b[0m\u001b[0;34m\u001b[0m\u001b[0;34m\u001b[0m\u001b[0m\n",
      "\u001b[0;32m~/.local/lib/python3.6/site-packages/scipy/linalg/basic.py\u001b[0m in \u001b[0;36mdet\u001b[0;34m(a, overwrite_a, check_finite)\u001b[0m\n\u001b[1;32m   1037\u001b[0m     \u001b[0moverwrite_a\u001b[0m \u001b[0;34m=\u001b[0m \u001b[0moverwrite_a\u001b[0m \u001b[0;32mor\u001b[0m \u001b[0m_datacopied\u001b[0m\u001b[0;34m(\u001b[0m\u001b[0ma1\u001b[0m\u001b[0;34m,\u001b[0m \u001b[0ma\u001b[0m\u001b[0;34m)\u001b[0m\u001b[0;34m\u001b[0m\u001b[0;34m\u001b[0m\u001b[0m\n\u001b[1;32m   1038\u001b[0m     \u001b[0mfdet\u001b[0m\u001b[0;34m,\u001b[0m \u001b[0;34m=\u001b[0m \u001b[0mget_flinalg_funcs\u001b[0m\u001b[0;34m(\u001b[0m\u001b[0;34m(\u001b[0m\u001b[0;34m'det'\u001b[0m\u001b[0;34m,\u001b[0m\u001b[0;34m)\u001b[0m\u001b[0;34m,\u001b[0m \u001b[0;34m(\u001b[0m\u001b[0ma1\u001b[0m\u001b[0;34m,\u001b[0m\u001b[0;34m)\u001b[0m\u001b[0;34m)\u001b[0m\u001b[0;34m\u001b[0m\u001b[0;34m\u001b[0m\u001b[0m\n\u001b[0;32m-> 1039\u001b[0;31m     \u001b[0ma_det\u001b[0m\u001b[0;34m,\u001b[0m \u001b[0minfo\u001b[0m \u001b[0;34m=\u001b[0m \u001b[0mfdet\u001b[0m\u001b[0;34m(\u001b[0m\u001b[0ma1\u001b[0m\u001b[0;34m,\u001b[0m \u001b[0moverwrite_a\u001b[0m\u001b[0;34m=\u001b[0m\u001b[0moverwrite_a\u001b[0m\u001b[0;34m)\u001b[0m\u001b[0;34m\u001b[0m\u001b[0;34m\u001b[0m\u001b[0m\n\u001b[0m\u001b[1;32m   1040\u001b[0m     \u001b[0;32mif\u001b[0m \u001b[0minfo\u001b[0m \u001b[0;34m<\u001b[0m \u001b[0;36m0\u001b[0m\u001b[0;34m:\u001b[0m\u001b[0;34m\u001b[0m\u001b[0;34m\u001b[0m\u001b[0m\n\u001b[1;32m   1041\u001b[0m         raise ValueError('illegal value in %d-th argument of internal '\n",
      "\u001b[0;31mKeyboardInterrupt\u001b[0m: "
     ]
    }
   ],
   "source": [
    "nlive = 40\n",
    "method = 'multi' # use MutliNest algorithm\n",
    "ndims = 2        # two parameters\n",
    "tol= 0.01         # the stopping criterion (this is the nestle default, so doesn't need to be set)\n",
    "\n",
    "res = nestle.sample(loglikelihood_nestle, prior_transform, ndims, \n",
    "                    method=method, npoints=nlive, dlogz=tol,  callback=nestle.print_progress)\n",
    "\n",
    "res.summary()"
   ]
  },
  {
   "cell_type": "code",
   "execution_count": 16,
   "metadata": {},
   "outputs": [
    {
     "name": "stdout",
     "output_type": "stream",
     "text": [
      "Marginalised evidence is 43.1917050947816 ± 0.6054941768465844\n"
     ]
    }
   ],
   "source": [
    "logZnestle = res.logz                         # value of logZ\n",
    "infogainnestle = res.h                        # value of the information gain in nats\n",
    "logZerrnestle = np.sqrt(infogainnestle/nlive) # estimate of the statistcal uncertainty on logZ\n",
    "\n",
    "# output marginal likelihood\n",
    "print('Marginalised evidence is {} ± {}'.format(logZnestle, logZerrnestle))\n",
    "\n"
   ]
  },
  {
   "cell_type": "code",
   "execution_count": 17,
   "metadata": {},
   "outputs": [
    {
     "name": "stderr",
     "output_type": "stream",
     "text": [
      "WARNING:root:Too few points to create valid contours\n"
     ]
    },
    {
     "name": "stdout",
     "output_type": "stream",
     "text": [
      "Number of posterior samples is 96\n"
     ]
    },
    {
     "data": {
      "image/png": "[encoded data removed]",
      "text/plain": [
       "<Figure size 396x396 with 4 Axes>"
      ]
     },
     "execution_count": 17,
     "metadata": {},
     "output_type": "execute_result"
    },
    {
     "data": {
      "image/png": "[encoded data removed]",
      "text/plain": [
       "<Figure size 396x396 with 4 Axes>"
      ]
     },
     "metadata": {
      "needs_background": "light"
     },
     "output_type": "display_data"
    }
   ],
   "source": [
    "# re-scale weights to have a maximum of one\n",
    "nweights = res.weights/np.max(res.weights)\n",
    "\n",
    "# get the probability of keeping a sample from the weights\n",
    "keepidx = np.where(np.random.rand(len(nweights)) < nweights)[0]\n",
    "\n",
    "# get the posterior samples\n",
    "postsamples = res.samples[keepidx,:]\n",
    "#postsamples = res.samples\n",
    "\n",
    "print('Number of posterior samples is {}'.format(postsamples.shape[0]))\n",
    "\n",
    "# plot posterior samples (if corner.py is installed)\n",
    "try:\n",
    "    import matplotlib as mpl\n",
    "    mpl.use(\"Agg\") # force Matplotlib backend to Agg\n",
    "    import corner # import corner.py\n",
    "except ImportError:\n",
    "    sys.exit(1)\n",
    "\n",
    "corner.corner(postsamples, labels=[r\"$m$\", r\"$c$\"], truths=[2, 4], show_titles=True)\n",
    "#fig.savefig('Nestle.png')"
   ]
  },
  {
   "cell_type": "markdown",
   "metadata": {},
   "source": [
    "## Probando EMCEE"
   ]
  },
  {
   "cell_type": "code",
   "execution_count": 21,
   "metadata": {},
   "outputs": [],
   "source": [
    "import emcee"
   ]
  },
  {
   "cell_type": "code",
   "execution_count": 37,
   "metadata": {},
   "outputs": [],
   "source": [
    "def logposterior(theta, data, sigma, x):\n",
    "    \"\"\"\n",
    "    The natural logarithm of the joint posterior.\n",
    "    \n",
    "    Args:\n",
    "        theta (tuple): a sample containing individual parameter values\n",
    "        data (list): the set of data/observations\n",
    "        sigma (float): the standard deviation of the data points\n",
    "        x (list): the abscissa values at which the data/model is defined\n",
    "    \"\"\"\n",
    "    \n",
    "    lp = logprior(theta) # get the prior\n",
    "    \n",
    "    # if the prior is not finite return a probability of zero (log probability of -inf)\n",
    "    if not np.isfinite(lp):\n",
    "        return -np.inf\n",
    "    \n",
    "    # return the likeihood times the prior (log likelihood plus the log prior)\n",
    "    #return lp + loglikelihood(theta, data, sigma, x)\n",
    "    return lp + loglikelihood"
   ]
  },
  {
   "cell_type": "code",
   "execution_count": 44,
   "metadata": {},
   "outputs": [],
   "source": [
    "def loglikelihood(theta, data, sigma, x):\n",
    "    \"\"\"\n",
    "    The natural logarithm of the joint likelihood.\n",
    "    \n",
    "    Args:\n",
    "        theta (tuple): a sample containing individual parameter values\n",
    "        data (list): the set of data/observations\n",
    "        sigma (float): the standard deviation of the data points\n",
    "        x (list): the abscissa values at which the data/model is defined\n",
    "    \n",
    "    Note:\n",
    "        We do not include the normalisation constants (as discussed above).\n",
    "    \"\"\"\n",
    "    \n",
    "    # unpack the model parameters from the tuple\n",
    "    m, c = theta\n",
    "    \n",
    "    # evaluate the model (assumes that the straight_line model is defined as above)\n",
    "    md = line(x, m, c)\n",
    "    \n",
    "    # return the log likelihood\n",
    "    #return -0.5*np.sum(((md - data)/sigma)**2)\n",
    "    return -0.5*np.sum(((md - y)/sigma)**2)"
   ]
  },
  {
   "cell_type": "code",
   "execution_count": 45,
   "metadata": {},
   "outputs": [],
   "source": [
    "def logprior(theta):\n",
    "    \"\"\"\n",
    "    The natural logarithm of the prior probability.\n",
    "    \n",
    "    Args:\n",
    "        theta (tuple): a sample containing individual parameter values\n",
    "    \n",
    "    Note:\n",
    "        We can ignore the normalisations of the prior here.\n",
    "    \"\"\"\n",
    "    \n",
    "    lp = 0.\n",
    "    \n",
    "    # unpack the model parameters from the tuple\n",
    "    m, c = theta\n",
    "    \n",
    "    # uniform prior on c\n",
    "    cmin = -10. # lower range of prior\n",
    "    cmax = 10.  # upper range of prior\n",
    "    \n",
    "    # set prior to 1 (log prior to 0) if in the range and zero (-inf) outside the range \n",
    "    lp = 0. if cmin < c < cmax else -np.inf\n",
    "    \n",
    "    # Gaussian prior on m\n",
    "    mmu = 0.     # mean of the Gaussian prior\n",
    "    msigma = 10. # standard deviation of the Gaussian prior\n",
    "    lp -= 0.5*((m - mmu)/msigma)**2\n",
    "    \n",
    "    return lp"
   ]
  },
  {
   "cell_type": "code",
   "execution_count": 48,
   "metadata": {},
   "outputs": [
    {
     "name": "stdout",
     "output_type": "stream",
     "text": [
      "emcee: Exception while calling your likelihood function:\n",
      "  params: [-2.477107    4.79880382]\n",
      "  args: (array([[ 0.        ,  4.04138186],\n",
      "       [ 0.1       ,  4.3385335 ],\n",
      "       [ 0.2       ,  4.72267524],\n",
      "       [ 0.3       ,  4.92039846],\n",
      "       [ 0.4       ,  4.92471793],\n",
      "       [ 0.5       ,  5.22499116],\n",
      "       [ 0.6       ,  5.45925973],\n",
      "       [ 0.7       ,  5.87371288],\n",
      "       [ 0.8       ,  5.92713367],\n",
      "       [ 0.9       ,  6.20766903],\n",
      "       [ 1.        ,  6.31623752],\n",
      "       [ 1.1       ,  6.63189406],\n",
      "       [ 1.2       ,  6.88187894],\n",
      "       [ 1.3       ,  6.66500737],\n",
      "       [ 1.4       ,  7.2943981 ],\n",
      "       [ 1.5       ,  7.19966283],\n",
      "       [ 1.6       ,  7.34065015],\n",
      "       [ 1.7       ,  7.69895617],\n",
      "       [ 1.8       ,  7.75336568],\n",
      "       [ 1.9       ,  7.89611533],\n",
      "       [ 2.        ,  8.14924207],\n",
      "       [ 2.1       ,  8.5452953 ],\n",
      "       [ 2.2       ,  8.84084   ],\n",
      "       [ 2.3       ,  9.03417722],\n",
      "       [ 2.4       ,  9.11605922],\n",
      "       [ 2.5       ,  9.22420768],\n",
      "       [ 2.6       ,  9.20326948],\n",
      "       [ 2.7       ,  9.8216495 ],\n",
      "       [ 2.8       ,  9.81832353],\n",
      "       [ 2.9       ,  9.93080472],\n",
      "       [ 3.        , 10.34699224],\n",
      "       [ 3.1       , 10.25707596],\n",
      "       [ 3.2       , 10.50940409],\n",
      "       [ 3.3       , 10.86555385],\n",
      "       [ 3.4       , 11.24303038],\n",
      "       [ 3.5       , 11.40763309],\n",
      "       [ 3.6       , 11.2148798 ],\n",
      "       [ 3.7       , 11.42499558],\n",
      "       [ 3.8       , 11.97334183],\n",
      "       [ 3.9       , 12.17679048],\n",
      "       [ 4.        , 12.39752658],\n",
      "       [ 4.1       , 12.5757848 ],\n",
      "       [ 4.2       , 12.65354937],\n",
      "       [ 4.3       , 12.83616357],\n",
      "       [ 4.4       , 13.06275008],\n",
      "       [ 4.5       , 13.40877493],\n",
      "       [ 4.6       , 13.37519284],\n",
      "       [ 4.7       , 13.53665819],\n",
      "       [ 4.8       , 13.61723844],\n",
      "       [ 4.9       , 13.9079241 ],\n",
      "       [ 5.        , 14.28169931],\n",
      "       [ 5.1       , 14.33601365],\n",
      "       [ 5.2       , 14.81673282],\n",
      "       [ 5.3       , 14.94449432],\n",
      "       [ 5.4       , 15.250879  ],\n",
      "       [ 5.5       , 15.28709999],\n",
      "       [ 5.6       , 15.35355288],\n",
      "       [ 5.7       , 15.57461089],\n",
      "       [ 5.8       , 15.86393108],\n",
      "       [ 5.9       , 15.93547465],\n",
      "       [ 6.        , 16.07480142],\n",
      "       [ 6.1       , 16.56071454],\n",
      "       [ 6.2       , 16.83869876],\n",
      "       [ 6.3       , 16.82370581],\n",
      "       [ 6.4       , 17.18815069],\n",
      "       [ 6.5       , 17.42667476],\n",
      "       [ 6.6       , 17.45444574],\n",
      "       [ 6.7       , 17.85105927],\n",
      "       [ 6.8       , 17.77207475],\n",
      "       [ 6.9       , 18.19500977],\n",
      "       [ 7.        , 18.39151383],\n",
      "       [ 7.1       , 18.63940659],\n",
      "       [ 7.2       , 18.48203483],\n",
      "       [ 7.3       , 18.77232996],\n",
      "       [ 7.4       , 19.23776257],\n",
      "       [ 7.5       , 19.42765616],\n",
      "       [ 7.6       , 19.53039625],\n",
      "       [ 7.7       , 19.85464428],\n",
      "       [ 7.8       , 19.80628883],\n",
      "       [ 7.9       , 20.02839001],\n",
      "       [ 8.        , 20.12251559],\n",
      "       [ 8.1       , 20.55372049],\n",
      "       [ 8.2       , 20.64906319],\n",
      "       [ 8.3       , 20.9816939 ],\n",
      "       [ 8.4       , 21.15866162],\n",
      "       [ 8.5       , 21.14510368],\n",
      "       [ 8.6       , 21.39355446],\n",
      "       [ 8.7       , 21.8256924 ],\n",
      "       [ 8.8       , 21.74651419],\n",
      "       [ 8.9       , 21.90950838],\n",
      "       [ 9.        , 22.20663195],\n",
      "       [ 9.1       , 22.60019799],\n",
      "       [ 9.2       , 22.46457516],\n",
      "       [ 9.3       , 22.97418239],\n",
      "       [ 9.4       , 22.84287251],\n",
      "       [ 9.5       , 23.29808533],\n",
      "       [ 9.6       , 23.50909928],\n",
      "       [ 9.7       , 23.55455008],\n",
      "       [ 9.8       , 23.94537609],\n",
      "       [ 9.9       , 24.12137761]]), 0.5, array([0. , 0.1, 0.2, 0.3, 0.4, 0.5, 0.6, 0.7, 0.8, 0.9, 1. , 1.1, 1.2,\n",
      "       1.3, 1.4, 1.5, 1.6, 1.7, 1.8, 1.9, 2. , 2.1, 2.2, 2.3, 2.4, 2.5,\n",
      "       2.6, 2.7, 2.8, 2.9, 3. , 3.1, 3.2, 3.3, 3.4, 3.5, 3.6, 3.7, 3.8,\n",
      "       3.9, 4. , 4.1, 4.2, 4.3, 4.4, 4.5, 4.6, 4.7, 4.8, 4.9, 5. , 5.1,\n",
      "       5.2, 5.3, 5.4, 5.5, 5.6, 5.7, 5.8, 5.9, 6. , 6.1, 6.2, 6.3, 6.4,\n",
      "       6.5, 6.6, 6.7, 6.8, 6.9, 7. , 7.1, 7.2, 7.3, 7.4, 7.5, 7.6, 7.7,\n",
      "       7.8, 7.9, 8. , 8.1, 8.2, 8.3, 8.4, 8.5, 8.6, 8.7, 8.8, 8.9, 9. ,\n",
      "       9.1, 9.2, 9.3, 9.4, 9.5, 9.6, 9.7, 9.8, 9.9]))\n",
      "  kwargs: {}\n",
      "  exception:\n"
     ]
    },
    {
     "name": "stderr",
     "output_type": "stream",
     "text": [
      "Traceback (most recent call last):\n",
      "  File \"/usr/local/lib/python3.6/dist-packages/emcee/ensemble.py\", line 519, in __call__\n",
      "    return self.f(x, *self.args, **self.kwargs)\n",
      "  File \"<ipython-input-37-217388530f17>\", line 20, in logposterior\n",
      "    return lp + loglikelihood\n",
      "TypeError: unsupported operand type(s) for +: 'float' and 'function'\n"
     ]
    },
    {
     "ename": "TypeError",
     "evalue": "unsupported operand type(s) for +: 'float' and 'function'",
     "output_type": "error",
     "traceback": [
      "\u001b[0;31m---------------------------------------------------------------------------\u001b[0m",
      "\u001b[0;31mTypeError\u001b[0m                                 Traceback (most recent call last)",
      "\u001b[0;32m<ipython-input-48-f32f19585d47>\u001b[0m in \u001b[0;36m<module>\u001b[0;34m\u001b[0m\n\u001b[1;32m     25\u001b[0m \u001b[0;34m\u001b[0m\u001b[0m\n\u001b[1;32m     26\u001b[0m \u001b[0;31m# pass the initial samples and total number of samples required\u001b[0m\u001b[0;34m\u001b[0m\u001b[0;34m\u001b[0m\u001b[0;34m\u001b[0m\u001b[0m\n\u001b[0;32m---> 27\u001b[0;31m \u001b[0msampler\u001b[0m\u001b[0;34m.\u001b[0m\u001b[0mrun_mcmc\u001b[0m\u001b[0;34m(\u001b[0m\u001b[0minisamples\u001b[0m\u001b[0;34m,\u001b[0m \u001b[0mNsamples\u001b[0m\u001b[0;34m+\u001b[0m\u001b[0mNburnin\u001b[0m\u001b[0;34m)\u001b[0m\u001b[0;34m;\u001b[0m\u001b[0;34m\u001b[0m\u001b[0;34m\u001b[0m\u001b[0m\n\u001b[0m",
      "\u001b[0;32m/usr/local/lib/python3.6/dist-packages/emcee/sampler.py\u001b[0m in \u001b[0;36mrun_mcmc\u001b[0;34m(self, pos0, N, rstate0, lnprob0, **kwargs)\u001b[0m\n\u001b[1;32m    170\u001b[0m \u001b[0;34m\u001b[0m\u001b[0m\n\u001b[1;32m    171\u001b[0m         for results in self.sample(pos0, lnprob0, rstate0, iterations=N,\n\u001b[0;32m--> 172\u001b[0;31m                                    **kwargs):\n\u001b[0m\u001b[1;32m    173\u001b[0m             \u001b[0;32mpass\u001b[0m\u001b[0;34m\u001b[0m\u001b[0;34m\u001b[0m\u001b[0m\n\u001b[1;32m    174\u001b[0m \u001b[0;34m\u001b[0m\u001b[0m\n",
      "\u001b[0;32m/usr/local/lib/python3.6/dist-packages/emcee/ensemble.py\u001b[0m in \u001b[0;36msample\u001b[0;34m(self, p0, lnprob0, rstate0, blobs0, iterations, thin, storechain, mh_proposal)\u001b[0m\n\u001b[1;32m    196\u001b[0m         \u001b[0mblobs\u001b[0m \u001b[0;34m=\u001b[0m \u001b[0mblobs0\u001b[0m\u001b[0;34m\u001b[0m\u001b[0;34m\u001b[0m\u001b[0m\n\u001b[1;32m    197\u001b[0m         \u001b[0;32mif\u001b[0m \u001b[0mlnprob\u001b[0m \u001b[0;32mis\u001b[0m \u001b[0;32mNone\u001b[0m\u001b[0;34m:\u001b[0m\u001b[0;34m\u001b[0m\u001b[0;34m\u001b[0m\u001b[0m\n\u001b[0;32m--> 198\u001b[0;31m             \u001b[0mlnprob\u001b[0m\u001b[0;34m,\u001b[0m \u001b[0mblobs\u001b[0m \u001b[0;34m=\u001b[0m \u001b[0mself\u001b[0m\u001b[0;34m.\u001b[0m\u001b[0m_get_lnprob\u001b[0m\u001b[0;34m(\u001b[0m\u001b[0mp\u001b[0m\u001b[0;34m)\u001b[0m\u001b[0;34m\u001b[0m\u001b[0;34m\u001b[0m\u001b[0m\n\u001b[0m\u001b[1;32m    199\u001b[0m \u001b[0;34m\u001b[0m\u001b[0m\n\u001b[1;32m    200\u001b[0m         \u001b[0;31m# Check to make sure that the probability function didn't return\u001b[0m\u001b[0;34m\u001b[0m\u001b[0;34m\u001b[0m\u001b[0;34m\u001b[0m\u001b[0m\n",
      "\u001b[0;32m/usr/local/lib/python3.6/dist-packages/emcee/ensemble.py\u001b[0m in \u001b[0;36m_get_lnprob\u001b[0;34m(self, pos)\u001b[0m\n\u001b[1;32m    380\u001b[0m \u001b[0;34m\u001b[0m\u001b[0m\n\u001b[1;32m    381\u001b[0m         \u001b[0;31m# Run the log-probability calculations (optionally in parallel).\u001b[0m\u001b[0;34m\u001b[0m\u001b[0;34m\u001b[0m\u001b[0;34m\u001b[0m\u001b[0m\n\u001b[0;32m--> 382\u001b[0;31m         \u001b[0mresults\u001b[0m \u001b[0;34m=\u001b[0m \u001b[0mlist\u001b[0m\u001b[0;34m(\u001b[0m\u001b[0mM\u001b[0m\u001b[0;34m(\u001b[0m\u001b[0mself\u001b[0m\u001b[0;34m.\u001b[0m\u001b[0mlnprobfn\u001b[0m\u001b[0;34m,\u001b[0m \u001b[0;34m[\u001b[0m\u001b[0mp\u001b[0m\u001b[0;34m[\u001b[0m\u001b[0mi\u001b[0m\u001b[0;34m]\u001b[0m \u001b[0;32mfor\u001b[0m \u001b[0mi\u001b[0m \u001b[0;32min\u001b[0m \u001b[0mrange\u001b[0m\u001b[0;34m(\u001b[0m\u001b[0mlen\u001b[0m\u001b[0;34m(\u001b[0m\u001b[0mp\u001b[0m\u001b[0;34m)\u001b[0m\u001b[0;34m)\u001b[0m\u001b[0;34m]\u001b[0m\u001b[0;34m)\u001b[0m\u001b[0;34m)\u001b[0m\u001b[0;34m\u001b[0m\u001b[0;34m\u001b[0m\u001b[0m\n\u001b[0m\u001b[1;32m    383\u001b[0m \u001b[0;34m\u001b[0m\u001b[0m\n\u001b[1;32m    384\u001b[0m         \u001b[0;32mtry\u001b[0m\u001b[0;34m:\u001b[0m\u001b[0;34m\u001b[0m\u001b[0;34m\u001b[0m\u001b[0m\n",
      "\u001b[0;32m/usr/local/lib/python3.6/dist-packages/emcee/ensemble.py\u001b[0m in \u001b[0;36m__call__\u001b[0;34m(self, x)\u001b[0m\n\u001b[1;32m    517\u001b[0m     \u001b[0;32mdef\u001b[0m \u001b[0m__call__\u001b[0m\u001b[0;34m(\u001b[0m\u001b[0mself\u001b[0m\u001b[0;34m,\u001b[0m \u001b[0mx\u001b[0m\u001b[0;34m)\u001b[0m\u001b[0;34m:\u001b[0m\u001b[0;34m\u001b[0m\u001b[0;34m\u001b[0m\u001b[0m\n\u001b[1;32m    518\u001b[0m         \u001b[0;32mtry\u001b[0m\u001b[0;34m:\u001b[0m\u001b[0;34m\u001b[0m\u001b[0;34m\u001b[0m\u001b[0m\n\u001b[0;32m--> 519\u001b[0;31m             \u001b[0;32mreturn\u001b[0m \u001b[0mself\u001b[0m\u001b[0;34m.\u001b[0m\u001b[0mf\u001b[0m\u001b[0;34m(\u001b[0m\u001b[0mx\u001b[0m\u001b[0;34m,\u001b[0m \u001b[0;34m*\u001b[0m\u001b[0mself\u001b[0m\u001b[0;34m.\u001b[0m\u001b[0margs\u001b[0m\u001b[0;34m,\u001b[0m \u001b[0;34m**\u001b[0m\u001b[0mself\u001b[0m\u001b[0;34m.\u001b[0m\u001b[0mkwargs\u001b[0m\u001b[0;34m)\u001b[0m\u001b[0;34m\u001b[0m\u001b[0;34m\u001b[0m\u001b[0m\n\u001b[0m\u001b[1;32m    520\u001b[0m         \u001b[0;32mexcept\u001b[0m\u001b[0;34m:\u001b[0m\u001b[0;34m\u001b[0m\u001b[0;34m\u001b[0m\u001b[0m\n\u001b[1;32m    521\u001b[0m             \u001b[0;32mimport\u001b[0m \u001b[0mtraceback\u001b[0m\u001b[0;34m\u001b[0m\u001b[0;34m\u001b[0m\u001b[0m\n",
      "\u001b[0;32m<ipython-input-37-217388530f17>\u001b[0m in \u001b[0;36mlogposterior\u001b[0;34m(theta, data, sigma, x)\u001b[0m\n\u001b[1;32m     18\u001b[0m     \u001b[0;31m# return the likeihood times the prior (log likelihood plus the log prior)\u001b[0m\u001b[0;34m\u001b[0m\u001b[0;34m\u001b[0m\u001b[0;34m\u001b[0m\u001b[0m\n\u001b[1;32m     19\u001b[0m     \u001b[0;31m#return lp + loglikelihood(theta, data, sigma, x)\u001b[0m\u001b[0;34m\u001b[0m\u001b[0;34m\u001b[0m\u001b[0;34m\u001b[0m\u001b[0m\n\u001b[0;32m---> 20\u001b[0;31m     \u001b[0;32mreturn\u001b[0m \u001b[0mlp\u001b[0m \u001b[0;34m+\u001b[0m \u001b[0mloglikelihood\u001b[0m\u001b[0;34m\u001b[0m\u001b[0;34m\u001b[0m\u001b[0m\n\u001b[0m",
      "\u001b[0;31mTypeError\u001b[0m: unsupported operand type(s) for +: 'float' and 'function'"
     ]
    }
   ],
   "source": [
    "Nens = 100   # Nens number of ensemble points\n",
    "\n",
    "mmu = 0.     # mean of the Gaussian prior\n",
    "msigma = 10. # standard deviation of the Gaussian prior\n",
    "\n",
    "mini = np.random.normal(mmu, msigma, Nens) # initial m points\n",
    "\n",
    "cmin = -10.  # lower range of prior\n",
    "cmax = 10.   # upper range of prior\n",
    "\n",
    "cini = np.random.uniform(cmin, cmax, Nens) # initial c points\n",
    "\n",
    "inisamples = np.array([mini, cini]).T # initial samples\n",
    "\n",
    "ndims = inisamples.shape[1] # number of parameters/dimensions\n",
    "\n",
    "Nburnin = 500   # number of burn-in samples\n",
    "Nsamples = 500  # number of final posterior samples\n",
    "\n",
    "# set additional args for the posterior (the data, the noise std. dev., and the abscissa)\n",
    "argslist = (data, sigma, x)\n",
    "\n",
    "# set up the sampler\n",
    "sampler = emcee.EnsembleSampler(Nens, ndims, logposterior, args=argslist)\n",
    "\n",
    "# pass the initial samples and total number of samples required\n",
    "sampler.run_mcmc(inisamples, Nsamples+Nburnin);"
   ]
  },
  {
   "cell_type": "code",
   "execution_count": null,
   "metadata": {},
   "outputs": [],
   "source": []
  },
  {
   "cell_type": "code",
   "execution_count": null,
   "metadata": {},
   "outputs": [],
   "source": []
  }
 ],
 "metadata": {
  "kernelspec": {
   "display_name": "Python 3",
   "language": "python",
   "name": "python3"
  },
  "language_info": {
   "codemirror_mode": {
    "name": "ipython",
    "version": 3
   },
   "file_extension": ".py",
   "mimetype": "text/x-python",
   "name": "python",
   "nbconvert_exporter": "python",
   "pygments_lexer": "ipython3",
   "version": "3.6.9"
  }
 },
 "nbformat": 4,
 "nbformat_minor": 2
}
