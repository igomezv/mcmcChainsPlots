{
 "cells": [
  {
   "cell_type": "markdown",
   "metadata": {},
   "source": [
    "## Se define el modelo:   "
   ]
  },
  {
   "cell_type": "code",
   "execution_count": 1,
   "metadata": {},
   "outputs": [],
   "source": [
    "def line(x, a, b):\n",
    "    return a*(x)+b"
   ]
  },
  {
   "cell_type": "markdown",
   "metadata": {},
   "source": [
    "## Se cargan librerías: "
   ]
  },
  {
   "cell_type": "code",
   "execution_count": 2,
   "metadata": {},
   "outputs": [
    {
     "name": "stdout",
     "output_type": "stream",
     "text": [
      "Using matplotlib backend: Qt5Agg\n"
     ]
    }
   ],
   "source": [
    "import numpy as np\n",
    "import matplotlib.pyplot as plt\n",
    "import os\n",
    "import sys\n",
    "from scipy.special import ndtri\n",
    "import numpy as np\n",
    "\n",
    "# import Nestle\n",
    "import nestle\n",
    "%matplotlib"
   ]
  },
  {
   "cell_type": "markdown",
   "metadata": {},
   "source": [
    "Se generan puntos dentro del intervalo $[0,10)$"
   ]
  },
  {
   "cell_type": "code",
   "execution_count": 3,
   "metadata": {},
   "outputs": [
    {
     "data": {
      "text/plain": [
       "array([0. , 0.1, 0.2, 0.3, 0.4, 0.5, 0.6, 0.7, 0.8, 0.9, 1. , 1.1, 1.2,\n",
       "       1.3, 1.4, 1.5, 1.6, 1.7, 1.8, 1.9, 2. , 2.1, 2.2, 2.3, 2.4, 2.5,\n",
       "       2.6, 2.7, 2.8, 2.9, 3. , 3.1, 3.2, 3.3, 3.4, 3.5, 3.6, 3.7, 3.8,\n",
       "       3.9, 4. , 4.1, 4.2, 4.3, 4.4, 4.5, 4.6, 4.7, 4.8, 4.9, 5. , 5.1,\n",
       "       5.2, 5.3, 5.4, 5.5, 5.6, 5.7, 5.8, 5.9, 6. , 6.1, 6.2, 6.3, 6.4,\n",
       "       6.5, 6.6, 6.7, 6.8, 6.9, 7. , 7.1, 7.2, 7.3, 7.4, 7.5, 7.6, 7.7,\n",
       "       7.8, 7.9, 8. , 8.1, 8.2, 8.3, 8.4, 8.5, 8.6, 8.7, 8.8, 8.9, 9. ,\n",
       "       9.1, 9.2, 9.3, 9.4, 9.5, 9.6, 9.7, 9.8, 9.9])"
      ]
     },
     "execution_count": 3,
     "metadata": {},
     "output_type": "execute_result"
    }
   ],
   "source": [
    "#x = np.linspace(0, 10 , 100)  \n",
    "x = np.arange(0,10,0.1)\n",
    "x"
   ]
  },
  {
   "cell_type": "markdown",
   "metadata": {},
   "source": [
    "Se genera ruido gaussiano:"
   ]
  },
  {
   "cell_type": "code",
   "execution_count": 4,
   "metadata": {},
   "outputs": [
    {
     "data": {
      "text/plain": [
       "array([0.04138186, 0.1385335 , 0.32267524, 0.32039846, 0.12471793,\n",
       "       0.22499116, 0.25925973, 0.47371288, 0.32713367, 0.40766903,\n",
       "       0.31623752, 0.43189406, 0.48187894, 0.06500737, 0.4943981 ,\n",
       "       0.19966283, 0.14065015, 0.29895617, 0.15336568, 0.09611533,\n",
       "       0.14924207, 0.3452953 , 0.44084   , 0.43417722, 0.31605922,\n",
       "       0.22420768, 0.00326948, 0.4216495 , 0.21832353, 0.13080472,\n",
       "       0.34699224, 0.05707596, 0.10940409, 0.26555385, 0.44303038,\n",
       "       0.40763309, 0.0148798 , 0.02499558, 0.37334183, 0.37679048,\n",
       "       0.39752658, 0.3757848 , 0.25354937, 0.23616357, 0.26275008,\n",
       "       0.40877493, 0.17519284, 0.13665819, 0.01723844, 0.1079241 ,\n",
       "       0.28169931, 0.13601365, 0.41673282, 0.34449432, 0.450879  ,\n",
       "       0.28709999, 0.15355288, 0.17461089, 0.26393108, 0.13547465,\n",
       "       0.07480142, 0.36071454, 0.43869876, 0.22370581, 0.38815069,\n",
       "       0.42667476, 0.25444574, 0.45105927, 0.17207475, 0.39500977,\n",
       "       0.39151383, 0.43940659, 0.08203483, 0.17232996, 0.43776257,\n",
       "       0.42765616, 0.33039625, 0.45464428, 0.20628883, 0.22839001,\n",
       "       0.12251559, 0.35372049, 0.24906319, 0.3816939 , 0.35866162,\n",
       "       0.14510368, 0.19355446, 0.4256924 , 0.14651419, 0.10950838,\n",
       "       0.20663195, 0.40019799, 0.06457516, 0.37418239, 0.04287251,\n",
       "       0.29808533, 0.30909928, 0.15455008, 0.34537609, 0.32137761])"
      ]
     },
     "execution_count": 4,
     "metadata": {},
     "output_type": "execute_result"
    }
   ],
   "source": [
    "#noise = np.random.normal(0.01, .01, size=40)\n",
    "sigma = 0.5\n",
    "noise = sigma*np.random.rand(len(x))\n",
    "noise"
   ]
  },
  {
   "cell_type": "markdown",
   "metadata": {},
   "source": [
    "A la variable $y$ se le asigna la función line más el ruido gaussiano. "
   ]
  },
  {
   "cell_type": "code",
   "execution_count": 5,
   "metadata": {},
   "outputs": [
    {
     "data": {
      "text/plain": [
       "array([ 4.04138186,  4.3385335 ,  4.72267524,  4.92039846,  4.92471793,\n",
       "        5.22499116,  5.45925973,  5.87371288,  5.92713367,  6.20766903,\n",
       "        6.31623752,  6.63189406,  6.88187894,  6.66500737,  7.2943981 ,\n",
       "        7.19966283,  7.34065015,  7.69895617,  7.75336568,  7.89611533,\n",
       "        8.14924207,  8.5452953 ,  8.84084   ,  9.03417722,  9.11605922,\n",
       "        9.22420768,  9.20326948,  9.8216495 ,  9.81832353,  9.93080472,\n",
       "       10.34699224, 10.25707596, 10.50940409, 10.86555385, 11.24303038,\n",
       "       11.40763309, 11.2148798 , 11.42499558, 11.97334183, 12.17679048,\n",
       "       12.39752658, 12.5757848 , 12.65354937, 12.83616357, 13.06275008,\n",
       "       13.40877493, 13.37519284, 13.53665819, 13.61723844, 13.9079241 ,\n",
       "       14.28169931, 14.33601365, 14.81673282, 14.94449432, 15.250879  ,\n",
       "       15.28709999, 15.35355288, 15.57461089, 15.86393108, 15.93547465,\n",
       "       16.07480142, 16.56071454, 16.83869876, 16.82370581, 17.18815069,\n",
       "       17.42667476, 17.45444574, 17.85105927, 17.77207475, 18.19500977,\n",
       "       18.39151383, 18.63940659, 18.48203483, 18.77232996, 19.23776257,\n",
       "       19.42765616, 19.53039625, 19.85464428, 19.80628883, 20.02839001,\n",
       "       20.12251559, 20.55372049, 20.64906319, 20.9816939 , 21.15866162,\n",
       "       21.14510368, 21.39355446, 21.8256924 , 21.74651419, 21.90950838,\n",
       "       22.20663195, 22.60019799, 22.46457516, 22.97418239, 22.84287251,\n",
       "       23.29808533, 23.50909928, 23.55455008, 23.94537609, 24.12137761])"
      ]
     },
     "execution_count": 5,
     "metadata": {},
     "output_type": "execute_result"
    }
   ],
   "source": [
    "a = 2\n",
    "b = 4\n",
    "y = line(x, a, b)+noise\n",
    "y"
   ]
  },
  {
   "cell_type": "code",
   "execution_count": 6,
   "metadata": {},
   "outputs": [
    {
     "data": {
      "image/png": "[encoded data removed]",
      "text/plain": [
       "<Figure size 432x288 with 1 Axes>"
      ]
     },
     "metadata": {
      "needs_background": "light"
     },
     "output_type": "display_data"
    }
   ],
   "source": [
    "plt.scatter(x,y, color='black', marker='.') \n",
    "plt.plot(x, [line(i,2.001040,4.329550) for i in x], color = 'red')\n",
    "plt.xlim(0,3)\n",
    "plt.ylim(3,10)\n",
    "plt.savefig(\"line2.png\")"
   ]
  },
  {
   "cell_type": "code",
   "execution_count": 7,
   "metadata": {},
   "outputs": [
    {
     "data": {
      "text/plain": [
       "100"
      ]
     },
     "execution_count": 7,
     "metadata": {},
     "output_type": "execute_result"
    }
   ],
   "source": [
    "len(x)"
   ]
  },
  {
   "cell_type": "markdown",
   "metadata": {},
   "source": [
    "Se juntan en un solo numpy array los valores de x,y."
   ]
  },
  {
   "cell_type": "code",
   "execution_count": 7,
   "metadata": {},
   "outputs": [
    {
     "data": {
      "text/plain": [
       "array([[ 0.        ,  4.04138186],\n",
       "       [ 0.1       ,  4.3385335 ],\n",
       "       [ 0.2       ,  4.72267524],\n",
       "       [ 0.3       ,  4.92039846],\n",
       "       [ 0.4       ,  4.92471793],\n",
       "       [ 0.5       ,  5.22499116],\n",
       "       [ 0.6       ,  5.45925973],\n",
       "       [ 0.7       ,  5.87371288],\n",
       "       [ 0.8       ,  5.92713367],\n",
       "       [ 0.9       ,  6.20766903],\n",
       "       [ 1.        ,  6.31623752],\n",
       "       [ 1.1       ,  6.63189406],\n",
       "       [ 1.2       ,  6.88187894],\n",
       "       [ 1.3       ,  6.66500737],\n",
       "       [ 1.4       ,  7.2943981 ],\n",
       "       [ 1.5       ,  7.19966283],\n",
       "       [ 1.6       ,  7.34065015],\n",
       "       [ 1.7       ,  7.69895617],\n",
       "       [ 1.8       ,  7.75336568],\n",
       "       [ 1.9       ,  7.89611533],\n",
       "       [ 2.        ,  8.14924207],\n",
       "       [ 2.1       ,  8.5452953 ],\n",
       "       [ 2.2       ,  8.84084   ],\n",
       "       [ 2.3       ,  9.03417722],\n",
       "       [ 2.4       ,  9.11605922],\n",
       "       [ 2.5       ,  9.22420768],\n",
       "       [ 2.6       ,  9.20326948],\n",
       "       [ 2.7       ,  9.8216495 ],\n",
       "       [ 2.8       ,  9.81832353],\n",
       "       [ 2.9       ,  9.93080472],\n",
       "       [ 3.        , 10.34699224],\n",
       "       [ 3.1       , 10.25707596],\n",
       "       [ 3.2       , 10.50940409],\n",
       "       [ 3.3       , 10.86555385],\n",
       "       [ 3.4       , 11.24303038],\n",
       "       [ 3.5       , 11.40763309],\n",
       "       [ 3.6       , 11.2148798 ],\n",
       "       [ 3.7       , 11.42499558],\n",
       "       [ 3.8       , 11.97334183],\n",
       "       [ 3.9       , 12.17679048],\n",
       "       [ 4.        , 12.39752658],\n",
       "       [ 4.1       , 12.5757848 ],\n",
       "       [ 4.2       , 12.65354937],\n",
       "       [ 4.3       , 12.83616357],\n",
       "       [ 4.4       , 13.06275008],\n",
       "       [ 4.5       , 13.40877493],\n",
       "       [ 4.6       , 13.37519284],\n",
       "       [ 4.7       , 13.53665819],\n",
       "       [ 4.8       , 13.61723844],\n",
       "       [ 4.9       , 13.9079241 ],\n",
       "       [ 5.        , 14.28169931],\n",
       "       [ 5.1       , 14.33601365],\n",
       "       [ 5.2       , 14.81673282],\n",
       "       [ 5.3       , 14.94449432],\n",
       "       [ 5.4       , 15.250879  ],\n",
       "       [ 5.5       , 15.28709999],\n",
       "       [ 5.6       , 15.35355288],\n",
       "       [ 5.7       , 15.57461089],\n",
       "       [ 5.8       , 15.86393108],\n",
       "       [ 5.9       , 15.93547465],\n",
       "       [ 6.        , 16.07480142],\n",
       "       [ 6.1       , 16.56071454],\n",
       "       [ 6.2       , 16.83869876],\n",
       "       [ 6.3       , 16.82370581],\n",
       "       [ 6.4       , 17.18815069],\n",
       "       [ 6.5       , 17.42667476],\n",
       "       [ 6.6       , 17.45444574],\n",
       "       [ 6.7       , 17.85105927],\n",
       "       [ 6.8       , 17.77207475],\n",
       "       [ 6.9       , 18.19500977],\n",
       "       [ 7.        , 18.39151383],\n",
       "       [ 7.1       , 18.63940659],\n",
       "       [ 7.2       , 18.48203483],\n",
       "       [ 7.3       , 18.77232996],\n",
       "       [ 7.4       , 19.23776257],\n",
       "       [ 7.5       , 19.42765616],\n",
       "       [ 7.6       , 19.53039625],\n",
       "       [ 7.7       , 19.85464428],\n",
       "       [ 7.8       , 19.80628883],\n",
       "       [ 7.9       , 20.02839001],\n",
       "       [ 8.        , 20.12251559],\n",
       "       [ 8.1       , 20.55372049],\n",
       "       [ 8.2       , 20.64906319],\n",
       "       [ 8.3       , 20.9816939 ],\n",
       "       [ 8.4       , 21.15866162],\n",
       "       [ 8.5       , 21.14510368],\n",
       "       [ 8.6       , 21.39355446],\n",
       "       [ 8.7       , 21.8256924 ],\n",
       "       [ 8.8       , 21.74651419],\n",
       "       [ 8.9       , 21.90950838],\n",
       "       [ 9.        , 22.20663195],\n",
       "       [ 9.1       , 22.60019799],\n",
       "       [ 9.2       , 22.46457516],\n",
       "       [ 9.3       , 22.97418239],\n",
       "       [ 9.4       , 22.84287251],\n",
       "       [ 9.5       , 23.29808533],\n",
       "       [ 9.6       , 23.50909928],\n",
       "       [ 9.7       , 23.55455008],\n",
       "       [ 9.8       , 23.94537609],\n",
       "       [ 9.9       , 24.12137761]])"
      ]
     },
     "execution_count": 7,
     "metadata": {},
     "output_type": "execute_result"
    }
   ],
   "source": [
    "text = np.empty(len(x)*2)\n",
    "text = np.reshape(text,(len(x),2))\n",
    "for i in range(len(x)):\n",
    "    text[i,:]= x[i],y[i]\n",
    "np.shape(text)\n",
    "text"
   ]
  },
  {
   "cell_type": "markdown",
   "metadata": {},
   "source": [
    "Se guardan archivos de texto tanto para los datos generados (x,y), como los errores:"
   ]
  },
  {
   "cell_type": "code",
   "execution_count": 8,
   "metadata": {},
   "outputs": [],
   "source": [
    "np.savetxt('linedata.txt',text)\n",
    "np.savetxt('noiselinedata.txt',noise)"
   ]
  },
  {
   "cell_type": "markdown",
   "metadata": {},
   "source": [
    "Creando un txt con la matriz de covarianza creada a partir del ruido en txt."
   ]
  },
  {
   "cell_type": "code",
   "execution_count": 9,
   "metadata": {},
   "outputs": [],
   "source": [
    "errors = np.loadtxt('noiselinedata.txt')\n",
    "errorsdiag = np.diag(errors**2)\n",
    "cov = errorsdiag\n",
    "np.savetxt(\"cov_line.txt\",errorsdiag)"
   ]
  },
  {
   "cell_type": "markdown",
   "metadata": {},
   "source": [
    "Se cargan los datos (x,y) y la matriz de covarianza:"
   ]
  },
  {
   "cell_type": "code",
   "execution_count": 10,
   "metadata": {},
   "outputs": [],
   "source": [
    "data=np.loadtxt('linedata.txt')\n",
    "x=data[:,0]\n",
    "y=data[:,1]\n",
    "cov=np.loadtxt('cov_line.txt',skiprows=0)"
   ]
  },
  {
   "cell_type": "markdown",
   "metadata": {},
   "source": [
    "Ajustando recta"
   ]
  },
  {
   "cell_type": "code",
   "execution_count": 11,
   "metadata": {},
   "outputs": [],
   "source": [
    "LN2PI = np.log(2.*np.pi)\n",
    "#LNSIGMA = np.log(sigma)\n",
    "M=len(x)\n"
   ]
  },
  {
   "cell_type": "markdown",
   "metadata": {},
   "source": [
    "Escribiendo Priors planos:"
   ]
  },
  {
   "cell_type": "code",
   "execution_count": 12,
   "metadata": {},
   "outputs": [],
   "source": [
    "def prior_transform(theta):\n",
    "    \n",
    "    mprime, cprime = theta # unpack the parameters (in their unit hypercube form)\n",
    "\n",
    "    cmin = -10.  # lower bound on uniform prior on c\n",
    "    cmax = 10.   # upper bound on uniform prior on c\n",
    "\n",
    "    mmin = -10.  # lower bound on uniform prior on c\n",
    "    mmax = 10.   # upper bound on uniform prior on c\n",
    "\n",
    "    m = mprime*(mmax-mmin) + mmin \n",
    "    c = cprime*(cmax-cmin) + cmin  # convert back to c\n",
    "\n",
    "    return (m, c)\n",
    "\n"
   ]
  },
  {
   "cell_type": "markdown",
   "metadata": {},
   "source": [
    "Definiendo un likelihood similar a SuperMC:"
   ]
  },
  {
   "cell_type": "code",
   "execution_count": 13,
   "metadata": {},
   "outputs": [],
   "source": [
    "import scipy.linalg as la\n",
    "from scipy import dot\n",
    "icov = la.inv(cov)\n",
    "#icov = errorsdiag\n",
    "def loglikelihood_nestle(theta):\n",
    "\n",
    "    m, c = theta # unpack the parameters\n",
    "\n",
    "    # normalisation\n",
    "    #norm = -0.5*M*LN2PI - M*LNSIGMA\n",
    "    #norm = -np.log(la.det(errorsdiag))*0.5-0.5*len(x)*np.log(np.pi)\n",
    "\n",
    "    norm = -np.log(la.det(cov))*0.5-0.5*len(x)*np.log(np.pi)\n",
    "    #chisq = np.sum(((y-line(x, m, c))/sigma)**2)\n",
    "    delta = y - line(x,m,c)\n",
    "    chisq = dot(delta,dot(icov,delta))\n",
    "\n",
    "    #return norm - 0.5*chisq\n",
    "    return  norm -0.5*chisq\n",
    "\n"
   ]
  },
  {
   "cell_type": "markdown",
   "metadata": {},
   "source": [
    "Corriendo multinest:"
   ]
  },
  {
   "cell_type": "code",
   "execution_count": null,
   "metadata": {},
   "outputs": [
    {
     "name": "stdout",
     "output_type": "stream",
     "text": [
      "\u001b[Kit=   445 logz=-4509846.42574212"
     ]
    }
   ],
   "source": [
    "#nlive = 1024     # number of live points\n",
    "nlive = 400\n",
    "method = 'multi' # use MutliNest algorithm\n",
    "ndims = 2        # two parameters\n",
    "tol= 0.5         # the stopping criterion (this is the nestle default, so doesn't need to be set)\n",
    "\n",
    "res = nestle.sample(loglikelihood_nestle, prior_transform, ndims, \n",
    "                    method=method, npoints=nlive, dlogz=tol,  callback=nestle.print_progress)\n",
    "\n",
    "res.summary()"
   ]
  },
  {
   "cell_type": "code",
   "execution_count": 24,
   "metadata": {},
   "outputs": [
    {
     "name": "stdout",
     "output_type": "stream",
     "text": [
      "Marginalised evidence is -182.75718066435934 ± 0.1900612277313572\n"
     ]
    }
   ],
   "source": [
    "logZnestle = res.logz                         # value of logZ\n",
    "infogainnestle = res.h                        # value of the information gain in nats\n",
    "logZerrnestle = np.sqrt(infogainnestle/nlive) # estimate of the statistcal uncertainty on logZ\n",
    "\n",
    "# output marginal likelihood\n",
    "print('Marginalised evidence is {} ± {}'.format(logZnestle, logZerrnestle))\n",
    "\n"
   ]
  },
  {
   "cell_type": "code",
   "execution_count": 27,
   "metadata": {},
   "outputs": [
    {
     "name": "stdout",
     "output_type": "stream",
     "text": [
      "Number of posterior samples is 932\n"
     ]
    },
    {
     "data": {
      "image/png": "[encoded data removed]",
      "text/plain": [
       "<Figure size 396x396 with 4 Axes>"
      ]
     },
     "execution_count": 27,
     "metadata": {},
     "output_type": "execute_result"
    },
    {
     "data": {
      "image/png": "[encoded data removed]",
      "text/plain": [
       "<Figure size 396x396 with 4 Axes>"
      ]
     },
     "metadata": {
      "needs_background": "light"
     },
     "output_type": "display_data"
    }
   ],
   "source": [
    "# re-scale weights to have a maximum of one\n",
    "nweights = res.weights/np.max(res.weights)\n",
    "\n",
    "# get the probability of keeping a sample from the weights\n",
    "keepidx = np.where(np.random.rand(len(nweights)) < nweights)[0]\n",
    "\n",
    "# get the posterior samples\n",
    "postsamples = res.samples[keepidx,:]\n",
    "#postsamples = res.samples\n",
    "\n",
    "print('Number of posterior samples is {}'.format(postsamples.shape[0]))\n",
    "\n",
    "# plot posterior samples (if corner.py is installed)\n",
    "try:\n",
    "    import matplotlib as mpl\n",
    "    mpl.use(\"Agg\") # force Matplotlib backend to Agg\n",
    "    import corner # import corner.py\n",
    "except ImportError:\n",
    "    sys.exit(1)\n",
    "\n",
    "corner.corner(postsamples, labels=[r\"$m$\", r\"$c$\"], truths=[2, 4], show_titles=True)\n",
    "#fig.savefig('Nestle.png')"
   ]
  },
  {
   "cell_type": "markdown",
   "metadata": {},
   "source": [
    "## Probando EMCEE"
   ]
  },
  {
   "cell_type": "code",
   "execution_count": null,
   "metadata": {},
   "outputs": [],
   "source": [
    "import emcee"
   ]
  },
  {
   "cell_type": "code",
   "execution_count": null,
   "metadata": {},
   "outputs": [],
   "source": []
  }
 ],
 "metadata": {
  "kernelspec": {
   "display_name": "Python 3",
   "language": "python",
   "name": "python3"
  },
  "language_info": {
   "codemirror_mode": {
    "name": "ipython",
    "version": 3
   },
   "file_extension": ".py",
   "mimetype": "text/x-python",
   "name": "python",
   "nbconvert_exporter": "python",
   "pygments_lexer": "ipython3",
   "version": "3.6.8"
  }
 },
 "nbformat": 4,
 "nbformat_minor": 2
}
