{
 "cells": [
  {
   "cell_type": "markdown",
   "metadata": {},
   "source": [
    "## Se cargan librerías: "
   ]
  },
  {
   "cell_type": "code",
   "execution_count": 2,
   "metadata": {},
   "outputs": [
    {
     "name": "stdout",
     "output_type": "stream",
     "text": [
      "Using matplotlib backend: Qt5Agg\n"
     ]
    }
   ],
   "source": [
    "import numpy as np\n",
    "import matplotlib.pyplot as plt\n",
    "import os\n",
    "import sys\n",
    "from scipy.special import ndtri\n",
    "import numpy as np\n",
    "\n",
    "# import Nestle\n",
    "import nestle\n",
    "%matplotlib"
   ]
  },
  {
   "cell_type": "code",
   "execution_count": 15,
   "metadata": {},
   "outputs": [],
   "source": [
    "def model1(z, a, b, c):\n",
    "    return a*z**2+(-a+b)*z+c\n",
    "\n",
    "def model2(z,a,c,w):\n",
    "    return a*np.sin(w*z)+c\n",
    "\n",
    "def truemodel(z):\n",
    "    return -3.5*z**2+3.6*z-0.1"
   ]
  },
  {
   "cell_type": "markdown",
   "metadata": {},
   "source": [
    "Se generan puntos dentro del intervalo $[0,10)$"
   ]
  },
  {
   "cell_type": "code",
   "execution_count": 4,
   "metadata": {},
   "outputs": [
    {
     "data": {
      "text/plain": [
       "array([0.  , 0.01, 0.02, 0.03, 0.04, 0.05, 0.06, 0.07, 0.08, 0.09, 0.1 ,\n",
       "       0.11, 0.12, 0.13, 0.14, 0.15, 0.16, 0.17, 0.18, 0.19, 0.2 , 0.21,\n",
       "       0.22, 0.23, 0.24, 0.25, 0.26, 0.27, 0.28, 0.29, 0.3 , 0.31, 0.32,\n",
       "       0.33, 0.34, 0.35, 0.36, 0.37, 0.38, 0.39, 0.4 , 0.41, 0.42, 0.43,\n",
       "       0.44, 0.45, 0.46, 0.47, 0.48, 0.49, 0.5 , 0.51, 0.52, 0.53, 0.54,\n",
       "       0.55, 0.56, 0.57, 0.58, 0.59, 0.6 , 0.61, 0.62, 0.63, 0.64, 0.65,\n",
       "       0.66, 0.67, 0.68, 0.69, 0.7 , 0.71, 0.72, 0.73, 0.74, 0.75, 0.76,\n",
       "       0.77, 0.78, 0.79, 0.8 , 0.81, 0.82, 0.83, 0.84, 0.85, 0.86, 0.87,\n",
       "       0.88, 0.89, 0.9 , 0.91, 0.92, 0.93, 0.94, 0.95, 0.96, 0.97, 0.98,\n",
       "       0.99])"
      ]
     },
     "execution_count": 4,
     "metadata": {},
     "output_type": "execute_result"
    }
   ],
   "source": [
    "#x = np.linspace(0, 10 , 100)  \n",
    "x = np.arange(0,1,0.01)\n",
    "x"
   ]
  },
  {
   "cell_type": "markdown",
   "metadata": {},
   "source": [
    "Se genera ruido gaussiano:"
   ]
  },
  {
   "cell_type": "code",
   "execution_count": 5,
   "metadata": {},
   "outputs": [
    {
     "data": {
      "text/plain": [
       "array([0.02843425, 0.04615842, 0.02344268, 0.02684527, 0.04595816,\n",
       "       0.03056681, 0.03305798, 0.04537131, 0.04028521, 0.02448478,\n",
       "       0.04316113, 0.00767427, 0.02488018, 0.02639946, 0.00940149,\n",
       "       0.03558215, 0.04063073, 0.01801062, 0.01939408, 0.02790221,\n",
       "       0.01759974, 0.04950734, 0.04142182, 0.02395616, 0.04781019,\n",
       "       0.03164912, 0.01146139, 0.01638645, 0.03392504, 0.0368156 ,\n",
       "       0.03597648, 0.02421077, 0.04912984, 0.0187502 , 0.04432154,\n",
       "       0.03248938, 0.01651279, 0.00115512, 0.02245927, 0.02607327,\n",
       "       0.01647373, 0.03222119, 0.02358432, 0.01544178, 0.03418464,\n",
       "       0.03223124, 0.0410266 , 0.03722893, 0.02687566, 0.03431183,\n",
       "       0.01284291, 0.03309821, 0.0343081 , 0.02643433, 0.02345985,\n",
       "       0.01073512, 0.02350508, 0.02053087, 0.02948751, 0.04946508,\n",
       "       0.02950992, 0.02214939, 0.02268398, 0.01057153, 0.00790782,\n",
       "       0.0145388 , 0.03410148, 0.01878183, 0.01442669, 0.02677343,\n",
       "       0.0120281 , 0.02881858, 0.0306816 , 0.03524624, 0.03489049,\n",
       "       0.02720795, 0.02398551, 0.04738435, 0.00382252, 0.0005461 ,\n",
       "       0.01457142, 0.02480432, 0.01917499, 0.0340279 , 0.00490803,\n",
       "       0.02455605, 0.04303816, 0.04855433, 0.03212606, 0.01510578,\n",
       "       0.0194152 , 0.03406953, 0.01131368, 0.02687672, 0.02343709,\n",
       "       0.00687885, 0.0258103 , 0.0408757 , 0.03861069, 0.01072389])"
      ]
     },
     "execution_count": 5,
     "metadata": {},
     "output_type": "execute_result"
    }
   ],
   "source": [
    "#noise = np.random.normal(0.01, .01, size=40)\n",
    "sigma = 0.05\n",
    "noise = sigma*np.random.rand(len(x))\n",
    "noise"
   ]
  },
  {
   "cell_type": "markdown",
   "metadata": {},
   "source": [
    "A la variable $y$ se le asigna la función line más el ruido gaussiano. "
   ]
  },
  {
   "cell_type": "code",
   "execution_count": 6,
   "metadata": {},
   "outputs": [
    {
     "data": {
      "text/plain": [
       "array([-0.07156575, -0.01819158, -0.00595732,  0.03169527,  0.08435816,\n",
       "        0.10181681,  0.13645798,  0.18022131,  0.20588521,  0.22013478,\n",
       "        0.26816113,  0.26132427,  0.30648018,  0.33524946,  0.34480149,\n",
       "        0.39683215,  0.42703073,  0.42886062,  0.45399408,  0.48555221,\n",
       "        0.49759974,  0.55115734,  0.56402182,  0.56680616,  0.61021019,\n",
       "        0.61289912,  0.61086139,  0.63323645,  0.66752504,  0.6864656 ,\n",
       "        0.70097648,  0.70386077,  0.74272984,  0.7256002 ,  0.76372154,\n",
       "        0.76373938,  0.75891279,  0.75400512,  0.78505927,  0.79772327,\n",
       "        0.79647373,  0.81987119,  0.81818432,  0.81629178,  0.84058464,\n",
       "        0.84348124,  0.8564266 ,  0.85607893,  0.84847566,  0.85796183,\n",
       "        0.83784291,  0.85874821,  0.8599081 ,  0.85128433,  0.84685985,\n",
       "        0.83198512,  0.84190508,  0.83538087,  0.84008751,  0.85511508,\n",
       "        0.82950992,  0.81579939,  0.80928398,  0.78942153,  0.77830782,\n",
       "        0.7757888 ,  0.78550148,  0.75963183,  0.74402669,  0.74442343,\n",
       "        0.7170281 ,  0.72046858,  0.7082816 ,  0.69809624,  0.68229049,\n",
       "        0.65845795,  0.63838551,  0.64423435,  0.58242252,  0.5601961 ,\n",
       "        0.55457142,  0.54445432,  0.51777499,  0.5108779 ,  0.45930803,\n",
       "        0.45580605,  0.45043816,  0.43140433,  0.38972606,  0.34675578,\n",
       "        0.3244152 ,  0.31171953,  0.26091368,  0.24772672,  0.21483709,\n",
       "        0.16812885,  0.1562103 ,  0.1397257 ,  0.10521069,  0.04437389])"
      ]
     },
     "execution_count": 6,
     "metadata": {},
     "output_type": "execute_result"
    }
   ],
   "source": [
    "y = truemodel(x)+noise\n",
    "y"
   ]
  },
  {
   "cell_type": "markdown",
   "metadata": {},
   "source": [
    "Se juntan en un solo numpy array los valores de x,y."
   ]
  },
  {
   "cell_type": "code",
   "execution_count": 7,
   "metadata": {},
   "outputs": [
    {
     "data": {
      "text/plain": [
       "array([[ 0.        , -0.07156575],\n",
       "       [ 0.01      , -0.01819158],\n",
       "       [ 0.02      , -0.00595732],\n",
       "       [ 0.03      ,  0.03169527],\n",
       "       [ 0.04      ,  0.08435816],\n",
       "       [ 0.05      ,  0.10181681],\n",
       "       [ 0.06      ,  0.13645798],\n",
       "       [ 0.07      ,  0.18022131],\n",
       "       [ 0.08      ,  0.20588521],\n",
       "       [ 0.09      ,  0.22013478],\n",
       "       [ 0.1       ,  0.26816113],\n",
       "       [ 0.11      ,  0.26132427],\n",
       "       [ 0.12      ,  0.30648018],\n",
       "       [ 0.13      ,  0.33524946],\n",
       "       [ 0.14      ,  0.34480149],\n",
       "       [ 0.15      ,  0.39683215],\n",
       "       [ 0.16      ,  0.42703073],\n",
       "       [ 0.17      ,  0.42886062],\n",
       "       [ 0.18      ,  0.45399408],\n",
       "       [ 0.19      ,  0.48555221],\n",
       "       [ 0.2       ,  0.49759974],\n",
       "       [ 0.21      ,  0.55115734],\n",
       "       [ 0.22      ,  0.56402182],\n",
       "       [ 0.23      ,  0.56680616],\n",
       "       [ 0.24      ,  0.61021019],\n",
       "       [ 0.25      ,  0.61289912],\n",
       "       [ 0.26      ,  0.61086139],\n",
       "       [ 0.27      ,  0.63323645],\n",
       "       [ 0.28      ,  0.66752504],\n",
       "       [ 0.29      ,  0.6864656 ],\n",
       "       [ 0.3       ,  0.70097648],\n",
       "       [ 0.31      ,  0.70386077],\n",
       "       [ 0.32      ,  0.74272984],\n",
       "       [ 0.33      ,  0.7256002 ],\n",
       "       [ 0.34      ,  0.76372154],\n",
       "       [ 0.35      ,  0.76373938],\n",
       "       [ 0.36      ,  0.75891279],\n",
       "       [ 0.37      ,  0.75400512],\n",
       "       [ 0.38      ,  0.78505927],\n",
       "       [ 0.39      ,  0.79772327],\n",
       "       [ 0.4       ,  0.79647373],\n",
       "       [ 0.41      ,  0.81987119],\n",
       "       [ 0.42      ,  0.81818432],\n",
       "       [ 0.43      ,  0.81629178],\n",
       "       [ 0.44      ,  0.84058464],\n",
       "       [ 0.45      ,  0.84348124],\n",
       "       [ 0.46      ,  0.8564266 ],\n",
       "       [ 0.47      ,  0.85607893],\n",
       "       [ 0.48      ,  0.84847566],\n",
       "       [ 0.49      ,  0.85796183],\n",
       "       [ 0.5       ,  0.83784291],\n",
       "       [ 0.51      ,  0.85874821],\n",
       "       [ 0.52      ,  0.8599081 ],\n",
       "       [ 0.53      ,  0.85128433],\n",
       "       [ 0.54      ,  0.84685985],\n",
       "       [ 0.55      ,  0.83198512],\n",
       "       [ 0.56      ,  0.84190508],\n",
       "       [ 0.57      ,  0.83538087],\n",
       "       [ 0.58      ,  0.84008751],\n",
       "       [ 0.59      ,  0.85511508],\n",
       "       [ 0.6       ,  0.82950992],\n",
       "       [ 0.61      ,  0.81579939],\n",
       "       [ 0.62      ,  0.80928398],\n",
       "       [ 0.63      ,  0.78942153],\n",
       "       [ 0.64      ,  0.77830782],\n",
       "       [ 0.65      ,  0.7757888 ],\n",
       "       [ 0.66      ,  0.78550148],\n",
       "       [ 0.67      ,  0.75963183],\n",
       "       [ 0.68      ,  0.74402669],\n",
       "       [ 0.69      ,  0.74442343],\n",
       "       [ 0.7       ,  0.7170281 ],\n",
       "       [ 0.71      ,  0.72046858],\n",
       "       [ 0.72      ,  0.7082816 ],\n",
       "       [ 0.73      ,  0.69809624],\n",
       "       [ 0.74      ,  0.68229049],\n",
       "       [ 0.75      ,  0.65845795],\n",
       "       [ 0.76      ,  0.63838551],\n",
       "       [ 0.77      ,  0.64423435],\n",
       "       [ 0.78      ,  0.58242252],\n",
       "       [ 0.79      ,  0.5601961 ],\n",
       "       [ 0.8       ,  0.55457142],\n",
       "       [ 0.81      ,  0.54445432],\n",
       "       [ 0.82      ,  0.51777499],\n",
       "       [ 0.83      ,  0.5108779 ],\n",
       "       [ 0.84      ,  0.45930803],\n",
       "       [ 0.85      ,  0.45580605],\n",
       "       [ 0.86      ,  0.45043816],\n",
       "       [ 0.87      ,  0.43140433],\n",
       "       [ 0.88      ,  0.38972606],\n",
       "       [ 0.89      ,  0.34675578],\n",
       "       [ 0.9       ,  0.3244152 ],\n",
       "       [ 0.91      ,  0.31171953],\n",
       "       [ 0.92      ,  0.26091368],\n",
       "       [ 0.93      ,  0.24772672],\n",
       "       [ 0.94      ,  0.21483709],\n",
       "       [ 0.95      ,  0.16812885],\n",
       "       [ 0.96      ,  0.1562103 ],\n",
       "       [ 0.97      ,  0.1397257 ],\n",
       "       [ 0.98      ,  0.10521069],\n",
       "       [ 0.99      ,  0.04437389]])"
      ]
     },
     "execution_count": 7,
     "metadata": {},
     "output_type": "execute_result"
    }
   ],
   "source": [
    "text = np.empty(len(x)*2)\n",
    "text = np.reshape(text,(len(x),2))\n",
    "for i in range(len(x)):\n",
    "    text[i,:]= x[i],y[i]\n",
    "np.shape(text)\n",
    "text"
   ]
  },
  {
   "cell_type": "markdown",
   "metadata": {},
   "source": [
    "Se guardan archivos de texto tanto para los datos generados (x,y), como los errores:"
   ]
  },
  {
   "cell_type": "code",
   "execution_count": 8,
   "metadata": {},
   "outputs": [],
   "source": [
    "np.savetxt('poliModeldata.txt',text)\n",
    "np.savetxt('noisepoliModeldata.txt',noise)"
   ]
  },
  {
   "cell_type": "markdown",
   "metadata": {},
   "source": [
    "Creando un txt con la matriz de covarianza creada a partir del ruido en txt."
   ]
  },
  {
   "cell_type": "code",
   "execution_count": 9,
   "metadata": {},
   "outputs": [],
   "source": [
    "errors = np.loadtxt('noisepoliModeldata.txt')\n",
    "errorsdiag = np.diag(errors**2)\n",
    "cov = errorsdiag\n",
    "np.savetxt(\"cov_poliModeldata.txt\",errorsdiag)"
   ]
  },
  {
   "cell_type": "markdown",
   "metadata": {},
   "source": [
    "Se cargan los datos (x,y) y la matriz de covarianza:"
   ]
  },
  {
   "cell_type": "code",
   "execution_count": 26,
   "metadata": {},
   "outputs": [
    {
     "data": {
      "image/png": "[encoded data removed]",
      "text/plain": [
       "<Figure size 432x288 with 1 Axes>"
      ]
     },
     "metadata": {
      "needs_background": "light"
     },
     "output_type": "display_data"
    }
   ],
   "source": [
    "plt.axis(\"equal\")\n",
    "#plt.scatter(x,y, color='green', marker='o', label=\"Data\") \n",
    "y0 = truemodel(x)\n",
    "plt.plot(x,y0, color='green', marker = '.', label = \"True Model\")\n",
    "y1 = model1(x,-3.4, 0.09,-0.08)\n",
    "plt.plot(x,y1, color=\"red\", label=\"Model 1\")\n",
    "y2 = model2(x, 0.87, -0.03, 3.04)\n",
    "plt.plot(x,y2, color=\"blue\", label=\"Model 2\")\n",
    "#plt.plot(x, [line(i,2.001040,4.329550) for i in x], color = 'red')\n",
    "#plt.figure(figsize=(11,10))\n",
    "plt.xlim(0,1)\n",
    "plt.ylim(0.2,1)\n",
    "plt.legend(bbox_to_anchor=(1., 1))\n",
    "\n",
    "plt.savefig(\"modelcomparisonplot.png\")"
   ]
  },
  {
   "cell_type": "code",
   "execution_count": 15,
   "metadata": {},
   "outputs": [
    {
     "data": {
      "text/plain": [
       "100"
      ]
     },
     "execution_count": 15,
     "metadata": {},
     "output_type": "execute_result"
    }
   ],
   "source": [
    "len(x)"
   ]
  },
  {
   "cell_type": "markdown",
   "metadata": {},
   "source": [
    "Se juntan en un solo numpy array los valores de x,y."
   ]
  },
  {
   "cell_type": "code",
   "execution_count": 9,
   "metadata": {},
   "outputs": [
    {
     "data": {
      "text/plain": [
       "array([[ 0.        , -0.06327531],\n",
       "       [ 0.01      , -0.05040689],\n",
       "       [ 0.02      ,  0.01958262],\n",
       "       [ 0.03      ,  0.05313716],\n",
       "       [ 0.04      ,  0.04259564],\n",
       "       [ 0.05      ,  0.08211545],\n",
       "       [ 0.06      ,  0.11703757],\n",
       "       [ 0.07      ,  0.17136363],\n",
       "       [ 0.08      ,  0.19868102],\n",
       "       [ 0.09      ,  0.2109212 ],\n",
       "       [ 0.1       ,  0.23933752],\n",
       "       [ 0.11      ,  0.28481318],\n",
       "       [ 0.12      ,  0.29996034],\n",
       "       [ 0.13      ,  0.32528467],\n",
       "       [ 0.14      ,  0.36249622],\n",
       "       [ 0.15      ,  0.37028252],\n",
       "       [ 0.16      ,  0.38776055],\n",
       "       [ 0.17      ,  0.44215271],\n",
       "       [ 0.18      ,  0.44285526],\n",
       "       [ 0.19      ,  0.49984219],\n",
       "       [ 0.2       ,  0.4974739 ],\n",
       "       [ 0.21      ,  0.53134892],\n",
       "       [ 0.22      ,  0.53972799],\n",
       "       [ 0.23      ,  0.56734704],\n",
       "       [ 0.24      ,  0.56934631],\n",
       "       [ 0.25      ,  0.60083723],\n",
       "       [ 0.26      ,  0.6017161 ],\n",
       "       [ 0.27      ,  0.65756778],\n",
       "       [ 0.28      ,  0.68202361],\n",
       "       [ 0.29      ,  0.65268202],\n",
       "       [ 0.3       ,  0.71494899],\n",
       "       [ 0.31      ,  0.70789401],\n",
       "       [ 0.32      ,  0.71264229],\n",
       "       [ 0.33      ,  0.73882959],\n",
       "       [ 0.34      ,  0.760433  ],\n",
       "       [ 0.35      ,  0.74573571],\n",
       "       [ 0.36      ,  0.77997076],\n",
       "       [ 0.37      ,  0.79214332],\n",
       "       [ 0.38      ,  0.80285442],\n",
       "       [ 0.39      ,  0.7826536 ],\n",
       "       [ 0.4       ,  0.78362079],\n",
       "       [ 0.41      ,  0.80690542],\n",
       "       [ 0.42      ,  0.80316787],\n",
       "       [ 0.43      ,  0.8372246 ],\n",
       "       [ 0.44      ,  0.81755074],\n",
       "       [ 0.45      ,  0.81849833],\n",
       "       [ 0.46      ,  0.8470036 ],\n",
       "       [ 0.47      ,  0.83306329],\n",
       "       [ 0.48      ,  0.85958474],\n",
       "       [ 0.49      ,  0.85296311],\n",
       "       [ 0.5       ,  0.86794732],\n",
       "       [ 0.51      ,  0.86220576],\n",
       "       [ 0.52      ,  0.86167236],\n",
       "       [ 0.53      ,  0.85745355],\n",
       "       [ 0.54      ,  0.86721019],\n",
       "       [ 0.55      ,  0.83743016],\n",
       "       [ 0.56      ,  0.86687391],\n",
       "       [ 0.57      ,  0.85791564],\n",
       "       [ 0.58      ,  0.82892259],\n",
       "       [ 0.59      ,  0.84350023],\n",
       "       [ 0.6       ,  0.80309428],\n",
       "       [ 0.61      ,  0.81854501],\n",
       "       [ 0.62      ,  0.83373004],\n",
       "       [ 0.63      ,  0.80982664],\n",
       "       [ 0.64      ,  0.79657881],\n",
       "       [ 0.65      ,  0.79670999],\n",
       "       [ 0.66      ,  0.78994194],\n",
       "       [ 0.67      ,  0.75465134],\n",
       "       [ 0.68      ,  0.7777434 ],\n",
       "       [ 0.69      ,  0.73800602],\n",
       "       [ 0.7       ,  0.73789501],\n",
       "       [ 0.71      ,  0.70222824],\n",
       "       [ 0.72      ,  0.67893949],\n",
       "       [ 0.73      ,  0.66349535],\n",
       "       [ 0.74      ,  0.6839951 ],\n",
       "       [ 0.75      ,  0.67071176],\n",
       "       [ 0.76      ,  0.6482557 ],\n",
       "       [ 0.77      ,  0.64469201],\n",
       "       [ 0.78      ,  0.59090116],\n",
       "       [ 0.79      ,  0.58498693],\n",
       "       [ 0.8       ,  0.56339163],\n",
       "       [ 0.81      ,  0.53916684],\n",
       "       [ 0.82      ,  0.52763464],\n",
       "       [ 0.83      ,  0.5220684 ],\n",
       "       [ 0.84      ,  0.48065875],\n",
       "       [ 0.85      ,  0.43527106],\n",
       "       [ 0.86      ,  0.4478298 ],\n",
       "       [ 0.87      ,  0.43269109],\n",
       "       [ 0.88      ,  0.40721067],\n",
       "       [ 0.89      ,  0.38106308],\n",
       "       [ 0.9       ,  0.32180725],\n",
       "       [ 0.91      ,  0.2947541 ],\n",
       "       [ 0.92      ,  0.25234441],\n",
       "       [ 0.93      ,  0.23794094],\n",
       "       [ 0.94      ,  0.23709828],\n",
       "       [ 0.95      ,  0.18022485],\n",
       "       [ 0.96      ,  0.17100305],\n",
       "       [ 0.97      ,  0.11327259],\n",
       "       [ 0.98      ,  0.08616476],\n",
       "       [ 0.99      ,  0.05918755]])"
      ]
     },
     "execution_count": 9,
     "metadata": {},
     "output_type": "execute_result"
    }
   ],
   "source": [
    "text = np.empty(len(x)*2)\n",
    "text = np.reshape(text,(len(x),2))\n",
    "for i in range(len(x)):\n",
    "    text[i,:]= x[i],y[i]\n",
    "np.shape(text)\n",
    "text"
   ]
  },
  {
   "cell_type": "markdown",
   "metadata": {},
   "source": [
    "Se guardan archivos de texto tanto para los datos generados (x,y), como los errores:"
   ]
  },
  {
   "cell_type": "code",
   "execution_count": 10,
   "metadata": {},
   "outputs": [],
   "source": [
    "np.savetxt('toydata.txt',text)\n",
    "np.savetxt('noisetoydata.txt',noise)"
   ]
  },
  {
   "cell_type": "markdown",
   "metadata": {},
   "source": [
    "Creando un txt con la matriz de covarianza creada a partir del ruido en txt."
   ]
  },
  {
   "cell_type": "code",
   "execution_count": 11,
   "metadata": {},
   "outputs": [],
   "source": [
    "errors = np.loadtxt('noisetoydata.txt')\n",
    "errorsdiag = np.diag(errors**2)\n",
    "cov = errorsdiag\n",
    "np.savetxt(\"cov_toy.txt\",errorsdiag)"
   ]
  },
  {
   "cell_type": "markdown",
   "metadata": {},
   "source": [
    "Se cargan los datos (x,y) y la matriz de covarianza:"
   ]
  },
  {
   "cell_type": "code",
   "execution_count": 21,
   "metadata": {},
   "outputs": [],
   "source": [
    "data=np.loadtxt('toydata.txt')\n",
    "x=data[:,0]\n",
    "y=data[:,1]\n",
    "cov=np.loadtxt('cov_toy.txt',skiprows=0)"
   ]
  },
  {
   "cell_type": "markdown",
   "metadata": {},
   "source": [
    "Ajustando recta"
   ]
  },
  {
   "cell_type": "code",
   "execution_count": 12,
   "metadata": {},
   "outputs": [],
   "source": [
    "LN2PI = np.log(2.*np.pi)\n",
    "#LNSIGMA = np.log(sigma)\n",
    "M=len(x)\n"
   ]
  },
  {
   "cell_type": "markdown",
   "metadata": {},
   "source": [
    "Escribiendo Priors planos:"
   ]
  },
  {
   "cell_type": "code",
   "execution_count": 14,
   "metadata": {},
   "outputs": [],
   "source": [
    "def prior_transform(theta):\n",
    "    \n",
    "    for parameter in theta:\n",
    "        \n",
    "        mprime, cprime = theta # unpack the parameters (in their unit hypercube form)\n",
    "\n",
    "        cmin = 0.  # lower bound on uniform prior on c\n",
    "        cmax = 1.   # upper bound on uniform prior on c\n",
    "\n",
    "        mmin = 0.  # lower bound on uniform prior on c\n",
    "        mmax = 1.   # upper bound on uniform prior on c\n",
    "\n",
    "        m = mprime*(mmax-mmin) + mmin \n",
    "        c = cprime*(cmax-cmin) + cmin  # convert back to c\n",
    "\n",
    "    return (m, c)\n",
    "\n"
   ]
  },
  {
   "cell_type": "markdown",
   "metadata": {},
   "source": [
    "Definiendo un likelihood similar a SuperMC:"
   ]
  },
  {
   "cell_type": "code",
   "execution_count": 15,
   "metadata": {},
   "outputs": [],
   "source": [
    "import scipy.linalg as la\n",
    "from scipy import dot\n",
    "icov = la.inv(cov)\n",
    "#icov = errorsdiag\n",
    "def loglikelihood_nestle(theta):\n",
    "\n",
    "    m, c = theta # unpack the parameters\n",
    "\n",
    "    # normalisation\n",
    "    #norm = -0.5*M*LN2PI - M*LNSIGMA\n",
    "    #norm = -np.log(la.det(errorsdiag))*0.5-0.5*len(x)*np.log(np.pi)\n",
    "\n",
    "    norm = -np.log(la.det(cov))*0.5-0.5*len(x)*np.log(np.pi)\n",
    "    #chisq = np.sum(((y-line(x, m, c))/sigma)**2)\n",
    "    delta = y - line(x,m,c)\n",
    "    chisq = dot(delta,dot(icov,delta))\n",
    "\n",
    "    #return norm - 0.5*chisq\n",
    "    return  norm -0.5*chisq\n",
    "\n"
   ]
  },
  {
   "cell_type": "markdown",
   "metadata": {},
   "source": [
    "Corriendo multinest:"
   ]
  },
  {
   "cell_type": "code",
   "execution_count": 16,
   "metadata": {},
   "outputs": [
    {
     "name": "stderr",
     "output_type": "stream",
     "text": [
      "/home/isidro/.local/lib/python3.6/site-packages/ipykernel_launcher.py:13: RuntimeWarning: divide by zero encountered in log\n",
      "  del sys.path[0]\n"
     ]
    },
    {
     "ename": "NameError",
     "evalue": "name 'line' is not defined",
     "output_type": "error",
     "traceback": [
      "\u001b[0;31m---------------------------------------------------------------------------\u001b[0m",
      "\u001b[0;31mNameError\u001b[0m                                 Traceback (most recent call last)",
      "\u001b[0;32m<ipython-input-16-beb5e66d380c>\u001b[0m in \u001b[0;36m<module>\u001b[0;34m\u001b[0m\n\u001b[1;32m      6\u001b[0m \u001b[0;34m\u001b[0m\u001b[0m\n\u001b[1;32m      7\u001b[0m res = nestle.sample(loglikelihood_nestle, prior_transform, ndims, \n\u001b[0;32m----> 8\u001b[0;31m                     method=method, npoints=nlive, dlogz=tol,  callback=nestle.print_progress)\n\u001b[0m\u001b[1;32m      9\u001b[0m \u001b[0;34m\u001b[0m\u001b[0m\n\u001b[1;32m     10\u001b[0m \u001b[0mres\u001b[0m\u001b[0;34m.\u001b[0m\u001b[0msummary\u001b[0m\u001b[0;34m(\u001b[0m\u001b[0;34m)\u001b[0m\u001b[0;34m\u001b[0m\u001b[0;34m\u001b[0m\u001b[0m\n",
      "\u001b[0;32m/usr/local/lib/python3.6/dist-packages/nestle.py\u001b[0m in \u001b[0;36msample\u001b[0;34m(loglikelihood, prior_transform, ndim, npoints, method, update_interval, npdim, maxiter, maxcall, dlogz, decline_factor, rstate, callback, **options)\u001b[0m\n\u001b[1;32m    863\u001b[0m     \u001b[0;32mfor\u001b[0m \u001b[0mi\u001b[0m \u001b[0;32min\u001b[0m \u001b[0mrange\u001b[0m\u001b[0;34m(\u001b[0m\u001b[0mnpoints\u001b[0m\u001b[0;34m)\u001b[0m\u001b[0;34m:\u001b[0m\u001b[0;34m\u001b[0m\u001b[0;34m\u001b[0m\u001b[0m\n\u001b[1;32m    864\u001b[0m         \u001b[0mactive_v\u001b[0m\u001b[0;34m[\u001b[0m\u001b[0mi\u001b[0m\u001b[0;34m,\u001b[0m \u001b[0;34m:\u001b[0m\u001b[0;34m]\u001b[0m \u001b[0;34m=\u001b[0m \u001b[0mprior_transform\u001b[0m\u001b[0;34m(\u001b[0m\u001b[0mactive_u\u001b[0m\u001b[0;34m[\u001b[0m\u001b[0mi\u001b[0m\u001b[0;34m,\u001b[0m \u001b[0;34m:\u001b[0m\u001b[0;34m]\u001b[0m\u001b[0;34m)\u001b[0m\u001b[0;34m\u001b[0m\u001b[0;34m\u001b[0m\u001b[0m\n\u001b[0;32m--> 865\u001b[0;31m         \u001b[0mactive_logl\u001b[0m\u001b[0;34m[\u001b[0m\u001b[0mi\u001b[0m\u001b[0;34m]\u001b[0m \u001b[0;34m=\u001b[0m \u001b[0mloglikelihood\u001b[0m\u001b[0;34m(\u001b[0m\u001b[0mactive_v\u001b[0m\u001b[0;34m[\u001b[0m\u001b[0mi\u001b[0m\u001b[0;34m,\u001b[0m \u001b[0;34m:\u001b[0m\u001b[0;34m]\u001b[0m\u001b[0;34m)\u001b[0m\u001b[0;34m\u001b[0m\u001b[0;34m\u001b[0m\u001b[0m\n\u001b[0m\u001b[1;32m    866\u001b[0m \u001b[0;34m\u001b[0m\u001b[0m\n\u001b[1;32m    867\u001b[0m     sampler = _SAMPLERS[method](loglikelihood, prior_transform, active_u,\n",
      "\u001b[0;32m<ipython-input-15-33d0eaf63d5f>\u001b[0m in \u001b[0;36mloglikelihood_nestle\u001b[0;34m(theta)\u001b[0m\n\u001b[1;32m     13\u001b[0m     \u001b[0mnorm\u001b[0m \u001b[0;34m=\u001b[0m \u001b[0;34m-\u001b[0m\u001b[0mnp\u001b[0m\u001b[0;34m.\u001b[0m\u001b[0mlog\u001b[0m\u001b[0;34m(\u001b[0m\u001b[0mla\u001b[0m\u001b[0;34m.\u001b[0m\u001b[0mdet\u001b[0m\u001b[0;34m(\u001b[0m\u001b[0mcov\u001b[0m\u001b[0;34m)\u001b[0m\u001b[0;34m)\u001b[0m\u001b[0;34m*\u001b[0m\u001b[0;36m0.5\u001b[0m\u001b[0;34m-\u001b[0m\u001b[0;36m0.5\u001b[0m\u001b[0;34m*\u001b[0m\u001b[0mlen\u001b[0m\u001b[0;34m(\u001b[0m\u001b[0mx\u001b[0m\u001b[0;34m)\u001b[0m\u001b[0;34m*\u001b[0m\u001b[0mnp\u001b[0m\u001b[0;34m.\u001b[0m\u001b[0mlog\u001b[0m\u001b[0;34m(\u001b[0m\u001b[0mnp\u001b[0m\u001b[0;34m.\u001b[0m\u001b[0mpi\u001b[0m\u001b[0;34m)\u001b[0m\u001b[0;34m\u001b[0m\u001b[0;34m\u001b[0m\u001b[0m\n\u001b[1;32m     14\u001b[0m     \u001b[0;31m#chisq = np.sum(((y-line(x, m, c))/sigma)**2)\u001b[0m\u001b[0;34m\u001b[0m\u001b[0;34m\u001b[0m\u001b[0;34m\u001b[0m\u001b[0m\n\u001b[0;32m---> 15\u001b[0;31m     \u001b[0mdelta\u001b[0m \u001b[0;34m=\u001b[0m \u001b[0my\u001b[0m \u001b[0;34m-\u001b[0m \u001b[0mline\u001b[0m\u001b[0;34m(\u001b[0m\u001b[0mx\u001b[0m\u001b[0;34m,\u001b[0m\u001b[0mm\u001b[0m\u001b[0;34m,\u001b[0m\u001b[0mc\u001b[0m\u001b[0;34m)\u001b[0m\u001b[0;34m\u001b[0m\u001b[0;34m\u001b[0m\u001b[0m\n\u001b[0m\u001b[1;32m     16\u001b[0m     \u001b[0mchisq\u001b[0m \u001b[0;34m=\u001b[0m \u001b[0mdot\u001b[0m\u001b[0;34m(\u001b[0m\u001b[0mdelta\u001b[0m\u001b[0;34m,\u001b[0m\u001b[0mdot\u001b[0m\u001b[0;34m(\u001b[0m\u001b[0micov\u001b[0m\u001b[0;34m,\u001b[0m\u001b[0mdelta\u001b[0m\u001b[0;34m)\u001b[0m\u001b[0;34m)\u001b[0m\u001b[0;34m\u001b[0m\u001b[0;34m\u001b[0m\u001b[0m\n\u001b[1;32m     17\u001b[0m \u001b[0;34m\u001b[0m\u001b[0m\n",
      "\u001b[0;31mNameError\u001b[0m: name 'line' is not defined"
     ]
    }
   ],
   "source": [
    "#nlive = 1024     # number of live points\n",
    "nlive = 40\n",
    "method = 'multi' # use MutliNest algorithm\n",
    "ndims = 2        # two parameters\n",
    "tol= 0.5         # the stopping criterion (this is the nestle default, so doesn't need to be set)\n",
    "\n",
    "res = nestle.sample(loglikelihood_nestle, prior_transform, ndims, \n",
    "                    method=method, npoints=nlive, dlogz=tol,  callback=nestle.print_progress)\n",
    "\n",
    "res.summary()"
   ]
  },
  {
   "cell_type": "code",
   "execution_count": 16,
   "metadata": {},
   "outputs": [
    {
     "name": "stdout",
     "output_type": "stream",
     "text": [
      "Marginalised evidence is 43.1917050947816 ± 0.6054941768465844\n"
     ]
    }
   ],
   "source": [
    "logZnestle = res.logz                         # value of logZ\n",
    "infogainnestle = res.h                        # value of the information gain in nats\n",
    "logZerrnestle = np.sqrt(infogainnestle/nlive) # estimate of the statistcal uncertainty on logZ\n",
    "\n",
    "# output marginal likelihood\n",
    "print('Marginalised evidence is {} ± {}'.format(logZnestle, logZerrnestle))\n",
    "\n"
   ]
  },
  {
   "cell_type": "code",
   "execution_count": 17,
   "metadata": {},
   "outputs": [
    {
     "name": "stderr",
     "output_type": "stream",
     "text": [
      "WARNING:root:Too few points to create valid contours\n"
     ]
    },
    {
     "name": "stdout",
     "output_type": "stream",
     "text": [
      "Number of posterior samples is 96\n"
     ]
    },
    {
     "data": {
      "image/png": "[encoded data removed]",
      "text/plain": [
       "<Figure size 396x396 with 4 Axes>"
      ]
     },
     "execution_count": 17,
     "metadata": {},
     "output_type": "execute_result"
    },
    {
     "data": {
      "image/png": "[encoded data removed]",
      "text/plain": [
       "<Figure size 396x396 with 4 Axes>"
      ]
     },
     "metadata": {
      "needs_background": "light"
     },
     "output_type": "display_data"
    }
   ],
   "source": [
    "# re-scale weights to have a maximum of one\n",
    "nweights = res.weights/np.max(res.weights)\n",
    "\n",
    "# get the probability of keeping a sample from the weights\n",
    "keepidx = np.where(np.random.rand(len(nweights)) < nweights)[0]\n",
    "\n",
    "# get the posterior samples\n",
    "postsamples = res.samples[keepidx,:]\n",
    "#postsamples = res.samples\n",
    "\n",
    "print('Number of posterior samples is {}'.format(postsamples.shape[0]))\n",
    "\n",
    "# plot posterior samples (if corner.py is installed)\n",
    "try:\n",
    "    import matplotlib as mpl\n",
    "    mpl.use(\"Agg\") # force Matplotlib backend to Agg\n",
    "    import corner # import corner.py\n",
    "except ImportError:\n",
    "    sys.exit(1)\n",
    "\n",
    "corner.corner(postsamples, labels=[r\"$m$\", r\"$c$\"], truths=[2, 4], show_titles=True)\n",
    "#fig.savefig('Nestle.png')"
   ]
  },
  {
   "cell_type": "markdown",
   "metadata": {},
   "source": [
    "## Probando EMCEE"
   ]
  },
  {
   "cell_type": "code",
   "execution_count": 21,
   "metadata": {},
   "outputs": [],
   "source": [
    "import emcee"
   ]
  },
  {
   "cell_type": "code",
   "execution_count": 37,
   "metadata": {},
   "outputs": [],
   "source": [
    "def logposterior(theta, data, sigma, x):\n",
    "    \"\"\"\n",
    "    The natural logarithm of the joint posterior.\n",
    "    \n",
    "    Args:\n",
    "        theta (tuple): a sample containing individual parameter values\n",
    "        data (list): the set of data/observations\n",
    "        sigma (float): the standard deviation of the data points\n",
    "        x (list): the abscissa values at which the data/model is defined\n",
    "    \"\"\"\n",
    "    \n",
    "    lp = logprior(theta) # get the prior\n",
    "    \n",
    "    # if the prior is not finite return a probability of zero (log probability of -inf)\n",
    "    if not np.isfinite(lp):\n",
    "        return -np.inf\n",
    "    \n",
    "    # return the likeihood times the prior (log likelihood plus the log prior)\n",
    "    #return lp + loglikelihood(theta, data, sigma, x)\n",
    "    return lp + loglikelihood"
   ]
  },
  {
   "cell_type": "code",
   "execution_count": 44,
   "metadata": {},
   "outputs": [],
   "source": [
    "def loglikelihood(theta, data, sigma, x):\n",
    "    \"\"\"\n",
    "    The natural logarithm of the joint likelihood.\n",
    "    \n",
    "    Args:\n",
    "        theta (tuple): a sample containing individual parameter values\n",
    "        data (list): the set of data/observations\n",
    "        sigma (float): the standard deviation of the data points\n",
    "        x (list): the abscissa values at which the data/model is defined\n",
    "    \n",
    "    Note:\n",
    "        We do not include the normalisation constants (as discussed above).\n",
    "    \"\"\"\n",
    "    \n",
    "    # unpack the model parameters from the tuple\n",
    "    m, c = theta\n",
    "    \n",
    "    # evaluate the model (assumes that the straight_line model is defined as above)\n",
    "    md = line(x, m, c)\n",
    "    \n",
    "    # return the log likelihood\n",
    "    #return -0.5*np.sum(((md - data)/sigma)**2)\n",
    "    return -0.5*np.sum(((md - y)/sigma)**2)"
   ]
  },
  {
   "cell_type": "code",
   "execution_count": 45,
   "metadata": {},
   "outputs": [],
   "source": [
    "def logprior(theta):\n",
    "    \"\"\"\n",
    "    The natural logarithm of the prior probability.\n",
    "    \n",
    "    Args:\n",
    "        theta (tuple): a sample containing individual parameter values\n",
    "    \n",
    "    Note:\n",
    "        We can ignore the normalisations of the prior here.\n",
    "    \"\"\"\n",
    "    \n",
    "    lp = 0.\n",
    "    \n",
    "    # unpack the model parameters from the tuple\n",
    "    m, c = theta\n",
    "    \n",
    "    # uniform prior on c\n",
    "    cmin = -10. # lower range of prior\n",
    "    cmax = 10.  # upper range of prior\n",
    "    \n",
    "    # set prior to 1 (log prior to 0) if in the range and zero (-inf) outside the range \n",
    "    lp = 0. if cmin < c < cmax else -np.inf\n",
    "    \n",
    "    # Gaussian prior on m\n",
    "    mmu = 0.     # mean of the Gaussian prior\n",
    "    msigma = 10. # standard deviation of the Gaussian prior\n",
    "    lp -= 0.5*((m - mmu)/msigma)**2\n",
    "    \n",
    "    return lp"
   ]
  },
  {
   "cell_type": "code",
   "execution_count": 48,
   "metadata": {},
   "outputs": [
    {
     "name": "stdout",
     "output_type": "stream",
     "text": [
      "emcee: Exception while calling your likelihood function:\n",
      "  params: [-2.477107    4.79880382]\n",
      "  args: (array([[ 0.        ,  4.04138186],\n",
      "       [ 0.1       ,  4.3385335 ],\n",
      "       [ 0.2       ,  4.72267524],\n",
      "       [ 0.3       ,  4.92039846],\n",
      "       [ 0.4       ,  4.92471793],\n",
      "       [ 0.5       ,  5.22499116],\n",
      "       [ 0.6       ,  5.45925973],\n",
      "       [ 0.7       ,  5.87371288],\n",
      "       [ 0.8       ,  5.92713367],\n",
      "       [ 0.9       ,  6.20766903],\n",
      "       [ 1.        ,  6.31623752],\n",
      "       [ 1.1       ,  6.63189406],\n",
      "       [ 1.2       ,  6.88187894],\n",
      "       [ 1.3       ,  6.66500737],\n",
      "       [ 1.4       ,  7.2943981 ],\n",
      "       [ 1.5       ,  7.19966283],\n",
      "       [ 1.6       ,  7.34065015],\n",
      "       [ 1.7       ,  7.69895617],\n",
      "       [ 1.8       ,  7.75336568],\n",
      "       [ 1.9       ,  7.89611533],\n",
      "       [ 2.        ,  8.14924207],\n",
      "       [ 2.1       ,  8.5452953 ],\n",
      "       [ 2.2       ,  8.84084   ],\n",
      "       [ 2.3       ,  9.03417722],\n",
      "       [ 2.4       ,  9.11605922],\n",
      "       [ 2.5       ,  9.22420768],\n",
      "       [ 2.6       ,  9.20326948],\n",
      "       [ 2.7       ,  9.8216495 ],\n",
      "       [ 2.8       ,  9.81832353],\n",
      "       [ 2.9       ,  9.93080472],\n",
      "       [ 3.        , 10.34699224],\n",
      "       [ 3.1       , 10.25707596],\n",
      "       [ 3.2       , 10.50940409],\n",
      "       [ 3.3       , 10.86555385],\n",
      "       [ 3.4       , 11.24303038],\n",
      "       [ 3.5       , 11.40763309],\n",
      "       [ 3.6       , 11.2148798 ],\n",
      "       [ 3.7       , 11.42499558],\n",
      "       [ 3.8       , 11.97334183],\n",
      "       [ 3.9       , 12.17679048],\n",
      "       [ 4.        , 12.39752658],\n",
      "       [ 4.1       , 12.5757848 ],\n",
      "       [ 4.2       , 12.65354937],\n",
      "       [ 4.3       , 12.83616357],\n",
      "       [ 4.4       , 13.06275008],\n",
      "       [ 4.5       , 13.40877493],\n",
      "       [ 4.6       , 13.37519284],\n",
      "       [ 4.7       , 13.53665819],\n",
      "       [ 4.8       , 13.61723844],\n",
      "       [ 4.9       , 13.9079241 ],\n",
      "       [ 5.        , 14.28169931],\n",
      "       [ 5.1       , 14.33601365],\n",
      "       [ 5.2       , 14.81673282],\n",
      "       [ 5.3       , 14.94449432],\n",
      "       [ 5.4       , 15.250879  ],\n",
      "       [ 5.5       , 15.28709999],\n",
      "       [ 5.6       , 15.35355288],\n",
      "       [ 5.7       , 15.57461089],\n",
      "       [ 5.8       , 15.86393108],\n",
      "       [ 5.9       , 15.93547465],\n",
      "       [ 6.        , 16.07480142],\n",
      "       [ 6.1       , 16.56071454],\n",
      "       [ 6.2       , 16.83869876],\n",
      "       [ 6.3       , 16.82370581],\n",
      "       [ 6.4       , 17.18815069],\n",
      "       [ 6.5       , 17.42667476],\n",
      "       [ 6.6       , 17.45444574],\n",
      "       [ 6.7       , 17.85105927],\n",
      "       [ 6.8       , 17.77207475],\n",
      "       [ 6.9       , 18.19500977],\n",
      "       [ 7.        , 18.39151383],\n",
      "       [ 7.1       , 18.63940659],\n",
      "       [ 7.2       , 18.48203483],\n",
      "       [ 7.3       , 18.77232996],\n",
      "       [ 7.4       , 19.23776257],\n",
      "       [ 7.5       , 19.42765616],\n",
      "       [ 7.6       , 19.53039625],\n",
      "       [ 7.7       , 19.85464428],\n",
      "       [ 7.8       , 19.80628883],\n",
      "       [ 7.9       , 20.02839001],\n",
      "       [ 8.        , 20.12251559],\n",
      "       [ 8.1       , 20.55372049],\n",
      "       [ 8.2       , 20.64906319],\n",
      "       [ 8.3       , 20.9816939 ],\n",
      "       [ 8.4       , 21.15866162],\n",
      "       [ 8.5       , 21.14510368],\n",
      "       [ 8.6       , 21.39355446],\n",
      "       [ 8.7       , 21.8256924 ],\n",
      "       [ 8.8       , 21.74651419],\n",
      "       [ 8.9       , 21.90950838],\n",
      "       [ 9.        , 22.20663195],\n",
      "       [ 9.1       , 22.60019799],\n",
      "       [ 9.2       , 22.46457516],\n",
      "       [ 9.3       , 22.97418239],\n",
      "       [ 9.4       , 22.84287251],\n",
      "       [ 9.5       , 23.29808533],\n",
      "       [ 9.6       , 23.50909928],\n",
      "       [ 9.7       , 23.55455008],\n",
      "       [ 9.8       , 23.94537609],\n",
      "       [ 9.9       , 24.12137761]]), 0.5, array([0. , 0.1, 0.2, 0.3, 0.4, 0.5, 0.6, 0.7, 0.8, 0.9, 1. , 1.1, 1.2,\n",
      "       1.3, 1.4, 1.5, 1.6, 1.7, 1.8, 1.9, 2. , 2.1, 2.2, 2.3, 2.4, 2.5,\n",
      "       2.6, 2.7, 2.8, 2.9, 3. , 3.1, 3.2, 3.3, 3.4, 3.5, 3.6, 3.7, 3.8,\n",
      "       3.9, 4. , 4.1, 4.2, 4.3, 4.4, 4.5, 4.6, 4.7, 4.8, 4.9, 5. , 5.1,\n",
      "       5.2, 5.3, 5.4, 5.5, 5.6, 5.7, 5.8, 5.9, 6. , 6.1, 6.2, 6.3, 6.4,\n",
      "       6.5, 6.6, 6.7, 6.8, 6.9, 7. , 7.1, 7.2, 7.3, 7.4, 7.5, 7.6, 7.7,\n",
      "       7.8, 7.9, 8. , 8.1, 8.2, 8.3, 8.4, 8.5, 8.6, 8.7, 8.8, 8.9, 9. ,\n",
      "       9.1, 9.2, 9.3, 9.4, 9.5, 9.6, 9.7, 9.8, 9.9]))\n",
      "  kwargs: {}\n",
      "  exception:\n"
     ]
    },
    {
     "name": "stderr",
     "output_type": "stream",
     "text": [
      "Traceback (most recent call last):\n",
      "  File \"/usr/local/lib/python3.6/dist-packages/emcee/ensemble.py\", line 519, in __call__\n",
      "    return self.f(x, *self.args, **self.kwargs)\n",
      "  File \"<ipython-input-37-217388530f17>\", line 20, in logposterior\n",
      "    return lp + loglikelihood\n",
      "TypeError: unsupported operand type(s) for +: 'float' and 'function'\n"
     ]
    },
    {
     "ename": "TypeError",
     "evalue": "unsupported operand type(s) for +: 'float' and 'function'",
     "output_type": "error",
     "traceback": [
      "\u001b[0;31m---------------------------------------------------------------------------\u001b[0m",
      "\u001b[0;31mTypeError\u001b[0m                                 Traceback (most recent call last)",
      "\u001b[0;32m<ipython-input-48-f32f19585d47>\u001b[0m in \u001b[0;36m<module>\u001b[0;34m\u001b[0m\n\u001b[1;32m     25\u001b[0m \u001b[0;34m\u001b[0m\u001b[0m\n\u001b[1;32m     26\u001b[0m \u001b[0;31m# pass the initial samples and total number of samples required\u001b[0m\u001b[0;34m\u001b[0m\u001b[0;34m\u001b[0m\u001b[0;34m\u001b[0m\u001b[0m\n\u001b[0;32m---> 27\u001b[0;31m \u001b[0msampler\u001b[0m\u001b[0;34m.\u001b[0m\u001b[0mrun_mcmc\u001b[0m\u001b[0;34m(\u001b[0m\u001b[0minisamples\u001b[0m\u001b[0;34m,\u001b[0m \u001b[0mNsamples\u001b[0m\u001b[0;34m+\u001b[0m\u001b[0mNburnin\u001b[0m\u001b[0;34m)\u001b[0m\u001b[0;34m;\u001b[0m\u001b[0;34m\u001b[0m\u001b[0;34m\u001b[0m\u001b[0m\n\u001b[0m",
      "\u001b[0;32m/usr/local/lib/python3.6/dist-packages/emcee/sampler.py\u001b[0m in \u001b[0;36mrun_mcmc\u001b[0;34m(self, pos0, N, rstate0, lnprob0, **kwargs)\u001b[0m\n\u001b[1;32m    170\u001b[0m \u001b[0;34m\u001b[0m\u001b[0m\n\u001b[1;32m    171\u001b[0m         for results in self.sample(pos0, lnprob0, rstate0, iterations=N,\n\u001b[0;32m--> 172\u001b[0;31m                                    **kwargs):\n\u001b[0m\u001b[1;32m    173\u001b[0m             \u001b[0;32mpass\u001b[0m\u001b[0;34m\u001b[0m\u001b[0;34m\u001b[0m\u001b[0m\n\u001b[1;32m    174\u001b[0m \u001b[0;34m\u001b[0m\u001b[0m\n",
      "\u001b[0;32m/usr/local/lib/python3.6/dist-packages/emcee/ensemble.py\u001b[0m in \u001b[0;36msample\u001b[0;34m(self, p0, lnprob0, rstate0, blobs0, iterations, thin, storechain, mh_proposal)\u001b[0m\n\u001b[1;32m    196\u001b[0m         \u001b[0mblobs\u001b[0m \u001b[0;34m=\u001b[0m \u001b[0mblobs0\u001b[0m\u001b[0;34m\u001b[0m\u001b[0;34m\u001b[0m\u001b[0m\n\u001b[1;32m    197\u001b[0m         \u001b[0;32mif\u001b[0m \u001b[0mlnprob\u001b[0m \u001b[0;32mis\u001b[0m \u001b[0;32mNone\u001b[0m\u001b[0;34m:\u001b[0m\u001b[0;34m\u001b[0m\u001b[0;34m\u001b[0m\u001b[0m\n\u001b[0;32m--> 198\u001b[0;31m             \u001b[0mlnprob\u001b[0m\u001b[0;34m,\u001b[0m \u001b[0mblobs\u001b[0m \u001b[0;34m=\u001b[0m \u001b[0mself\u001b[0m\u001b[0;34m.\u001b[0m\u001b[0m_get_lnprob\u001b[0m\u001b[0;34m(\u001b[0m\u001b[0mp\u001b[0m\u001b[0;34m)\u001b[0m\u001b[0;34m\u001b[0m\u001b[0;34m\u001b[0m\u001b[0m\n\u001b[0m\u001b[1;32m    199\u001b[0m \u001b[0;34m\u001b[0m\u001b[0m\n\u001b[1;32m    200\u001b[0m         \u001b[0;31m# Check to make sure that the probability function didn't return\u001b[0m\u001b[0;34m\u001b[0m\u001b[0;34m\u001b[0m\u001b[0;34m\u001b[0m\u001b[0m\n",
      "\u001b[0;32m/usr/local/lib/python3.6/dist-packages/emcee/ensemble.py\u001b[0m in \u001b[0;36m_get_lnprob\u001b[0;34m(self, pos)\u001b[0m\n\u001b[1;32m    380\u001b[0m \u001b[0;34m\u001b[0m\u001b[0m\n\u001b[1;32m    381\u001b[0m         \u001b[0;31m# Run the log-probability calculations (optionally in parallel).\u001b[0m\u001b[0;34m\u001b[0m\u001b[0;34m\u001b[0m\u001b[0;34m\u001b[0m\u001b[0m\n\u001b[0;32m--> 382\u001b[0;31m         \u001b[0mresults\u001b[0m \u001b[0;34m=\u001b[0m \u001b[0mlist\u001b[0m\u001b[0;34m(\u001b[0m\u001b[0mM\u001b[0m\u001b[0;34m(\u001b[0m\u001b[0mself\u001b[0m\u001b[0;34m.\u001b[0m\u001b[0mlnprobfn\u001b[0m\u001b[0;34m,\u001b[0m \u001b[0;34m[\u001b[0m\u001b[0mp\u001b[0m\u001b[0;34m[\u001b[0m\u001b[0mi\u001b[0m\u001b[0;34m]\u001b[0m \u001b[0;32mfor\u001b[0m \u001b[0mi\u001b[0m \u001b[0;32min\u001b[0m \u001b[0mrange\u001b[0m\u001b[0;34m(\u001b[0m\u001b[0mlen\u001b[0m\u001b[0;34m(\u001b[0m\u001b[0mp\u001b[0m\u001b[0;34m)\u001b[0m\u001b[0;34m)\u001b[0m\u001b[0;34m]\u001b[0m\u001b[0;34m)\u001b[0m\u001b[0;34m)\u001b[0m\u001b[0;34m\u001b[0m\u001b[0;34m\u001b[0m\u001b[0m\n\u001b[0m\u001b[1;32m    383\u001b[0m \u001b[0;34m\u001b[0m\u001b[0m\n\u001b[1;32m    384\u001b[0m         \u001b[0;32mtry\u001b[0m\u001b[0;34m:\u001b[0m\u001b[0;34m\u001b[0m\u001b[0;34m\u001b[0m\u001b[0m\n",
      "\u001b[0;32m/usr/local/lib/python3.6/dist-packages/emcee/ensemble.py\u001b[0m in \u001b[0;36m__call__\u001b[0;34m(self, x)\u001b[0m\n\u001b[1;32m    517\u001b[0m     \u001b[0;32mdef\u001b[0m \u001b[0m__call__\u001b[0m\u001b[0;34m(\u001b[0m\u001b[0mself\u001b[0m\u001b[0;34m,\u001b[0m \u001b[0mx\u001b[0m\u001b[0;34m)\u001b[0m\u001b[0;34m:\u001b[0m\u001b[0;34m\u001b[0m\u001b[0;34m\u001b[0m\u001b[0m\n\u001b[1;32m    518\u001b[0m         \u001b[0;32mtry\u001b[0m\u001b[0;34m:\u001b[0m\u001b[0;34m\u001b[0m\u001b[0;34m\u001b[0m\u001b[0m\n\u001b[0;32m--> 519\u001b[0;31m             \u001b[0;32mreturn\u001b[0m \u001b[0mself\u001b[0m\u001b[0;34m.\u001b[0m\u001b[0mf\u001b[0m\u001b[0;34m(\u001b[0m\u001b[0mx\u001b[0m\u001b[0;34m,\u001b[0m \u001b[0;34m*\u001b[0m\u001b[0mself\u001b[0m\u001b[0;34m.\u001b[0m\u001b[0margs\u001b[0m\u001b[0;34m,\u001b[0m \u001b[0;34m**\u001b[0m\u001b[0mself\u001b[0m\u001b[0;34m.\u001b[0m\u001b[0mkwargs\u001b[0m\u001b[0;34m)\u001b[0m\u001b[0;34m\u001b[0m\u001b[0;34m\u001b[0m\u001b[0m\n\u001b[0m\u001b[1;32m    520\u001b[0m         \u001b[0;32mexcept\u001b[0m\u001b[0;34m:\u001b[0m\u001b[0;34m\u001b[0m\u001b[0;34m\u001b[0m\u001b[0m\n\u001b[1;32m    521\u001b[0m             \u001b[0;32mimport\u001b[0m \u001b[0mtraceback\u001b[0m\u001b[0;34m\u001b[0m\u001b[0;34m\u001b[0m\u001b[0m\n",
      "\u001b[0;32m<ipython-input-37-217388530f17>\u001b[0m in \u001b[0;36mlogposterior\u001b[0;34m(theta, data, sigma, x)\u001b[0m\n\u001b[1;32m     18\u001b[0m     \u001b[0;31m# return the likeihood times the prior (log likelihood plus the log prior)\u001b[0m\u001b[0;34m\u001b[0m\u001b[0;34m\u001b[0m\u001b[0;34m\u001b[0m\u001b[0m\n\u001b[1;32m     19\u001b[0m     \u001b[0;31m#return lp + loglikelihood(theta, data, sigma, x)\u001b[0m\u001b[0;34m\u001b[0m\u001b[0;34m\u001b[0m\u001b[0;34m\u001b[0m\u001b[0m\n\u001b[0;32m---> 20\u001b[0;31m     \u001b[0;32mreturn\u001b[0m \u001b[0mlp\u001b[0m \u001b[0;34m+\u001b[0m \u001b[0mloglikelihood\u001b[0m\u001b[0;34m\u001b[0m\u001b[0;34m\u001b[0m\u001b[0m\n\u001b[0m",
      "\u001b[0;31mTypeError\u001b[0m: unsupported operand type(s) for +: 'float' and 'function'"
     ]
    }
   ],
   "source": [
    "Nens = 100   # Nens number of ensemble points\n",
    "\n",
    "mmu = 0.     # mean of the Gaussian prior\n",
    "msigma = 10. # standard deviation of the Gaussian prior\n",
    "\n",
    "mini = np.random.normal(mmu, msigma, Nens) # initial m points\n",
    "\n",
    "cmin = -10.  # lower range of prior\n",
    "cmax = 10.   # upper range of prior\n",
    "\n",
    "cini = np.random.uniform(cmin, cmax, Nens) # initial c points\n",
    "\n",
    "inisamples = np.array([mini, cini]).T # initial samples\n",
    "\n",
    "ndims = inisamples.shape[1] # number of parameters/dimensions\n",
    "\n",
    "Nburnin = 500   # number of burn-in samples\n",
    "Nsamples = 500  # number of final posterior samples\n",
    "\n",
    "# set additional args for the posterior (the data, the noise std. dev., and the abscissa)\n",
    "argslist = (data, sigma, x)\n",
    "\n",
    "# set up the sampler\n",
    "sampler = emcee.EnsembleSampler(Nens, ndims, logposterior, args=argslist)\n",
    "\n",
    "# pass the initial samples and total number of samples required\n",
    "sampler.run_mcmc(inisamples, Nsamples+Nburnin);"
   ]
  },
  {
   "cell_type": "code",
   "execution_count": null,
   "metadata": {},
   "outputs": [],
   "source": []
  },
  {
   "cell_type": "code",
   "execution_count": null,
   "metadata": {},
   "outputs": [],
   "source": []
  }
 ],
 "metadata": {
  "kernelspec": {
   "display_name": "Python 3",
   "language": "python",
   "name": "python3"
  },
  "language_info": {
   "codemirror_mode": {
    "name": "ipython",
    "version": 3
   },
   "file_extension": ".py",
   "mimetype": "text/x-python",
   "name": "python",
   "nbconvert_exporter": "python",
   "pygments_lexer": "ipython3",
   "version": "3.6.9"
  }
 },
 "nbformat": 4,
 "nbformat_minor": 2
}
