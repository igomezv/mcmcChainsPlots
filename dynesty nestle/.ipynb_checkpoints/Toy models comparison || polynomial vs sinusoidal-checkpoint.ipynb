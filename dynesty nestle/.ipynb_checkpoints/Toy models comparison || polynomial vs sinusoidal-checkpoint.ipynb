{
 "cells": [
  {
   "cell_type": "markdown",
   "metadata": {},
   "source": [
    "## Se cargan librerías: "
   ]
  },
  {
   "cell_type": "code",
   "execution_count": 1,
   "metadata": {},
   "outputs": [
    {
     "name": "stdout",
     "output_type": "stream",
     "text": [
      "Using matplotlib backend: GTK3Agg\n"
     ]
    }
   ],
   "source": [
    "import numpy as np\n",
    "import matplotlib.pyplot as plt\n",
    "import os\n",
    "import sys\n",
    "from scipy.special import ndtri\n",
    "import numpy as np\n",
    "\n",
    "# import Nestle\n",
    "import nestle\n",
    "%matplotlib"
   ]
  },
  {
   "cell_type": "code",
   "execution_count": 2,
   "metadata": {},
   "outputs": [],
   "source": [
    "def model1(z, a, b, c):\n",
    "    return a*z**2+(-a+b)*z+c\n",
    "\n",
    "def model2(z,a,c,w):\n",
    "    return a*np.sin(w*z)+c\n",
    "\n",
    "def truemodel(z):\n",
    "    return -3.5*z**2+3.6*z-0.1"
   ]
  },
  {
   "cell_type": "markdown",
   "metadata": {},
   "source": [
    "Se generan puntos dentro del intervalo $[0,10)$"
   ]
  },
  {
   "cell_type": "code",
   "execution_count": 3,
   "metadata": {},
   "outputs": [
    {
     "data": {
      "text/plain": [
       "array([0.  , 0.01, 0.02, 0.03, 0.04, 0.05, 0.06, 0.07, 0.08, 0.09, 0.1 ,\n",
       "       0.11, 0.12, 0.13, 0.14, 0.15, 0.16, 0.17, 0.18, 0.19, 0.2 , 0.21,\n",
       "       0.22, 0.23, 0.24, 0.25, 0.26, 0.27, 0.28, 0.29, 0.3 , 0.31, 0.32,\n",
       "       0.33, 0.34, 0.35, 0.36, 0.37, 0.38, 0.39, 0.4 , 0.41, 0.42, 0.43,\n",
       "       0.44, 0.45, 0.46, 0.47, 0.48, 0.49, 0.5 , 0.51, 0.52, 0.53, 0.54,\n",
       "       0.55, 0.56, 0.57, 0.58, 0.59, 0.6 , 0.61, 0.62, 0.63, 0.64, 0.65,\n",
       "       0.66, 0.67, 0.68, 0.69, 0.7 , 0.71, 0.72, 0.73, 0.74, 0.75, 0.76,\n",
       "       0.77, 0.78, 0.79, 0.8 , 0.81, 0.82, 0.83, 0.84, 0.85, 0.86, 0.87,\n",
       "       0.88, 0.89, 0.9 , 0.91, 0.92, 0.93, 0.94, 0.95, 0.96, 0.97, 0.98,\n",
       "       0.99])"
      ]
     },
     "execution_count": 3,
     "metadata": {},
     "output_type": "execute_result"
    }
   ],
   "source": [
    "#x = np.linspace(0, 10 , 100)  \n",
    "x = np.arange(0,1,0.01)\n",
    "x"
   ]
  },
  {
   "cell_type": "markdown",
   "metadata": {},
   "source": [
    "Se genera ruido gaussiano:"
   ]
  },
  {
   "cell_type": "code",
   "execution_count": 4,
   "metadata": {},
   "outputs": [
    {
     "data": {
      "text/plain": [
       "array([4.68107651e-05, 1.58669957e-02, 4.58663222e-02, 1.13496978e-02,\n",
       "       6.77206748e-03, 1.74599427e-02, 1.41049716e-02, 4.02423571e-02,\n",
       "       1.85773096e-02, 1.08019646e-02, 6.40896525e-03, 1.51404600e-02,\n",
       "       4.09834023e-02, 3.25333366e-02, 1.51327279e-04, 4.40744132e-05,\n",
       "       2.76065740e-02, 2.36028951e-02, 4.15054616e-03, 8.58258798e-03,\n",
       "       1.39726714e-02, 3.14052004e-02, 3.34989556e-03, 2.75947521e-02,\n",
       "       6.98020656e-03, 4.35326317e-02, 7.67730587e-03, 1.42342347e-02,\n",
       "       3.16922044e-02, 3.14472166e-02, 2.52736885e-02, 4.87205972e-03,\n",
       "       1.34467989e-02, 3.25166350e-02, 4.57888646e-02, 3.50740514e-03,\n",
       "       3.23618985e-02, 4.66025228e-02, 2.43014268e-02, 3.87855607e-02,\n",
       "       3.01255371e-02, 4.27087615e-02, 2.40539118e-03, 3.14093832e-02,\n",
       "       3.12284680e-02, 2.64165264e-02, 2.28789815e-02, 2.43976189e-02,\n",
       "       4.64369664e-02, 3.17128654e-02, 3.31114010e-02, 4.71889047e-02,\n",
       "       9.92290535e-03, 1.15633873e-02, 3.37565110e-02, 5.46180055e-03,\n",
       "       9.93824363e-03, 3.19277247e-02, 3.59555036e-02, 2.29937905e-02,\n",
       "       1.26529034e-02, 2.98872843e-02, 4.43965111e-02, 4.04479392e-02,\n",
       "       5.07175460e-03, 2.27250853e-02, 3.15364898e-02, 4.72362554e-02,\n",
       "       4.05826487e-02, 4.53680501e-02, 3.47853683e-02, 2.31928218e-02,\n",
       "       3.95611862e-03, 2.63832879e-02, 4.28620429e-02, 1.89705829e-03,\n",
       "       7.68300411e-03, 2.90508431e-02, 3.92294618e-02, 4.47104793e-02,\n",
       "       3.24536819e-02, 4.56790614e-02, 2.23754652e-02, 4.88422612e-02,\n",
       "       3.38062996e-02, 2.82490086e-02, 3.24328731e-02, 7.81874780e-03,\n",
       "       5.88388339e-03, 1.10249151e-02, 2.54217550e-02, 2.10570598e-02,\n",
       "       1.29023413e-02, 4.54262576e-03, 9.03531144e-04, 4.71407150e-02,\n",
       "       3.78009383e-02, 3.49615761e-02, 6.41393908e-03, 1.85765720e-03])"
      ]
     },
     "execution_count": 4,
     "metadata": {},
     "output_type": "execute_result"
    }
   ],
   "source": [
    "#noise = np.random.normal(0.01, .01, size=40)\n",
    "sigma = 0.05\n",
    "noise = sigma*np.random.rand(len(x))\n",
    "noise"
   ]
  },
  {
   "cell_type": "markdown",
   "metadata": {},
   "source": [
    "A la variable $y$ se le asigna la función line más el ruido gaussiano. "
   ]
  },
  {
   "cell_type": "code",
   "execution_count": 5,
   "metadata": {},
   "outputs": [
    {
     "data": {
      "text/plain": [
       "array([-0.09995319, -0.048483  ,  0.01646632,  0.0161997 ,  0.04517207,\n",
       "        0.08870994,  0.11750497,  0.17509236,  0.18417731,  0.20645196,\n",
       "        0.23140897,  0.26879046,  0.3225834 ,  0.34138334,  0.33555133,\n",
       "        0.36129407,  0.41400657,  0.4344529 ,  0.43875055,  0.46623259,\n",
       "        0.49397267,  0.5330552 ,  0.5259499 ,  0.57044475,  0.56938021,\n",
       "        0.62478263,  0.60707731,  0.63108423,  0.6652922 ,  0.68109722,\n",
       "        0.69027369,  0.68452206,  0.7070468 ,  0.73936664,  0.76518886,\n",
       "        0.73475741,  0.7747619 ,  0.79945252,  0.78690143,  0.81043556,\n",
       "        0.81012554,  0.83035876,  0.79700539,  0.83225938,  0.83762847,\n",
       "        0.83766653,  0.83827898,  0.84324762,  0.86803697,  0.85536287,\n",
       "        0.8581114 ,  0.8728389 ,  0.83552291,  0.83641339,  0.85715651,\n",
       "        0.8267118 ,  0.82833824,  0.84677772,  0.8465555 ,  0.82864379,\n",
       "        0.8126529 ,  0.82353728,  0.83099651,  0.81929794,  0.77547175,\n",
       "        0.78397509,  0.78293649,  0.78808626,  0.77018265,  0.76301805,\n",
       "        0.73978537,  0.71484282,  0.68155612,  0.68923329,  0.69026204,\n",
       "        0.63314706,  0.622083  ,  0.62590084,  0.61782946,  0.60436048,\n",
       "        0.57245368,  0.56532906,  0.52097547,  0.52569226,  0.4882063 ,\n",
       "        0.45949901,  0.43983287,  0.39066875,  0.36348388,  0.34267492,\n",
       "        0.33042175,  0.29870706,  0.26250234,  0.22539263,  0.19230353,\n",
       "        0.20839071,  0.16820094,  0.13381158,  0.07301394,  0.03550766])"
      ]
     },
     "execution_count": 5,
     "metadata": {},
     "output_type": "execute_result"
    }
   ],
   "source": [
    "y = truemodel(x)+noise\n",
    "y"
   ]
  },
  {
   "cell_type": "markdown",
   "metadata": {},
   "source": [
    "Se juntan en un solo numpy array los valores de x,y."
   ]
  },
  {
   "cell_type": "code",
   "execution_count": 6,
   "metadata": {},
   "outputs": [
    {
     "data": {
      "text/plain": [
       "array([[ 0.        , -0.09995319],\n",
       "       [ 0.01      , -0.048483  ],\n",
       "       [ 0.02      ,  0.01646632],\n",
       "       [ 0.03      ,  0.0161997 ],\n",
       "       [ 0.04      ,  0.04517207],\n",
       "       [ 0.05      ,  0.08870994],\n",
       "       [ 0.06      ,  0.11750497],\n",
       "       [ 0.07      ,  0.17509236],\n",
       "       [ 0.08      ,  0.18417731],\n",
       "       [ 0.09      ,  0.20645196],\n",
       "       [ 0.1       ,  0.23140897],\n",
       "       [ 0.11      ,  0.26879046],\n",
       "       [ 0.12      ,  0.3225834 ],\n",
       "       [ 0.13      ,  0.34138334],\n",
       "       [ 0.14      ,  0.33555133],\n",
       "       [ 0.15      ,  0.36129407],\n",
       "       [ 0.16      ,  0.41400657],\n",
       "       [ 0.17      ,  0.4344529 ],\n",
       "       [ 0.18      ,  0.43875055],\n",
       "       [ 0.19      ,  0.46623259],\n",
       "       [ 0.2       ,  0.49397267],\n",
       "       [ 0.21      ,  0.5330552 ],\n",
       "       [ 0.22      ,  0.5259499 ],\n",
       "       [ 0.23      ,  0.57044475],\n",
       "       [ 0.24      ,  0.56938021],\n",
       "       [ 0.25      ,  0.62478263],\n",
       "       [ 0.26      ,  0.60707731],\n",
       "       [ 0.27      ,  0.63108423],\n",
       "       [ 0.28      ,  0.6652922 ],\n",
       "       [ 0.29      ,  0.68109722],\n",
       "       [ 0.3       ,  0.69027369],\n",
       "       [ 0.31      ,  0.68452206],\n",
       "       [ 0.32      ,  0.7070468 ],\n",
       "       [ 0.33      ,  0.73936664],\n",
       "       [ 0.34      ,  0.76518886],\n",
       "       [ 0.35      ,  0.73475741],\n",
       "       [ 0.36      ,  0.7747619 ],\n",
       "       [ 0.37      ,  0.79945252],\n",
       "       [ 0.38      ,  0.78690143],\n",
       "       [ 0.39      ,  0.81043556],\n",
       "       [ 0.4       ,  0.81012554],\n",
       "       [ 0.41      ,  0.83035876],\n",
       "       [ 0.42      ,  0.79700539],\n",
       "       [ 0.43      ,  0.83225938],\n",
       "       [ 0.44      ,  0.83762847],\n",
       "       [ 0.45      ,  0.83766653],\n",
       "       [ 0.46      ,  0.83827898],\n",
       "       [ 0.47      ,  0.84324762],\n",
       "       [ 0.48      ,  0.86803697],\n",
       "       [ 0.49      ,  0.85536287],\n",
       "       [ 0.5       ,  0.8581114 ],\n",
       "       [ 0.51      ,  0.8728389 ],\n",
       "       [ 0.52      ,  0.83552291],\n",
       "       [ 0.53      ,  0.83641339],\n",
       "       [ 0.54      ,  0.85715651],\n",
       "       [ 0.55      ,  0.8267118 ],\n",
       "       [ 0.56      ,  0.82833824],\n",
       "       [ 0.57      ,  0.84677772],\n",
       "       [ 0.58      ,  0.8465555 ],\n",
       "       [ 0.59      ,  0.82864379],\n",
       "       [ 0.6       ,  0.8126529 ],\n",
       "       [ 0.61      ,  0.82353728],\n",
       "       [ 0.62      ,  0.83099651],\n",
       "       [ 0.63      ,  0.81929794],\n",
       "       [ 0.64      ,  0.77547175],\n",
       "       [ 0.65      ,  0.78397509],\n",
       "       [ 0.66      ,  0.78293649],\n",
       "       [ 0.67      ,  0.78808626],\n",
       "       [ 0.68      ,  0.77018265],\n",
       "       [ 0.69      ,  0.76301805],\n",
       "       [ 0.7       ,  0.73978537],\n",
       "       [ 0.71      ,  0.71484282],\n",
       "       [ 0.72      ,  0.68155612],\n",
       "       [ 0.73      ,  0.68923329],\n",
       "       [ 0.74      ,  0.69026204],\n",
       "       [ 0.75      ,  0.63314706],\n",
       "       [ 0.76      ,  0.622083  ],\n",
       "       [ 0.77      ,  0.62590084],\n",
       "       [ 0.78      ,  0.61782946],\n",
       "       [ 0.79      ,  0.60436048],\n",
       "       [ 0.8       ,  0.57245368],\n",
       "       [ 0.81      ,  0.56532906],\n",
       "       [ 0.82      ,  0.52097547],\n",
       "       [ 0.83      ,  0.52569226],\n",
       "       [ 0.84      ,  0.4882063 ],\n",
       "       [ 0.85      ,  0.45949901],\n",
       "       [ 0.86      ,  0.43983287],\n",
       "       [ 0.87      ,  0.39066875],\n",
       "       [ 0.88      ,  0.36348388],\n",
       "       [ 0.89      ,  0.34267492],\n",
       "       [ 0.9       ,  0.33042175],\n",
       "       [ 0.91      ,  0.29870706],\n",
       "       [ 0.92      ,  0.26250234],\n",
       "       [ 0.93      ,  0.22539263],\n",
       "       [ 0.94      ,  0.19230353],\n",
       "       [ 0.95      ,  0.20839071],\n",
       "       [ 0.96      ,  0.16820094],\n",
       "       [ 0.97      ,  0.13381158],\n",
       "       [ 0.98      ,  0.07301394],\n",
       "       [ 0.99      ,  0.03550766]])"
      ]
     },
     "execution_count": 6,
     "metadata": {},
     "output_type": "execute_result"
    }
   ],
   "source": [
    "text = np.empty(len(x)*2)\n",
    "text = np.reshape(text,(len(x),2))\n",
    "for i in range(len(x)):\n",
    "    text[i,:]= x[i],y[i]\n",
    "np.shape(text)\n",
    "text"
   ]
  },
  {
   "cell_type": "markdown",
   "metadata": {},
   "source": [
    "Se guardan archivos de texto tanto para los datos generados (x,y), como los errores:"
   ]
  },
  {
   "cell_type": "code",
   "execution_count": 7,
   "metadata": {},
   "outputs": [],
   "source": [
    "np.savetxt('poliModeldata.txt',text)\n",
    "np.savetxt('noisepoliModeldata.txt',noise)"
   ]
  },
  {
   "cell_type": "markdown",
   "metadata": {},
   "source": [
    "Creando un txt con la matriz de covarianza creada a partir del ruido en txt."
   ]
  },
  {
   "cell_type": "code",
   "execution_count": 8,
   "metadata": {},
   "outputs": [],
   "source": [
    "errors = np.loadtxt('noisepoliModeldata.txt')\n",
    "errorsdiag = np.diag(errors**2)\n",
    "cov = errorsdiag\n",
    "np.savetxt(\"cov_poliModeldata.txt\",errorsdiag)"
   ]
  },
  {
   "cell_type": "markdown",
   "metadata": {},
   "source": [
    "Se cargan los datos (x,y) y la matriz de covarianza:"
   ]
  },
  {
   "cell_type": "code",
   "execution_count": 9,
   "metadata": {},
   "outputs": [
    {
     "data": {
      "image/png": "[encoded data removed]",
      "text/plain": [
       "<Figure size 432x288 with 1 Axes>"
      ]
     },
     "metadata": {
      "needs_background": "light"
     },
     "output_type": "display_data"
    }
   ],
   "source": [
    "plt.axis(\"equal\")\n",
    "#plt.scatter(x,y, color='green', marker='o', label=\"Data\") \n",
    "y0 = truemodel(x)\n",
    "plt.plot(x,y0, color='green', marker = '.', label = \"True Model\")\n",
    "y1 = model1(x,-3.4, 0.09,-0.08)\n",
    "plt.plot(x,y1, color=\"red\", label=\"Model 1\")\n",
    "y2 = model2(x, 0.87, -0.03, 3.04)\n",
    "plt.plot(x,y2, color=\"blue\", label=\"Model 2\")\n",
    "#plt.plot(x, [line(i,2.001040,4.329550) for i in x], color = 'red')\n",
    "#plt.figure(figsize=(11,10))\n",
    "plt.xlim(0,1)\n",
    "plt.ylim(0.2,1)\n",
    "plt.legend(bbox_to_anchor=(1., 1))\n",
    "\n",
    "plt.savefig(\"modelcomparisonplot.png\")"
   ]
  },
  {
   "cell_type": "code",
   "execution_count": 10,
   "metadata": {},
   "outputs": [
    {
     "data": {
      "text/plain": [
       "100"
      ]
     },
     "execution_count": 10,
     "metadata": {},
     "output_type": "execute_result"
    }
   ],
   "source": [
    "len(x)"
   ]
  },
  {
   "cell_type": "markdown",
   "metadata": {},
   "source": [
    "Se juntan en un solo numpy array los valores de x,y."
   ]
  },
  {
   "cell_type": "code",
   "execution_count": 11,
   "metadata": {},
   "outputs": [
    {
     "data": {
      "text/plain": [
       "array([[ 0.        , -0.09995319],\n",
       "       [ 0.01      , -0.048483  ],\n",
       "       [ 0.02      ,  0.01646632],\n",
       "       [ 0.03      ,  0.0161997 ],\n",
       "       [ 0.04      ,  0.04517207],\n",
       "       [ 0.05      ,  0.08870994],\n",
       "       [ 0.06      ,  0.11750497],\n",
       "       [ 0.07      ,  0.17509236],\n",
       "       [ 0.08      ,  0.18417731],\n",
       "       [ 0.09      ,  0.20645196],\n",
       "       [ 0.1       ,  0.23140897],\n",
       "       [ 0.11      ,  0.26879046],\n",
       "       [ 0.12      ,  0.3225834 ],\n",
       "       [ 0.13      ,  0.34138334],\n",
       "       [ 0.14      ,  0.33555133],\n",
       "       [ 0.15      ,  0.36129407],\n",
       "       [ 0.16      ,  0.41400657],\n",
       "       [ 0.17      ,  0.4344529 ],\n",
       "       [ 0.18      ,  0.43875055],\n",
       "       [ 0.19      ,  0.46623259],\n",
       "       [ 0.2       ,  0.49397267],\n",
       "       [ 0.21      ,  0.5330552 ],\n",
       "       [ 0.22      ,  0.5259499 ],\n",
       "       [ 0.23      ,  0.57044475],\n",
       "       [ 0.24      ,  0.56938021],\n",
       "       [ 0.25      ,  0.62478263],\n",
       "       [ 0.26      ,  0.60707731],\n",
       "       [ 0.27      ,  0.63108423],\n",
       "       [ 0.28      ,  0.6652922 ],\n",
       "       [ 0.29      ,  0.68109722],\n",
       "       [ 0.3       ,  0.69027369],\n",
       "       [ 0.31      ,  0.68452206],\n",
       "       [ 0.32      ,  0.7070468 ],\n",
       "       [ 0.33      ,  0.73936664],\n",
       "       [ 0.34      ,  0.76518886],\n",
       "       [ 0.35      ,  0.73475741],\n",
       "       [ 0.36      ,  0.7747619 ],\n",
       "       [ 0.37      ,  0.79945252],\n",
       "       [ 0.38      ,  0.78690143],\n",
       "       [ 0.39      ,  0.81043556],\n",
       "       [ 0.4       ,  0.81012554],\n",
       "       [ 0.41      ,  0.83035876],\n",
       "       [ 0.42      ,  0.79700539],\n",
       "       [ 0.43      ,  0.83225938],\n",
       "       [ 0.44      ,  0.83762847],\n",
       "       [ 0.45      ,  0.83766653],\n",
       "       [ 0.46      ,  0.83827898],\n",
       "       [ 0.47      ,  0.84324762],\n",
       "       [ 0.48      ,  0.86803697],\n",
       "       [ 0.49      ,  0.85536287],\n",
       "       [ 0.5       ,  0.8581114 ],\n",
       "       [ 0.51      ,  0.8728389 ],\n",
       "       [ 0.52      ,  0.83552291],\n",
       "       [ 0.53      ,  0.83641339],\n",
       "       [ 0.54      ,  0.85715651],\n",
       "       [ 0.55      ,  0.8267118 ],\n",
       "       [ 0.56      ,  0.82833824],\n",
       "       [ 0.57      ,  0.84677772],\n",
       "       [ 0.58      ,  0.8465555 ],\n",
       "       [ 0.59      ,  0.82864379],\n",
       "       [ 0.6       ,  0.8126529 ],\n",
       "       [ 0.61      ,  0.82353728],\n",
       "       [ 0.62      ,  0.83099651],\n",
       "       [ 0.63      ,  0.81929794],\n",
       "       [ 0.64      ,  0.77547175],\n",
       "       [ 0.65      ,  0.78397509],\n",
       "       [ 0.66      ,  0.78293649],\n",
       "       [ 0.67      ,  0.78808626],\n",
       "       [ 0.68      ,  0.77018265],\n",
       "       [ 0.69      ,  0.76301805],\n",
       "       [ 0.7       ,  0.73978537],\n",
       "       [ 0.71      ,  0.71484282],\n",
       "       [ 0.72      ,  0.68155612],\n",
       "       [ 0.73      ,  0.68923329],\n",
       "       [ 0.74      ,  0.69026204],\n",
       "       [ 0.75      ,  0.63314706],\n",
       "       [ 0.76      ,  0.622083  ],\n",
       "       [ 0.77      ,  0.62590084],\n",
       "       [ 0.78      ,  0.61782946],\n",
       "       [ 0.79      ,  0.60436048],\n",
       "       [ 0.8       ,  0.57245368],\n",
       "       [ 0.81      ,  0.56532906],\n",
       "       [ 0.82      ,  0.52097547],\n",
       "       [ 0.83      ,  0.52569226],\n",
       "       [ 0.84      ,  0.4882063 ],\n",
       "       [ 0.85      ,  0.45949901],\n",
       "       [ 0.86      ,  0.43983287],\n",
       "       [ 0.87      ,  0.39066875],\n",
       "       [ 0.88      ,  0.36348388],\n",
       "       [ 0.89      ,  0.34267492],\n",
       "       [ 0.9       ,  0.33042175],\n",
       "       [ 0.91      ,  0.29870706],\n",
       "       [ 0.92      ,  0.26250234],\n",
       "       [ 0.93      ,  0.22539263],\n",
       "       [ 0.94      ,  0.19230353],\n",
       "       [ 0.95      ,  0.20839071],\n",
       "       [ 0.96      ,  0.16820094],\n",
       "       [ 0.97      ,  0.13381158],\n",
       "       [ 0.98      ,  0.07301394],\n",
       "       [ 0.99      ,  0.03550766]])"
      ]
     },
     "execution_count": 11,
     "metadata": {},
     "output_type": "execute_result"
    }
   ],
   "source": [
    "text = np.empty(len(x)*2)\n",
    "text = np.reshape(text,(len(x),2))\n",
    "for i in range(len(x)):\n",
    "    text[i,:]= x[i],y[i]\n",
    "np.shape(text)\n",
    "text"
   ]
  },
  {
   "cell_type": "markdown",
   "metadata": {},
   "source": [
    "Se guardan archivos de texto tanto para los datos generados (x,y), como los errores:"
   ]
  },
  {
   "cell_type": "code",
   "execution_count": 12,
   "metadata": {},
   "outputs": [],
   "source": [
    "np.savetxt('toydata.txt',text)\n",
    "np.savetxt('noisetoydata.txt',noise)"
   ]
  },
  {
   "cell_type": "markdown",
   "metadata": {},
   "source": [
    "Creando un txt con la matriz de covarianza creada a partir del ruido en txt."
   ]
  },
  {
   "cell_type": "code",
   "execution_count": 13,
   "metadata": {},
   "outputs": [],
   "source": [
    "errors = np.loadtxt('noisetoydata.txt')\n",
    "errorsdiag = np.diag(errors**2)\n",
    "cov = errorsdiag\n",
    "np.savetxt(\"cov_toy.txt\",errorsdiag)"
   ]
  },
  {
   "cell_type": "markdown",
   "metadata": {},
   "source": [
    "Se cargan los datos (x,y) y la matriz de covarianza:"
   ]
  },
  {
   "cell_type": "code",
   "execution_count": 14,
   "metadata": {},
   "outputs": [],
   "source": [
    "data=np.loadtxt('toydata.txt')\n",
    "x=data[:,0]\n",
    "y=data[:,1]\n",
    "cov=np.loadtxt('cov_toy.txt',skiprows=0)"
   ]
  },
  {
   "cell_type": "markdown",
   "metadata": {},
   "source": [
    "Ajustando recta"
   ]
  },
  {
   "cell_type": "code",
   "execution_count": 15,
   "metadata": {},
   "outputs": [],
   "source": [
    "LN2PI = np.log(2.*np.pi)\n",
    "#LNSIGMA = np.log(sigma)\n",
    "M=len(x)\n"
   ]
  },
  {
   "cell_type": "markdown",
   "metadata": {},
   "source": [
    "Escribiendo Priors planos:"
   ]
  },
  {
   "cell_type": "code",
   "execution_count": 16,
   "metadata": {},
   "outputs": [],
   "source": [
    "def prior_transform(theta):\n",
    "    \n",
    "    for parameter in theta:\n",
    "        \n",
    "        mprime, cprime = theta # unpack the parameters (in their unit hypercube form)\n",
    "\n",
    "        cmin = 0.  # lower bound on uniform prior on c\n",
    "        cmax = 1.   # upper bound on uniform prior on c\n",
    "\n",
    "        mmin = 0.  # lower bound on uniform prior on c\n",
    "        mmax = 1.   # upper bound on uniform prior on c\n",
    "\n",
    "        m = mprime*(mmax-mmin) + mmin \n",
    "        c = cprime*(cmax-cmin) + cmin  # convert back to c\n",
    "\n",
    "    return (m, c)\n",
    "\n"
   ]
  },
  {
   "cell_type": "markdown",
   "metadata": {},
   "source": [
    "Definiendo un likelihood similar a SuperMC:"
   ]
  },
  {
   "cell_type": "code",
   "execution_count": 17,
   "metadata": {},
   "outputs": [],
   "source": [
    "import scipy.linalg as la\n",
    "from scipy import dot\n",
    "icov = la.inv(cov)\n",
    "#icov = errorsdiag\n",
    "def loglikelihood_nestle(theta):\n",
    "\n",
    "    m, c = theta # unpack the parameters\n",
    "\n",
    "    # normalisation\n",
    "    #norm = -0.5*M*LN2PI - M*LNSIGMA\n",
    "    #norm = -np.log(la.det(errorsdiag))*0.5-0.5*len(x)*np.log(np.pi)\n",
    "\n",
    "    norm = -np.log(la.det(cov))*0.5-0.5*len(x)*np.log(np.pi)\n",
    "    #chisq = np.sum(((y-line(x, m, c))/sigma)**2)\n",
    "    delta = y - line(x,m,c)\n",
    "    chisq = dot(delta,dot(icov,delta))\n",
    "\n",
    "    #return norm - 0.5*chisq\n",
    "    return  norm -0.5*chisq\n",
    "\n"
   ]
  },
  {
   "cell_type": "markdown",
   "metadata": {},
   "source": [
    "Corriendo multinest:"
   ]
  },
  {
   "cell_type": "code",
   "execution_count": 18,
   "metadata": {},
   "outputs": [
    {
     "name": "stderr",
     "output_type": "stream",
     "text": [
      "/home/isidro/.local/lib/python3.6/site-packages/ipykernel_launcher.py:13: RuntimeWarning: divide by zero encountered in log\n",
      "  del sys.path[0]\n"
     ]
    },
    {
     "ename": "NameError",
     "evalue": "name 'line' is not defined",
     "output_type": "error",
     "traceback": [
      "\u001b[0;31m---------------------------------------------------------------------------\u001b[0m",
      "\u001b[0;31mNameError\u001b[0m                                 Traceback (most recent call last)",
      "\u001b[0;32m<ipython-input-18-beb5e66d380c>\u001b[0m in \u001b[0;36m<module>\u001b[0;34m\u001b[0m\n\u001b[1;32m      6\u001b[0m \u001b[0;34m\u001b[0m\u001b[0m\n\u001b[1;32m      7\u001b[0m res = nestle.sample(loglikelihood_nestle, prior_transform, ndims, \n\u001b[0;32m----> 8\u001b[0;31m                     method=method, npoints=nlive, dlogz=tol,  callback=nestle.print_progress)\n\u001b[0m\u001b[1;32m      9\u001b[0m \u001b[0;34m\u001b[0m\u001b[0m\n\u001b[1;32m     10\u001b[0m \u001b[0mres\u001b[0m\u001b[0;34m.\u001b[0m\u001b[0msummary\u001b[0m\u001b[0;34m(\u001b[0m\u001b[0;34m)\u001b[0m\u001b[0;34m\u001b[0m\u001b[0;34m\u001b[0m\u001b[0m\n",
      "\u001b[0;32m/usr/local/lib/python3.6/dist-packages/nestle.py\u001b[0m in \u001b[0;36msample\u001b[0;34m(loglikelihood, prior_transform, ndim, npoints, method, update_interval, npdim, maxiter, maxcall, dlogz, decline_factor, rstate, callback, **options)\u001b[0m\n\u001b[1;32m    863\u001b[0m     \u001b[0;32mfor\u001b[0m \u001b[0mi\u001b[0m \u001b[0;32min\u001b[0m \u001b[0mrange\u001b[0m\u001b[0;34m(\u001b[0m\u001b[0mnpoints\u001b[0m\u001b[0;34m)\u001b[0m\u001b[0;34m:\u001b[0m\u001b[0;34m\u001b[0m\u001b[0;34m\u001b[0m\u001b[0m\n\u001b[1;32m    864\u001b[0m         \u001b[0mactive_v\u001b[0m\u001b[0;34m[\u001b[0m\u001b[0mi\u001b[0m\u001b[0;34m,\u001b[0m \u001b[0;34m:\u001b[0m\u001b[0;34m]\u001b[0m \u001b[0;34m=\u001b[0m \u001b[0mprior_transform\u001b[0m\u001b[0;34m(\u001b[0m\u001b[0mactive_u\u001b[0m\u001b[0;34m[\u001b[0m\u001b[0mi\u001b[0m\u001b[0;34m,\u001b[0m \u001b[0;34m:\u001b[0m\u001b[0;34m]\u001b[0m\u001b[0;34m)\u001b[0m\u001b[0;34m\u001b[0m\u001b[0;34m\u001b[0m\u001b[0m\n\u001b[0;32m--> 865\u001b[0;31m         \u001b[0mactive_logl\u001b[0m\u001b[0;34m[\u001b[0m\u001b[0mi\u001b[0m\u001b[0;34m]\u001b[0m \u001b[0;34m=\u001b[0m \u001b[0mloglikelihood\u001b[0m\u001b[0;34m(\u001b[0m\u001b[0mactive_v\u001b[0m\u001b[0;34m[\u001b[0m\u001b[0mi\u001b[0m\u001b[0;34m,\u001b[0m \u001b[0;34m:\u001b[0m\u001b[0;34m]\u001b[0m\u001b[0;34m)\u001b[0m\u001b[0;34m\u001b[0m\u001b[0;34m\u001b[0m\u001b[0m\n\u001b[0m\u001b[1;32m    866\u001b[0m \u001b[0;34m\u001b[0m\u001b[0m\n\u001b[1;32m    867\u001b[0m     sampler = _SAMPLERS[method](loglikelihood, prior_transform, active_u,\n",
      "\u001b[0;32m<ipython-input-17-33d0eaf63d5f>\u001b[0m in \u001b[0;36mloglikelihood_nestle\u001b[0;34m(theta)\u001b[0m\n\u001b[1;32m     13\u001b[0m     \u001b[0mnorm\u001b[0m \u001b[0;34m=\u001b[0m \u001b[0;34m-\u001b[0m\u001b[0mnp\u001b[0m\u001b[0;34m.\u001b[0m\u001b[0mlog\u001b[0m\u001b[0;34m(\u001b[0m\u001b[0mla\u001b[0m\u001b[0;34m.\u001b[0m\u001b[0mdet\u001b[0m\u001b[0;34m(\u001b[0m\u001b[0mcov\u001b[0m\u001b[0;34m)\u001b[0m\u001b[0;34m)\u001b[0m\u001b[0;34m*\u001b[0m\u001b[0;36m0.5\u001b[0m\u001b[0;34m-\u001b[0m\u001b[0;36m0.5\u001b[0m\u001b[0;34m*\u001b[0m\u001b[0mlen\u001b[0m\u001b[0;34m(\u001b[0m\u001b[0mx\u001b[0m\u001b[0;34m)\u001b[0m\u001b[0;34m*\u001b[0m\u001b[0mnp\u001b[0m\u001b[0;34m.\u001b[0m\u001b[0mlog\u001b[0m\u001b[0;34m(\u001b[0m\u001b[0mnp\u001b[0m\u001b[0;34m.\u001b[0m\u001b[0mpi\u001b[0m\u001b[0;34m)\u001b[0m\u001b[0;34m\u001b[0m\u001b[0;34m\u001b[0m\u001b[0m\n\u001b[1;32m     14\u001b[0m     \u001b[0;31m#chisq = np.sum(((y-line(x, m, c))/sigma)**2)\u001b[0m\u001b[0;34m\u001b[0m\u001b[0;34m\u001b[0m\u001b[0;34m\u001b[0m\u001b[0m\n\u001b[0;32m---> 15\u001b[0;31m     \u001b[0mdelta\u001b[0m \u001b[0;34m=\u001b[0m \u001b[0my\u001b[0m \u001b[0;34m-\u001b[0m \u001b[0mline\u001b[0m\u001b[0;34m(\u001b[0m\u001b[0mx\u001b[0m\u001b[0;34m,\u001b[0m\u001b[0mm\u001b[0m\u001b[0;34m,\u001b[0m\u001b[0mc\u001b[0m\u001b[0;34m)\u001b[0m\u001b[0;34m\u001b[0m\u001b[0;34m\u001b[0m\u001b[0m\n\u001b[0m\u001b[1;32m     16\u001b[0m     \u001b[0mchisq\u001b[0m \u001b[0;34m=\u001b[0m \u001b[0mdot\u001b[0m\u001b[0;34m(\u001b[0m\u001b[0mdelta\u001b[0m\u001b[0;34m,\u001b[0m\u001b[0mdot\u001b[0m\u001b[0;34m(\u001b[0m\u001b[0micov\u001b[0m\u001b[0;34m,\u001b[0m\u001b[0mdelta\u001b[0m\u001b[0;34m)\u001b[0m\u001b[0;34m)\u001b[0m\u001b[0;34m\u001b[0m\u001b[0;34m\u001b[0m\u001b[0m\n\u001b[1;32m     17\u001b[0m \u001b[0;34m\u001b[0m\u001b[0m\n",
      "\u001b[0;31mNameError\u001b[0m: name 'line' is not defined"
     ]
    }
   ],
   "source": [
    "#nlive = 1024     # number of live points\n",
    "nlive = 40\n",
    "method = 'multi' # use MutliNest algorithm\n",
    "ndims = 2        # two parameters\n",
    "tol= 0.5         # the stopping criterion (this is the nestle default, so doesn't need to be set)\n",
    "\n",
    "res = nestle.sample(loglikelihood_nestle, prior_transform, ndims, \n",
    "                    method=method, npoints=nlive, dlogz=tol,  callback=nestle.print_progress)\n",
    "\n",
    "res.summary()"
   ]
  },
  {
   "cell_type": "code",
   "execution_count": null,
   "metadata": {},
   "outputs": [],
   "source": [
    "logZnestle = res.logz                         # value of logZ\n",
    "infogainnestle = res.h                        # value of the information gain in nats\n",
    "logZerrnestle = np.sqrt(infogainnestle/nlive) # estimate of the statistcal uncertainty on logZ\n",
    "\n",
    "# output marginal likelihood\n",
    "print('Marginalised evidence is {} ± {}'.format(logZnestle, logZerrnestle))\n",
    "\n"
   ]
  },
  {
   "cell_type": "code",
   "execution_count": null,
   "metadata": {},
   "outputs": [],
   "source": [
    "# re-scale weights to have a maximum of one\n",
    "nweights = res.weights/np.max(res.weights)\n",
    "\n",
    "# get the probability of keeping a sample from the weights\n",
    "keepidx = np.where(np.random.rand(len(nweights)) < nweights)[0]\n",
    "\n",
    "# get the posterior samples\n",
    "postsamples = res.samples[keepidx,:]\n",
    "#postsamples = res.samples\n",
    "\n",
    "print('Number of posterior samples is {}'.format(postsamples.shape[0]))\n",
    "\n",
    "# plot posterior samples (if corner.py is installed)\n",
    "try:\n",
    "    import matplotlib as mpl\n",
    "    mpl.use(\"Agg\") # force Matplotlib backend to Agg\n",
    "    import corner # import corner.py\n",
    "except ImportError:\n",
    "    sys.exit(1)\n",
    "\n",
    "corner.corner(postsamples, labels=[r\"$m$\", r\"$c$\"], truths=[2, 4], show_titles=True)\n",
    "#fig.savefig('Nestle.png')"
   ]
  },
  {
   "cell_type": "markdown",
   "metadata": {},
   "source": [
    "## Probando EMCEE"
   ]
  },
  {
   "cell_type": "code",
   "execution_count": null,
   "metadata": {},
   "outputs": [],
   "source": [
    "import emcee"
   ]
  },
  {
   "cell_type": "code",
   "execution_count": null,
   "metadata": {},
   "outputs": [],
   "source": [
    "def logposterior(theta, data, sigma, x):\n",
    "    \"\"\"\n",
    "    The natural logarithm of the joint posterior.\n",
    "    \n",
    "    Args:\n",
    "        theta (tuple): a sample containing individual parameter values\n",
    "        data (list): the set of data/observations\n",
    "        sigma (float): the standard deviation of the data points\n",
    "        x (list): the abscissa values at which the data/model is defined\n",
    "    \"\"\"\n",
    "    \n",
    "    lp = logprior(theta) # get the prior\n",
    "    \n",
    "    # if the prior is not finite return a probability of zero (log probability of -inf)\n",
    "    if not np.isfinite(lp):\n",
    "        return -np.inf\n",
    "    \n",
    "    # return the likeihood times the prior (log likelihood plus the log prior)\n",
    "    #return lp + loglikelihood(theta, data, sigma, x)\n",
    "    return lp + loglikelihood"
   ]
  },
  {
   "cell_type": "code",
   "execution_count": null,
   "metadata": {},
   "outputs": [],
   "source": [
    "def loglikelihood(theta, data, sigma, x):\n",
    "    \"\"\"\n",
    "    The natural logarithm of the joint likelihood.\n",
    "    \n",
    "    Args:\n",
    "        theta (tuple): a sample containing individual parameter values\n",
    "        data (list): the set of data/observations\n",
    "        sigma (float): the standard deviation of the data points\n",
    "        x (list): the abscissa values at which the data/model is defined\n",
    "    \n",
    "    Note:\n",
    "        We do not include the normalisation constants (as discussed above).\n",
    "    \"\"\"\n",
    "    \n",
    "    # unpack the model parameters from the tuple\n",
    "    m, c = theta\n",
    "    \n",
    "    # evaluate the model (assumes that the straight_line model is defined as above)\n",
    "    md = line(x, m, c)\n",
    "    \n",
    "    # return the log likelihood\n",
    "    #return -0.5*np.sum(((md - data)/sigma)**2)\n",
    "    return -0.5*np.sum(((md - y)/sigma)**2)"
   ]
  },
  {
   "cell_type": "code",
   "execution_count": null,
   "metadata": {},
   "outputs": [],
   "source": [
    "def logprior(theta):\n",
    "    \"\"\"\n",
    "    The natural logarithm of the prior probability.\n",
    "    \n",
    "    Args:\n",
    "        theta (tuple): a sample containing individual parameter values\n",
    "    \n",
    "    Note:\n",
    "        We can ignore the normalisations of the prior here.\n",
    "    \"\"\"\n",
    "    \n",
    "    lp = 0.\n",
    "    \n",
    "    # unpack the model parameters from the tuple\n",
    "    m, c = theta\n",
    "    \n",
    "    # uniform prior on c\n",
    "    cmin = -10. # lower range of prior\n",
    "    cmax = 10.  # upper range of prior\n",
    "    \n",
    "    # set prior to 1 (log prior to 0) if in the range and zero (-inf) outside the range \n",
    "    lp = 0. if cmin < c < cmax else -np.inf\n",
    "    \n",
    "    # Gaussian prior on m\n",
    "    mmu = 0.     # mean of the Gaussian prior\n",
    "    msigma = 10. # standard deviation of the Gaussian prior\n",
    "    lp -= 0.5*((m - mmu)/msigma)**2\n",
    "    \n",
    "    return lp"
   ]
  },
  {
   "cell_type": "code",
   "execution_count": null,
   "metadata": {},
   "outputs": [],
   "source": [
    "Nens = 100   # Nens number of ensemble points\n",
    "\n",
    "mmu = 0.     # mean of the Gaussian prior\n",
    "msigma = 10. # standard deviation of the Gaussian prior\n",
    "\n",
    "mini = np.random.normal(mmu, msigma, Nens) # initial m points\n",
    "\n",
    "cmin = -10.  # lower range of prior\n",
    "cmax = 10.   # upper range of prior\n",
    "\n",
    "cini = np.random.uniform(cmin, cmax, Nens) # initial c points\n",
    "\n",
    "inisamples = np.array([mini, cini]).T # initial samples\n",
    "\n",
    "ndims = inisamples.shape[1] # number of parameters/dimensions\n",
    "\n",
    "Nburnin = 500   # number of burn-in samples\n",
    "Nsamples = 500  # number of final posterior samples\n",
    "\n",
    "# set additional args for the posterior (the data, the noise std. dev., and the abscissa)\n",
    "argslist = (data, sigma, x)\n",
    "\n",
    "# set up the sampler\n",
    "sampler = emcee.EnsembleSampler(Nens, ndims, logposterior, args=argslist)\n",
    "\n",
    "# pass the initial samples and total number of samples required\n",
    "sampler.run_mcmc(inisamples, Nsamples+Nburnin);"
   ]
  },
  {
   "cell_type": "code",
   "execution_count": null,
   "metadata": {},
   "outputs": [],
   "source": []
  },
  {
   "cell_type": "code",
   "execution_count": null,
   "metadata": {},
   "outputs": [],
   "source": []
  }
 ],
 "metadata": {
  "kernelspec": {
   "display_name": "Python 3",
   "language": "python",
   "name": "python3"
  },
  "language_info": {
   "codemirror_mode": {
    "name": "ipython",
    "version": 3
   },
   "file_extension": ".py",
   "mimetype": "text/x-python",
   "name": "python",
   "nbconvert_exporter": "python",
   "pygments_lexer": "ipython3",
   "version": "3.6.9"
  }
 },
 "nbformat": 4,
 "nbformat_minor": 2
}
