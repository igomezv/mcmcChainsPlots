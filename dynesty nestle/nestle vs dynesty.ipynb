{
 "cells": [
  {
   "cell_type": "markdown",
   "metadata": {},
   "source": [
    "# Comparison between nestle and dynesty"
   ]
  },
  {
   "cell_type": "code",
   "execution_count": 1,
   "metadata": {},
   "outputs": [],
   "source": [
    "import os\n",
    "import sys\n",
    "from scipy.special import ndtri\n",
    "import numpy as np\n",
    "from matplotlib import pyplot as plt\n",
    "import corner\n",
    "# import Nestle\n",
    "import nestle\n",
    "#dynesty\n",
    "import dynesty\n",
    "\n",
    "%matplotlib inline"
   ]
  },
  {
   "cell_type": "code",
   "execution_count": 2,
   "metadata": {},
   "outputs": [],
   "source": [
    "#Create data"
   ]
  },
  {
   "cell_type": "code",
   "execution_count": 3,
   "metadata": {},
   "outputs": [],
   "source": [
    "\"\"\"\n",
    "Setup a model and data\n",
    "\"\"\"\n",
    "\n",
    "\n",
    "# set the true values of the model parameters for creating the data\n",
    "m = 3.5 # gradient of the line\n",
    "c = 1.2 # y-intercept of the line\n",
    "\n",
    "# set the \"predictor variable\"/abscissa\n",
    "M = 1000\n",
    "xmin = 0.\n",
    "xmax = 10.\n",
    "stepsize = (xmax-xmin)/M\n",
    "x = np.arange(xmin, xmax, stepsize)\n",
    "\n",
    "# define the model function\n",
    "def straight_line(x, m, c):\n",
    "    \"\"\"\n",
    "    A straight line model: y = m*x + c\n",
    "    \n",
    "    Args:\n",
    "        x (list): a set of abscissa points at which the model is defined\n",
    "        m (float): the gradient of the line\n",
    "        c (float): the y-intercept of the line\n",
    "    \"\"\"\n",
    "    \n",
    "    return m*x + c\n",
    "\n",
    "# create the data - the model plus Gaussian noise\n",
    "sigma = 0.05 # standard deviation of the noise\n",
    "data = straight_line(x, m, c) + sigma*np.random.randn(M)\n",
    "\n",
    "\n",
    "LN2PI = np.log(2.*np.pi)\n",
    "LNSIGMA = np.log(sigma)"
   ]
  },
  {
   "cell_type": "markdown",
   "metadata": {},
   "source": [
    "# loglike y prior_transform son las mismas funciones para nestle y dynesty"
   ]
  },
  {
   "cell_type": "code",
   "execution_count": 4,
   "metadata": {},
   "outputs": [],
   "source": [
    "def prior_transform(theta):\n",
    "    \"\"\"\n",
    "    A function defining the tranform between the parameterisation in the unit hypercube\n",
    "    to the true parameters.\n",
    "\n",
    "    Args:\n",
    "        theta (tuple): a tuple containing the parameters.\n",
    "        \n",
    "    Returns:\n",
    "        tuple: a new tuple or array with the transformed parameters.\n",
    "    \"\"\"\n",
    "\n",
    "    mprime, cprime = theta # unpack the parameters (in their unit hypercube form)\n",
    "\n",
    "    cmin = -2.  # lower bound on uniform prior on c\n",
    "    cmax = 6.   # upper bound on uniform prior on c\n",
    "\n",
    "    #mmu = 0.     # mean of Gaussian prior on m\n",
    "    #msigma = 5. # standard deviation of Gaussian prior on m\n",
    "\n",
    "    #m = mmu + msigma*ndtri(mprime) # convert back to m\n",
    "    mmax = 10\n",
    "    mmin = 0\n",
    "    m = mprime*(mmax-mmin) + mmin\n",
    "    c = cprime*(cmax-cmin) + cmin  # convert back to c\n",
    "\n",
    "    return (m, c)"
   ]
  },
  {
   "cell_type": "code",
   "execution_count": 5,
   "metadata": {},
   "outputs": [],
   "source": [
    "def loglikelihood_nestle(theta):\n",
    "    \"\"\"\n",
    "    The log-likelihood function.\n",
    "    \"\"\"\n",
    "\n",
    "    m, c = theta # unpack the parameters\n",
    "\n",
    "    # normalisation\n",
    "    norm = -0.5*M*LN2PI - M*LNSIGMA\n",
    "\n",
    "    # chi-squared (data, sigma and x are global variables defined early on in this notebook)\n",
    "    chisq = np.sum(((data-straight_line(x, m, c))/sigma)**2)\n",
    "\n",
    "    return norm - 0.5*chisq"
   ]
  },
  {
   "cell_type": "markdown",
   "metadata": {},
   "source": [
    "# Nestle:\n"
   ]
  },
  {
   "cell_type": "code",
   "execution_count": 6,
   "metadata": {},
   "outputs": [
    {
     "name": "stdout",
     "output_type": "stream",
     "text": [
      "Marginalised evidence is 1539.215685891708 ± 0.12345999494436147\n",
      "Number of posterior samples is 18911\n"
     ]
    }
   ],
   "source": [
    "nlive = 1024     # number of live points\n",
    "method = 'classic' # use MutliNest algorithm\n",
    "ndims = 2        # two parameters\n",
    "tol= 0.5         # the stopping criterion (this is the nestle default, so doesn't need to be set)\n",
    "\n",
    "res = nestle.sample(loglikelihood_nestle, prior_transform, ndims, method=method, npoints=nlive, dlogz=tol)\n",
    "\n",
    "logZnestle = res.logz                         # value of logZ\n",
    "infogainnestle = res.h                        # value of the information gain in nats\n",
    "logZerrnestle = np.sqrt(infogainnestle/nlive) # estimate of the statistcal uncertainty on logZ\n",
    "\n",
    "# output marginal likelihood\n",
    "print('Marginalised evidence is {} ± {}'.format(logZnestle, logZerrnestle))\n",
    "\n",
    "# re-scale weights to have a maximum of one\n",
    "nweights = res.weights/np.max(res.weights)\n",
    "\n",
    "# get the probability of keeping a sample from the weights\n",
    "#keepidx = np.where(np.random.rand(len(nweights)) < nweights)[0]\n",
    "\n",
    "# get the posterior samples\n",
    "#postsamples = res.samples[keepidx,:]\n",
    "postsamples = res.samples\n",
    "\n",
    "print('Number of posterior samples is {}'.format(postsamples.shape[0]))\n",
    "\n",
    "# plot posterior samples (if corner.py is installed)\n",
    "#try:\n",
    "#    import matplotlib as mpl\n",
    "#    mpl.use(\"Agg\") # force Matplotlib backend to Agg\n",
    " # import corner.py\n",
    "#except ImportError:\n",
    "#    sys.exit(1)\n",
    "\n",
    "#fig = corner.corner(postsamples, labels=[r\"$m$\", r\"$c$\"], color = 'k', truths=[m, c])\n",
    "#fig.savefig('dynesty.png')\n",
    "\n"
   ]
  },
  {
   "cell_type": "code",
   "execution_count": 7,
   "metadata": {},
   "outputs": [
    {
     "name": "stdout",
     "output_type": "stream",
     "text": [
      "logLike: 1555.7147274786648\n"
     ]
    }
   ],
   "source": [
    "print(\"logLike: {}\".format(res.logl[-1]))"
   ]
  },
  {
   "cell_type": "markdown",
   "metadata": {},
   "source": [
    "# dynesty:\n"
   ]
  },
  {
   "cell_type": "code",
   "execution_count": 8,
   "metadata": {},
   "outputs": [
    {
     "name": "stderr",
     "output_type": "stream",
     "text": [
      "21377it [00:37, 575.02it/s, +1024 | bound: 115 | nc: 1 | ncall: 479332 | eff(%):  4.673 | loglstar:   -inf < 1555.827 <    inf | logz: 1539.572 +/-  0.173 | dlogz:  0.000 >  0.010] \n"
     ]
    },
    {
     "name": "stdout",
     "output_type": "stream",
     "text": [
      "Marginalised evidence (using static sampler) is 1539.5718962721219 ± 0.17250946335064735\n"
     ]
    }
   ],
   "source": [
    "nlive = 1024      # number of (initial) live points\n",
    "bound = 'multi'   # use MutliNest algorithm\n",
    "sample = 'rwalk'  # use the random walk to draw new samples\n",
    "#ndims = 2         # two parameters\n",
    "\n",
    "###dsampler = dynesty.DynamicNestedSampler(loglikelihood_nestle, prior_transform, ndims,\n",
    "###                                bound=bound, sample=sample)\n",
    "###dsampler.run_nested(nlive_init=nlive)\n",
    "###dres = dsampler.results\n",
    "\n",
    "###dlogZdynesty = dres.logz[-1]        # value of logZ\n",
    "###dlogZerrdynesty = dres.logzerr[-1]  # estimate of the statistcal uncertainty on logZ\n",
    "\n",
    "# ###output marginal likelihood\n",
    "###print('Marginalised evidence (using dynamic sampler) is {} ± {}'.format(dlogZdynesty, dlogZerrdynesty))\n",
    "\n",
    "# get the posterior samples\n",
    "###dweights = np.exp(dres['logwt'] - dres['logz'][-1])\n",
    "###dpostsamples = resample_equal(dres.samples, dweights)\n",
    "\n",
    "###print('Number of posterior samples (using dynamic sampler) is {}'.format(dpostsamples.shape[0]))\n",
    "\n",
    "# Now run with the static sampler\n",
    "sampler2 = dynesty.NestedSampler(loglikelihood_nestle, prior_transform, ndims,\n",
    "                        bound=bound, sample=sample, nlive=nlive)\n",
    "sampler2.run_nested(dlogz=0.01)\n",
    "\n",
    "res2 = sampler2.results\n",
    "\n",
    "logZdynesty = res2.logz[-1]        # value of logZ\n",
    "logZerrdynesty = res2.logzerr[-1]  # estimate of the statistcal uncertainty on logZ\n",
    "\n",
    "# output marginal likelihood\n",
    "print('Marginalised evidence (using static sampler) is {} ± {}'.format(logZdynesty, logZerrdynesty))\n",
    "\n",
    "# get the posterior samples\n",
    "weights = np.exp(res2['logwt'] - res2['logz'][-1])\n",
    "#postsamples2 = dynesty.utils.resample_equal(res2.samples, weights)\n",
    "postsamples2 = res2.samples\n",
    "\n",
    "#print('Number of posterior samples (using static sampler) is {}'.format(postsamples2.shape[0]))\n",
    "\n",
    "# plot posterior samples (if corner.py is installed)\n",
    "\n",
    "\n",
    "###fig = corner.corner(dpostsamples, labels=[r\"$m$\", r\"$c$\"], truths=[m, c], hist_kwargs={'density': True})\n",
    "#fig = corner.corner(postsamples, fig=fig, color='r', hist_kwargs={'density': True})\n",
    "#plt.show()\n"
   ]
  },
  {
   "cell_type": "markdown",
   "metadata": {},
   "source": [
    "## testing dynesty object:\n"
   ]
  },
  {
   "cell_type": "code",
   "execution_count": 9,
   "metadata": {},
   "outputs": [
    {
     "name": "stdout",
     "output_type": "stream",
     "text": [
      "dict_keys(['nlive', 'niter', 'ncall', 'eff', 'samples', 'samples_id', 'samples_it', 'samples_u', 'logwt', 'logl', 'logvol', 'logz', 'logzerr', 'information', 'bound', 'bound_iter', 'samples_bound', 'scale'])\n",
      "[[9.99759105 5.67400647]\n",
      " [9.95239388 5.72111264]\n",
      " [9.84409939 5.28320337]\n",
      " ...\n",
      " [3.50041612 1.19811794]\n",
      " [3.50042062 1.19810378]\n",
      " [3.50041912 1.19810089]]\n",
      "1539.572\n",
      "1539.572 +/- 0.173\n",
      "logLike : 1555.827 \n",
      "logz : 1539.572 +/- 0.173 \n",
      "h : 15.244\n",
      "Summary\n",
      "=======\n",
      "nlive: 1024\n",
      "niter: 21377\n",
      "ncall: 479332\n",
      "eff(%):  4.673\n",
      "logz: 1539.572 +/-  0.173\n",
      "479332\n"
     ]
    }
   ],
   "source": [
    "print(res2.keys())\n",
    "print(res2.samples)\n",
    "print(round(res2.logz[-1],3))\n",
    "print(str(round(res2.logz[-1], 3)) + ' +/- ' + str(round(res2.logzerr[-1], 3)))\n",
    "print(\"logLike : {} \".format(round(res2.logl[-1], 3)))\n",
    "\n",
    "print(\"logz : {} +/- {} \".format(round(res2.logz[-1], 3), round(res2.logzerr[-1], 3)))\n",
    "print(\"h : {}\".format(round(res2.information[-1],3)))\n",
    "summary = res2.summary()\n",
    "#summary\n",
    "type(res2.niter)\n",
    "print(sum(res2.ncall))\n"
   ]
  },
  {
   "cell_type": "code",
   "execution_count": 10,
   "metadata": {},
   "outputs": [
    {
     "name": "stdout",
     "output_type": "stream",
     "text": [
      "(22401, 2)\n",
      "m : 3.564 +/- 0.84\n",
      "c : 1.334 +/- 1.088\n"
     ]
    }
   ],
   "source": [
    "#buscando dlogz\n",
    "mean = round(np.mean(res2.samples[:, 0]), 3)\n",
    "std = round(np.std(res2.samples[:, 0]), 3)\n",
    "print(np.shape(res2.samples))\n",
    "print(\"m : {} +/- {}\".format(mean, std))\n",
    "mean = round(np.mean(res2.samples[:,1]), 3)\n",
    "std = round(np.std(res2.samples[:,1]), 3)\n",
    "#print(np.shape(res2.samples))\n",
    "print(\"c : {} +/- {}\".format(mean, std))\n"
   ]
  },
  {
   "cell_type": "code",
   "execution_count": 11,
   "metadata": {},
   "outputs": [
    {
     "name": "stderr",
     "output_type": "stream",
     "text": [
      "WARNING:root:Too few points to create valid contours\n",
      "WARNING:root:Too few points to create valid contours\n"
     ]
    },
    {
     "data": {
      "image/png": "[encoded data removed]",
      "text/plain": [
       "<Figure size 396x396 with 4 Axes>"
      ]
     },
     "metadata": {
      "needs_background": "light"
     },
     "output_type": "display_data"
    },
    {
     "data": {
      "image/png": "[encoded data removed]",
      "text/plain": [
       "<Figure size 396x396 with 4 Axes>"
      ]
     },
     "metadata": {
      "needs_background": "light"
     },
     "output_type": "display_data"
    }
   ],
   "source": [
    "fig = corner.corner(postsamples2, labels=[r\"$m$\", r\"$c$\"], color = 'k', truths=[m, c])\n",
    "#fig = corner.corner(postsamples, fig=fig, color='r', hist_kwargs={'density': True})\n",
    "fig2 = corner.corner(postsamples, labels=[r\"$m$\", r\"$c$\"], color = 'b', truths=[m, c])\n",
    "\n",
    "#fig.savefig('dynesty.png')\n",
    "\n",
    "plt.show()"
   ]
  },
  {
   "cell_type": "code",
   "execution_count": 12,
   "metadata": {},
   "outputs": [],
   "source": [
    "from anesthetic import MCMCSamples\n",
    "from anesthetic import NestedSamples"
   ]
  },
  {
   "cell_type": "code",
   "execution_count": 14,
   "metadata": {},
   "outputs": [
    {
     "ename": "AttributeError",
     "evalue": "'NestedSamples' object has no attribute 'nlive'",
     "output_type": "error",
     "traceback": [
      "\u001b[0;31m---------------------------------------------------------------------------\u001b[0m",
      "\u001b[0;31mAttributeError\u001b[0m                            Traceback (most recent call last)",
      "\u001b[0;32m<ipython-input-14-1098ecbee219>\u001b[0m in \u001b[0;36m<module>\u001b[0;34m\u001b[0m\n\u001b[1;32m      1\u001b[0m \u001b[0mnested\u001b[0m \u001b[0;34m=\u001b[0m \u001b[0mNestedSamples\u001b[0m\u001b[0;34m(\u001b[0m\u001b[0mres\u001b[0m\u001b[0;34m.\u001b[0m\u001b[0msamples\u001b[0m\u001b[0;34m)\u001b[0m\u001b[0;34m\u001b[0m\u001b[0;34m\u001b[0m\u001b[0m\n\u001b[0;32m----> 2\u001b[0;31m \u001b[0mns_output\u001b[0m \u001b[0;34m=\u001b[0m \u001b[0mnested\u001b[0m\u001b[0;34m.\u001b[0m\u001b[0mns_output\u001b[0m\u001b[0;34m(\u001b[0m\u001b[0;34m)\u001b[0m\u001b[0;34m\u001b[0m\u001b[0;34m\u001b[0m\u001b[0m\n\u001b[0m",
      "\u001b[0;32m~/.local/lib/python3.6/site-packages/anesthetic/samples.py\u001b[0m in \u001b[0;36mns_output\u001b[0;34m(self, nsamples)\u001b[0m\n\u001b[1;32m    473\u001b[0m \u001b[0;34m\u001b[0m\u001b[0m\n\u001b[1;32m    474\u001b[0m         \"\"\"\n\u001b[0;32m--> 475\u001b[0;31m         \u001b[0mdlogX\u001b[0m \u001b[0;34m=\u001b[0m \u001b[0mself\u001b[0m\u001b[0;34m.\u001b[0m\u001b[0m_dlogX\u001b[0m\u001b[0;34m(\u001b[0m\u001b[0mnsamples\u001b[0m\u001b[0;34m)\u001b[0m\u001b[0;34m\u001b[0m\u001b[0;34m\u001b[0m\u001b[0m\n\u001b[0m\u001b[1;32m    476\u001b[0m \u001b[0;34m\u001b[0m\u001b[0m\n\u001b[1;32m    477\u001b[0m         \u001b[0mlogZ\u001b[0m \u001b[0;34m=\u001b[0m \u001b[0mlogsumexp\u001b[0m\u001b[0;34m(\u001b[0m\u001b[0mself\u001b[0m\u001b[0;34m.\u001b[0m\u001b[0mlogL\u001b[0m\u001b[0;34m.\u001b[0m\u001b[0mvalues\u001b[0m \u001b[0;34m+\u001b[0m \u001b[0mdlogX\u001b[0m\u001b[0;34m,\u001b[0m \u001b[0maxis\u001b[0m\u001b[0;34m=\u001b[0m\u001b[0;36m1\u001b[0m\u001b[0;34m)\u001b[0m\u001b[0;34m\u001b[0m\u001b[0;34m\u001b[0m\u001b[0m\n",
      "\u001b[0;32m~/.local/lib/python3.6/site-packages/anesthetic/samples.py\u001b[0m in \u001b[0;36m_dlogX\u001b[0;34m(self, nsamples)\u001b[0m\n\u001b[1;32m    518\u001b[0m         \u001b[0;32melse\u001b[0m\u001b[0;34m:\u001b[0m\u001b[0;34m\u001b[0m\u001b[0;34m\u001b[0m\u001b[0m\n\u001b[1;32m    519\u001b[0m             t = numpy.log(numpy.random.rand(nsamples, len(self))\n\u001b[0;32m--> 520\u001b[0;31m                           )/self.nlive.values\n\u001b[0m\u001b[1;32m    521\u001b[0m         logX = numpy.concatenate((numpy.zeros((nsamples, 1)),\n\u001b[1;32m    522\u001b[0m                                   \u001b[0mt\u001b[0m\u001b[0;34m.\u001b[0m\u001b[0mcumsum\u001b[0m\u001b[0;34m(\u001b[0m\u001b[0maxis\u001b[0m\u001b[0;34m=\u001b[0m\u001b[0;36m1\u001b[0m\u001b[0;34m)\u001b[0m\u001b[0;34m,\u001b[0m\u001b[0;34m\u001b[0m\u001b[0;34m\u001b[0m\u001b[0m\n",
      "\u001b[0;32m~/.local/lib/python3.6/site-packages/pandas/core/generic.py\u001b[0m in \u001b[0;36m__getattr__\u001b[0;34m(self, name)\u001b[0m\n\u001b[1;32m   5177\u001b[0m             \u001b[0;32mif\u001b[0m \u001b[0mself\u001b[0m\u001b[0;34m.\u001b[0m\u001b[0m_info_axis\u001b[0m\u001b[0;34m.\u001b[0m\u001b[0m_can_hold_identifiers_and_holds_name\u001b[0m\u001b[0;34m(\u001b[0m\u001b[0mname\u001b[0m\u001b[0;34m)\u001b[0m\u001b[0;34m:\u001b[0m\u001b[0;34m\u001b[0m\u001b[0;34m\u001b[0m\u001b[0m\n\u001b[1;32m   5178\u001b[0m                 \u001b[0;32mreturn\u001b[0m \u001b[0mself\u001b[0m\u001b[0;34m[\u001b[0m\u001b[0mname\u001b[0m\u001b[0;34m]\u001b[0m\u001b[0;34m\u001b[0m\u001b[0;34m\u001b[0m\u001b[0m\n\u001b[0;32m-> 5179\u001b[0;31m             \u001b[0;32mreturn\u001b[0m \u001b[0mobject\u001b[0m\u001b[0;34m.\u001b[0m\u001b[0m__getattribute__\u001b[0m\u001b[0;34m(\u001b[0m\u001b[0mself\u001b[0m\u001b[0;34m,\u001b[0m \u001b[0mname\u001b[0m\u001b[0;34m)\u001b[0m\u001b[0;34m\u001b[0m\u001b[0;34m\u001b[0m\u001b[0m\n\u001b[0m\u001b[1;32m   5180\u001b[0m \u001b[0;34m\u001b[0m\u001b[0m\n\u001b[1;32m   5181\u001b[0m     \u001b[0;32mdef\u001b[0m \u001b[0m__setattr__\u001b[0m\u001b[0;34m(\u001b[0m\u001b[0mself\u001b[0m\u001b[0;34m,\u001b[0m \u001b[0mname\u001b[0m\u001b[0;34m,\u001b[0m \u001b[0mvalue\u001b[0m\u001b[0;34m)\u001b[0m\u001b[0;34m:\u001b[0m\u001b[0;34m\u001b[0m\u001b[0;34m\u001b[0m\u001b[0m\n",
      "\u001b[0;31mAttributeError\u001b[0m: 'NestedSamples' object has no attribute 'nlive'"
     ]
    }
   ],
   "source": [
    "nested = NestedSamples(res.samples)\n",
    "ns_output = nested.ns_output()"
   ]
  },
  {
   "cell_type": "code",
   "execution_count": null,
   "metadata": {},
   "outputs": [],
   "source": []
  }
 ],
 "metadata": {
  "kernelspec": {
   "display_name": "Python 3",
   "language": "python",
   "name": "python3"
  },
  "language_info": {
   "codemirror_mode": {
    "name": "ipython",
    "version": 3
   },
   "file_extension": ".py",
   "mimetype": "text/x-python",
   "name": "python",
   "nbconvert_exporter": "python",
   "pygments_lexer": "ipython3",
   "version": "3.6.9"
  }
 },
 "nbformat": 4,
 "nbformat_minor": 2
}
